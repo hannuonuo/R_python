{
 "cells": [
  {
   "cell_type": "markdown",
   "metadata": {
    "collapsed": true
   },
   "source": [
    "# Python Text\n",
    "\n",
    "## Wednesday 24th August 2016\n",
    "## Tianguang Meng"
   ]
  },
  {
   "cell_type": "markdown",
   "metadata": {},
   "source": [
    "- [1 Input Text](#1-Input-Text)\n",
    "- [2 Text Detection](#2-Text-Detection)\n",
    "- [3 Text Computation](#3-Text-Computation)\n",
    "- [4 Text Data](#4-Text-Data)\n",
    "- [5 Text Reading](#5-Text-Reading)"
   ]
  },
  {
   "cell_type": "markdown",
   "metadata": {},
   "source": [
    "### 1-Input Text"
   ]
  },
  {
   "cell_type": "code",
   "execution_count": 1,
   "metadata": {
    "collapsed": true
   },
   "outputs": [],
   "source": [
    "news = '习近平抵达捷克进行国事访问'"
   ]
  },
  {
   "cell_type": "code",
   "execution_count": 2,
   "metadata": {
    "collapsed": false
   },
   "outputs": [
    {
     "name": "stdout",
     "output_type": "stream",
     "text": [
      "习近平抵达捷克进行国事访问\n"
     ]
    }
   ],
   "source": [
    "print news"
   ]
  },
  {
   "cell_type": "code",
   "execution_count": 3,
   "metadata": {
    "collapsed": true
   },
   "outputs": [],
   "source": [
    "texts = ['云南去年5800余名公职人员受处分','国务院成立山东疫苗案调查组','东北三省取消玉米临储']"
   ]
  },
  {
   "cell_type": "code",
   "execution_count": 4,
   "metadata": {
    "collapsed": false
   },
   "outputs": [
    {
     "name": "stdout",
     "output_type": "stream",
     "text": [
      "国务院成立山东疫苗案调查组\n"
     ]
    }
   ],
   "source": [
    "print texts[1]"
   ]
  },
  {
   "cell_type": "markdown",
   "metadata": {},
   "source": [
    "## 2-Text Detection"
   ]
  },
  {
   "cell_type": "code",
   "execution_count": 6,
   "metadata": {
    "collapsed": false
   },
   "outputs": [
    {
     "data": {
      "text/plain": [
       "39"
      ]
     },
     "execution_count": 6,
     "metadata": {},
     "output_type": "execute_result"
    }
   ],
   "source": [
    "len(\"习近平抵达捷克进行国事访问\") #length of the string "
   ]
  },
  {
   "cell_type": "code",
   "execution_count": 9,
   "metadata": {
    "collapsed": false
   },
   "outputs": [
    {
     "data": {
      "text/plain": [
       "15"
      ]
     },
     "execution_count": 9,
     "metadata": {},
     "output_type": "execute_result"
    }
   ],
   "source": [
    "len(\"Hello Tsinghua!\") #length of the string "
   ]
  },
  {
   "cell_type": "code",
   "execution_count": 10,
   "metadata": {
    "collapsed": false
   },
   "outputs": [
    {
     "data": {
      "text/plain": [
       "True"
      ]
     },
     "execution_count": 10,
     "metadata": {},
     "output_type": "execute_result"
    }
   ],
   "source": [
    "'Alice' == \"Alice\""
   ]
  },
  {
   "cell_type": "code",
   "execution_count": 12,
   "metadata": {
    "collapsed": false
   },
   "outputs": [
    {
     "data": {
      "text/plain": [
       "False"
      ]
     },
     "execution_count": 12,
     "metadata": {},
     "output_type": "execute_result"
    }
   ],
   "source": [
    "'Alice' == \"alice\""
   ]
  },
  {
   "cell_type": "code",
   "execution_count": 13,
   "metadata": {
    "collapsed": false
   },
   "outputs": [
    {
     "data": {
      "text/plain": [
       "\"That's a nice hat.\""
      ]
     },
     "execution_count": 13,
     "metadata": {},
     "output_type": "execute_result"
    }
   ],
   "source": [
    "\"That's a nice hat.\""
   ]
  },
  {
   "cell_type": "code",
   "execution_count": 14,
   "metadata": {
    "collapsed": false
   },
   "outputs": [
    {
     "name": "stdout",
     "output_type": "stream",
     "text": [
      "1\t2\n"
     ]
    }
   ],
   "source": [
    "print \"1\\t2\" #\\t is tab"
   ]
  },
  {
   "cell_type": "code",
   "execution_count": 15,
   "metadata": {
    "collapsed": false
   },
   "outputs": [
    {
     "name": "stdout",
     "output_type": "stream",
     "text": [
      "云南去年5800余名公职人员受处分\n",
      "国务院成立山东疫苗案调查组\n",
      "东北三省取消玉米临储\n"
     ]
    }
   ],
   "source": [
    "print \"云南去年5800余名公职人员受处分\\n国务院成立山东疫苗案调查组\\n东北三省取消玉米临储\" #end-line character"
   ]
  },
  {
   "cell_type": "markdown",
   "metadata": {},
   "source": [
    "## 3-Text Computation"
   ]
  },
  {
   "cell_type": "code",
   "execution_count": 16,
   "metadata": {
    "collapsed": false
   },
   "outputs": [
    {
     "data": {
      "text/plain": [
       "'White Rabbit'"
      ]
     },
     "execution_count": 16,
     "metadata": {},
     "output_type": "execute_result"
    }
   ],
   "source": [
    "\"White\"+\" \"+\"Rabbit\""
   ]
  },
  {
   "cell_type": "code",
   "execution_count": 17,
   "metadata": {
    "collapsed": false
   },
   "outputs": [
    {
     "data": {
      "text/plain": [
       "'Alice'"
      ]
     },
     "execution_count": 17,
     "metadata": {},
     "output_type": "execute_result"
    }
   ],
   "source": [
    "\"alice\".capitalize()"
   ]
  },
  {
   "cell_type": "code",
   "execution_count": 18,
   "metadata": {
    "collapsed": false
   },
   "outputs": [
    {
     "name": "stdout",
     "output_type": "stream",
     "text": [
      "ALICE\n"
     ]
    }
   ],
   "source": [
    "print \"alice\".upper()"
   ]
  },
  {
   "cell_type": "code",
   "execution_count": 19,
   "metadata": {
    "collapsed": false
   },
   "outputs": [
    {
     "name": "stdout",
     "output_type": "stream",
     "text": [
      "alice\n"
     ]
    }
   ],
   "source": [
    "print \"ALICE\".lower()"
   ]
  },
  {
   "cell_type": "code",
   "execution_count": 20,
   "metadata": {
    "collapsed": false
   },
   "outputs": [
    {
     "data": {
      "text/plain": [
       "5"
      ]
     },
     "execution_count": 20,
     "metadata": {},
     "output_type": "execute_result"
    }
   ],
   "source": [
    "\"There were doors all around the hall\".count('e')"
   ]
  },
  {
   "cell_type": "code",
   "execution_count": 21,
   "metadata": {
    "collapsed": false
   },
   "outputs": [
    {
     "data": {
      "text/plain": [
       "2"
      ]
     },
     "execution_count": 21,
     "metadata": {},
     "output_type": "execute_result"
    }
   ],
   "source": [
    "\"There were doors all round the hall\".count('all')"
   ]
  },
  {
   "cell_type": "code",
   "execution_count": 22,
   "metadata": {
    "collapsed": false
   },
   "outputs": [
    {
     "data": {
      "text/plain": [
       "13"
      ]
     },
     "execution_count": 22,
     "metadata": {},
     "output_type": "execute_result"
    }
   ],
   "source": [
    "\"人民币在过去半年总是上演躺着也要中枪的剧情。英国脱欧一役中，人民币并没有太多暴露于脱欧的风险头寸，然后投资者寻求避险，人民币遭到“错杀”，在岸人民币兑美元跌至5年低位。另外在今年年初，美联储加息的预期让人民币连跌4日，最终还是央妈出手才逼退空头。上周三人民币兑美元的开盘价贬至6.6857，创2010年11月来新低，而人民币兑一篮子货币也达到了2014年10月以来最低。离岸人民币汇率一度跌破6.7，在岸人民币汇率极其逼近6.7。上周前三天内，人民币对美元汇率中间价累计贬值545点，较英国退欧后创下的低点再跌329点。最近三个月，在岸人民币兑美元汇率，以及离岸人民币兑美元汇率也贬值了3.25%。年初至今，人民币兑一篮子货币汇率已经贬值了5.9%。\".count('人')"
   ]
  },
  {
   "cell_type": "code",
   "execution_count": 23,
   "metadata": {
    "collapsed": false
   },
   "outputs": [
    {
     "name": "stdout",
     "output_type": "stream",
     "text": [
      "White Rabbit\n",
      "White Rabbit\n"
     ]
    }
   ],
   "source": [
    "print \"   White Rabbit   \".strip()\n",
    "print \"\\t White Rabbit  \\t \".strip('\\t ')"
   ]
  },
  {
   "cell_type": "code",
   "execution_count": 24,
   "metadata": {
    "collapsed": false
   },
   "outputs": [
    {
     "data": {
      "text/plain": [
       "True"
      ]
     },
     "execution_count": 24,
     "metadata": {},
     "output_type": "execute_result"
    }
   ],
   "source": [
    "\"Rabbit\".startswith(\"R\")"
   ]
  },
  {
   "cell_type": "code",
   "execution_count": 25,
   "metadata": {
    "collapsed": false
   },
   "outputs": [
    {
     "data": {
      "text/plain": [
       "True"
      ]
     },
     "execution_count": 25,
     "metadata": {},
     "output_type": "execute_result"
    }
   ],
   "source": [
    "\"Rabbit\".endswith(\"t\")"
   ]
  },
  {
   "cell_type": "code",
   "execution_count": 26,
   "metadata": {
    "collapsed": false
   },
   "outputs": [
    {
     "name": "stdout",
     "output_type": "stream",
     "text": [
      "True\n",
      "True\n"
     ]
    }
   ],
   "source": [
    "print \"a\" in \"Rabbit\" #returns a boolean \n",
    "print \"doors\" in \"There were doors all round the hall\" #returns a boolean"
   ]
  },
  {
   "cell_type": "markdown",
   "metadata": {},
   "source": [
    "## 4-Text Data"
   ]
  },
  {
   "cell_type": "code",
   "execution_count": 27,
   "metadata": {
    "collapsed": true
   },
   "outputs": [],
   "source": [
    "id_number={'张三':'54201','李四':'87302','王五':'32201'}"
   ]
  },
  {
   "cell_type": "code",
   "execution_count": 28,
   "metadata": {
    "collapsed": false
   },
   "outputs": [
    {
     "name": "stdout",
     "output_type": "stream",
     "text": [
      "87302\n"
     ]
    }
   ],
   "source": [
    "print id_number['李四']"
   ]
  },
  {
   "cell_type": "code",
   "execution_count": 29,
   "metadata": {
    "collapsed": true
   },
   "outputs": [],
   "source": [
    "category={}\n",
    "category[\"苹果\"]=\"fruit\"\n",
    "category[\"香蕉\"]=\"fruit\"\n",
    "category[\"草莓\"]=\"fruit\"\n",
    "category[\"土豆\"]=\"vegetable\"\n",
    "category[\"西红柿\"]=\"vegetable\""
   ]
  },
  {
   "cell_type": "code",
   "execution_count": 30,
   "metadata": {
    "collapsed": false
   },
   "outputs": [
    {
     "data": {
      "text/plain": [
       "'fruit'"
      ]
     },
     "execution_count": 30,
     "metadata": {},
     "output_type": "execute_result"
    }
   ],
   "source": [
    "category[\"香蕉\"]"
   ]
  },
  {
   "cell_type": "code",
   "execution_count": 31,
   "metadata": {
    "collapsed": true
   },
   "outputs": [],
   "source": [
    "doc_a = \"Brocolli is good to eat. My brother likes to eat good brocolli, but not my mother.\"\n",
    "doc_b = \"My mother spends a lot of time driving my brother around to baseball practice.\"\n",
    "doc_c = \"Some health experts suggest that driving may cause increased tension and blood pressure.\"\n",
    "doc_d = \"I often feel pressure to perform well at school, but my mother never seems to drive my brother to do better.\"\n",
    "doc_e = \"Health professionals say that brocolli is good for your health.\"\n",
    "\n",
    "# compile sample documents into a list\n",
    "doc_set = [doc_a, doc_b, doc_c, doc_d, doc_e]"
   ]
  },
  {
   "cell_type": "code",
   "execution_count": 32,
   "metadata": {
    "collapsed": false
   },
   "outputs": [
    {
     "name": "stdout",
     "output_type": "stream",
     "text": [
      "['Brocolli is good to eat. My brother likes to eat good brocolli, but not my mother.', 'My mother spends a lot of time driving my brother around to baseball practice.', 'Some health experts suggest that driving may cause increased tension and blood pressure.', 'I often feel pressure to perform well at school, but my mother never seems to drive my brother to do better.', 'Health professionals say that brocolli is good for your health.']\n"
     ]
    }
   ],
   "source": [
    "print doc_set"
   ]
  },
  {
   "cell_type": "markdown",
   "metadata": {},
   "source": [
    "## 5-Text Reading"
   ]
  },
  {
   "cell_type": "code",
   "execution_count": 4,
   "metadata": {
    "collapsed": true
   },
   "outputs": [],
   "source": [
    "import os\n",
    "import re\n",
    "import pandas as pd\n",
    "import numpy as np\n",
    "import jieba.posseg as pseg"
   ]
  },
  {
   "cell_type": "code",
   "execution_count": 8,
   "metadata": {
    "collapsed": false
   },
   "outputs": [
    {
     "data": {
      "text/html": [
       "<div>\n",
       "<table border=\"1\" class=\"dataframe\">\n",
       "  <thead>\n",
       "    <tr style=\"text-align: right;\">\n",
       "      <th></th>\n",
       "      <th>caseids</th>\n",
       "      <th>content</th>\n",
       "    </tr>\n",
       "  </thead>\n",
       "  <tbody>\n",
       "    <tr>\n",
       "      <th>0</th>\n",
       "      <td>3618380</td>\n",
       "      <td>尊敬的苏书记您好！赣县王母渡镇新兴村委员会（书记、村长、会计）三个职位在近5年内从未公开竟选...</td>\n",
       "    </tr>\n",
       "    <tr>\n",
       "      <th>1</th>\n",
       "      <td>3618382</td>\n",
       "      <td>彭泽县马当镇利山村有一个四十户人家小山村，也可能是整个九江市或是整个江西省还不多不通汽车路的...</td>\n",
       "    </tr>\n",
       "    <tr>\n",
       "      <th>2</th>\n",
       "      <td>3618384</td>\n",
       "      <td>书记，您好！真的很抱歉，您日理万机，还要打搅您！我是南昌市安义县的一位普通市民。开学前夕，在...</td>\n",
       "    </tr>\n",
       "    <tr>\n",
       "      <th>3</th>\n",
       "      <td>3618390</td>\n",
       "      <td>尊敬的苏书记您好，希望您在百忙之中能关注此事，我们是弱势群体，得了尿毒症，靠血液透析维持生命...</td>\n",
       "    </tr>\n",
       "    <tr>\n",
       "      <th>4</th>\n",
       "      <td>3618393</td>\n",
       "      <td>出行难问题，也许在很多人看来不是大事，却是偏僻小乡村的村民最关心，最直接，最现实的利益的问题...</td>\n",
       "    </tr>\n",
       "  </tbody>\n",
       "</table>\n",
       "</div>"
      ],
      "text/plain": [
       "   caseids                                            content\n",
       "0  3618380  尊敬的苏书记您好！赣县王母渡镇新兴村委员会（书记、村长、会计）三个职位在近5年内从未公开竟选...\n",
       "1  3618382  彭泽县马当镇利山村有一个四十户人家小山村，也可能是整个九江市或是整个江西省还不多不通汽车路的...\n",
       "2  3618384  书记，您好！真的很抱歉，您日理万机，还要打搅您！我是南昌市安义县的一位普通市民。开学前夕，在...\n",
       "3  3618390  尊敬的苏书记您好，希望您在百忙之中能关注此事，我们是弱势群体，得了尿毒症，靠血液透析维持生命...\n",
       "4  3618393  出行难问题，也许在很多人看来不是大事，却是偏僻小乡村的村民最关心，最直接，最现实的利益的问题..."
      ]
     },
     "execution_count": 8,
     "metadata": {},
     "output_type": "execute_result"
    }
   ],
   "source": [
    "report= pd.read_csv('samgov.csv',encoding=\"gbk\")\n",
    "report.head()"
   ]
  },
  {
   "cell_type": "code",
   "execution_count": 17,
   "metadata": {
    "collapsed": false
   },
   "outputs": [
    {
     "name": "stdout",
     "output_type": "stream",
     "text": [
      "尊敬的苏书记您好！赣县王母渡镇新兴村委员会（书记、村长、会计）三个职位在近5年内从未公开竟选，三人内定，并没有经过正规程序来进行。近5年内村财务从未公开过。村民批地建房由村书记一人收钱不开收据不开发票口头承诺要定可以办好，收费标准并无文件规定，漫口要价村民不知情，但近5年内的批地申请表并未办下来，一直积压在镇国土资源管理所。恳请苏书记督促赣县检察机关、县纪检部门到镇和村民中调查，因镇政府和镇国土资源所和村委员会的三个干部有着千丝万缕的联系，所以镇相关并未有过调查。赣县王母渡镇新兴村委员会村长去年说了一句话：我们光靠共产党的工资那里够呀，吃饭都不够，所以不搞点项目或从国土审批中一次性从村民手中收取一个上限的费用那才不吃亏，也确实村委会工作人员一次随口开价就从未有过批地费用补差或退回，难不成就每次都那么准刚刚好就够了。\n"
     ]
    }
   ],
   "source": [
    "print (report['content'][0])"
   ]
  },
  {
   "cell_type": "code",
   "execution_count": 13,
   "metadata": {
    "collapsed": false
   },
   "outputs": [
    {
     "name": "stderr",
     "output_type": "stream",
     "text": [
      "Building prefix dict from the default dictionary ...\n",
      "Loading model from cache /var/folders/yz/2lnj7pw90rsf01y89nkmf2840000gn/T/jieba.cache\n",
      "Loading model cost 1.013 seconds.\n",
      "Prefix dict has been built succesfully.\n"
     ]
    },
    {
     "data": {
      "text/plain": [
       "[pair('尊敬', 'v'),\n",
       " pair('的', 'uj'),\n",
       " pair('苏', 'ns'),\n",
       " pair('书记', 'n'),\n",
       " pair('您好', 'l'),\n",
       " pair('！', 'x'),\n",
       " pair('赣县', 'ns'),\n",
       " pair('王母', 'nr'),\n",
       " pair('渡镇', 'ns'),\n",
       " pair('新兴村', 'ns'),\n",
       " pair('委员会', 'n'),\n",
       " pair('（', 'x'),\n",
       " pair('书记', 'n'),\n",
       " pair('、', 'x'),\n",
       " pair('村长', 'n'),\n",
       " pair('、', 'x'),\n",
       " pair('会计', 'v'),\n",
       " pair('）', 'x'),\n",
       " pair('三个', 'm'),\n",
       " pair('职位', 'n'),\n",
       " pair('在', 'p'),\n",
       " pair('近', 't'),\n",
       " pair('5', 'm'),\n",
       " pair('年内', 't'),\n",
       " pair('从未', 'd'),\n",
       " pair('公开', 'ad'),\n",
       " pair('竟', 'd'),\n",
       " pair('选', 'v'),\n",
       " pair('，', 'x'),\n",
       " pair('三', 'm'),\n",
       " pair('人', 'n'),\n",
       " pair('内定', 'n'),\n",
       " pair('，', 'x'),\n",
       " pair('并', 'c'),\n",
       " pair('没有', 'v'),\n",
       " pair('经过', 'p'),\n",
       " pair('正规', 'a'),\n",
       " pair('程序', 'n'),\n",
       " pair('来', 'v'),\n",
       " pair('进行', 'v'),\n",
       " pair('。', 'x'),\n",
       " pair('近', 't'),\n",
       " pair('5', 'm'),\n",
       " pair('年内', 't'),\n",
       " pair('村', 'zg'),\n",
       " pair('财务', 'n'),\n",
       " pair('从未', 'd'),\n",
       " pair('公开', 'ad'),\n",
       " pair('过', 'ug'),\n",
       " pair('。', 'x'),\n",
       " pair('村民', 'n'),\n",
       " pair('批地', 'n'),\n",
       " pair('建房', 'n'),\n",
       " pair('由', 'p'),\n",
       " pair('村', 'n'),\n",
       " pair('书记', 'n'),\n",
       " pair('一', 'm'),\n",
       " pair('人', 'n'),\n",
       " pair('收钱', 'v'),\n",
       " pair('不', 'd'),\n",
       " pair('开', 'v'),\n",
       " pair('收据', 'n'),\n",
       " pair('不', 'd'),\n",
       " pair('开发票', 'n'),\n",
       " pair('口头', 'n'),\n",
       " pair('承诺', 'v'),\n",
       " pair('要定', 'v'),\n",
       " pair('可以', 'c'),\n",
       " pair('办好', 'v'),\n",
       " pair('，', 'x'),\n",
       " pair('收费', 'n'),\n",
       " pair('标准', 'n'),\n",
       " pair('并', 'c'),\n",
       " pair('无', 'v'),\n",
       " pair('文件', 'n'),\n",
       " pair('规定', 'n'),\n",
       " pair('，', 'x'),\n",
       " pair('漫口', 'vn'),\n",
       " pair('要价', 'n'),\n",
       " pair('村民', 'n'),\n",
       " pair('不知情', 'i'),\n",
       " pair('，', 'x'),\n",
       " pair('但', 'c'),\n",
       " pair('近', 't'),\n",
       " pair('5', 'm'),\n",
       " pair('年内', 't'),\n",
       " pair('的', 'uj'),\n",
       " pair('批地', 'n'),\n",
       " pair('申请表', 'n'),\n",
       " pair('并未', 'd'),\n",
       " pair('办', 'v'),\n",
       " pair('下来', 't'),\n",
       " pair('，', 'x'),\n",
       " pair('一直', 'd'),\n",
       " pair('积压', 'n'),\n",
       " pair('在', 'p'),\n",
       " pair('镇', 'n'),\n",
       " pair('国土', 'n'),\n",
       " pair('资源管理', 'n'),\n",
       " pair('所', 'c'),\n",
       " pair('。', 'x'),\n",
       " pair('恳请', 'v'),\n",
       " pair('苏', 'j'),\n",
       " pair('书记', 'n'),\n",
       " pair('督促', 'v'),\n",
       " pair('赣县', 'ns'),\n",
       " pair('检察机关', 'n'),\n",
       " pair('、', 'x'),\n",
       " pair('县', 'zg'),\n",
       " pair('纪检', 'j'),\n",
       " pair('部门', 'n'),\n",
       " pair('到', 'v'),\n",
       " pair('镇', 'n'),\n",
       " pair('和', 'c'),\n",
       " pair('村民', 'n'),\n",
       " pair('中', 'f'),\n",
       " pair('调查', 'vn'),\n",
       " pair('，', 'x'),\n",
       " pair('因', 'p'),\n",
       " pair('镇政府', 'nt'),\n",
       " pair('和', 'c'),\n",
       " pair('镇', 'v'),\n",
       " pair('国土资源', 'n'),\n",
       " pair('所', 'u'),\n",
       " pair('和', 'c'),\n",
       " pair('村', 'n'),\n",
       " pair('委员会', 'n'),\n",
       " pair('的', 'uj'),\n",
       " pair('三个', 'm'),\n",
       " pair('干部', 'n'),\n",
       " pair('有着', 'v'),\n",
       " pair('千丝万缕', 'i'),\n",
       " pair('的', 'uj'),\n",
       " pair('联系', 'n'),\n",
       " pair('，', 'x'),\n",
       " pair('所以', 'c'),\n",
       " pair('镇', 'n'),\n",
       " pair('相关', 'v'),\n",
       " pair('并未', 'd'),\n",
       " pair('有', 'v'),\n",
       " pair('过', 'ug'),\n",
       " pair('调查', 'vn'),\n",
       " pair('。', 'x'),\n",
       " pair('赣县', 'ns'),\n",
       " pair('王母', 'nr'),\n",
       " pair('渡镇', 'ns'),\n",
       " pair('新兴村', 'ns'),\n",
       " pair('委员会', 'n'),\n",
       " pair('村长', 'n'),\n",
       " pair('去年', 't'),\n",
       " pair('说', 'v'),\n",
       " pair('了', 'ul'),\n",
       " pair('一句', 'm'),\n",
       " pair('话', 'n'),\n",
       " pair('：', 'x'),\n",
       " pair('我们', 'r'),\n",
       " pair('光靠', 'a'),\n",
       " pair('共产党', 'nt'),\n",
       " pair('的', 'uj'),\n",
       " pair('工资', 'vn'),\n",
       " pair('那里', 'r'),\n",
       " pair('够', 'v'),\n",
       " pair('呀', 'y'),\n",
       " pair('，', 'x'),\n",
       " pair('吃饭', 'v'),\n",
       " pair('都', 'd'),\n",
       " pair('不够', 'v'),\n",
       " pair('，', 'x'),\n",
       " pair('所以', 'c'),\n",
       " pair('不', 'd'),\n",
       " pair('搞', 'v'),\n",
       " pair('点', 'q'),\n",
       " pair('项目', 'n'),\n",
       " pair('或', 'c'),\n",
       " pair('从', 'p'),\n",
       " pair('国土', 'n'),\n",
       " pair('审批', 'v'),\n",
       " pair('中', 'f'),\n",
       " pair('一次性', 'd'),\n",
       " pair('从', 'p'),\n",
       " pair('村民', 'n'),\n",
       " pair('手中', 's'),\n",
       " pair('收取', 'v'),\n",
       " pair('一个', 'm'),\n",
       " pair('上限', 'v'),\n",
       " pair('的', 'uj'),\n",
       " pair('费用', 'n'),\n",
       " pair('那', 'r'),\n",
       " pair('才', 'd'),\n",
       " pair('不', 'd'),\n",
       " pair('吃亏', 'v'),\n",
       " pair('，', 'x'),\n",
       " pair('也', 'd'),\n",
       " pair('确实', 'ad'),\n",
       " pair('村委会', 'j'),\n",
       " pair('工作人员', 'n'),\n",
       " pair('一次', 'm'),\n",
       " pair('随口', 'd'),\n",
       " pair('开价', 'v'),\n",
       " pair('就', 'd'),\n",
       " pair('从未有过', 'l'),\n",
       " pair('批地', 'n'),\n",
       " pair('费用', 'n'),\n",
       " pair('补差', 'n'),\n",
       " pair('或', 'c'),\n",
       " pair('退回', 'v'),\n",
       " pair('，', 'x'),\n",
       " pair('难不成', 'v'),\n",
       " pair('就', 'd'),\n",
       " pair('每次', 'r'),\n",
       " pair('都', 'd'),\n",
       " pair('那么', 'r'),\n",
       " pair('准', 'v'),\n",
       " pair('刚刚', 'd'),\n",
       " pair('好', 'a'),\n",
       " pair('就', 'd'),\n",
       " pair('够', 'v'),\n",
       " pair('了', 'ul'),\n",
       " pair('。', 'x')]"
      ]
     },
     "execution_count": 13,
     "metadata": {},
     "output_type": "execute_result"
    }
   ],
   "source": [
    "list(pseg.cut('尊敬的苏书记您好！赣县王母渡镇新兴村委员会（书记、村长、会计）三个职位在近5年内从未公开竟选，三人内定，并没有经过正规程序来进行。近5年内村财务从未公开过。村民批地建房由村书记一人收钱不开收据不开发票口头承诺要定可以办好，收费标准并无文件规定，漫口要价村民不知情，但近5年内的批地申请表并未办下来，一直积压在镇国土资源管理所。恳请苏书记督促赣县检察机关、县纪检部门到镇和村民中调查，因镇政府和镇国土资源所和村委员会的三个干部有着千丝万缕的联系，所以镇相关并未有过调查。赣县王母渡镇新兴村委员会村长去年说了一句话：我们光靠共产党的工资那里够呀，吃饭都不够，所以不搞点项目或从国土审批中一次性从村民手中收取一个上限的费用那才不吃亏，也确实村委会工作人员一次随口开价就从未有过批地费用补差或退回，难不成就每次都那么准刚刚好就够了。'))"
   ]
  },
  {
   "cell_type": "code",
   "execution_count": 14,
   "metadata": {
    "collapsed": false
   },
   "outputs": [
    {
     "data": {
      "text/plain": [
       "697"
      ]
     },
     "execution_count": 14,
     "metadata": {},
     "output_type": "execute_result"
    }
   ],
   "source": [
    "len(report) #length of the string "
   ]
  },
  {
   "cell_type": "code",
   "execution_count": 18,
   "metadata": {
    "collapsed": false
   },
   "outputs": [
    {
     "data": {
      "text/html": [
       "<div>\n",
       "<table border=\"1\" class=\"dataframe\">\n",
       "  <thead>\n",
       "    <tr style=\"text-align: right;\">\n",
       "      <th></th>\n",
       "      <th>Sepal.Length</th>\n",
       "      <th>Sepal.Width</th>\n",
       "      <th>Petal.Length</th>\n",
       "      <th>Petal.Width</th>\n",
       "      <th>Species</th>\n",
       "    </tr>\n",
       "  </thead>\n",
       "  <tbody>\n",
       "    <tr>\n",
       "      <th>0</th>\n",
       "      <td>5.1</td>\n",
       "      <td>3.5</td>\n",
       "      <td>1.4</td>\n",
       "      <td>0.2</td>\n",
       "      <td>setosa</td>\n",
       "    </tr>\n",
       "    <tr>\n",
       "      <th>1</th>\n",
       "      <td>4.9</td>\n",
       "      <td>3.0</td>\n",
       "      <td>1.4</td>\n",
       "      <td>0.2</td>\n",
       "      <td>setosa</td>\n",
       "    </tr>\n",
       "    <tr>\n",
       "      <th>2</th>\n",
       "      <td>4.7</td>\n",
       "      <td>3.2</td>\n",
       "      <td>1.3</td>\n",
       "      <td>0.2</td>\n",
       "      <td>setosa</td>\n",
       "    </tr>\n",
       "    <tr>\n",
       "      <th>3</th>\n",
       "      <td>4.6</td>\n",
       "      <td>3.1</td>\n",
       "      <td>1.5</td>\n",
       "      <td>0.2</td>\n",
       "      <td>setosa</td>\n",
       "    </tr>\n",
       "    <tr>\n",
       "      <th>4</th>\n",
       "      <td>5.0</td>\n",
       "      <td>3.6</td>\n",
       "      <td>1.4</td>\n",
       "      <td>0.2</td>\n",
       "      <td>setosa</td>\n",
       "    </tr>\n",
       "  </tbody>\n",
       "</table>\n",
       "</div>"
      ],
      "text/plain": [
       "   Sepal.Length  Sepal.Width  Petal.Length  Petal.Width Species\n",
       "0           5.1          3.5           1.4          0.2  setosa\n",
       "1           4.9          3.0           1.4          0.2  setosa\n",
       "2           4.7          3.2           1.3          0.2  setosa\n",
       "3           4.6          3.1           1.5          0.2  setosa\n",
       "4           5.0          3.6           1.4          0.2  setosa"
      ]
     },
     "execution_count": 18,
     "metadata": {},
     "output_type": "execute_result"
    }
   ],
   "source": [
    "report2 = pd.read_excel('/Users/liding/E/Bdata/Course/6TextasData/sample2.xlsx')\n",
    "report2.head()"
   ]
  },
  {
   "cell_type": "code",
   "execution_count": 19,
   "metadata": {
    "collapsed": false
   },
   "outputs": [
    {
     "data": {
      "text/plain": [
       "150"
      ]
     },
     "execution_count": 19,
     "metadata": {},
     "output_type": "execute_result"
    }
   ],
   "source": [
    "len(report2) #length of the string "
   ]
  },
  {
   "cell_type": "markdown",
   "metadata": {
    "collapsed": true
   },
   "source": [
    "<br><br><br><center><font color=#13577F size=8 face='arial black'>大数据社会科学的时代来临了!</font></center><br><br>"
   ]
  },
  {
   "cell_type": "markdown",
   "metadata": {},
   "source": [
    "<br><br><br><center><font color=#505050 size=4 face='arial black'>邮箱：maxmeng@tsinghua.edu.cn</font></center><br><br>"
   ]
  },
  {
   "cell_type": "markdown",
   "metadata": {},
   "source": [
    "<font color=#505050 size=4 face='arial black'>Copyright@Tsinghua Research Center on Data Science and Governance</font>"
   ]
  },
  {
   "cell_type": "code",
   "execution_count": null,
   "metadata": {
    "collapsed": true
   },
   "outputs": [],
   "source": []
  }
 ],
 "metadata": {
  "anaconda-cloud": {},
  "kernelspec": {
   "display_name": "Python 3",
   "language": "python",
   "name": "python3"
  },
  "language_info": {
   "codemirror_mode": {
    "name": "ipython",
    "version": 3
   },
   "file_extension": ".py",
   "mimetype": "text/x-python",
   "name": "python",
   "nbconvert_exporter": "python",
   "pygments_lexer": "ipython3",
   "version": "3.6.0"
  }
 },
 "nbformat": 4,
 "nbformat_minor": 0
}
