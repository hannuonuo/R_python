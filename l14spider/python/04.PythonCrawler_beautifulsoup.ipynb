{
 "cells": [
  {
   "cell_type": "markdown",
   "metadata": {
    "slideshow": {
     "slide_type": "slide"
    }
   },
   "source": [
    "\n",
    "# 数据抓取：\n",
    "\n",
    "> # Requests、Beautifulsoup、Xpath简介\n",
    "***\n",
    "\n",
    "王成军\n",
    "\n",
    "wangchengjun@nju.edu.cn\n",
    "\n",
    "计算传播网 http://computational-communication.com"
   ]
  },
  {
   "cell_type": "code",
   "execution_count": 1,
   "metadata": {
    "ExecuteTime": {
     "end_time": "2019-03-18T01:48:00.961422Z",
     "start_time": "2019-03-18T01:48:00.956677Z"
    }
   },
   "outputs": [
    {
     "name": "stdout",
     "output_type": "stream",
     "text": [
      "Object `display_html` not found.\n"
     ]
    }
   ],
   "source": [
    "?display_html"
   ]
  },
  {
   "cell_type": "code",
   "execution_count": 33,
   "metadata": {
    "ExecuteTime": {
     "end_time": "2019-03-18T01:47:27.152433Z",
     "start_time": "2019-03-18T01:47:27.031449Z"
    },
    "scrolled": true,
    "slideshow": {
     "slide_type": "slide"
    }
   },
   "outputs": [
    {
     "data": {
      "text/html": [
       "\n",
       "<!DOCTYPE html>\n",
       "<html lang=\"zh-cn\">\n",
       "<head>\n",
       "    <meta charset=\"utf-8\" />\n",
       "    <meta name=\"viewport\" content=\"width=device-width, initial-scale=1.0\" />\n",
       "    <meta name=\"referrer\" content=\"origin\" />\n",
       "    <meta property=\"og:description\" content=\"在上文中我们说了：爬虫就是请求网站并提取数据的自动化程序。其中请求，提取，自动化是爬虫的关键！下面我们分析爬虫的基本流程 爬虫的基本流程 发起请求通过HTTP库向目标站点发起请求，也就是发送一个Req\" />\n",
       "    <meta http-equiv=\"Cache-Control\" content=\"no-transform\" />\n",
       "    <meta http-equiv=\"Cache-Control\" content=\"no-siteapp\" />\n",
       "    <meta http-equiv=\"X-UA-Compatible\" content=\"IE=edge\" />\n",
       "    <title>python爬虫从入门到放弃（二）之爬虫的原理 - python修行路 - 博客园</title>\n",
       "    \n",
       "    <link rel=\"stylesheet\" href=\"/css/blog-common.min.css?v=PyyhYDRKBG1sYtpoHme_xHO5AMd5iN57I45iBKF8FVY\" />\n",
       "    <link id=\"MainCss\" rel=\"stylesheet\" href=\"/skins/simpleblue/bundle-simpleblue.min.css?v=MH15aYd6DmX-6TABpA2xkiKENy3GAhiM2dh5rOPH89I\" />\n",
       "    <link type=\"text/css\" rel=\"stylesheet\" href=\"https://www.cnblogs.com/zhaof/custom.css?v=PTjdipI7obPwDyn&#x2B;TZpyFdMAYdo=\" />\n",
       "    <link id=\"mobile-style\" media=\"only screen and (max-width: 767px)\" type=\"text/css\" rel=\"stylesheet\" href=\"/skins/simpleblue/bundle-simpleblue-mobile.min.css?v=_zt2QFQyJHJRlBTpIRPn4DadnHSequpRNJvrnOfJ3Go\" />\n",
       "    \n",
       "    <link type=\"application/rss+xml\" rel=\"alternate\" href=\"https://www.cnblogs.com/zhaof/rss\" />\n",
       "    <link type=\"application/rsd+xml\" rel=\"EditURI\" href=\"https://www.cnblogs.com/zhaof/rsd.xml\" />\n",
       "    <link type=\"application/wlwmanifest+xml\" rel=\"wlwmanifest\" href=\"https://www.cnblogs.com/zhaof/wlwmanifest.xml\" />\n",
       "    <script src=\"https://common.cnblogs.com/scripts/jquery-2.2.0.min.js\"></script>\n",
       "    <script src=\"/js/blog-common.min.js?v=9AUvV7CGRXeBxRXvxWjIJxJZemektvGlJfH8yBiYzRQ\"></script>\n",
       "    <script>\n",
       "        var currentBlogId = 295827;\n",
       "        var currentBlogApp = 'zhaof';\n",
       "        var cb_enable_mathjax = true;\n",
       "        var isLogined = false;\n",
       "    </script>\n",
       "    <script type=\"text/x-mathjax-config\">\n",
       "        MathJax.Hub.Config({\n",
       "        tex2jax: { inlineMath: [['$','$'], ['\\\\(','\\\\)']], processClass: 'math', processEscapes: true },\n",
       "        TeX: {\n",
       "        equationNumbers: { autoNumber: ['AMS'], useLabelIds: true },\n",
       "        extensions: ['extpfeil.js', 'mediawiki-texvc.js'],\n",
       "        Macros: {bm: \"\\\\boldsymbol\"}\n",
       "        },\n",
       "        'HTML-CSS': { linebreaks: { automatic: true } },\n",
       "        SVG: { linebreaks: { automatic: true } }\n",
       "        });\n",
       "    </script>\n",
       "    <script src=\"https://mathjax.cnblogs.com/2_7_5/MathJax.js?config=TeX-AMS-MML_HTMLorMML\"></script>\n",
       "    \n",
       "</head>\n",
       "<body>\n",
       "    <a name=\"top\"></a>\n",
       "    \n",
       "    <div id=\"home\">\n",
       "    <div id=\"header\">\n",
       "        <div id=\"blogTitle\">\n",
       "            \n",
       "<div class=\"title\"><a id=\"Header1_HeaderTitle\" class=\"headermaintitle HeaderMainTitle\" href=\"https://www.cnblogs.com/zhaof/\">coder</a>\n",
       "</div>\n",
       "<div class=\"subtitle\">\n",
       "所有的努力都值得期许，每一份梦想都应该灌溉！ qq交流群:948510543\r\n",
       "\r\n",
       "https://www.syncd.cn\n",
       "</div>\n",
       "\n",
       "        </div>\n",
       "        <div id=\"navigator\">\n",
       "            \n",
       "<ul id=\"navList\">\n",
       "    <li id=\"nav_sitehome\"><a id=\"blog_nav_sitehome\" class=\"menu\" href=\"https://www.cnblogs.com/\">\n",
       "博客园</a>\n",
       "</li>\n",
       "    <li id=\"nav_myhome\">\n",
       "<a id=\"blog_nav_myhome\" class=\"menu\" href=\"https://www.cnblogs.com/zhaof/\">\n",
       "首页</a>\n",
       "</li>\n",
       "    <li id=\"nav_newpost\">\n",
       "\n",
       "<a id=\"blog_nav_newpost\" class=\"menu\" href=\"https://i.cnblogs.com/EditPosts.aspx?opt=1\">\n",
       "新随笔</a>\n",
       "</li>\n",
       "    <li id=\"nav_contact\">\n",
       "</li>\n",
       "    <li id=\"nav_rss\">\n",
       "<a id=\"blog_nav_rss\" class=\"menu\" href=\"https://www.cnblogs.com/zhaof/rss/\">\n",
       "订阅</a></li>\n",
       "    <li id=\"nav_admin\">\n",
       "<a id=\"blog_nav_admin\" class=\"menu\" href=\"https://i.cnblogs.com/\">\n",
       "管理</a>\n",
       "</li>\n",
       "</ul>\n",
       "\n",
       "            <div class=\"blogStats\">\n",
       "                \n",
       "<span id=\"stats_post_count\">随笔 - \n",
       "140&nbsp;</span>\n",
       "<span id=\"stats_article_count\">文章 - \n",
       "4&nbsp;</span>\n",
       "<!-- <span id=\"stats-comment_count\"></span> -->\n",
       "<span id=\"stats_comment_count\">评论 - \n",
       "369</span>\n",
       "            </div>\n",
       "        </div>\n",
       "    </div>\n",
       "    <div id=\"main\">\n",
       "        <div id=\"mainContent\">\n",
       "            <div class=\"forFlow\">\n",
       "                <div id=\"post_detail\">\n",
       "    <div id=\"topics\">\n",
       "        <div class=\"post\">\n",
       "            <h1 class=\"postTitle\">\n",
       "                \n",
       "<a id=\"cb_post_title_url\" class=\"postTitle2\" href=\"https://www.cnblogs.com/zhaof/p/6898138.html\">python爬虫从入门到放弃（二）之爬虫的原理</a>\n",
       "\n",
       "            </h1>\n",
       "            <div class=\"clear\"></div>\n",
       "            <div class=\"postBody\">\n",
       "                \n",
       "<div id=\"cnblogs_post_body\" class=\"blogpost-body \">\n",
       "    <p>在上文中我们说了：爬虫就是请求网站并提取数据的自动化程序。其中<span style=\"background-color: #ffff00;\">请求，提取，自动化</span>是爬虫的关键！下面我们分析爬虫的基本流程</p>\r\n",
       "<h2 id=\"toc_1\">爬虫的基本流程</h2>\r\n",
       "<p><strong>发起请求</strong><br />通过HTTP库向目标站点发起请求，也就是发送一个Request，请求可以包含额外的header等信息，等待服务器响应</p>\r\n",
       "<p><strong>获取响应内容</strong><br />如果服务器能正常响应，会得到一个Response，Response的内容便是所要获取的页面内容，类型可能是HTML,Json字符串，二进制数据（图片或者视频）等类型</p>\r\n",
       "<p><strong>解析内容</strong><br />得到的内容可能是HTML,可以用正则表达式，页面解析库进行解析，可能是Json,可以直接转换为Json对象解析，可能是二进制数据，可以做保存或者进一步的处理</p>\r\n",
       "<p><strong>保存数据</strong><br />保存形式多样，可以存为文本，也可以保存到数据库，或者保存特定格式的文件</p>\r\n",
       "<h2 id=\"toc_2\">什么是Request,Response</h2>\r\n",
       "<p>浏览器发送消息给网址所在的服务器，这个过程就叫做HTPP Request</p>\r\n",
       "<p>服务器收到浏览器发送的消息后，能够根据浏览器发送消息的内容，做相应的处理，然后把消息回传给浏览器，这个过程就是HTTP Response</p>\r\n",
       "<p>浏览器收到服务器的Response信息后，会对信息进行相应的处理，然后展示</p>\r\n",
       "<h3 id=\"toc_3\">Request中包含什么？</h3>\r\n",
       "<p><strong>请求方式</strong></p>\r\n",
       "<p>主要有：GET/POST两种类型常用，另外还有HEAD/PUT/DELETE/OPTIONS<br />GET和POST的区别就是：请求的数据GET是在url中，POST则是存放在头部</p>\r\n",
       "<p>GET:向指定的资源发出&ldquo;显示&rdquo;请求。使用GET方法应该只用在读取数据，而不应当被用于产生&ldquo;副作用&rdquo;的操作中，例如在Web Application中。其中一个原因是GET可能会被网络蜘蛛等随意访问</p>\r\n",
       "<p>POST:向指定资源提交数据，请求服务器进行处理（例如提交表单或者上传文件）。数据被包含在请求本文中。这个请求可能会创建新的资源或修改现有资源，或二者皆有。</p>\r\n",
       "<p>HEAD：与GET方法一样，都是向服务器发出指定资源的请求。只不过服务器将不传回资源的本文部分。它的好处在于，使用这个方法可以在不必传输全部内容的情况下，就可以获取其中&ldquo;关于该资源的信息&rdquo;（元信息或称元数据）。</p>\r\n",
       "<p>PUT：向指定资源位置上传其最新内容。</p>\r\n",
       "<p>OPTIONS：这个方法可使服务器传回该资源所支持的所有HTTP请求方法。用'*'来代替资源名称，向Web服务器发送OPTIONS请求，可以测试服务器功能是否正常运作。</p>\r\n",
       "<p>DELETE：请求服务器删除Request-URI所标识的资源。</p>\r\n",
       "<p><strong>请求URL</strong></p>\r\n",
       "<p>URL，即统一资源定位符，也就是我们说的网址，统一资源定位符是对可以从互联网上得到的资源的位置和访问方法的一种简洁的表示，是互联网上标准资源的地址。互联网上的每个文件都有一个唯一的URL，它包含的信息指出文件的位置以及浏览器应该怎么处理它。</p>\r\n",
       "<p>URL的格式由三个部分组成：<br />第一部分是协议(或称为服务方式)。<br />第二部分是存有该资源的主机IP地址(有时也包括端口号)。<br />第三部分是主机资源的具体地址，如目录和文件名等。</p>\r\n",
       "<p>爬虫爬取数据时必须要有一个目标的URL才可以获取数据，因此，它是爬虫获取数据的基本依据。</p>\r\n",
       "<p><strong>请求头</strong></p>\r\n",
       "<p>包含请求时的头部信息，如User-Agent,Host,Cookies等信息，下图是请求请求百度时，所有的请求头部信息参数</p>\r\n",
       "<p><img src=\"https://images2015.cnblogs.com/blog/997599/201705/997599-20170524114125357-155405725.png\" alt=\"\" /></p>\r\n",
       "<p><strong>请求体</strong><br />请求是携带的数据，如提交表单数据时候的表单数据（POST）</p>\r\n",
       "<h3 id=\"toc_4\">Response中包含了什么</h3>\r\n",
       "<p>所有HTTP响应的第一行都是状态行，依次是当前HTTP版本号，3位数字组成的状态代码，以及描述状态的短语，彼此由空格分隔。</p>\r\n",
       "<p><strong>响应状态</strong></p>\r\n",
       "<p>有多种响应状态，如：200代表成功，301跳转，404找不到页面，502服务器错误</p>\r\n",
       "<ul>\r\n",
       "<li>1xx消息&mdash;&mdash;请求已被服务器接收，继续处理</li>\r\n",
       "<li>2xx成功&mdash;&mdash;请求已成功被服务器接收、理解、并接受</li>\r\n",
       "<li>3xx重定向&mdash;&mdash;需要后续操作才能完成这一请求</li>\r\n",
       "<li>4xx请求错误&mdash;&mdash;请求含有词法错误或者无法被执行</li>\r\n",
       "<li>5xx服务器错误&mdash;&mdash;服务器在处理某个正确请求时发生错误 常见代码： 200 OK 请求成功 400 Bad Request 客户端请求有语法错误，不能被服务器所理解 401 Unauthorized 请求未经授权，这个状态代码必须和WWW-Authenticate报头域一起使用 403 Forbidden 服务器收到请求，但是拒绝提供服务 404 Not Found 请求资源不存在，eg：输入了错误的URL 500 Internal Server Error 服务器发生不可预期的错误 503 Server Unavailable 服务器当前不能处理客户端的请求，一段时间后可能恢复正常 301 目标永久性转移&nbsp;302 目标暂时性转移</li>\r\n",
       "\r\n",
       "\r\n",
       "\r\n",
       "</ul>\r\n",
       "<p><strong>响应头</strong></p>\r\n",
       "<p>如内容类型，类型的长度，服务器信息，设置Cookie,如下图</p>\r\n",
       "<p><img src=\"https://images2015.cnblogs.com/blog/997599/201705/997599-20170524114314513-1022567785.png\" alt=\"\" /></p>\r\n",
       "<p><strong>响应体</strong></p>\r\n",
       "<p>最主要的部分，包含请求资源的内容，如网页HTMl,图片，二进制数据等</p>\r\n",
       "<h2 id=\"toc_5\">能爬取什么样的数据</h2>\r\n",
       "<p>网页文本：如HTML文档，Json格式化文本等<br />图片：获取到的是二进制文件，保存为图片格式<br />视频:同样是二进制文件<br />其他：只要请求到的，都可以获取</p>\r\n",
       "<h2 id=\"toc_6\">如何解析数据</h2>\r\n",
       "<ol>\r\n",
       "<li>直接处理</li>\r\n",
       "<li>Json解析</li>\r\n",
       "<li>正则表达式处理</li>\r\n",
       "<li>BeautifulSoup解析处理</li>\r\n",
       "<li>PyQuery解析处理</li>\r\n",
       "<li>XPath解析处理</li>\r\n",
       "\r\n",
       "\r\n",
       "</ol>\r\n",
       "<h2 id=\"toc_7\">关于抓取的页面数据和浏览器里看到的不一样的问题</h2>\r\n",
       "<p>出现这种情况是因为，很多网站中的数据都是通过js，ajax动态加载的，所以直接通过get请求获取的页面和浏览器显示的不同。</p>\r\n",
       "<p>如何解决js渲染的问题？</p>\r\n",
       "<p>分析ajax<br />Selenium/webdriver<br />Splash<br />PyV8,Ghost.py</p>\r\n",
       "<h2 id=\"toc_8\">怎样保存数据</h2>\r\n",
       "<p>文本：纯文本，Json,Xml等</p>\r\n",
       "<p>关系型数据库：如mysql,oracle,sql server等结构化数据库</p>\r\n",
       "<p>非关系型数据库：MongoDB,Redis等key-value形式存储</p>\r\n",
       "<p>&nbsp;</p>\n",
       "</div>\n",
       "<div id=\"MySignature\"></div>\n",
       "<div class=\"clear\"></div>\n",
       "<div id=\"blog_post_info_block\">\n",
       "    <div id=\"blog_post_info\"></div>\n",
       "    <div class=\"clear\"></div>\n",
       "    <div id=\"post_next_prev\"></div>\n",
       "</div>\n",
       "            </div>\n",
       "            <div class=\"postDesc\">posted @ \n",
       "<span id=\"post-date\">2017-05-24 11:44</span>&nbsp;\n",
       "<a href=\"https://www.cnblogs.com/zhaof/\">python修行路</a>&nbsp;\n",
       "阅读(<span id=\"post_view_count\">...</span>)&nbsp;\n",
       "评论(<span id=\"post_comment_count\">...</span>)&nbsp;\n",
       "<a href=\"https://i.cnblogs.com/EditPosts.aspx?postid=6898138\" rel=\"nofollow\">\n",
       "    编辑\n",
       "</a>\n",
       "<a href=\"javascript:void(0)\" onclick=\"AddToWz(6898138);return false;\">收藏</a></div>\n",
       "        </div>\n",
       "<script src=\"https://common.cnblogs.com/highlight/9.12.0/highlight.min.js\"></script>\n",
       "<script>markdown_highlight();</script>\n",
       "<script>\n",
       "    var allowComments = true, cb_blogId = 295827, cb_blogApp = 'zhaof', cb_blogUserGuid = 'f3c162f5-6351-e611-9fc1-ac853d9f53cc';\n",
       "    var cb_entryId = 6898138, cb_entryCreatedDate = '2017-05-24 11:44', cb_postType = 1; \n",
       "    loadViewCount(cb_entryId);\n",
       "</script><a name=\"!comments\"></a>\n",
       "<div id=\"blog-comments-placeholder\"></div>\n",
       "<script>\n",
       "    var commentManager = new blogCommentManager();\n",
       "    commentManager.renderComments(0);\n",
       "</script>\n",
       "\n",
       "<div id=\"comment_form\" class=\"commentform\">\n",
       "    <a name=\"commentform\"></a>\n",
       "    <div id=\"divCommentShow\"></div>\n",
       "    <div id=\"comment_nav\"><span id=\"span_refresh_tips\"></span><a href=\"javascript:void(0);\" onclick=\"return RefreshCommentList();\" id=\"lnk_RefreshComments\" runat=\"server\" clientidmode=\"Static\">刷新评论</a><a href=\"#\" onclick=\"return RefreshPage();\">刷新页面</a><a href=\"#top\">返回顶部</a></div>\n",
       "    <div id=\"comment_form_container\"></div>\n",
       "    <div class=\"ad_text_commentbox\" id=\"ad_text_under_commentbox\"></div>\n",
       "    <div id=\"ad_t2\"></div>\n",
       "    <div id=\"opt_under_post\"></div>\n",
       "    <script async=\"async\" src=\"https://www.googletagservices.com/tag/js/gpt.js\"></script>\n",
       "    <script>\n",
       "        var googletag = googletag || {};\n",
       "        googletag.cmd = googletag.cmd || [];\n",
       "    </script>\n",
       "    <script>\n",
       "        googletag.cmd.push(function () {\n",
       "            googletag.defineSlot(\"/1090369/C1\", [300, 250], \"div-gpt-ad-1546353474406-0\").addService(googletag.pubads());\n",
       "            googletag.defineSlot(\"/1090369/C2\", [468, 60], \"div-gpt-ad-1539008685004-0\").addService(googletag.pubads());\n",
       "            googletag.pubads().enableSingleRequest();\n",
       "            googletag.enableServices();\n",
       "        });\n",
       "    </script>\n",
       "    <div id=\"cnblogs_c1\" class=\"c_ad_block\">\n",
       "        <div id=\"div-gpt-ad-1546353474406-0\" style=\"height:250px; width:300px;\"></div>\n",
       "    </div>\n",
       "    <div id=\"under_post_news\"></div>\n",
       "    <div id=\"cnblogs_c2\" class=\"c_ad_block\">\n",
       "        <div id=\"div-gpt-ad-1539008685004-0\" style=\"height:60px; width:468px;\">\n",
       "            <script>\n",
       "                if (new Date() >= new Date(2018, 9, 13)) {\n",
       "                    googletag.cmd.push(function () { googletag.display(\"div-gpt-ad-1539008685004-0\"); });\n",
       "                }\n",
       "            </script>\n",
       "        </div>\n",
       "    </div>\n",
       "    <div id=\"under_post_kb\"></div>\n",
       "    <div id=\"HistoryToday\" class=\"c_ad_block\"></div>\n",
       "    <script type=\"text/javascript\">\n",
       "        fixPostBody();\n",
       "        setTimeout(function () { incrementViewCount(cb_entryId); }, 50);\n",
       "        deliverAdT2();\n",
       "        deliverAdC1();\n",
       "        deliverAdC2();\n",
       "        loadNewsAndKb();\n",
       "        loadBlogSignature();\n",
       "LoadPostCategoriesTags(cb_blogId, cb_entryId);        LoadPostInfoBlock(cb_blogId, cb_entryId, cb_blogApp, cb_blogUserGuid);\n",
       "        GetPrevNextPost(cb_entryId, cb_blogId, cb_entryCreatedDate, cb_postType);\n",
       "        loadOptUnderPost();\n",
       "        GetHistoryToday(cb_blogId, cb_blogApp, cb_entryCreatedDate);\n",
       "    </script>\n",
       "</div>    </div>\n",
       "</div>\n",
       "            </div>\n",
       "        </div>\n",
       "\n",
       "        <div id=\"sideBar\">\n",
       "            <div id=\"sideBarMain\">\n",
       "                \n",
       "<div id=\"sidebar_news\" class=\"newsItem\">\n",
       "            <script>loadBlogNews();</script>\n",
       "</div>\n",
       "\n",
       "                <div id=\"calendar\"><div id=\"blog-calendar\" style=\"display:none\"></div></div>                \n",
       "                <script>loadBlogDefaultCalendar();</script>\n",
       "                <div id=\"leftcontentcontainer\">\n",
       "                    <!-- begin:SingleColumn -->\n",
       "                    <div id=\"blog-sidecolumn\"></div>\n",
       "                    <script>loadBlogSideColumn();</script>\n",
       "                    <!-- end:  SingleColumn -->\n",
       "                </div>\n",
       "            </div>\n",
       "        </div>\n",
       "        <div class=\"clear\"></div>\n",
       "    </div>\n",
       "    <div class=\"clear\"></div>\n",
       "    <div id=\"footer\">\n",
       "        <!--done-->\n",
       "Copyright &copy; 2019 python修行路\n",
       "<br /><span id=\"poweredby\">Powered by .NET Core 3.1.0 on Linux</span>\n",
       "\n",
       "    </div>\n",
       "</div>\n",
       "\n",
       "    \n",
       "</body>\n",
       "</html>\n"
      ],
      "text/plain": [
       "<IPython.core.display.HTML object>"
      ]
     },
     "execution_count": 33,
     "metadata": {},
     "output_type": "execute_result"
    }
   ],
   "source": [
    "# 爬虫基本原理\n",
    "from IPython.display import display_html, HTML\n",
    "\n",
    "HTML(url=\"http://www.cnblogs.com/zhaof/p/6898138.html\")"
   ]
  },
  {
   "cell_type": "markdown",
   "metadata": {
    "slideshow": {
     "slide_type": "slide"
    }
   },
   "source": [
    "# 需要解决的问题 \n",
    "\n",
    "- 页面解析\n",
    "- 获取Javascript隐藏源数据\n",
    "- 自动翻页\n",
    "- 自动登录\n",
    "- 连接API接口\n"
   ]
  },
  {
   "cell_type": "markdown",
   "metadata": {
    "slideshow": {
     "slide_type": "fragment"
    }
   },
   "source": [
    "- 一般的数据抓取，使用requests和beautifulsoup配合就可以了。\n",
    "- 尤其是对于翻页时url出现规则变化的网页，只需要处理规则化的url就可以了。\n",
    "- 以简单的例子是抓取天涯论坛上关于某一个关键词的帖子。\n",
    "    - 在天涯论坛，关于雾霾的帖子的第一页是：\n",
    "http://bbs.tianya.cn/list.jsp?item=free&nextid=0&order=8&k=雾霾\n",
    "    - 第二页是：\n",
    "http://bbs.tianya.cn/list.jsp?item=free&nextid=1&order=8&k=雾霾\n"
   ]
  },
  {
   "cell_type": "markdown",
   "metadata": {
    "slideshow": {
     "slide_type": "slide"
    }
   },
   "source": [
    "# 第一个爬虫\n",
    "\n",
    "Beautifulsoup Quick Start \n",
    "\n",
    "http://www.crummy.com/software/BeautifulSoup/bs4/doc/\n",
    "\n",
    "![](./img/bs.jpg)\n",
    "\n",
    "http://computational-class.github.io/bigdata/data/test.html"
   ]
  },
  {
   "cell_type": "code",
   "execution_count": 34,
   "metadata": {
    "ExecuteTime": {
     "end_time": "2018-04-28T01:19:00.541706Z",
     "start_time": "2018-04-28T01:19:00.302452Z"
    },
    "slideshow": {
     "slide_type": "slide"
    }
   },
   "outputs": [],
   "source": [
    "import requests\n",
    "from bs4 import BeautifulSoup"
   ]
  },
  {
   "cell_type": "code",
   "execution_count": 53,
   "metadata": {
    "slideshow": {
     "slide_type": "subslide"
    }
   },
   "outputs": [
    {
     "name": "stdout",
     "output_type": "stream",
     "text": [
      "Help on function get in module requests.api:\n",
      "\n",
      "get(url, params=None, **kwargs)\n",
      "    Sends a GET request.\n",
      "    \n",
      "    :param url: URL for the new :class:`Request` object.\n",
      "    :param params: (optional) Dictionary or bytes to be sent in the query string for the :class:`Request`.\n",
      "    :param \\*\\*kwargs: Optional arguments that ``request`` takes.\n",
      "    :return: :class:`Response <Response>` object\n",
      "    :rtype: requests.Response\n",
      "\n"
     ]
    }
   ],
   "source": [
    "help(requests.get) "
   ]
  },
  {
   "cell_type": "code",
   "execution_count": 35,
   "metadata": {
    "ExecuteTime": {
     "end_time": "2018-04-28T01:20:50.037725Z",
     "start_time": "2018-04-28T01:20:48.940235Z"
    },
    "slideshow": {
     "slide_type": "subslide"
    }
   },
   "outputs": [
    {
     "name": "stdout",
     "output_type": "stream",
     "text": [
      "Help on Response in module requests.models object:\n",
      "\n",
      "class Response(builtins.object)\n",
      " |  The :class:`Response <Response>` object, which contains a\n",
      " |  server's response to an HTTP request.\n",
      " |  \n",
      " |  Methods defined here:\n",
      " |  \n",
      " |  __bool__(self)\n",
      " |      Returns True if :attr:`status_code` is less than 400.\n",
      " |      \n",
      " |      This attribute checks if the status code of the response is between\n",
      " |      400 and 600 to see if there was a client error or a server error. If\n",
      " |      the status code, is between 200 and 400, this will return True. This\n",
      " |      is **not** a check to see if the response code is ``200 OK``.\n",
      " |  \n",
      " |  __enter__(self)\n",
      " |  \n",
      " |  __exit__(self, *args)\n",
      " |  \n",
      " |  __getstate__(self)\n",
      " |  \n",
      " |  __init__(self)\n",
      " |      Initialize self.  See help(type(self)) for accurate signature.\n",
      " |  \n",
      " |  __iter__(self)\n",
      " |      Allows you to use a response as an iterator.\n",
      " |  \n",
      " |  __nonzero__(self)\n",
      " |      Returns True if :attr:`status_code` is less than 400.\n",
      " |      \n",
      " |      This attribute checks if the status code of the response is between\n",
      " |      400 and 600 to see if there was a client error or a server error. If\n",
      " |      the status code, is between 200 and 400, this will return True. This\n",
      " |      is **not** a check to see if the response code is ``200 OK``.\n",
      " |  \n",
      " |  __repr__(self)\n",
      " |      Return repr(self).\n",
      " |  \n",
      " |  __setstate__(self, state)\n",
      " |  \n",
      " |  close(self)\n",
      " |      Releases the connection back to the pool. Once this method has been\n",
      " |      called the underlying ``raw`` object must not be accessed again.\n",
      " |      \n",
      " |      *Note: Should not normally need to be called explicitly.*\n",
      " |  \n",
      " |  iter_content(self, chunk_size=1, decode_unicode=False)\n",
      " |      Iterates over the response data.  When stream=True is set on the\n",
      " |      request, this avoids reading the content at once into memory for\n",
      " |      large responses.  The chunk size is the number of bytes it should\n",
      " |      read into memory.  This is not necessarily the length of each item\n",
      " |      returned as decoding can take place.\n",
      " |      \n",
      " |      chunk_size must be of type int or None. A value of None will\n",
      " |      function differently depending on the value of `stream`.\n",
      " |      stream=True will read data as it arrives in whatever size the\n",
      " |      chunks are received. If stream=False, data is returned as\n",
      " |      a single chunk.\n",
      " |      \n",
      " |      If decode_unicode is True, content will be decoded using the best\n",
      " |      available encoding based on the response.\n",
      " |  \n",
      " |  iter_lines(self, chunk_size=512, decode_unicode=False, delimiter=None)\n",
      " |      Iterates over the response data, one line at a time.  When\n",
      " |      stream=True is set on the request, this avoids reading the\n",
      " |      content at once into memory for large responses.\n",
      " |      \n",
      " |      .. note:: This method is not reentrant safe.\n",
      " |  \n",
      " |  json(self, **kwargs)\n",
      " |      Returns the json-encoded content of a response, if any.\n",
      " |      \n",
      " |      :param \\*\\*kwargs: Optional arguments that ``json.loads`` takes.\n",
      " |      :raises ValueError: If the response body does not contain valid json.\n",
      " |  \n",
      " |  raise_for_status(self)\n",
      " |      Raises stored :class:`HTTPError`, if one occurred.\n",
      " |  \n",
      " |  ----------------------------------------------------------------------\n",
      " |  Data descriptors defined here:\n",
      " |  \n",
      " |  __dict__\n",
      " |      dictionary for instance variables (if defined)\n",
      " |  \n",
      " |  __weakref__\n",
      " |      list of weak references to the object (if defined)\n",
      " |  \n",
      " |  apparent_encoding\n",
      " |      The apparent encoding, provided by the chardet library.\n",
      " |  \n",
      " |  content\n",
      " |      Content of the response, in bytes.\n",
      " |  \n",
      " |  is_permanent_redirect\n",
      " |      True if this Response one of the permanent versions of redirect.\n",
      " |  \n",
      " |  is_redirect\n",
      " |      True if this Response is a well-formed HTTP redirect that could have\n",
      " |      been processed automatically (by :meth:`Session.resolve_redirects`).\n",
      " |  \n",
      " |  links\n",
      " |      Returns the parsed header links of the response, if any.\n",
      " |  \n",
      " |  next\n",
      " |      Returns a PreparedRequest for the next request in a redirect chain, if there is one.\n",
      " |  \n",
      " |  ok\n",
      " |      Returns True if :attr:`status_code` is less than 400, False if not.\n",
      " |      \n",
      " |      This attribute checks if the status code of the response is between\n",
      " |      400 and 600 to see if there was a client error or a server error. If\n",
      " |      the status code is between 200 and 400, this will return True. This\n",
      " |      is **not** a check to see if the response code is ``200 OK``.\n",
      " |  \n",
      " |  text\n",
      " |      Content of the response, in unicode.\n",
      " |      \n",
      " |      If Response.encoding is None, encoding will be guessed using\n",
      " |      ``chardet``.\n",
      " |      \n",
      " |      The encoding of the response content is determined based solely on HTTP\n",
      " |      headers, following RFC 2616 to the letter. If you can take advantage of\n",
      " |      non-HTTP knowledge to make a better guess at the encoding, you should\n",
      " |      set ``r.encoding`` appropriately before accessing this property.\n",
      " |  \n",
      " |  ----------------------------------------------------------------------\n",
      " |  Data and other attributes defined here:\n",
      " |  \n",
      " |  __attrs__ = ['_content', 'status_code', 'headers', 'url', 'history', '...\n",
      "\n"
     ]
    }
   ],
   "source": [
    "url = 'http://computational-class.github.io/bigdata/data/test.html'\n",
    "content = requests.get(url)\n",
    "help(content)"
   ]
  },
  {
   "cell_type": "code",
   "execution_count": 36,
   "metadata": {
    "ExecuteTime": {
     "end_time": "2018-04-28T01:23:53.589112Z",
     "start_time": "2018-04-28T01:23:53.585849Z"
    },
    "slideshow": {
     "slide_type": "subslide"
    }
   },
   "outputs": [
    {
     "name": "stdout",
     "output_type": "stream",
     "text": [
      "<html><head><title>The Dormouse's story</title></head>\n",
      "<body>\n",
      "<p class=\"title\"><b>The Dormouse's story</b></p>\n",
      "\n",
      "<p class=\"story\">Once upon a time there were three little sisters; and their names were\n",
      "<a href=\"http://example.com/elsie\" class=\"sister\" id=\"link1\">Elsie</a>,\n",
      "<a href=\"http://example.com/lacie\" class=\"sister\" id=\"link2\">Lacie</a> and\n",
      "<a href=\"http://example.com/tillie\" class=\"sister\" id=\"link3\">Tillie</a>;\n",
      "and they lived at the bottom of a well.</p>\n",
      "\n",
      "<p class=\"story\">...</p>\n"
     ]
    }
   ],
   "source": [
    "print(content.text)"
   ]
  },
  {
   "cell_type": "code",
   "execution_count": 37,
   "metadata": {
    "ExecuteTime": {
     "end_time": "2018-04-28T01:24:42.188728Z",
     "start_time": "2018-04-28T01:24:42.184471Z"
    },
    "slideshow": {
     "slide_type": "subslide"
    }
   },
   "outputs": [
    {
     "data": {
      "text/plain": [
       "'utf-8'"
      ]
     },
     "execution_count": 37,
     "metadata": {},
     "output_type": "execute_result"
    }
   ],
   "source": [
    "content.encoding"
   ]
  },
  {
   "cell_type": "markdown",
   "metadata": {
    "slideshow": {
     "slide_type": "slide"
    }
   },
   "source": [
    "# Beautiful Soup\n",
    "> Beautiful Soup is a Python library designed for quick turnaround projects like screen-scraping. Three features make it powerful:\n",
    "\n",
    "- Beautiful Soup provides a few simple methods. It doesn't take much code to write an application\n",
    "- Beautiful Soup automatically converts incoming documents to Unicode and outgoing documents to UTF-8. Then you just have to specify the original encoding.\n",
    "- Beautiful Soup sits on top of popular Python parsers like `lxml` and `html5lib`.\n"
   ]
  },
  {
   "cell_type": "markdown",
   "metadata": {
    "slideshow": {
     "slide_type": "subslide"
    }
   },
   "source": [
    "# Install beautifulsoup4\n",
    "\n",
    "### open your terminal/cmd\n",
    "\n",
    "<del> $ pip install beautifulsoup4"
   ]
  },
  {
   "cell_type": "markdown",
   "metadata": {
    "slideshow": {
     "slide_type": "subslide"
    }
   },
   "source": [
    "# html.parser\n",
    "Beautiful Soup supports the html.parser included in Python’s standard library\n",
    "\n",
    "# lxml\n",
    "but it also supports a number of third-party Python parsers. One is the lxml parser `lxml`. Depending on your setup, you might install lxml with one of these commands:\n",
    "\n",
    "> $ apt-get install python-lxml\n",
    "\n",
    "> $ easy_install lxml\n",
    "\n",
    "> $ pip install lxml"
   ]
  },
  {
   "cell_type": "markdown",
   "metadata": {
    "slideshow": {
     "slide_type": "subslide"
    }
   },
   "source": [
    "# html5lib\n",
    "Another alternative is the pure-Python html5lib parser `html5lib`, which parses HTML the way a web browser does. Depending on your setup, you might install html5lib with one of these commands:\n",
    "\n",
    "> $ apt-get install python-html5lib\n",
    "\n",
    "> $ easy_install html5lib\n",
    "\n",
    "> $ pip install html5lib"
   ]
  },
  {
   "cell_type": "code",
   "execution_count": 38,
   "metadata": {
    "ExecuteTime": {
     "end_time": "2018-04-28T01:30:19.186582Z",
     "start_time": "2018-04-28T01:30:17.854680Z"
    },
    "slideshow": {
     "slide_type": "slide"
    }
   },
   "outputs": [
    {
     "data": {
      "text/plain": [
       "<html><head><title>The Dormouse's story</title></head>\n",
       "<body>\n",
       "<p class=\"title\"><b>The Dormouse's story</b></p>\n",
       "<p class=\"story\">Once upon a time there were three little sisters; and their names were\n",
       "<a class=\"sister\" href=\"http://example.com/elsie\" id=\"link1\">Elsie</a>,\n",
       "<a class=\"sister\" href=\"http://example.com/lacie\" id=\"link2\">Lacie</a> and\n",
       "<a class=\"sister\" href=\"http://example.com/tillie\" id=\"link3\">Tillie</a>;\n",
       "and they lived at the bottom of a well.</p>\n",
       "<p class=\"story\">...</p></body></html>"
      ]
     },
     "execution_count": 38,
     "metadata": {},
     "output_type": "execute_result"
    }
   ],
   "source": [
    "url = 'http://computational-class.github.io/bigdata/data/test.html'\n",
    "content = requests.get(url)\n",
    "content = content.text\n",
    "soup = BeautifulSoup(content, 'html.parser') \n",
    "soup"
   ]
  },
  {
   "cell_type": "code",
   "execution_count": 39,
   "metadata": {
    "ExecuteTime": {
     "end_time": "2018-04-28T01:30:26.695902Z",
     "start_time": "2018-04-28T01:30:26.692429Z"
    },
    "slideshow": {
     "slide_type": "subslide"
    }
   },
   "outputs": [
    {
     "name": "stdout",
     "output_type": "stream",
     "text": [
      "<html>\n",
      " <head>\n",
      "  <title>\n",
      "   The Dormouse's story\n",
      "  </title>\n",
      " </head>\n",
      " <body>\n",
      "  <p class=\"title\">\n",
      "   <b>\n",
      "    The Dormouse's story\n",
      "   </b>\n",
      "  </p>\n",
      "  <p class=\"story\">\n",
      "   Once upon a time there were three little sisters; and their names were\n",
      "   <a class=\"sister\" href=\"http://example.com/elsie\" id=\"link1\">\n",
      "    Elsie\n",
      "   </a>\n",
      "   ,\n",
      "   <a class=\"sister\" href=\"http://example.com/lacie\" id=\"link2\">\n",
      "    Lacie\n",
      "   </a>\n",
      "   and\n",
      "   <a class=\"sister\" href=\"http://example.com/tillie\" id=\"link3\">\n",
      "    Tillie\n",
      "   </a>\n",
      "   ;\n",
      "and they lived at the bottom of a well.\n",
      "  </p>\n",
      "  <p class=\"story\">\n",
      "   ...\n",
      "  </p>\n",
      " </body>\n",
      "</html>\n"
     ]
    }
   ],
   "source": [
    "print(soup.prettify())"
   ]
  },
  {
   "cell_type": "markdown",
   "metadata": {
    "slideshow": {
     "slide_type": "subslide"
    }
   },
   "source": [
    "- html\n",
    "    - head\n",
    "        - title\n",
    "    - body\n",
    "        - p (class = 'title', 'story' )\n",
    "            - a (class = 'sister')\n",
    "                - href/id"
   ]
  },
  {
   "cell_type": "markdown",
   "metadata": {
    "slideshow": {
     "slide_type": "slide"
    }
   },
   "source": [
    "# Select 方法\n",
    "\n",
    "\n",
    "- 标签名不加任何修饰\n",
    "- 类名前加点\n",
    "- id名前加 #\n",
    "\n",
    "我们也可以利用这种特性，使用soup.select()方法筛选元素，返回类型是 list"
   ]
  },
  {
   "cell_type": "markdown",
   "metadata": {
    "slideshow": {
     "slide_type": "subslide"
    }
   },
   "source": [
    "## Select方法三步骤\n",
    "\n",
    "- Inspect (检查)\n",
    "- Copy\n",
    "    - Copy Selector"
   ]
  },
  {
   "cell_type": "markdown",
   "metadata": {
    "slideshow": {
     "slide_type": "fragment"
    }
   },
   "source": [
    "- 鼠标选中标题`The Dormouse's story`, 右键检查Inspect\n",
    "- 鼠标移动到选中的源代码\n",
    "- 右键Copy-->Copy Selector \n",
    "\n",
    "`body > p.title > b`\n"
   ]
  },
  {
   "cell_type": "code",
   "execution_count": 8,
   "metadata": {
    "ExecuteTime": {
     "end_time": "2018-04-28T01:42:12.495531Z",
     "start_time": "2018-04-28T01:42:12.490908Z"
    },
    "slideshow": {
     "slide_type": "subslide"
    }
   },
   "outputs": [
    {
     "data": {
      "text/plain": [
       "[<b>The Dormouse's story</b>]"
      ]
     },
     "execution_count": 8,
     "metadata": {},
     "output_type": "execute_result"
    }
   ],
   "source": [
    "soup.select('body > p.title > b')#[0].text"
   ]
  },
  {
   "cell_type": "markdown",
   "metadata": {
    "slideshow": {
     "slide_type": "slide"
    }
   },
   "source": [
    "### Select 方法: 通过标签名查找"
   ]
  },
  {
   "cell_type": "code",
   "execution_count": 9,
   "metadata": {
    "slideshow": {
     "slide_type": "fragment"
    }
   },
   "outputs": [
    {
     "data": {
      "text/plain": [
       "[<title>The Dormouse's story</title>]"
      ]
     },
     "execution_count": 9,
     "metadata": {},
     "output_type": "execute_result"
    }
   ],
   "source": [
    "soup.select('title')"
   ]
  },
  {
   "cell_type": "code",
   "execution_count": 10,
   "metadata": {
    "slideshow": {
     "slide_type": "subslide"
    }
   },
   "outputs": [
    {
     "data": {
      "text/plain": [
       "[<a class=\"sister\" href=\"http://example.com/elsie\" id=\"link1\">Elsie</a>,\n",
       " <a class=\"sister\" href=\"http://example.com/lacie\" id=\"link2\">Lacie</a>,\n",
       " <a class=\"sister\" href=\"http://example.com/tillie\" id=\"link3\">Tillie</a>]"
      ]
     },
     "execution_count": 10,
     "metadata": {},
     "output_type": "execute_result"
    }
   ],
   "source": [
    "soup.select('a')"
   ]
  },
  {
   "cell_type": "code",
   "execution_count": 11,
   "metadata": {
    "slideshow": {
     "slide_type": "subslide"
    }
   },
   "outputs": [
    {
     "data": {
      "text/plain": [
       "[<b>The Dormouse's story</b>]"
      ]
     },
     "execution_count": 11,
     "metadata": {},
     "output_type": "execute_result"
    }
   ],
   "source": [
    "soup.select('b')"
   ]
  },
  {
   "cell_type": "markdown",
   "metadata": {
    "slideshow": {
     "slide_type": "slide"
    }
   },
   "source": [
    "### Select 方法: 通过类名查找"
   ]
  },
  {
   "cell_type": "code",
   "execution_count": 15,
   "metadata": {
    "slideshow": {
     "slide_type": "fragment"
    }
   },
   "outputs": [
    {
     "data": {
      "text/plain": [
       "[<p class=\"title\"><b>The Dormouse's story</b></p>]"
      ]
     },
     "execution_count": 15,
     "metadata": {},
     "output_type": "execute_result"
    }
   ],
   "source": [
    "soup.select('.title')"
   ]
  },
  {
   "cell_type": "code",
   "execution_count": 16,
   "metadata": {
    "slideshow": {
     "slide_type": "fragment"
    }
   },
   "outputs": [
    {
     "data": {
      "text/plain": [
       "[<a class=\"sister\" href=\"http://example.com/elsie\" id=\"link1\">Elsie</a>,\n",
       " <a class=\"sister\" href=\"http://example.com/lacie\" id=\"link2\">Lacie</a>,\n",
       " <a class=\"sister\" href=\"http://example.com/tillie\" id=\"link3\">Tillie</a>]"
      ]
     },
     "execution_count": 16,
     "metadata": {},
     "output_type": "execute_result"
    }
   ],
   "source": [
    "soup.select('.sister')"
   ]
  },
  {
   "cell_type": "code",
   "execution_count": 17,
   "metadata": {
    "slideshow": {
     "slide_type": "subslide"
    }
   },
   "outputs": [
    {
     "data": {
      "text/plain": [
       "[<p class=\"story\">Once upon a time there were three little sisters; and their names were\n",
       " <a class=\"sister\" href=\"http://example.com/elsie\" id=\"link1\">Elsie</a>,\n",
       " <a class=\"sister\" href=\"http://example.com/lacie\" id=\"link2\">Lacie</a> and\n",
       " <a class=\"sister\" href=\"http://example.com/tillie\" id=\"link3\">Tillie</a>;\n",
       " and they lived at the bottom of a well.</p>, <p class=\"story\">...</p>]"
      ]
     },
     "execution_count": 17,
     "metadata": {},
     "output_type": "execute_result"
    }
   ],
   "source": [
    "soup.select('.story')"
   ]
  },
  {
   "cell_type": "markdown",
   "metadata": {
    "slideshow": {
     "slide_type": "slide"
    }
   },
   "source": [
    "### Select 方法: 通过id名查找"
   ]
  },
  {
   "cell_type": "code",
   "execution_count": 18,
   "metadata": {
    "ExecuteTime": {
     "end_time": "2018-04-28T01:47:10.748294Z",
     "start_time": "2018-04-28T01:47:10.744095Z"
    },
    "slideshow": {
     "slide_type": "fragment"
    }
   },
   "outputs": [
    {
     "data": {
      "text/plain": [
       "[<a class=\"sister\" href=\"http://example.com/elsie\" id=\"link1\">Elsie</a>]"
      ]
     },
     "execution_count": 18,
     "metadata": {},
     "output_type": "execute_result"
    }
   ],
   "source": [
    "soup.select('#link1')"
   ]
  },
  {
   "cell_type": "code",
   "execution_count": 19,
   "metadata": {
    "ExecuteTime": {
     "end_time": "2018-04-28T01:47:48.186936Z",
     "start_time": "2018-04-28T01:47:48.182411Z"
    },
    "slideshow": {
     "slide_type": "fragment"
    }
   },
   "outputs": [
    {
     "data": {
      "text/plain": [
       "'http://example.com/elsie'"
      ]
     },
     "execution_count": 19,
     "metadata": {},
     "output_type": "execute_result"
    }
   ],
   "source": [
    "soup.select('#link1')[0]['href']"
   ]
  },
  {
   "cell_type": "markdown",
   "metadata": {
    "slideshow": {
     "slide_type": "slide"
    }
   },
   "source": [
    "### Select 方法: 组合查找\n",
    "\n",
    "将标签名、类名、id名进行组合\n",
    "\n",
    "- 例如查找 p 标签中，id 等于 link1的内容\n",
    " "
   ]
  },
  {
   "cell_type": "code",
   "execution_count": 20,
   "metadata": {
    "slideshow": {
     "slide_type": "fragment"
    }
   },
   "outputs": [
    {
     "data": {
      "text/plain": [
       "[<a class=\"sister\" href=\"http://example.com/elsie\" id=\"link1\">Elsie</a>]"
      ]
     },
     "execution_count": 20,
     "metadata": {},
     "output_type": "execute_result"
    }
   ],
   "source": [
    "soup.select('p #link1')"
   ]
  },
  {
   "cell_type": "markdown",
   "metadata": {
    "slideshow": {
     "slide_type": "slide"
    }
   },
   "source": [
    "### Select 方法:属性查找\n",
    "\n",
    "加入属性元素\n",
    "- 属性需要用中括号`>`连接\n",
    "- 属性和标签属于同一节点，中间不能加空格。\n",
    " \n",
    "\n"
   ]
  },
  {
   "cell_type": "code",
   "execution_count": 21,
   "metadata": {
    "ExecuteTime": {
     "end_time": "2018-04-28T01:50:13.268525Z",
     "start_time": "2018-04-28T01:50:13.264117Z"
    },
    "slideshow": {
     "slide_type": "subslide"
    }
   },
   "outputs": [
    {
     "data": {
      "text/plain": [
       "[<title>The Dormouse's story</title>]"
      ]
     },
     "execution_count": 21,
     "metadata": {},
     "output_type": "execute_result"
    }
   ],
   "source": [
    "soup.select(\"head > title\")"
   ]
  },
  {
   "cell_type": "code",
   "execution_count": 22,
   "metadata": {
    "slideshow": {
     "slide_type": "subslide"
    }
   },
   "outputs": [
    {
     "data": {
      "text/plain": [
       "[<p class=\"title\"><b>The Dormouse's story</b></p>,\n",
       " <p class=\"story\">Once upon a time there were three little sisters; and their names were\n",
       " <a class=\"sister\" href=\"http://example.com/elsie\" id=\"link1\">Elsie</a>,\n",
       " <a class=\"sister\" href=\"http://example.com/lacie\" id=\"link2\">Lacie</a> and\n",
       " <a class=\"sister\" href=\"http://example.com/tillie\" id=\"link3\">Tillie</a>;\n",
       " and they lived at the bottom of a well.</p>,\n",
       " <p class=\"story\">...</p>]"
      ]
     },
     "execution_count": 22,
     "metadata": {},
     "output_type": "execute_result"
    }
   ],
   "source": [
    "soup.select(\"body > p\")"
   ]
  },
  {
   "cell_type": "markdown",
   "metadata": {
    "slideshow": {
     "slide_type": "slide"
    }
   },
   "source": [
    "# find_all方法"
   ]
  },
  {
   "cell_type": "code",
   "execution_count": 23,
   "metadata": {
    "slideshow": {
     "slide_type": "subslide"
    }
   },
   "outputs": [
    {
     "data": {
      "text/plain": [
       "[<p class=\"title\"><b>The Dormouse's story</b></p>,\n",
       " <p class=\"story\">Once upon a time there were three little sisters; and their names were\n",
       " <a class=\"sister\" href=\"http://example.com/elsie\" id=\"link1\">Elsie</a>,\n",
       " <a class=\"sister\" href=\"http://example.com/lacie\" id=\"link2\">Lacie</a> and\n",
       " <a class=\"sister\" href=\"http://example.com/tillie\" id=\"link3\">Tillie</a>;\n",
       " and they lived at the bottom of a well.</p>,\n",
       " <p class=\"story\">...</p>]"
      ]
     },
     "execution_count": 23,
     "metadata": {},
     "output_type": "execute_result"
    }
   ],
   "source": [
    "soup('p')"
   ]
  },
  {
   "cell_type": "code",
   "execution_count": 24,
   "metadata": {
    "slideshow": {
     "slide_type": "subslide"
    }
   },
   "outputs": [
    {
     "data": {
      "text/plain": [
       "[<p class=\"title\"><b>The Dormouse's story</b></p>,\n",
       " <p class=\"story\">Once upon a time there were three little sisters; and their names were\n",
       " <a class=\"sister\" href=\"http://example.com/elsie\" id=\"link1\">Elsie</a>,\n",
       " <a class=\"sister\" href=\"http://example.com/lacie\" id=\"link2\">Lacie</a> and\n",
       " <a class=\"sister\" href=\"http://example.com/tillie\" id=\"link3\">Tillie</a>;\n",
       " and they lived at the bottom of a well.</p>,\n",
       " <p class=\"story\">...</p>]"
      ]
     },
     "execution_count": 24,
     "metadata": {},
     "output_type": "execute_result"
    }
   ],
   "source": [
    "soup.find_all('p')"
   ]
  },
  {
   "cell_type": "code",
   "execution_count": 25,
   "metadata": {
    "slideshow": {
     "slide_type": "subslide"
    }
   },
   "outputs": [
    {
     "data": {
      "text/plain": [
       "[\"The Dormouse's story\",\n",
       " 'Once upon a time there were three little sisters; and their names were\\nElsie,\\nLacie and\\nTillie;\\nand they lived at the bottom of a well.',\n",
       " '...']"
      ]
     },
     "execution_count": 25,
     "metadata": {},
     "output_type": "execute_result"
    }
   ],
   "source": [
    "[i.text for i in soup('p')]"
   ]
  },
  {
   "cell_type": "code",
   "execution_count": 26,
   "metadata": {
    "slideshow": {
     "slide_type": "subslide"
    }
   },
   "outputs": [
    {
     "name": "stdout",
     "output_type": "stream",
     "text": [
      "The Dormouse's story\n",
      "Once upon a time there were three little sisters; and their names were\n",
      "Elsie,\n",
      "Lacie and\n",
      "Tillie;\n",
      "and they lived at the bottom of a well.\n",
      "...\n"
     ]
    }
   ],
   "source": [
    "for i in soup('p'):\n",
    "    print(i.text)"
   ]
  },
  {
   "cell_type": "code",
   "execution_count": 27,
   "metadata": {
    "slideshow": {
     "slide_type": "subslide"
    }
   },
   "outputs": [
    {
     "name": "stdout",
     "output_type": "stream",
     "text": [
      "html\n",
      "head\n",
      "title\n",
      "body\n",
      "p\n",
      "b\n",
      "p\n",
      "a\n",
      "a\n",
      "a\n",
      "p\n"
     ]
    }
   ],
   "source": [
    "for tag in soup.find_all(True):\n",
    "    print(tag.name)"
   ]
  },
  {
   "cell_type": "code",
   "execution_count": 28,
   "metadata": {
    "slideshow": {
     "slide_type": "subslide"
    }
   },
   "outputs": [
    {
     "data": {
      "text/plain": [
       "[<head><title>The Dormouse's story</title></head>]"
      ]
     },
     "execution_count": 28,
     "metadata": {},
     "output_type": "execute_result"
    }
   ],
   "source": [
    "soup('head') # or soup.head"
   ]
  },
  {
   "cell_type": "code",
   "execution_count": 29,
   "metadata": {
    "slideshow": {
     "slide_type": "fragment"
    }
   },
   "outputs": [
    {
     "data": {
      "text/plain": [
       "[<body>\n",
       " <p class=\"title\"><b>The Dormouse's story</b></p>\n",
       " <p class=\"story\">Once upon a time there were three little sisters; and their names were\n",
       " <a class=\"sister\" href=\"http://example.com/elsie\" id=\"link1\">Elsie</a>,\n",
       " <a class=\"sister\" href=\"http://example.com/lacie\" id=\"link2\">Lacie</a> and\n",
       " <a class=\"sister\" href=\"http://example.com/tillie\" id=\"link3\">Tillie</a>;\n",
       " and they lived at the bottom of a well.</p>\n",
       " <p class=\"story\">...</p></body>]"
      ]
     },
     "execution_count": 29,
     "metadata": {},
     "output_type": "execute_result"
    }
   ],
   "source": [
    "soup('body') # or soup.body"
   ]
  },
  {
   "cell_type": "code",
   "execution_count": 30,
   "metadata": {
    "slideshow": {
     "slide_type": "fragment"
    }
   },
   "outputs": [
    {
     "data": {
      "text/plain": [
       "[<title>The Dormouse's story</title>]"
      ]
     },
     "execution_count": 30,
     "metadata": {},
     "output_type": "execute_result"
    }
   ],
   "source": [
    "soup('title')  # or  soup.title"
   ]
  },
  {
   "cell_type": "code",
   "execution_count": 31,
   "metadata": {
    "slideshow": {
     "slide_type": "fragment"
    }
   },
   "outputs": [
    {
     "data": {
      "text/plain": [
       "[<p class=\"title\"><b>The Dormouse's story</b></p>,\n",
       " <p class=\"story\">Once upon a time there were three little sisters; and their names were\n",
       " <a class=\"sister\" href=\"http://example.com/elsie\" id=\"link1\">Elsie</a>,\n",
       " <a class=\"sister\" href=\"http://example.com/lacie\" id=\"link2\">Lacie</a> and\n",
       " <a class=\"sister\" href=\"http://example.com/tillie\" id=\"link3\">Tillie</a>;\n",
       " and they lived at the bottom of a well.</p>,\n",
       " <p class=\"story\">...</p>]"
      ]
     },
     "execution_count": 31,
     "metadata": {},
     "output_type": "execute_result"
    }
   ],
   "source": [
    "soup('p')"
   ]
  },
  {
   "cell_type": "code",
   "execution_count": 40,
   "metadata": {
    "slideshow": {
     "slide_type": "fragment"
    }
   },
   "outputs": [
    {
     "data": {
      "text/plain": [
       "<p class=\"title\"><b>The Dormouse's story</b></p>"
      ]
     },
     "execution_count": 40,
     "metadata": {},
     "output_type": "execute_result"
    }
   ],
   "source": [
    "soup.p"
   ]
  },
  {
   "cell_type": "code",
   "execution_count": 41,
   "metadata": {
    "slideshow": {
     "slide_type": "subslide"
    }
   },
   "outputs": [
    {
     "data": {
      "text/plain": [
       "'title'"
      ]
     },
     "execution_count": 41,
     "metadata": {},
     "output_type": "execute_result"
    }
   ],
   "source": [
    "soup.title.name"
   ]
  },
  {
   "cell_type": "code",
   "execution_count": 42,
   "metadata": {
    "slideshow": {
     "slide_type": "fragment"
    }
   },
   "outputs": [
    {
     "data": {
      "text/plain": [
       "\"The Dormouse's story\""
      ]
     },
     "execution_count": 42,
     "metadata": {},
     "output_type": "execute_result"
    }
   ],
   "source": [
    "soup.title.string"
   ]
  },
  {
   "cell_type": "code",
   "execution_count": 43,
   "metadata": {
    "slideshow": {
     "slide_type": "fragment"
    }
   },
   "outputs": [
    {
     "data": {
      "text/plain": [
       "\"The Dormouse's story\""
      ]
     },
     "execution_count": 43,
     "metadata": {},
     "output_type": "execute_result"
    }
   ],
   "source": [
    "soup.title.text\n",
    "# 推荐使用text方法"
   ]
  },
  {
   "cell_type": "code",
   "execution_count": 44,
   "metadata": {
    "slideshow": {
     "slide_type": "fragment"
    }
   },
   "outputs": [
    {
     "data": {
      "text/plain": [
       "'head'"
      ]
     },
     "execution_count": 44,
     "metadata": {},
     "output_type": "execute_result"
    }
   ],
   "source": [
    "soup.title.parent.name"
   ]
  },
  {
   "cell_type": "code",
   "execution_count": 45,
   "metadata": {
    "slideshow": {
     "slide_type": "subslide"
    }
   },
   "outputs": [
    {
     "data": {
      "text/plain": [
       "<p class=\"title\"><b>The Dormouse's story</b></p>"
      ]
     },
     "execution_count": 45,
     "metadata": {},
     "output_type": "execute_result"
    }
   ],
   "source": [
    "soup.p"
   ]
  },
  {
   "cell_type": "code",
   "execution_count": 46,
   "metadata": {
    "slideshow": {
     "slide_type": "fragment"
    }
   },
   "outputs": [
    {
     "data": {
      "text/plain": [
       "['title']"
      ]
     },
     "execution_count": 46,
     "metadata": {},
     "output_type": "execute_result"
    }
   ],
   "source": [
    "soup.p['class']"
   ]
  },
  {
   "cell_type": "code",
   "execution_count": 47,
   "metadata": {
    "slideshow": {
     "slide_type": "fragment"
    }
   },
   "outputs": [
    {
     "data": {
      "text/plain": [
       "[<p class=\"title\"><b>The Dormouse's story</b></p>]"
      ]
     },
     "execution_count": 47,
     "metadata": {},
     "output_type": "execute_result"
    }
   ],
   "source": [
    "soup.find_all('p', {'class', 'title'})"
   ]
  },
  {
   "cell_type": "code",
   "execution_count": 19,
   "metadata": {
    "ExecuteTime": {
     "end_time": "2018-04-28T02:01:50.256831Z",
     "start_time": "2018-04-28T02:01:50.252029Z"
    },
    "slideshow": {
     "slide_type": "fragment"
    }
   },
   "outputs": [
    {
     "data": {
      "text/plain": [
       "\"The Dormouse's story\""
      ]
     },
     "execution_count": 19,
     "metadata": {},
     "output_type": "execute_result"
    }
   ],
   "source": [
    "soup.find_all('p', class_= 'title')"
   ]
  },
  {
   "cell_type": "code",
   "execution_count": 49,
   "metadata": {
    "slideshow": {
     "slide_type": "fragment"
    }
   },
   "outputs": [
    {
     "data": {
      "text/plain": [
       "[<p class=\"story\">Once upon a time there were three little sisters; and their names were\n",
       " <a class=\"sister\" href=\"http://example.com/elsie\" id=\"link1\">Elsie</a>,\n",
       " <a class=\"sister\" href=\"http://example.com/lacie\" id=\"link2\">Lacie</a> and\n",
       " <a class=\"sister\" href=\"http://example.com/tillie\" id=\"link3\">Tillie</a>;\n",
       " and they lived at the bottom of a well.</p>, <p class=\"story\">...</p>]"
      ]
     },
     "execution_count": 49,
     "metadata": {},
     "output_type": "execute_result"
    }
   ],
   "source": [
    "soup.find_all('p', {'class', 'story'})"
   ]
  },
  {
   "cell_type": "code",
   "execution_count": 34,
   "metadata": {
    "ExecuteTime": {
     "end_time": "2018-04-28T02:08:27.252239Z",
     "start_time": "2018-04-28T02:08:27.247016Z"
    },
    "slideshow": {
     "slide_type": "fragment"
    }
   },
   "outputs": [
    {
     "data": {
      "text/plain": [
       "[<a class=\"sister\" href=\"http://example.com/elsie\" id=\"link1\">Elsie</a>,\n",
       " <a class=\"sister\" href=\"http://example.com/lacie\" id=\"link2\">Lacie</a>,\n",
       " <a class=\"sister\" href=\"http://example.com/tillie\" id=\"link3\">Tillie</a>]"
      ]
     },
     "execution_count": 34,
     "metadata": {},
     "output_type": "execute_result"
    }
   ],
   "source": [
    "soup.find_all('p', {'class', 'story'})[0].find_all('a')"
   ]
  },
  {
   "cell_type": "code",
   "execution_count": 51,
   "metadata": {
    "slideshow": {
     "slide_type": "subslide"
    }
   },
   "outputs": [
    {
     "data": {
      "text/plain": [
       "<a class=\"sister\" href=\"http://example.com/elsie\" id=\"link1\">Elsie</a>"
      ]
     },
     "execution_count": 51,
     "metadata": {},
     "output_type": "execute_result"
    }
   ],
   "source": [
    "soup.a"
   ]
  },
  {
   "cell_type": "code",
   "execution_count": 52,
   "metadata": {
    "slideshow": {
     "slide_type": "fragment"
    }
   },
   "outputs": [
    {
     "data": {
      "text/plain": [
       "[<a class=\"sister\" href=\"http://example.com/elsie\" id=\"link1\">Elsie</a>,\n",
       " <a class=\"sister\" href=\"http://example.com/lacie\" id=\"link2\">Lacie</a>,\n",
       " <a class=\"sister\" href=\"http://example.com/tillie\" id=\"link3\">Tillie</a>]"
      ]
     },
     "execution_count": 52,
     "metadata": {},
     "output_type": "execute_result"
    }
   ],
   "source": [
    "soup('a')"
   ]
  },
  {
   "cell_type": "code",
   "execution_count": 53,
   "metadata": {
    "slideshow": {
     "slide_type": "fragment"
    }
   },
   "outputs": [
    {
     "data": {
      "text/plain": [
       "<a class=\"sister\" href=\"http://example.com/tillie\" id=\"link3\">Tillie</a>"
      ]
     },
     "execution_count": 53,
     "metadata": {},
     "output_type": "execute_result"
    }
   ],
   "source": [
    "soup.find(id=\"link3\")"
   ]
  },
  {
   "cell_type": "code",
   "execution_count": 54,
   "metadata": {
    "slideshow": {
     "slide_type": "fragment"
    }
   },
   "outputs": [
    {
     "data": {
      "text/plain": [
       "[<a class=\"sister\" href=\"http://example.com/elsie\" id=\"link1\">Elsie</a>,\n",
       " <a class=\"sister\" href=\"http://example.com/lacie\" id=\"link2\">Lacie</a>,\n",
       " <a class=\"sister\" href=\"http://example.com/tillie\" id=\"link3\">Tillie</a>]"
      ]
     },
     "execution_count": 54,
     "metadata": {},
     "output_type": "execute_result"
    }
   ],
   "source": [
    "soup.find_all('a')"
   ]
  },
  {
   "cell_type": "code",
   "execution_count": 55,
   "metadata": {
    "slideshow": {
     "slide_type": "fragment"
    }
   },
   "outputs": [
    {
     "data": {
      "text/plain": [
       "[<a class=\"sister\" href=\"http://example.com/elsie\" id=\"link1\">Elsie</a>,\n",
       " <a class=\"sister\" href=\"http://example.com/lacie\" id=\"link2\">Lacie</a>,\n",
       " <a class=\"sister\" href=\"http://example.com/tillie\" id=\"link3\">Tillie</a>]"
      ]
     },
     "execution_count": 55,
     "metadata": {},
     "output_type": "execute_result"
    }
   ],
   "source": [
    "soup.find_all('a', {'class', 'sister'}) # compare with soup.find_all('a')"
   ]
  },
  {
   "cell_type": "code",
   "execution_count": 56,
   "metadata": {
    "slideshow": {
     "slide_type": "subslide"
    }
   },
   "outputs": [
    {
     "data": {
      "text/plain": [
       "<a class=\"sister\" href=\"http://example.com/elsie\" id=\"link1\">Elsie</a>"
      ]
     },
     "execution_count": 56,
     "metadata": {},
     "output_type": "execute_result"
    }
   ],
   "source": [
    "soup.find_all('a', {'class', 'sister'})[0]"
   ]
  },
  {
   "cell_type": "code",
   "execution_count": 57,
   "metadata": {
    "slideshow": {
     "slide_type": "fragment"
    }
   },
   "outputs": [
    {
     "data": {
      "text/plain": [
       "'Elsie'"
      ]
     },
     "execution_count": 57,
     "metadata": {},
     "output_type": "execute_result"
    }
   ],
   "source": [
    "soup.find_all('a', {'class', 'sister'})[0].text"
   ]
  },
  {
   "cell_type": "code",
   "execution_count": 58,
   "metadata": {
    "slideshow": {
     "slide_type": "fragment"
    }
   },
   "outputs": [
    {
     "data": {
      "text/plain": [
       "'http://example.com/elsie'"
      ]
     },
     "execution_count": 58,
     "metadata": {},
     "output_type": "execute_result"
    }
   ],
   "source": [
    "soup.find_all('a', {'class', 'sister'})[0]['href']"
   ]
  },
  {
   "cell_type": "code",
   "execution_count": 59,
   "metadata": {
    "slideshow": {
     "slide_type": "fragment"
    }
   },
   "outputs": [
    {
     "data": {
      "text/plain": [
       "'link1'"
      ]
     },
     "execution_count": 59,
     "metadata": {},
     "output_type": "execute_result"
    }
   ],
   "source": [
    "soup.find_all('a', {'class', 'sister'})[0]['id']"
   ]
  },
  {
   "cell_type": "code",
   "execution_count": 71,
   "metadata": {
    "slideshow": {
     "slide_type": "subslide"
    }
   },
   "outputs": [
    {
     "data": {
      "text/plain": [
       "[<b>The Dormouse's story</b>,\n",
       " <a class=\"sister\" href=\"http://example.com/elsie\" id=\"link1\">Elsie</a>,\n",
       " <a class=\"sister\" href=\"http://example.com/lacie\" id=\"link2\">Lacie</a>,\n",
       " <a class=\"sister\" href=\"http://example.com/tillie\" id=\"link3\">Tillie</a>]"
      ]
     },
     "execution_count": 71,
     "metadata": {},
     "output_type": "execute_result"
    }
   ],
   "source": [
    "soup.find_all([\"a\", \"b\"])"
   ]
  },
  {
   "cell_type": "code",
   "execution_count": 38,
   "metadata": {
    "slideshow": {
     "slide_type": "subslide"
    }
   },
   "outputs": [
    {
     "name": "stdout",
     "output_type": "stream",
     "text": [
      "The Dormouse's story\n",
      "\n",
      "The Dormouse's story\n",
      "Once upon a time there were three little sisters; and their names were\n",
      "Elsie,\n",
      "Lacie and\n",
      "Tillie;\n",
      "and they lived at the bottom of a well.\n",
      "...\n"
     ]
    }
   ],
   "source": [
    "print(soup.get_text())"
   ]
  },
  {
   "cell_type": "markdown",
   "metadata": {
    "slideshow": {
     "slide_type": "slide"
    }
   },
   "source": [
    "***\n",
    "***\n",
    "# 数据抓取：\n",
    "   > # 抓取微信公众号文章内容\n",
    "***\n",
    "***\n",
    "\n",
    "王成军\n",
    "\n",
    "wangchengjun@nju.edu.cn\n",
    "\n",
    "计算传播网 http://computational-communication.com\n"
   ]
  },
  {
   "cell_type": "code",
   "execution_count": 32,
   "metadata": {
    "ExecuteTime": {
     "end_time": "2019-03-18T01:50:13.026416Z",
     "start_time": "2019-03-18T01:50:12.826750Z"
    },
    "scrolled": true,
    "slideshow": {
     "slide_type": "slide"
    }
   },
   "outputs": [
    {
     "data": {
      "text/html": [
       "<!DOCTYPE html>\n",
       "<html>\n",
       "    <head>\n",
       "        <meta http-equiv=\"Content-Type\" content=\"text/html; charset=utf-8\">\n",
       "<meta http-equiv=\"X-UA-Compatible\" content=\"IE=edge\">\n",
       "<meta name=\"viewport\" content=\"width=device-width,initial-scale=1.0,maximum-scale=1.0,user-scalable=0,viewport-fit=cover\">\n",
       "<link rel=\"shortcut icon\" type=\"image/x-icon\" href=\"//res.wx.qq.com/a/wx_fed/assets/res/NTI4MWU5.ico\">\n",
       "<link rel=\"mask-icon\" href=\"//res.wx.qq.com/a/wx_fed/assets/res/MjliNWVm.svg\" color=\"#4C4C4C\">\n",
       "<link rel=\"apple-touch-icon-precomposed\" href=\"//res.wx.qq.com/a/wx_fed/assets/res/OTE0YTAw.png\">\n",
       "<meta name=\"apple-mobile-web-app-capable\" content=\"yes\">\n",
       "<meta name=\"apple-mobile-web-app-status-bar-style\" content=\"black\">\n",
       "<meta name=\"format-detection\" content=\"telephone=no\">\n",
       "\n",
       "\n",
       "        \n",
       "\n",
       "  \n",
       "  <meta name=\"description\" content=\"2015年4月25日，尼泊尔发生8.1级地震，造成至少7000多人死亡，祖国派出救援机接国人回家，这一“先撤”行为被大量报道，上演了一出霸道总裁不由分说爱国民的新闻。\" />\n",
       "  <meta name=\"author\" content=\"南大新传院\">\n",
       "\n",
       "  \n",
       "  <meta property=\"og:title\" content=\"南大新传 | 微议题：地震中民族自豪—“中国人先撤”\" />\n",
       "  <meta property=\"og:url\" content=\"http://mp.weixin.qq.com/s?__biz=MzA3MjQ5MTE3OA==&amp;mid=206241627&amp;idx=1&amp;sn=471e59c6cf7c8dae452245dbea22c8f3#rd\" />\n",
       "  <meta property=\"og:image\" content=\"http://mmbiz.qpic.cn/mmbiz/LsWWX18C1X96vmarydNeesjbpKSicFcLuUW3p4Q3Toia7h8yErYuwkegnpnNk7r8YoADxjqCRbJOwoK65wpZmECQ/0?wx_fmt=jpeg\" />\n",
       "  <meta property=\"og:description\" content=\"2015年4月25日，尼泊尔发生8.1级地震，造成至少7000多人死亡，祖国派出救援机接国人回家，这一“先撤”行为被大量报道，上演了一出霸道总裁不由分说爱国民的新闻。\" />\n",
       "  <meta property=\"og:site_name\" content=\"微信公众平台\" />\n",
       "  <meta property=\"og:type\" content=\"article\" />\n",
       "  <meta property=\"og:article:author\" content=\"南大新传院\" />\n",
       "\n",
       "  \n",
       "  <meta property=\"twitter:card\" content=\"summary\" />\n",
       "  <meta property=\"twitter:image\" content=\"http://mmbiz.qpic.cn/mmbiz/LsWWX18C1X96vmarydNeesjbpKSicFcLuUW3p4Q3Toia7h8yErYuwkegnpnNk7r8YoADxjqCRbJOwoK65wpZmECQ/0?wx_fmt=jpeg\" />\n",
       "  <meta property=\"twitter:title\" content=\"南大新传 | 微议题：地震中民族自豪—“中国人先撤”\" />\n",
       "  <meta property=\"twitter:creator\" content=\"南大新传院\" />\n",
       "  <meta property=\"twitter:site\" content=\"微信公众平台\" />\n",
       "  <meta property=\"twitter:description\" content=\"2015年4月25日，尼泊尔发生8.1级地震，造成至少7000多人死亡，祖国派出救援机接国人回家，这一“先撤”行为被大量报道，上演了一出霸道总裁不由分说爱国民的新闻。\" />\n",
       "\n",
       "\n",
       "        <script nonce=\"426371908\" type=\"text/javascript\">\n",
       "            window.logs = {\n",
       "                pagetime: {}\n",
       "            };\n",
       "            window.logs.pagetime['html_begin'] = (+new Date());\n",
       "            window.LANG= \"zh_CN\"; \n",
       "        </script>\n",
       "        <title>\n",
       "</title>\n",
       "        \n",
       "<style>.radius_avatar{display:inline-block;background-color:#fff;padding:3px;border-radius:50%;-moz-border-radius:50%;-webkit-border-radius:50%;overflow:hidden;vertical-align:middle}.radius_avatar img{display:block;width:100%;height:100%;border-radius:50%;-moz-border-radius:50%;-webkit-border-radius:50%;background-color:#eee}.rich_media_inner{word-wrap:break-word;-webkit-hyphens:auto;-ms-hyphens:auto;hyphens:auto}.rich_media_area_primary{padding:20px 16px 12px;padding:calc(20px + constant(safe-area-inset-top)) calc(16px + constant(safe-area-inset-right)) 12px calc(16px + constant(safe-area-inset-left));padding:calc(20px + env(safe-area-inset-top)) calc(16px + env(safe-area-inset-right)) 12px calc(16px + env(safe-area-inset-left));background-color:#fafafa}.rich_media_area_primary.voice{padding-top:66px}.rich_media_area_primary .weui-loadmore_line .weui-loadmore__tips{color:rgba(0,0,0,0.3);background-color:#fafafa}.rich_media_area_extra{padding:0 16px 16px;padding:0 calc(16px + constant(safe-area-inset-right)) calc(16px + constant(safe-area-inset-bottom)) calc(16px + constant(safe-area-inset-left));padding:0 calc(16px + env(safe-area-inset-right)) calc(16px + env(safe-area-inset-bottom)) calc(16px + env(safe-area-inset-left))}.rich_media_extra{padding-top:30px}.mpda_bottom_container .rich_media_extra{padding-top:24px}.mpda_bottom_container .rich_media_extra .mpad_more_list{right:-10px}html{-ms-text-size-adjust:100%;-webkit-text-size-adjust:100%;line-height:1.6}body{-webkit-touch-callout:none;font-family:-apple-system-font,BlinkMacSystemFont,\"Helvetica Neue\",\"PingFang SC\",\"Hiragino Sans GB\",\"Microsoft YaHei UI\",\"Microsoft YaHei\",Arial,sans-serif;color:#333;background-color:#f2f2f2;letter-spacing:.034em}h1,h2,h3,h4,h5,h6{font-weight:400;font-size:16px}*{margin:0;padding:0}a{color:#576b95;text-decoration:none;-webkit-tap-highlight-color:rgba(0,0,0,0)}.rich_media_title{font-size:22px;line-height:1.4;margin-bottom:14px}@supports(-webkit-overflow-scrolling:touch){.rich_media_title{font-weight:700}}.rich_media_meta_list{margin-bottom:22px;line-height:20px;font-size:0;word-wrap:break-word;word-break:break-all}.rich_media_meta_list em{font-style:normal}.rich_media_meta{display:inline-block;vertical-align:middle;margin:0 10px 10px 0;font-size:15px;-webkit-tap-highlight-color:rgba(0,0,0,0)}.rich_media_meta.icon_appmsg_tag{margin-right:4px}.rich_media_meta.meta_tag_text{margin-right:0}.rich_media_meta_primary{display:block;margin-bottom:10px;font-size:15px}.meta_original_tag{padding:0 .5em;font-size:12px;line-height:1.4;background-color:#f2f2f2;color:#888}.meta_enterprise_tag img{width:30px;height:30px!important;display:block;position:relative;margin-top:-3px;border:0}.rich_media_meta_link{color:#576b95}.rich_media_meta_text{color:rgba(0,0,0,0.3)}.rich_media_meta_text.rich_media_meta_split{padding-left:10px}.rich_media_meta_text.rich_media_meta_split:before{position:absolute;top:50%;left:0;margin-top:-6px;content:' ';display:block;border-left:1px solid #888;width:200%;height:130%;box-sizing:border-box;-moz-box-sizing:border-box;-webkit-box-sizing:border-box;-webkit-transform:scale(0.5);transform:scale(0.5);-webkit-transform-origin:0 0;transform-origin:0 0}.rich_media_meta_text.article_modify_tag{position:relative}.rich_media_meta_nickname{position:relative}.rich_media_thumb_wrp{margin-bottom:6px}.rich_media_thumb_wrp .original_img_wrp{display:block}.rich_media_thumb{display:block;width:100%}.rich_media_content{overflow:hidden;color:#333;font-size:17px;word-wrap:break-word;-webkit-hyphens:auto;-ms-hyphens:auto;hyphens:auto;text-align:justify;position:relative;z-index:0}.rich_media_content *{max-width:100%!important;box-sizing:border-box!important;-webkit-box-sizing:border-box!important;word-wrap:break-word!important}.rich_media_content p{clear:both;min-height:1em}.rich_media_content em{font-style:italic}.rich_media_content fieldset{min-width:0}.rich_media_content .list-paddingleft-1,.rich_media_content .list-paddingleft-2,.rich_media_content .list-paddingleft-3{padding-left:2.2em}.rich_media_content .list-paddingleft-1 .list-paddingleft-2,.rich_media_content .list-paddingleft-2 .list-paddingleft-2,.rich_media_content .list-paddingleft-3 .list-paddingleft-2{padding-left:30px}.rich_media_content .list-paddingleft-1{padding-left:1.2em}.rich_media_content .list-paddingleft-3{padding-left:3.2em}.rich_media_content .code-snippet,.rich_media_content .code-snippet__fix{max-width:1000%!important}.rich_media_content .code-snippet *,.rich_media_content .code-snippet__fix *{max-width:1000%!important}.rich_media_content img{height:auto!important}@media screen and (min-width:1024px){.rich_media_area_primary_inner,.rich_media_area_extra_inner{max-width:677px;margin-left:auto;margin-right:auto}.rich_media_area_primary{padding-top:32px}}blockquote{padding-left:10px;border-left:3px solid #dbdbdb;color:rgba(0,0,0,0.5);font-size:15px;padding-top:4px;margin:1em 0}.blockquote_info{color:rgba(0,0,0,0.3);margin-top:1.1764705882352942em;word-wrap:break-word;-webkit-hyphens:auto;-ms-hyphens:auto;hyphens:auto}.blockquote_article{display:block}.appmsg_share_notice{font-size:16px;color:#888;position:relative;padding:1.25em 0;margin-bottom:1.75em}.appmsg_share_notice:before{content:\" \";position:absolute;left:0;top:0;right:0;height:1px;border-top:1px solid #dfdfdf;-webkit-transform-origin:0 0;transform-origin:0 0;-webkit-transform:scaleY(0.5);transform:scaleY(0.5)}.appmsg_share_notice:after{content:\" \";position:absolute;left:0;bottom:0;right:0;height:1px;border-bottom:1px solid #dfdfdf;-webkit-transform-origin:0 100%;transform-origin:0 100%;-webkit-transform:scaleY(0.5);transform:scaleY(0.5)}.appmsg_share_notice_hd{font-weight:700;padding-bottom:.2em}.dn{display:none}.qa__card{background-color:#fafafa;border-radius:4px;padding:20px;position:relative;margin:8px 0}.qa__card::before{content:\"\";display:block;position:absolute;width:24px;height:24px;background-size:cover;background-image:url(\"data:image/svg+xml;charset=utf8,%3Csvg xmlns='http://www.w3.org/2000/svg' xmlns:xlink='http://www.w3.org/1999/xlink' width='24' height='24' viewBox='0 0 24 24'%3E  %3Cdefs%3E    %3Cpath id='5857326e-0388-4946-90a6-c4e335712b3a-a' d='M14.706 12.611l-.147.004c-.461 0-.748-.362-.568-.767a.945.945 0 0 1 .663-.533c.652-.158 1.09-.662 1.09-1.245 0-.705-.682-1.289-1.545-1.289-.862 0-1.546.584-1.546 1.29v3.859c0 1.426-1.269 2.57-2.826 2.57C8.269 16.5 7 15.356 7 13.93c0-1.252.984-2.316 2.338-2.52h.103c.35 0 .615.221.615.538a.573.573 0 0 1-.007.107.429.429 0 0 1-.04.123c-.107.25-.373.46-.663.533-.648.156-1.09.658-1.09 1.219 0 .705.682 1.289 1.545 1.289.862 0 1.546-.584 1.546-1.29V10.07c0-1.426 1.269-2.57 2.826-2.57C15.731 7.5 17 8.644 17 10.07c0 1.257-.96 2.31-2.294 2.541z'/%3E  %3C/defs%3E  %3Cg fill='none' fill-rule='evenodd'%3E    %3Cpath fill='%23FFF' fill-opacity='.9' stroke='%23000' stroke-opacity='.05' stroke-width='.5' d='M12 22.75c5.937 0 10.75-4.813 10.75-10.75S17.937 1.25 12 1.25 1.25 6.063 1.25 12 6.063 22.75 12 22.75z'/%3E    %3Cuse fill='%236467F0' xlink:href='%235857326e-0388-4946-90a6-c4e335712b3a-a'/%3E    %3Cuse fill='%23FFF' fill-opacity='.2' xlink:href='%235857326e-0388-4946-90a6-c4e335712b3a-a'/%3E  %3C/g%3E%3C/svg%3E\");right:8px;top:8px}.qa__card-hd{font-size:14px;color:rgba(0,0,0,0.5);margin-bottom:8px}.qa__card-hd span{margin-right:5px}.qa__card-desc{line-height:24px;overflow:hidden;text-overflow:ellipsis;display:-webkit-box;-webkit-line-clamp:2;-webkit-box-orient:vertical}.qa__card-bd{margin-bottom:12px}.qa__card-bd:last-child{margin-bottom:0}.qa__card-ft{font-size:14px;color:rgba(0,0,0,0.5)}.qa__card-ft span{margin-right:12px}.qa__card-theme{font-size:18px;font-weight:500;line-height:30.8px}.qa__icon-qa{display:inline-block;vertical-align:-4px;width:20px;height:20px;background-size:cover;background-image:url(\"data:image/svg+xml;charset=utf8,%3Csvg xmlns='http://www.w3.org/2000/svg' width='20' height='20' viewBox='0 0 20 20'%3E  %3Cg fill='%23F7F7F7'%3E    %3Cpath d='M11.938 16.083l-.007.102a.75.75 0 0 1-.743.648H9.562a.75.75 0 0 1-.75-.75h3.126zm0-2.5l-.007.102a.75.75 0 0 1-.642.641l-.101.007H9.562a.75.75 0 0 1-.743-.648l-.007-.102h3.126zm-1.563-10.25a5.375 5.375 0 0 1 4.341 8.545l-.159.207-.583-.472a4.625 4.625 0 1 0-7.363-.216l.158.208-.584.47a5.375 5.375 0 0 1 4.19-8.742z'/%3E    %3Cpath d='M10.453 6.833c.6 0 1.088.16 1.444.497.347.319.525.76.525 1.322 0 .422-.122.788-.347 1.097-.094.112-.356.356-.769.722a1.882 1.882 0 0 0-.431.506 1.34 1.34 0 0 0-.178.694v.215h-.76v-.215c0-.31.057-.581.179-.816.122-.281.44-.637.947-1.087.15-.15.253-.263.318-.338.178-.234.272-.478.272-.74 0-.375-.103-.666-.31-.872-.224-.225-.534-.328-.927-.328-.46 0-.807.15-1.041.459-.197.262-.3.619-.3 1.078h-.75c0-.656.188-1.181.553-1.575.384-.412.91-.619 1.575-.619z'/%3E  %3C/g%3E%3C/svg%3E\")}.weui-btn_primary.qa__btn{position:absolute;right:15px;bottom:20px;width:111px;padding:8px 0}.qa__card_v2 .weui-btn_primary.qa__btn{bottom:32px}.qa__card_v2 .qa__card-bd{margin-bottom:6px}.qa__card-content{display:-webkit-box;display:-webkit-flex;display:flex;-webkit-box-align:center;-webkit-align-items:center;align-items:center}.qa__card-avatar{width:48px;height:48px;border-radius:50%;overflow:hidden;margin-right:8px;-webkit-flex-shrink:0;flex-shrink:0}.qa__card-avatar img{width:100%}.qa__card-main{overflow:hidden;-webkit-box-flex:1;-webkit-flex:1;flex:1}.qa__card-main-name{font-weight:500;line-height:27.2px;margin-bottom:2px;margin-right:120px;white-space:nowrap;text-overflow:ellipsis;overflow:hidden}.qa__card-main-info{font-size:14px;color:rgba(0,0,0,0.5);line-height:17px}.qa__card-main-info span{margin-right:5px}.qa__card_v3{padding:21px 16px}.code-snippet{margin:10px 0;display:block;overflow-x:auto;font-size:14px;padding:1em 1em 1em 3em;color:#333;position:relative;background-color:#fafafa;border:1px solid #f0f0f0;border-radius:2px;counter-reset:line;white-space:normal;-webkit-overflow-scrolling:touch}.code-snippet code{text-align:left;font-size:14px;display:block;white-space:pre-wrap;position:relative;font-family:Consolas,\"Liberation Mono\",Menlo,Courier,monospace}.code-snippet code::before{position:absolute;min-width:1.5em;text-align:right;left:-2.5em;counter-increment:line;content:counter(line);display:inline;margin-right:12px;color:rgba(0,0,0,0.15)}.code-snippet_nowrap code{white-space:pre;display:-webkit-box;display:-webkit-flex;display:flex}.code-snippet__fix{font-size:14px;margin:10px 0;display:block;color:#333;position:relative;background-color:rgba(0,0,0,0.03);border:1px solid #f0f0f0;border-radius:2px;display:-webkit-box;display:-webkit-flex;display:flex;line-height:26px}.code-snippet__fix pre{overflow-x:auto;padding:1em;padding-left:0;white-space:normal;-webkit-box-flex:1;-webkit-flex:1;flex:1;-webkit-overflow-scrolling:touch}.code-snippet__fix code{text-align:left;font-size:14px;display:block;white-space:pre;display:-webkit-box;display:-webkit-flex;display:flex;position:relative;font-family:Consolas,\"Liberation Mono\",Menlo,Courier,monospace}.code-snippet__fix .code-snippet__line-index{counter-reset:line;-webkit-flex-shrink:0;flex-shrink:0;height:100%;padding:1em;list-style-type:none}.code-snippet__fix .code-snippet__line-index li{list-style-type:none;text-align:right}.code-snippet__fix .code-snippet__line-index li::before{min-width:1.5em;text-align:right;left:-2.5em;counter-increment:line;content:counter(line);display:inline;color:rgba(0,0,0,0.15)}.code-snippet__comment,.code-snippet__quote{color:#afafaf;font-style:italic}.code-snippet__keyword,.code-snippet__selector-tag,.code-snippet__subst{color:#ca7d37}.code-snippet__number,.code-snippet__literal,.code-snippet__variable,.code-snippet__template-variable,.code-snippet__tag .code-snippet__attr{color:#0e9ce5}.code-snippet__string,.code-snippet__doctag{color:#d14}.code-snippet__title,.code-snippet__section,.code-snippet__selector-id{color:#d14}.code-snippet__subst{font-weight:normal}.code-snippet__type,.code-snippet__class .code-snippet__title{color:#0e9ce5}.code-snippet__tag,.code-snippet__name,.code-snippet__attribute{color:#0e9ce5;font-weight:normal}.code-snippet__regexp,.code-snippet__link{color:#ca7d37}.code-snippet__symbol,.code-snippet__bullet{color:#d14}.code-snippet__built_in,.code-snippet__builtin-name{color:#ca7d37}.code-snippet__meta{color:#afafaf}.code-snippet__deletion{background:#fdd}.code-snippet__addition{background:#dfd}.code-snippet__emphasis{font-style:italic}.code-snippet__strong{font-weight:bold}.cell{padding:.8em 0;display:block;position:relative}.cell_hd,.cell_bd,.cell_ft{display:table-cell;vertical-align:middle;word-wrap:break-word;word-break:break-all;white-space:nowrap}.cell_primary{width:2000px;white-space:normal}.flex_cell{padding:10px 0;display:-webkit-box;display:-webkit-flex;display:flex;-webkit-box-align:center;-webkit-align-items:center;align-items:center}.flex_cell_primary{width:100%;-webkit-box-flex:1;-webkit-flex:1;box-flex:1;flex:1}.original_tool_area{display:block;padding:.75em 1em 0;-webkit-tap-highlight-color:rgba(0,0,0,0);color:#333;border:1px solid #eaeaea;margin:20px 0}.original_tool_area .tips_global{position:relative;padding-bottom:.5em;font-size:15px}.original_tool_area .tips_global:after{content:\" \";position:absolute;left:0;bottom:0;right:0;height:1px;border-bottom:1px solid #dbdbdb;-webkit-transform-origin:0 100%;transform-origin:0 100%;-webkit-transform:scaleY(0.5);transform:scaleY(0.5)}.original_tool_area .radius_avatar{width:27px;height:27px;padding:0;margin-right:.5em}.original_tool_area .radius_avatar img{height:100%!important}.original_tool_area .flex_cell_bd{width:auto;overflow:hidden;text-overflow:ellipsis;white-space:nowrap;word-wrap:normal}.original_tool_area .flex_cell_ft{font-size:14px;color:#888;padding-left:1em;white-space:nowrap}.original_tool_area .icon_access:after{content:\" \";display:inline-block;height:8px;width:8px;border-width:1px 1px 0 0;border-color:#cbcad0;border-style:solid;transform:matrix(0.71,0.71,-0.71,0.71,0,0);-ms-transform:matrix(0.71,0.71,-0.71,0.71,0,0);-webkit-transform:matrix(0.71,0.71,-0.71,0.71,0,0);position:relative;top:-2px;top:-1px}.rich_media_global_msg{position:fixed;top:0;left:0;right:0;padding:.85em 35px .85em 15px;z-index:2;background-color:#c6e0f8;color:#888;font-size:12px}.rich_media_global_msg .icon_closed{position:absolute;right:15px;top:50%;margin-top:-5px;line-height:300px;overflow:hidden;-webkit-tap-highlight-color:rgba(0,0,0,0);background:transparent url(//res.wx.qq.com/mmbizwap/zh_CN/htmledition/images/icon/appmsg/icon_appmsg_msg_closed_sprite.2x42f400.png) no-repeat 0 0;width:11px;height:11px;vertical-align:middle;display:inline-block;background-size:100% auto}.rich_media_global_msg .icon_closed:active{background-position:0 -17px}.rich_media_global_msg.voice{color:#1aad19;background-color:#e8f6e8;padding-left:43.3px;overflow:hidden;text-overflow:ellipsis;white-space:nowrap}.rich_media_global_msg.voice .ic_voice{position:absolute;top:50%;margin-top:-10px;left:15px;display:inline-block;width:13.3px;height:18.3px;background:url(data:image/png;base64,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) no-repeat center;background-size:contain}.rich_media_global_msg.voice .icon_more{position:absolute;right:15px;top:50%;margin-top:-6.5px;width:8px;height:13px;background:url(data:image/png;base64,iVBORw0KGgoAAAANSUhEUgAAABgAAAAmCAYAAADeB1slAAAAAXNSR0IArs4c6QAAA49JREFUSA2tVk1IVFEUPveOmhQk1ibfvLFZSJtACqJIIpCIoB+imcFV2Z9ZUVnRomgRGFn2i6mFf5XVotCZMYmgIMhlq6BFENFiwjfPAosgFzXOvNu5o3fmeue98Y16F3PP+c453/fu/xCQmvZSWwwJaC0G6P8WND9IoTmbVFRycpqAdgBWkwRo94V960RsPn1aoPpN9RI6CR0WsDWcjAErtUiqTR/S18+HnNcSTv5zYrwDSatVMgLkH6aciwfj79WYW5+OT4xfsyPnBIgvwt872qBW45ZQzaMlJXCfMPJbDQgfRUoIhduVUW2TwArpaWyX+bnYU9JAAH44FaJIccqCW76Ib7NTjhOOvFPN/8q/IvE3cR+npFJgao9rkiSUXjD2GCNqzMnPbNPYjth3mqINlJAvTsk4kiJmWa3eQe8WpxwVzwjwgFFn/CorL29EkY9qovC5CFDrKq7JVoHl6zNTJCf53/lLk78SN/FcbJRx2cZCixC4ZATGXsu4as8YgQjGamN/q5atOotn4K3A1J4BUMbgsh7Wt6sx2bcV4AkjtSPJxkDjRQL0hVwg21zEglSzN+rdKeOybTtFcgK39ajWZDFWr+IZHxfGQ8mV0YA5nMGmDVcCPNcb8R5gYJ1UCWQfp6PFCI4NyZhrAV6EIiHGrPOAB0ImkW2c0la8u8ICc0wUCWrvC1dsw+3TnN6uanDaJ4zeiIfiA9wtWIAX8XspxeA6iuBlaN88hNzCNXk+JwFOuXJYW5tMQmc+EcqgzXGb2n9XFk1NstX5yKczl89JAF+6vRaBM1m5XAu//qkRGrtb8BThTtqH2/V0LmUWwbvsiREw8X0vcJHxxNbjNm3KUuVaMjmPFuWm2CPesHc/kp+yj06hFMhj/PIOOcfVFLk6xZT0G3vMTpmc27MusityZk/OBfKOwA05MPLIDJn3OJldcxTQotpBYOyEXVEWIw/NoInvuHOznSJfVDs0GzneNw9mI+eyOSPQI9phfCqPO38TFhHaFw/Eu/LliNiMESB5w6zkzD05F8mMYJr8mFC263Fa+vAadvXloj4toEcrjlgMjgrQrseHpBcfkm67WD6M6MN6lTWZeoZjyYxGLcB57MGnsEfF3fjU2G189QBpcUqmBLrnSs4504s8GjLxrwm5qYrg3dKFf6x6VbwQ3yOS/wz8+bS0ruwfELaBY2nyoNkn4gvW65GKRn4WForwP+dONHDaOHeZAAAAAElFTkSuQmCC) no-repeat center;background-size:contain}.preview_appmsg .rich_media_title{margin-top:2.3em}@media screen and (min-width:1024px){.rich_media_global_msg{position:relative;margin-bottom:32px}.preview_appmsg .rich_media_title.rich_media_title{margin-top:0}}.pages_reset{color:#333;line-height:1.6;font-size:16px;font-weight:400;font-style:normal;text-indent:0;letter-spacing:normal;text-align:left;text-decoration:none;white-space:normal}.weapp_element,.weapp_display_element,.mp-miniprogram{display:block;margin:1em 0}.share_audio_context{margin:16px 0}.weapp_text_link{font-size:17px}.weapp_text_link:before{content:'';display:inline-block;line-height:1;background-size:contain;background-repeat:no-repeat;background-image:url('data:image/png;base64,iVBORw0KGgoAAAANSUhEUgAAACgAAAAoCAYAAACM/rhtAAAAAXNSR0IArs4c6QAAB4RJREFUWAm1WUuMFGUQnn7szL5mdvbh7GwgEQUlS1weiagxxpigiUZeJgY1cMMDcDCGG8GLCWZvxHjh4BWUeDEsejBBEzWYKBBEiHAABBfCMOwsuzvszrvb+v6Zb7amt1ce0Up6qv6q+qq+/rv778dYkUeUqamp5dFodJPv++ts205blpX2PG8I5cTOiLol44zYZ8vl8vFkMnnlUVpZDwPK5/MpIbWrVqttFlLD0jwiBEHIaNbCGKJjQvai+I9Xq9VD8Xg8y9z76QcimM1mu3t6ej4UYh84jtOFxhBNJGxskhp5xIielZ37bHp6+tNUKnWPOYvp+xKcm5t7S4gclKIpFNGzsmjRkBnUOwNbZjQrtfZ2dnZ+vVgd+O1/CVqlUukjIXZYCqZADBuEJIllc4xh61zmaB9s7LDkHkYPwJgX1KEEx8fHO2TmjkjyPgLQmERIAjHajGnyjDGPOfQ3xvvQCz3ZS+sw5hYAsodbWBhNw4SNGCMBnR/MYS60jskhPyaHe7u4W5otmEGZ8v0gx2YsyDE0bc4Wx8glOe2Dn2No2hqPnuiNXC0tM9i4IA5LcksjNm0BNs417aMNAsRom3HoMD8wsu3QF06TIJaSRCJxXrDmamUBrVEYRejDmDY0JEgsLE4f8mkTj6tb1tsRLkEukiBY56Q4rizThI2okaNtjFlUx+Cr1vzIyTMz7uW/ik4mV7Yd24oMDrR5q1Z01Nav6a5yVsLwcvRS4CI1D5ge+MEdQhbgC1yECSQhjMNsYCGMQ2dzFeuLYxOxibuVBec3cpekY7XtWwZK8a75sMajj2yzcsd5BnccM4PCeg/JoQjJwAY4TFgUMeRjXK54kS/H6uR6e1xvw4vJyuNLYh5yrt8s2d//MtV2M1Nyvvo2F9u5LVUSJEJNPPtKrS7XdXdL6GOzG+LYqIJNUiShYyRDjRw2OXnmnntnsmInE663e3u6uHZVZy2ZsH1sa4Y7ant2DBURu3aj6Jz9c9YBVuNRhz6pvwlju1gsPikzaG78CKIxNgh1sAj91MhFztXrRQf2C+vi1Y721tMC/vZYPQb78rWCE8Tr/uCEJyZbrprNAAST4QOAIGj6qBnDGPjZgmeS0gNRc1jD8D1xx+y978/XJh4awl54nHOl8Do6STKoDarxg5gmxpj2yTEwbtZhDvSlKwUzy+lU1NPxFvz8EcSzpnnYXDCD3AtqFtOFGNM+kMBYx+DzPD/y86m8e+7SnBON2v7qlR01ncP6Gg9uriSlGSSAYyTDhl/7bmTK9tXxkj3ydFetL4lTqT5jyIdgTB/0qT9m3R9/zbvT+Yottfw3XuktJxP1Q61rh/QfcuUcHBKmzcIwdCILQE/crVpHj9+JZe7U17hSyau89lJPxYDVD3KJm5qpWWMnJqMIY+nZvKGv/NQT7ebwcicI5RhYiHBLYx30WQxObWNMyQm5Q0cy7ULK6up0/PUj3dWXn48bckEMGrGZkPJ3bhssunLmLR2qXzyIacxitvT2XZm9jABWMEmD6QPJYzILILdyeWf13Y39ZTSEMAeaQpuxZUujHn26fhCPmI6Dmy0OvIE1AyyqfYWiH7n6d9GJxWz/7df7FpBjLjQETag1Me1HPKxXwJfByXeLRViUYGiI3F/NSYr1raPdNoXh594S75nVT1Z/mUz6kAfhGJp2EI887gRy5Bw0M/g7ndQI0gZISJkpyU6WbTm7m8RYELnFkh+ZnK4/qCTiWF4XXtk6X5NkLjX7iz4rh9keAxBODaKNWKrf9Qd627yC3Cm++2m6DbHWYpHI2Im7UfFZqf6oN9DrmAsPWIquH8QjR8dRG2O88JszW56kTwvRYSayOYtD37xdsT8/ejtWq/nWsqXttdXDHdW+RNTHY9Vv5/IuTgPHtfxd7w0V04/V1ziND5IiCeTofsyTw3tRnqyfNY9b8qg1JkktXwo0EKAlg23eO2/2l7/5YaoNTyPYNIFEt6xxr/aVQQ75QTxJkEBYnDFocEKOqYQHVnn+uiCBLji1IBnCBiVZ+U6fv+dmshV7cqpq9fY4/tBg1HtudXe1zeyuRs9fHMRrEvQBQT9smb1Z+YphHljr3cWJF2gB7NOENAhAjrWGP9iIPuZhDOFYa/hD8KOxWOyAweAHEnxpqnvrvyyofbQZg4boZsEcjrUO4mX2Wl6a6jdhQeAtSoJ70YDNoIMFwmJoqImF5Wgf8jHGRhx0Y9vLNzrkNQligPdRuZpHgyDEKIixMPMQow82/dC04YdgzFwdg0+2Uf1OjPzmOYhBQ6xCoYCX9626WDOo9pqNqHUO7IfBy0XxYJ8+UHdiYuJ9AHQT2GGiycHmmLNDkmFY+JCPXrlcbqcMW28/iCNpEcHnt/3SwHzhQiEIG5JAGDYsN8yHGjil5Ir9BKVDa4U5ta/xveagNDCfRBhDQ5JczEaujhHb0FlclMFzLpDTepEEgxijAL6VSCNcPLPw6aa0oSEgTZsx+GFjwyIsenRmZmbkfuQMDj8PKrjjyCHZIw02im7eGokHAQhnFjZ8GAux/+8jOhoFhX9DCIG1EsPfD9jMC5j4/rO/If4BCiyOk7IAfLMAAAAASUVORK5CYII=');vertical-align:middle;font-size:11px;color:#888;margin-right:4px;margin-top:-3px;background-position:center;height:20px;width:20px}.weapp_text_link:empty{display:none}.flex_context{display:-webkit-box;display:-webkit-flex;display:flex;-webkit-box-align:center;-webkit-align-items:center;align-items:center}.flex_bd{-webkit-box-flex:1;-webkit-flex:1;flex:1;word-wrap:break-word;word-break:break-all}.original_page{background-color:#fff;font-size:16px}.account_info{padding:0 0 20px}.account_info .flex_bd{padding-left:.85em}.radius_avatar.account_avatar{width:28px;height:28px;padding:0}.account_nickname{overflow:hidden;text-overflow:ellipsis;display:-webkit-box;-webkit-box-orient:vertical;-webkit-line-clamp:1;line-height:1.2;color:#576b95;font-size:14px}.account_nickname_inner{font-weight:400;vertical-align:top}.account_desc{overflow:hidden;text-overflow:ellipsis;display:-webkit-box;-webkit-box-orient:vertical;-webkit-line-clamp:1;color:#b2b2b2;font-size:13px;line-height:1.2;padding-top:.3em}.account_desc_inner{display:inline;vertical-align:top}.share_notice{margin-bottom:16px;word-wrap:break-word;-webkit-hyphens:auto;-ms-hyphens:auto;hyphens:auto}.share_media{padding-bottom:18px}.original_panel{padding:20px;background-color:#fcfcfc;word-wrap:break-word;-webkit-hyphens:auto;-ms-hyphens:auto;hyphens:auto;overflow:hidden;position:relative}.original_panel .original_account{margin-bottom:18px;position:relative;z-index:1}.original_panel .original_account_avatar{width:28px;height:28px;padding:0}.original_panel .original_account_nickname{padding-left:.85em;font-size:15px;color:rgba(0,0,0,0.5)}.original_panel_title{font-size:23px;color:#000;margin:0 0 16px}.original_panel_content{color:#333}.original_panel_tool{padding-top:20px;position:relative;z-index:1}.original_area_primary{margin-bottom:24px;font-size:15px}.original_primary_tips{padding:0 16px 32px;color:rgba(0,0,0,0.5)}.original_primary_tips p:first-child{font-weight:700;padding-bottom:8px;line-height:1.4}.original_primary_card_tips{line-height:1.4;color:rgba(0,0,0,0.3)}.original_primary_card{padding:20px 16px;margin-top:16px;border-radius:8px;background-color:rgba(0,0,0,0.03);line-height:1.4;-webkit-box-align:center;-webkit-align-items:center;align-items:center}.original_primary_card:active{background-color:rgba(0,0,0,0.06)}.original_primary_card .radius_avatar{padding:0;width:40px;height:40px;margin-right:12px;vertical-align:middle}.original_primary_card .weui-flex__item{min-width:0}.original_primary_card .weui-flex__ft{position:relative;padding-right:24px}.original_primary_card .weui-flex__ft:after{content:\"\";font-size:10px;background:transparent url(\"data:image/svg+xml;charset=utf8, %3Csvg width='10' height='20' viewBox='0 0 10 20' xmlns='http://www.w3.org/2000/svg' xmlns:xlink='http://www.w3.org/1999/xlink'%3E%3Cdefs%3E%3Cpath d='M6.323 10.358l-.884.884L.623 6.426a.83.83 0 0 1 0-1.177L5.44.433l.884.884-4.52 4.52 4.52 4.521z' id='a'/%3E%3C/defs%3E%3Cuse fill='%23000' transform='rotate(-180 4.184 7.921)' xlink:href='%23a' fill-rule='evenodd' opacity='.2' /%3E%3C/svg%3E\") 0 0 no-repeat;background-size:1em;width:1em;height:2em;position:absolute;right:0;top:50%;margin-top:-1em}.original_primary_nickname{color:rgba(0,0,0,0.9);font-size:17px;font-weight:700;width:auto;overflow:hidden;text-overflow:ellipsis;white-space:nowrap;word-wrap:normal;display:block}.original_primary_desc{color:rgba(0,0,0,0.5);font-size:14px;padding-top:4px;width:auto;overflow:hidden;text-overflow:ellipsis;white-space:nowrap;word-wrap:normal}[class^=\"weui-icon-\"],[class*=\" weui-icon-\"]{display:inline-block;vertical-align:middle;width:24px;height:24px;-webkit-mask-position:50% 50%;mask-position:50% 50%;-webkit-mask-repeat:no-repeat;mask-repeat:no-repeat;-webkit-mask-size:100%;mask-size:100%;background-color:currentColor}.weui-icon-circle{-webkit-mask-image:url(data:image/svg+xml,%3Csvg%20width%3D%221000%22%20height%3D%221000%22%20xmlns%3D%22http%3A%2F%2Fwww.w3.org%2F2000%2Fsvg%22%3E%3Cpath%20d%3D%22M500%20916.667C269.881%20916.667%2083.333%20730.119%2083.333%20500%2083.333%20269.881%20269.881%2083.333%20500%2083.333c230.119%200%20416.667%20186.548%20416.667%20416.667%200%20230.119-186.548%20416.667-416.667%20416.667zm0-50c202.504%200%20366.667-164.163%20366.667-366.667%200-202.504-164.163-366.667-366.667-366.667-202.504%200-366.667%20164.163-366.667%20366.667%200%20202.504%20164.163%20366.667%20366.667%20366.667z%22%20fill-rule%3D%22evenodd%22%20fill-opacity%3D%22.9%22%2F%3E%3C%2Fsvg%3E);mask-image:url(data:image/svg+xml,%3Csvg%20width%3D%221000%22%20height%3D%221000%22%20xmlns%3D%22http%3A%2F%2Fwww.w3.org%2F2000%2Fsvg%22%3E%3Cpath%20d%3D%22M500%20916.667C269.881%20916.667%2083.333%20730.119%2083.333%20500%2083.333%20269.881%20269.881%2083.333%20500%2083.333c230.119%200%20416.667%20186.548%20416.667%20416.667%200%20230.119-186.548%20416.667-416.667%20416.667zm0-50c202.504%200%20366.667-164.163%20366.667-366.667%200-202.504-164.163-366.667-366.667-366.667-202.504%200-366.667%20164.163-366.667%20366.667%200%20202.504%20164.163%20366.667%20366.667%20366.667z%22%20fill-rule%3D%22evenodd%22%20fill-opacity%3D%22.9%22%2F%3E%3C%2Fsvg%3E)}.weui-icon-download{-webkit-mask-image:url(data:image/svg+xml,%3Csvg%20width%3D%2224%22%20height%3D%2224%22%20xmlns%3D%22http%3A%2F%2Fwww.w3.org%2F2000%2Fsvg%22%3E%3Cpath%20d%3D%22M11.25%2012.04l-1.72-1.72-1.06%201.06%202.828%202.83a1%201%200%20001.414-.001l2.828-2.828-1.06-1.061-1.73%201.73V7h-1.5v5.04zm0-5.04V2h1.5v5h6.251c.55%200%20.999.446.999.996v13.008a.998.998%200%2001-.996.996H4.996A.998.998%200%20014%2021.004V7.996A1%201%200%20014.999%207h6.251z%22%2F%3E%3C%2Fsvg%3E);mask-image:url(data:image/svg+xml,%3Csvg%20width%3D%2224%22%20height%3D%2224%22%20xmlns%3D%22http%3A%2F%2Fwww.w3.org%2F2000%2Fsvg%22%3E%3Cpath%20d%3D%22M11.25%2012.04l-1.72-1.72-1.06%201.06%202.828%202.83a1%201%200%20001.414-.001l2.828-2.828-1.06-1.061-1.73%201.73V7h-1.5v5.04zm0-5.04V2h1.5v5h6.251c.55%200%20.999.446.999.996v13.008a.998.998%200%2001-.996.996H4.996A.998.998%200%20014%2021.004V7.996A1%201%200%20014.999%207h6.251z%22%2F%3E%3C%2Fsvg%3E)}.weui-icon-info{-webkit-mask-image:url(data:image/svg+xml,%3Csvg%20width%3D%2224%22%20height%3D%2224%22%20xmlns%3D%22http%3A%2F%2Fwww.w3.org%2F2000%2Fsvg%22%3E%3Cpath%20d%3D%22M12%2022C6.477%2022%202%2017.523%202%2012S6.477%202%2012%202s10%204.477%2010%2010-4.477%2010-10%2010zm-.75-12v7h1.5v-7h-1.5zM12%209a1%201%200%20100-2%201%201%200%20000%202z%22%2F%3E%3C%2Fsvg%3E);mask-image:url(data:image/svg+xml,%3Csvg%20width%3D%2224%22%20height%3D%2224%22%20xmlns%3D%22http%3A%2F%2Fwww.w3.org%2F2000%2Fsvg%22%3E%3Cpath%20d%3D%22M12%2022C6.477%2022%202%2017.523%202%2012S6.477%202%2012%202s10%204.477%2010%2010-4.477%2010-10%2010zm-.75-12v7h1.5v-7h-1.5zM12%209a1%201%200%20100-2%201%201%200%20000%202z%22%2F%3E%3C%2Fsvg%3E)}.weui-icon-safe-success{-webkit-mask-image:url(data:image/svg+xml,%3Csvg%20xmlns%3D%22http%3A%2F%2Fwww.w3.org%2F2000%2Fsvg%22%20viewBox%3D%220%200%201000%201000%22%3E%3Cpath%20d%3D%22M500.9%204.6C315.5%2046.7%20180.4%2093.1%2057.6%20132c0%20129.3.2%20231.7.2%20339.7%200%20304.2%20248.3%20471.6%20443.1%20523.7C695.7%20943.3%20944%20775.9%20944%20471.7c0-108%20.2-210.4.2-339.7C821.4%2093.1%20686.3%2046.7%20500.9%204.6zm248.3%20349.1l-299.7%20295c-2.1%202-5.3%202-7.4-.1L304.4%20506.1c-2-2.1-2.3-5.7-.6-8l18.3-24.9c1.7-2.3%205-2.8%207.2-1l112.2%2086c2.3%201.8%206%201.7%208.1-.1l274.7-228.9c2.2-1.8%205.7-1.7%207.7.3l17%2016.8c2.2%202.1%202.2%205.3.2%207.4z%22%20fill-rule%3D%22evenodd%22%20clip-rule%3D%22evenodd%22%20fill%3D%22%23070202%22%2F%3E%3C%2Fsvg%3E);mask-image:url(data:image/svg+xml,%3Csvg%20xmlns%3D%22http%3A%2F%2Fwww.w3.org%2F2000%2Fsvg%22%20viewBox%3D%220%200%201000%201000%22%3E%3Cpath%20d%3D%22M500.9%204.6C315.5%2046.7%20180.4%2093.1%2057.6%20132c0%20129.3.2%20231.7.2%20339.7%200%20304.2%20248.3%20471.6%20443.1%20523.7C695.7%20943.3%20944%20775.9%20944%20471.7c0-108%20.2-210.4.2-339.7C821.4%2093.1%20686.3%2046.7%20500.9%204.6zm248.3%20349.1l-299.7%20295c-2.1%202-5.3%202-7.4-.1L304.4%20506.1c-2-2.1-2.3-5.7-.6-8l18.3-24.9c1.7-2.3%205-2.8%207.2-1l112.2%2086c2.3%201.8%206%201.7%208.1-.1l274.7-228.9c2.2-1.8%205.7-1.7%207.7.3l17%2016.8c2.2%202.1%202.2%205.3.2%207.4z%22%20fill-rule%3D%22evenodd%22%20clip-rule%3D%22evenodd%22%20fill%3D%22%23070202%22%2F%3E%3C%2Fsvg%3E)}.weui-icon-safe-warn{-webkit-mask-image:url(data:image/svg+xml,%3Csvg%20xmlns%3D%22http%3A%2F%2Fwww.w3.org%2F2000%2Fsvg%22%20viewBox%3D%220%200%201000%201000%22%3E%3Cpath%20d%3D%22M500.9%204.5c-185.4%2042-320.4%2088.4-443.2%20127.3%200%20129.3.2%20231.7.2%20339.6%200%20304.1%20248.2%20471.4%20443%20523.6%20194.7-52.2%20443-219.5%20443-523.6%200-107.9.2-210.3.2-339.6C821.3%2092.9%20686.2%2046.5%20500.9%204.5zm-26.1%20271.1h52.1c5.8%200%2010.3%204.7%2010.1%2010.4l-11.6%20313.8c-.1%202.8-2.5%205.2-5.4%205.2h-38.2c-2.9%200-5.3-2.3-5.4-5.2L464.8%20286c-.2-5.8%204.3-10.4%2010-10.4zm26.1%20448.3c-20.2%200-36.5-16.3-36.5-36.5s16.3-36.5%2036.5-36.5%2036.5%2016.3%2036.5%2036.5-16.4%2036.5-36.5%2036.5z%22%20fill-rule%3D%22evenodd%22%20clip-rule%3D%22evenodd%22%20fill%3D%22%23020202%22%2F%3E%3C%2Fsvg%3E);mask-image:url(data:image/svg+xml,%3Csvg%20xmlns%3D%22http%3A%2F%2Fwww.w3.org%2F2000%2Fsvg%22%20viewBox%3D%220%200%201000%201000%22%3E%3Cpath%20d%3D%22M500.9%204.5c-185.4%2042-320.4%2088.4-443.2%20127.3%200%20129.3.2%20231.7.2%20339.6%200%20304.1%20248.2%20471.4%20443%20523.6%20194.7-52.2%20443-219.5%20443-523.6%200-107.9.2-210.3.2-339.6C821.3%2092.9%20686.2%2046.5%20500.9%204.5zm-26.1%20271.1h52.1c5.8%200%2010.3%204.7%2010.1%2010.4l-11.6%20313.8c-.1%202.8-2.5%205.2-5.4%205.2h-38.2c-2.9%200-5.3-2.3-5.4-5.2L464.8%20286c-.2-5.8%204.3-10.4%2010-10.4zm26.1%20448.3c-20.2%200-36.5-16.3-36.5-36.5s16.3-36.5%2036.5-36.5%2036.5%2016.3%2036.5%2036.5-16.4%2036.5-36.5%2036.5z%22%20fill-rule%3D%22evenodd%22%20clip-rule%3D%22evenodd%22%20fill%3D%22%23020202%22%2F%3E%3C%2Fsvg%3E)}.weui-icon-success{-webkit-mask-image:url(data:image/svg+xml,%3Csvg%20width%3D%2224%22%20height%3D%2224%22%20xmlns%3D%22http%3A%2F%2Fwww.w3.org%2F2000%2Fsvg%22%3E%3Cpath%20d%3D%22M12%2022C6.477%2022%202%2017.523%202%2012S6.477%202%2012%202s10%204.477%2010%2010-4.477%2010-10%2010zm-1.177-7.86l-2.765-2.767L7%2012.431l3.119%203.121a1%201%200%20001.414%200l5.952-5.95-1.062-1.062-5.6%205.6z%22%2F%3E%3C%2Fsvg%3E);mask-image:url(data:image/svg+xml,%3Csvg%20width%3D%2224%22%20height%3D%2224%22%20xmlns%3D%22http%3A%2F%2Fwww.w3.org%2F2000%2Fsvg%22%3E%3Cpath%20d%3D%22M12%2022C6.477%2022%202%2017.523%202%2012S6.477%202%2012%202s10%204.477%2010%2010-4.477%2010-10%2010zm-1.177-7.86l-2.765-2.767L7%2012.431l3.119%203.121a1%201%200%20001.414%200l5.952-5.95-1.062-1.062-5.6%205.6z%22%2F%3E%3C%2Fsvg%3E)}.weui-icon-success-circle{-webkit-mask-image:url(data:image/svg+xml,%3Csvg%20width%3D%2224%22%20height%3D%2224%22%20xmlns%3D%22http%3A%2F%2Fwww.w3.org%2F2000%2Fsvg%22%3E%3Cpath%20d%3D%22M12%2022C6.477%2022%202%2017.523%202%2012S6.477%202%2012%202s10%204.477%2010%2010-4.477%2010-10%2010zm0-1.2a8.8%208.8%200%20100-17.6%208.8%208.8%200%20000%2017.6zm-1.172-6.242l5.809-5.808.848.849-5.95%205.95a1%201%200%2001-1.414%200L7%2012.426l.849-.849%202.98%202.98z%22%2F%3E%3C%2Fsvg%3E);mask-image:url(data:image/svg+xml,%3Csvg%20width%3D%2224%22%20height%3D%2224%22%20xmlns%3D%22http%3A%2F%2Fwww.w3.org%2F2000%2Fsvg%22%3E%3Cpath%20d%3D%22M12%2022C6.477%2022%202%2017.523%202%2012S6.477%202%2012%202s10%204.477%2010%2010-4.477%2010-10%2010zm0-1.2a8.8%208.8%200%20100-17.6%208.8%208.8%200%20000%2017.6zm-1.172-6.242l5.809-5.808.848.849-5.95%205.95a1%201%200%2001-1.414%200L7%2012.426l.849-.849%202.98%202.98z%22%2F%3E%3C%2Fsvg%3E)}.weui-icon-success-no-circle{-webkit-mask-image:url(data:image/svg+xml,%3Csvg%20width%3D%2224%22%20height%3D%2224%22%20xmlns%3D%22http%3A%2F%2Fwww.w3.org%2F2000%2Fsvg%22%3E%3Cpath%20d%3D%22M8.657%2018.435L3%2012.778l1.414-1.414%204.95%204.95L20.678%205l1.414%201.414-12.02%2012.021a1%201%200%2001-1.415%200z%22%20fill-rule%3D%22evenodd%22%2F%3E%3C%2Fsvg%3E);mask-image:url(data:image/svg+xml,%3Csvg%20width%3D%2224%22%20height%3D%2224%22%20xmlns%3D%22http%3A%2F%2Fwww.w3.org%2F2000%2Fsvg%22%3E%3Cpath%20d%3D%22M8.657%2018.435L3%2012.778l1.414-1.414%204.95%204.95L20.678%205l1.414%201.414-12.02%2012.021a1%201%200%2001-1.415%200z%22%20fill-rule%3D%22evenodd%22%2F%3E%3C%2Fsvg%3E)}.weui-icon-waiting{-webkit-mask-image:url(data:image/svg+xml,%3Csvg%20width%3D%2224%22%20height%3D%2224%22%20xmlns%3D%22http%3A%2F%2Fwww.w3.org%2F2000%2Fsvg%22%3E%3Cpath%20d%3D%22M12.75%2011.38V6h-1.5v6l4.243%204.243%201.06-1.06-3.803-3.804zM12%2022C6.477%2022%202%2017.523%202%2012S6.477%202%2012%202s10%204.477%2010%2010-4.477%2010-10%2010z%22%20fill-rule%3D%22evenodd%22%2F%3E%3C%2Fsvg%3E);mask-image:url(data:image/svg+xml,%3Csvg%20width%3D%2224%22%20height%3D%2224%22%20xmlns%3D%22http%3A%2F%2Fwww.w3.org%2F2000%2Fsvg%22%3E%3Cpath%20d%3D%22M12.75%2011.38V6h-1.5v6l4.243%204.243%201.06-1.06-3.803-3.804zM12%2022C6.477%2022%202%2017.523%202%2012S6.477%202%2012%202s10%204.477%2010%2010-4.477%2010-10%2010z%22%20fill-rule%3D%22evenodd%22%2F%3E%3C%2Fsvg%3E)}.weui-icon-waiting-circle{-webkit-mask-image:url(data:image/svg+xml,%3Csvg%20width%3D%2224%22%20height%3D%2224%22%20xmlns%3D%22http%3A%2F%2Fwww.w3.org%2F2000%2Fsvg%22%3E%3Cpath%20d%3D%22M12.6%2011.503l3.891%203.891-.848.849L11.4%2012V6h1.2v5.503zM12%2022C6.477%2022%202%2017.523%202%2012S6.477%202%2012%202s10%204.477%2010%2010-4.477%2010-10%2010zm0-1.2a8.8%208.8%200%20100-17.6%208.8%208.8%200%20000%2017.6z%22%2F%3E%3C%2Fsvg%3E);mask-image:url(data:image/svg+xml,%3Csvg%20width%3D%2224%22%20height%3D%2224%22%20xmlns%3D%22http%3A%2F%2Fwww.w3.org%2F2000%2Fsvg%22%3E%3Cpath%20d%3D%22M12.6%2011.503l3.891%203.891-.848.849L11.4%2012V6h1.2v5.503zM12%2022C6.477%2022%202%2017.523%202%2012S6.477%202%2012%202s10%204.477%2010%2010-4.477%2010-10%2010zm0-1.2a8.8%208.8%200%20100-17.6%208.8%208.8%200%20000%2017.6z%22%2F%3E%3C%2Fsvg%3E)}.weui-icon-warn{-webkit-mask-image:url(data:image/svg+xml,%3Csvg%20width%3D%2224%22%20height%3D%2224%22%20xmlns%3D%22http%3A%2F%2Fwww.w3.org%2F2000%2Fsvg%22%3E%3Cpath%20d%3D%22M12%2022C6.477%2022%202%2017.523%202%2012S6.477%202%2012%202s10%204.477%2010%2010-4.477%2010-10%2010zm-.763-15.864l.11%207.596h1.305l.11-7.596h-1.525zm.759%2010.967c.512%200%20.902-.383.902-.882%200-.5-.39-.882-.902-.882a.878.878%200%2000-.896.882c0%20.499.396.882.896.882z%22%2F%3E%3C%2Fsvg%3E);mask-image:url(data:image/svg+xml,%3Csvg%20width%3D%2224%22%20height%3D%2224%22%20xmlns%3D%22http%3A%2F%2Fwww.w3.org%2F2000%2Fsvg%22%3E%3Cpath%20d%3D%22M12%2022C6.477%2022%202%2017.523%202%2012S6.477%202%2012%202s10%204.477%2010%2010-4.477%2010-10%2010zm-.763-15.864l.11%207.596h1.305l.11-7.596h-1.525zm.759%2010.967c.512%200%20.902-.383.902-.882%200-.5-.39-.882-.902-.882a.878.878%200%2000-.896.882c0%20.499.396.882.896.882z%22%2F%3E%3C%2Fsvg%3E)}.weui-icon-info-circle{-webkit-mask-image:url(data:image/svg+xml,%3Csvg%20width%3D%2224%22%20height%3D%2224%22%20xmlns%3D%22http%3A%2F%2Fwww.w3.org%2F2000%2Fsvg%22%3E%3Cpath%20d%3D%22M12%2022C6.477%2022%202%2017.523%202%2012S6.477%202%2012%202s10%204.477%2010%2010-4.477%2010-10%2010zm0-1.2a8.8%208.8%200%20100-17.6%208.8%208.8%200%20000%2017.6zM11.4%2010h1.2v7h-1.2v-7zm.6-1a1%201%200%20110-2%201%201%200%20010%202z%22%2F%3E%3C%2Fsvg%3E);mask-image:url(data:image/svg+xml,%3Csvg%20width%3D%2224%22%20height%3D%2224%22%20xmlns%3D%22http%3A%2F%2Fwww.w3.org%2F2000%2Fsvg%22%3E%3Cpath%20d%3D%22M12%2022C6.477%2022%202%2017.523%202%2012S6.477%202%2012%202s10%204.477%2010%2010-4.477%2010-10%2010zm0-1.2a8.8%208.8%200%20100-17.6%208.8%208.8%200%20000%2017.6zM11.4%2010h1.2v7h-1.2v-7zm.6-1a1%201%200%20110-2%201%201%200%20010%202z%22%2F%3E%3C%2Fsvg%3E)}.weui-icon-cancel{-webkit-mask-image:url(data:image/svg+xml,%3Csvg%20width%3D%2224%22%20height%3D%2224%22%20xmlns%3D%22http%3A%2F%2Fwww.w3.org%2F2000%2Fsvg%22%3E%3Cg%20fill-rule%3D%22evenodd%22%3E%3Cpath%20d%3D%22M12%2022C6.477%2022%202%2017.523%202%2012S6.477%202%2012%202s10%204.477%2010%2010-4.477%2010-10%2010zm0-1.2a8.8%208.8%200%20100-17.6%208.8%208.8%200%20000%2017.6z%22%20fill-rule%3D%22nonzero%22%2F%3E%3Cpath%20d%3D%22M12.849%2012l3.11%203.111-.848.849L12%2012.849l-3.111%203.11-.849-.848L11.151%2012l-3.11-3.111.848-.849L12%2011.151l3.111-3.11.849.848L12.849%2012z%22%2F%3E%3C%2Fg%3E%3C%2Fsvg%3E);mask-image:url(data:image/svg+xml,%3Csvg%20width%3D%2224%22%20height%3D%2224%22%20xmlns%3D%22http%3A%2F%2Fwww.w3.org%2F2000%2Fsvg%22%3E%3Cg%20fill-rule%3D%22evenodd%22%3E%3Cpath%20d%3D%22M12%2022C6.477%2022%202%2017.523%202%2012S6.477%202%2012%202s10%204.477%2010%2010-4.477%2010-10%2010zm0-1.2a8.8%208.8%200%20100-17.6%208.8%208.8%200%20000%2017.6z%22%20fill-rule%3D%22nonzero%22%2F%3E%3Cpath%20d%3D%22M12.849%2012l3.11%203.111-.848.849L12%2012.849l-3.111%203.11-.849-.848L11.151%2012l-3.11-3.111.848-.849L12%2011.151l3.111-3.11.849.848L12.849%2012z%22%2F%3E%3C%2Fg%3E%3C%2Fsvg%3E)}.weui-icon-search{-webkit-mask-image:url(data:image/svg+xml,%3Csvg%20width%3D%2224%22%20height%3D%2224%22%20xmlns%3D%22http%3A%2F%2Fwww.w3.org%2F2000%2Fsvg%22%3E%3Cpath%20d%3D%22M16.31%2015.561l4.114%204.115-.848.848-4.123-4.123a7%207%200%2011.857-.84zM16.8%2011a5.8%205.8%200%2010-11.6%200%205.8%205.8%200%200011.6%200z%22%20fill-rule%3D%22evenodd%22%2F%3E%3C%2Fsvg%3E);mask-image:url(data:image/svg+xml,%3Csvg%20width%3D%2224%22%20height%3D%2224%22%20xmlns%3D%22http%3A%2F%2Fwww.w3.org%2F2000%2Fsvg%22%3E%3Cpath%20d%3D%22M16.31%2015.561l4.114%204.115-.848.848-4.123-4.123a7%207%200%2011.857-.84zM16.8%2011a5.8%205.8%200%2010-11.6%200%205.8%205.8%200%200011.6%200z%22%20fill-rule%3D%22evenodd%22%2F%3E%3C%2Fsvg%3E)}.weui-icon-clear{-webkit-mask-image:url(data:image/svg+xml,%3Csvg%20width%3D%2224%22%20height%3D%2224%22%20xmlns%3D%22http%3A%2F%2Fwww.w3.org%2F2000%2Fsvg%22%3E%3Cpath%20d%3D%22M13.06%2012l3.006-3.005-1.06-1.06L12%2010.938%208.995%207.934l-1.06%201.06L10.938%2012l-3.005%203.005%201.06%201.06L12%2013.062l3.005%203.005%201.06-1.06L13.062%2012zM12%2022C6.477%2022%202%2017.523%202%2012S6.477%202%2012%202s10%204.477%2010%2010-4.477%2010-10%2010z%22%2F%3E%3C%2Fsvg%3E);mask-image:url(data:image/svg+xml,%3Csvg%20width%3D%2224%22%20height%3D%2224%22%20xmlns%3D%22http%3A%2F%2Fwww.w3.org%2F2000%2Fsvg%22%3E%3Cpath%20d%3D%22M13.06%2012l3.006-3.005-1.06-1.06L12%2010.938%208.995%207.934l-1.06%201.06L10.938%2012l-3.005%203.005%201.06%201.06L12%2013.062l3.005%203.005%201.06-1.06L13.062%2012zM12%2022C6.477%2022%202%2017.523%202%2012S6.477%202%2012%202s10%204.477%2010%2010-4.477%2010-10%2010z%22%2F%3E%3C%2Fsvg%3E)}.weui-icon-back{-webkit-mask-image:url(data:image/svg+xml,%3Csvg%20width%3D%2224%22%20height%3D%2224%22%20xmlns%3D%22http%3A%2F%2Fwww.w3.org%2F2000%2Fsvg%22%3E%3Cpath%20d%3D%22M12%2022C6.477%2022%202%2017.523%202%2012S6.477%202%2012%202s10%204.477%2010%2010-4.477%2010-10%2010zm1.999-6.563L10.68%2012%2014%208.562%2012.953%207.5%209.29%2011.277a1.045%201.045%200%20000%201.446l3.663%203.777L14%2015.437z%22%20fill-rule%3D%22evenodd%22%2F%3E%3C%2Fsvg%3E);mask-image:url(data:image/svg+xml,%3Csvg%20width%3D%2224%22%20height%3D%2224%22%20xmlns%3D%22http%3A%2F%2Fwww.w3.org%2F2000%2Fsvg%22%3E%3Cpath%20d%3D%22M12%2022C6.477%2022%202%2017.523%202%2012S6.477%202%2012%202s10%204.477%2010%2010-4.477%2010-10%2010zm1.999-6.563L10.68%2012%2014%208.562%2012.953%207.5%209.29%2011.277a1.045%201.045%200%20000%201.446l3.663%203.777L14%2015.437z%22%20fill-rule%3D%22evenodd%22%2F%3E%3C%2Fsvg%3E)}.weui-icon-delete{-webkit-mask-image:url(data:image/svg+xml,%3Csvg%20width%3D%2224%22%20height%3D%2224%22%20xmlns%3D%22http%3A%2F%2Fwww.w3.org%2F2000%2Fsvg%22%3E%3Cpath%20d%3D%22M6.774%206.4l.812%2013.648a.8.8%200%2000.798.752h7.232a.8.8%200%2000.798-.752L17.226%206.4H6.774zm11.655%200l-.817%2013.719A2%202%200%200115.616%2022H8.384a2%202%200%2001-1.996-1.881L5.571%206.4H3.5v-.7a.5.5%200%2001.5-.5h16a.5.5%200%2001.5.5v.7h-2.071zM14%203a.5.5%200%2001.5.5v.7h-5v-.7A.5.5%200%200110%203h4zM9.5%209h1.2l.5%209H10l-.5-9zm3.8%200h1.2l-.5%209h-1.2l.5-9z%22%2F%3E%3C%2Fsvg%3E);mask-image:url(data:image/svg+xml,%3Csvg%20width%3D%2224%22%20height%3D%2224%22%20xmlns%3D%22http%3A%2F%2Fwww.w3.org%2F2000%2Fsvg%22%3E%3Cpath%20d%3D%22M6.774%206.4l.812%2013.648a.8.8%200%2000.798.752h7.232a.8.8%200%2000.798-.752L17.226%206.4H6.774zm11.655%200l-.817%2013.719A2%202%200%200115.616%2022H8.384a2%202%200%2001-1.996-1.881L5.571%206.4H3.5v-.7a.5.5%200%2001.5-.5h16a.5.5%200%2001.5.5v.7h-2.071zM14%203a.5.5%200%2001.5.5v.7h-5v-.7A.5.5%200%200110%203h4zM9.5%209h1.2l.5%209H10l-.5-9zm3.8%200h1.2l-.5%209h-1.2l.5-9z%22%2F%3E%3C%2Fsvg%3E)}.weui-icon-success-no-circle-thin{-webkit-mask-image:url(data:image/svg+xml,%3Csvg%20width%3D%2224%22%20height%3D%2224%22%20xmlns%3D%22http%3A%2F%2Fwww.w3.org%2F2000%2Fsvg%22%3E%3Cpath%20d%3D%22M8.864%2016.617l-5.303-5.303-1.061%201.06%205.657%205.657a1%201%200%20001.414%200L21.238%206.364l-1.06-1.06L8.864%2016.616z%22%20fill-rule%3D%22evenodd%22%2F%3E%3C%2Fsvg%3E);mask-image:url(data:image/svg+xml,%3Csvg%20width%3D%2224%22%20height%3D%2224%22%20xmlns%3D%22http%3A%2F%2Fwww.w3.org%2F2000%2Fsvg%22%3E%3Cpath%20d%3D%22M8.864%2016.617l-5.303-5.303-1.061%201.06%205.657%205.657a1%201%200%20001.414%200L21.238%206.364l-1.06-1.06L8.864%2016.616z%22%20fill-rule%3D%22evenodd%22%2F%3E%3C%2Fsvg%3E)}.weui-icon-arrow{-webkit-mask-image:url(data:image/svg+xml,%3Csvg%20width%3D%2212%22%20height%3D%2224%22%20xmlns%3D%22http%3A%2F%2Fwww.w3.org%2F2000%2Fsvg%22%3E%3Cpath%20d%3D%22M2.454%206.58l1.06-1.06%205.78%205.779a.996.996%200%20010%201.413l-5.78%205.779-1.06-1.061%205.425-5.425-5.425-5.424z%22%20fill%3D%22%23B2B2B2%22%20fill-rule%3D%22evenodd%22%2F%3E%3C%2Fsvg%3E);mask-image:url(data:image/svg+xml,%3Csvg%20width%3D%2212%22%20height%3D%2224%22%20xmlns%3D%22http%3A%2F%2Fwww.w3.org%2F2000%2Fsvg%22%3E%3Cpath%20d%3D%22M2.454%206.58l1.06-1.06%205.78%205.779a.996.996%200%20010%201.413l-5.78%205.779-1.06-1.061%205.425-5.425-5.425-5.424z%22%20fill%3D%22%23B2B2B2%22%20fill-rule%3D%22evenodd%22%2F%3E%3C%2Fsvg%3E)}.weui-icon-arrow-bold{-webkit-mask-image:url(data:image/svg+xml,%3Csvg%20height%3D%2224%22%20width%3D%2212%22%20xmlns%3D%22http%3A%2F%2Fwww.w3.org%2F2000%2Fsvg%22%3E%3Cpath%20d%3D%22M10.157%2012.711L4.5%2018.368l-1.414-1.414%204.95-4.95-4.95-4.95L4.5%205.64l5.657%205.657a1%201%200%20010%201.414z%22%20fill-rule%3D%22evenodd%22%2F%3E%3C%2Fsvg%3E);mask-image:url(data:image/svg+xml,%3Csvg%20height%3D%2224%22%20width%3D%2212%22%20xmlns%3D%22http%3A%2F%2Fwww.w3.org%2F2000%2Fsvg%22%3E%3Cpath%20d%3D%22M10.157%2012.711L4.5%2018.368l-1.414-1.414%204.95-4.95-4.95-4.95L4.5%205.64l5.657%205.657a1%201%200%20010%201.414z%22%20fill-rule%3D%22evenodd%22%2F%3E%3C%2Fsvg%3E)}.weui-icon-back-arrow{-webkit-mask-image:url(data:image/svg+xml,%3Csvg%20width%3D%2212%22%20height%3D%2224%22%20xmlns%3D%22http%3A%2F%2Fwww.w3.org%2F2000%2Fsvg%22%3E%3Cpath%20d%3D%22M3.343%2012l7.071%207.071L9%2020.485l-7.778-7.778a1%201%200%20010-1.414L9%203.515l1.414%201.414L3.344%2012z%22%20fill-rule%3D%22evenodd%22%2F%3E%3C%2Fsvg%3E);mask-image:url(data:image/svg+xml,%3Csvg%20width%3D%2212%22%20height%3D%2224%22%20xmlns%3D%22http%3A%2F%2Fwww.w3.org%2F2000%2Fsvg%22%3E%3Cpath%20d%3D%22M3.343%2012l7.071%207.071L9%2020.485l-7.778-7.778a1%201%200%20010-1.414L9%203.515l1.414%201.414L3.344%2012z%22%20fill-rule%3D%22evenodd%22%2F%3E%3C%2Fsvg%3E)}.weui-icon-back-arrow-thin{-webkit-mask-image:url(data:image/svg+xml,%3Csvg%20width%3D%2212%22%20height%3D%2224%22%20xmlns%3D%22http%3A%2F%2Fwww.w3.org%2F2000%2Fsvg%22%3E%3Cpath%20d%3D%22M10%2019.438L8.955%2020.5l-7.666-7.79a1.02%201.02%200%20010-1.42L8.955%203.5%2010%204.563%202.682%2012%2010%2019.438z%22%20fill-rule%3D%22evenodd%22%2F%3E%3C%2Fsvg%3E);mask-image:url(data:image/svg+xml,%3Csvg%20width%3D%2212%22%20height%3D%2224%22%20xmlns%3D%22http%3A%2F%2Fwww.w3.org%2F2000%2Fsvg%22%3E%3Cpath%20d%3D%22M10%2019.438L8.955%2020.5l-7.666-7.79a1.02%201.02%200%20010-1.42L8.955%203.5%2010%204.563%202.682%2012%2010%2019.438z%22%20fill-rule%3D%22evenodd%22%2F%3E%3C%2Fsvg%3E)}.weui-icon-close{-webkit-mask-image:url(data:image/svg+xml,%3Csvg%20width%3D%2224%22%20height%3D%2224%22%20xmlns%3D%22http%3A%2F%2Fwww.w3.org%2F2000%2Fsvg%22%3E%3Cpath%20d%3D%22M12%2010.586l5.657-5.657%201.414%201.414L13.414%2012l5.657%205.657-1.414%201.414L12%2013.414l-5.657%205.657-1.414-1.414L10.586%2012%204.929%206.343%206.343%204.93%2012%2010.586z%22%20fill-rule%3D%22evenodd%22%2F%3E%3C%2Fsvg%3E);mask-image:url(data:image/svg+xml,%3Csvg%20width%3D%2224%22%20height%3D%2224%22%20xmlns%3D%22http%3A%2F%2Fwww.w3.org%2F2000%2Fsvg%22%3E%3Cpath%20d%3D%22M12%2010.586l5.657-5.657%201.414%201.414L13.414%2012l5.657%205.657-1.414%201.414L12%2013.414l-5.657%205.657-1.414-1.414L10.586%2012%204.929%206.343%206.343%204.93%2012%2010.586z%22%20fill-rule%3D%22evenodd%22%2F%3E%3C%2Fsvg%3E)}.weui-icon-close-thin{-webkit-mask-image:url(data:image/svg+xml,%3Csvg%20width%3D%2224%22%20height%3D%2224%22%20xmlns%3D%22http%3A%2F%2Fwww.w3.org%2F2000%2Fsvg%22%3E%3Cpath%20d%3D%22M12.25%2010.693L6.057%204.5%205%205.557l6.193%206.193L5%2017.943%206.057%2019l6.193-6.193L18.443%2019l1.057-1.057-6.193-6.193L19.5%205.557%2018.443%204.5z%22%20fill-rule%3D%22evenodd%22%2F%3E%3C%2Fsvg%3E);mask-image:url(data:image/svg+xml,%3Csvg%20width%3D%2224%22%20height%3D%2224%22%20xmlns%3D%22http%3A%2F%2Fwww.w3.org%2F2000%2Fsvg%22%3E%3Cpath%20d%3D%22M12.25%2010.693L6.057%204.5%205%205.557l6.193%206.193L5%2017.943%206.057%2019l6.193-6.193L18.443%2019l1.057-1.057-6.193-6.193L19.5%205.557%2018.443%204.5z%22%20fill-rule%3D%22evenodd%22%2F%3E%3C%2Fsvg%3E)}.weui-icon-back-circle{-webkit-mask-image:url(data:image/svg+xml,%3Csvg%20width%3D%2224%22%20height%3D%2224%22%20xmlns%3D%22http%3A%2F%2Fwww.w3.org%2F2000%2Fsvg%22%3E%3Cpath%20d%3D%22M12%2022C6.477%2022%202%2017.523%202%2012S6.477%202%2012%202s10%204.477%2010%2010-4.477%2010-10%2010zm0-1.2a8.8%208.8%200%20100-17.6%208.8%208.8%200%20000%2017.6zm1.999-5.363L12.953%2016.5%209.29%2012.723a1.045%201.045%200%20010-1.446L12.953%207.5%2014%208.563%2010.68%2012%2014%2015.438z%22%2F%3E%3C%2Fsvg%3E);mask-image:url(data:image/svg+xml,%3Csvg%20width%3D%2224%22%20height%3D%2224%22%20xmlns%3D%22http%3A%2F%2Fwww.w3.org%2F2000%2Fsvg%22%3E%3Cpath%20d%3D%22M12%2022C6.477%2022%202%2017.523%202%2012S6.477%202%2012%202s10%204.477%2010%2010-4.477%2010-10%2010zm0-1.2a8.8%208.8%200%20100-17.6%208.8%208.8%200%20000%2017.6zm1.999-5.363L12.953%2016.5%209.29%2012.723a1.045%201.045%200%20010-1.446L12.953%207.5%2014%208.563%2010.68%2012%2014%2015.438z%22%2F%3E%3C%2Fsvg%3E)}.weui-icon-success{color:#07c160}.weui-icon-waiting{color:#10aeff}.weui-icon-warn{color:#fa5151}.weui-icon-info{color:#10aeff}.weui-icon-success-circle{color:#07c160}.weui-icon-success-no-circle,.weui-icon-success-no-circle-thin{color:#07c160}.weui-icon-waiting-circle{color:#10aeff}.weui-icon-circle{color:rgba(0,0,0,0.3)}.weui-icon-download{color:#07c160}.weui-icon-info-circle{color:rgba(0,0,0,0.3)}.weui-icon-safe-success{color:#07c160}.weui-icon-safe-warn{color:#ffbe00}.weui-icon-cancel{color:#fa5151}.weui-icon-search{color:rgba(0,0,0,0.5)}.weui-icon-clear{color:rgba(0,0,0,0.3)}.weui-icon-clear:active{color:rgba(0,0,0,0.5)}.weui-icon-delete.weui-icon_gallery-delete{color:#fff}.weui-icon-arrow,.weui-icon-arrow-bold,.weui-icon-back-arrow,.weui-icon-back-arrow-thin{width:12px}.weui-icon-arrow,.weui-icon-arrow-bold{color:rgba(0,0,0,0.3)}.weui-icon-back-arrow,.weui-icon-back-arrow-thin{color:rgba(0,0,0,0.9)}.weui-icon-back,.weui-icon-back-circle{color:rgba(0,0,0,0.9)}.weui-icon_msg{width:64px;height:64px}.weui-icon_msg.weui-icon-warn{color:#fa5151}.weui-icon_msg-primary{width:64px;height:64px}.weui-icon_msg-primary.weui-icon-warn{color:#ffc300}.weui-textarea{-webkit-tap-highlight-color:rgba(0,0,0,0);background-color:transparent;display:block;border:0;resize:none;width:100%;color:inherit;font-size:1em;line-height:inherit;outline:0}.weui-flex{display:-webkit-box;display:-webkit-flex;display:flex}.weui-flex__item{-webkit-box-flex:1;-webkit-flex:1;flex:1}.weui-media-box{padding:16px;position:relative}.weui-media-box:before{content:\" \";position:absolute;left:0;top:0;right:0;height:1px;border-top:1px solid rgba(0,0,0,0.1);-webkit-transform-origin:0 0;transform-origin:0 0;-webkit-transform:scaleY(0.5);transform:scaleY(0.5);left:16px}.weui-media-box:first-child:before{display:none}a.weui-media-box{color:#000;-webkit-tap-highlight-color:rgba(0,0,0,0)}a.weui-media-box:active{background-color:#ececec}.weui-media-box__title{font-weight:400;font-size:17px;line-height:1.4;color:rgba(0,0,0,0.9);width:auto;overflow:hidden;text-overflow:ellipsis;white-space:nowrap;word-wrap:normal;word-wrap:break-word;word-break:break-all}.weui-media-box__desc{color:rgba(0,0,0,0.3);font-size:14px;line-height:1.4;padding-top:4px;overflow:hidden;text-overflow:ellipsis;display:-webkit-box;-webkit-box-orient:vertical;-webkit-line-clamp:2}.weui-media-box__info{margin-top:16px;padding-bottom:4px;font-size:13px;color:#cecece;line-height:1em;list-style:none;overflow:hidden}.weui-media-box__info__meta{float:left;padding-right:1em}.weui-media-box__info__meta_extra{padding-left:1em;border-left:1px solid #cecece}.weui-media-box_appmsg{display:-webkit-box;display:-webkit-flex;display:flex;-webkit-box-align:center;-webkit-align-items:center;align-items:center}.weui-media-box_appmsg .weui-media-box__hd{margin-right:16px;width:60px;height:60px;line-height:60px;text-align:center}.weui-media-box_appmsg .weui-media-box__thumb{width:100%;max-height:100%;vertical-align:top}.weui-media-box_appmsg .weui-media-box__bd{-webkit-box-flex:1;-webkit-flex:1;flex:1;min-width:0}.weui-media-box_small-appmsg{padding:0}.weui-media-box_small-appmsg .weui-cells{margin-top:0}.weui-media-box_small-appmsg .weui-cells:before{display:none}.weui-btn{position:relative;display:block;width:184px;margin-left:auto;margin-right:auto;padding:8px 24px;box-sizing:border-box;font-weight:700;font-size:17px;text-align:center;text-decoration:none;color:#fff;line-height:1.41176471;border-radius:4px;-webkit-tap-highlight-color:rgba(0,0,0,0);overflow:hidden}.weui-btn_block{width:auto}.weui-btn_inline{display:inline-block}.weui-btn_default{color:#06ae56;background-color:#f2f2f2}.weui-btn_default:not(.weui-btn_disabled):visited{color:#06ae56}.weui-btn_default:not(.weui-btn_disabled):active{color:#06ae56;background-color:#d9d9d9}.weui-btn_primary{background-color:#07c160}.weui-btn_primary:not(.weui-btn_disabled):visited{color:#fff}.weui-btn_primary:not(.weui-btn_disabled):active{color:#fff;background-color:#06ad56}.weui-btn_warn{color:#fa5151;background-color:#f2f2f2}.weui-btn_warn:not(.weui-btn_disabled):visited{color:#fa5151}.weui-btn_warn:not(.weui-btn_disabled):active{color:#fa5151;background-color:#d9d9d9}.weui-btn_disabled{color:rgba(0,0,0,0.18);background-color:#fafafa}.weui-btn_loading .weui-loading{margin:-0.2em .34em 0 0}.weui-btn_loading.weui-btn_primary{color:#fff}.weui-btn_loading.weui-btn_default{background-color:#d9d9d9}.weui-btn_loading.weui-btn_primary{background-color:#06ad56}.weui-btn_loading.weui-btn_warn{background-color:#d9d9d9}.weui-btn_plain-primary{color:#07c160;border:1px solid #1aad19}.weui-btn_plain-primary:not(.weui-btn_plain-disabled):active{color:#06ae56;border-color:#179c16;background-color:rgba(0,0,0,0.1)}.weui-btn_plain-primary:after{border-width:0}.weui-btn_plain-default{color:#353535;border:1px solid #353535}.weui-btn_plain-default:not(.weui-btn_plain-disabled):active{color:#323232;border-color:#323232;background-color:rgba(0,0,0,0.1)}.weui-btn_plain-default:after{border-width:0}.weui-btn_plain-disabled{color:rgba(0,0,0,0.2);border-color:rgba(0,0,0,0.2)}.weui-btn_cell{position:relative;display:block;margin-left:auto;margin-right:auto;box-sizing:border-box;font-weight:700;font-size:17px;text-align:center;text-decoration:none;color:#fff;line-height:1.41176471;padding:16px;-webkit-tap-highlight-color:rgba(0,0,0,0);overflow:hidden;background-color:#fff}.weui-btn_cell+.weui-btn_cell{margin-top:16px}.weui-btn_cell:active{background-color:#ececec}.weui-btn_cell__icon{display:inline-block;vertical-align:middle;width:24px;height:24px;margin:-0.2em .34em 0 0}.weui-btn_cell-default{color:rgba(0,0,0,0.9)}.weui-btn_cell-primary{color:#576b95}.weui-btn_cell-warn{color:#fa5151}button.weui-btn,input.weui-btn{border-width:0;outline:0;-webkit-appearance:none}button.weui-btn:focus,input.weui-btn:focus{outline:0}button.weui-btn_inline,input.weui-btn_inline,button.weui-btn_mini,input.weui-btn_mini{width:auto}button.weui-btn_plain-primary,input.weui-btn_plain-primary,button.weui-btn_plain-default,input.weui-btn_plain-default{border-width:1px;background-color:transparent}.weui-btn_mini{display:inline-block;width:auto;padding:0 .75em;line-height:2;font-size:16px}.weui-btn:not(.weui-btn_mini)+.weui-btn:not(.weui-btn_mini){margin-top:16px}.weui-btn.weui-btn_inline+.weui-btn.weui-btn_inline{margin-top:auto;margin-left:16px}.weui-btn-area{margin:48px 16px 8px}.weui-btn-area_inline{display:-webkit-box;display:-webkit-flex;display:flex}.weui-btn-area_inline .weui-btn{margin-top:auto;margin-right:16px;width:100%;-webkit-box-flex:1;-webkit-flex:1;flex:1}.weui-btn-area_inline .weui-btn:last-child{margin-right:0}.weui-btn_reset{background:transparent;border:0;padding:0;outline:0}.weui-btn_icon{font-size:0}.weui-btn_icon:active [class*=\"weui-icon-\"]{color:rgba(0,0,0,0.5)}.preview_appmsg .rich_media_title{margin-top:1.5em}.preview_appmsg .account_info{padding-top:3em}.original_page{background-color:transparent}.account_info{-webkit-tap-highlight-color:rgba(0,0,0,0);outline:0;padding-bottom:16px;font-size:16px}.account_info.appmsg_account_info{padding-bottom:32px}.account_info .radius_avatar img{background-color:transparent}.share_notice{font-size:17px;word-wrap:break-word;-webkit-hyphens:auto;-ms-hyphens:auto;hyphens:auto}.original_panel{background-color:rgba(0,0,0,0.03)}.original_panel:after{border-color:#e6e6e6}.original_panel .original_account_avatar{width:30px;height:30px}.original_panel_tool{font-size:14px}.original_panel_tool a{color:#576b95}.original_panel_content{opacity:.90;font-size:14px;line-height:22px;color:#000}.share_media{padding-bottom:30px}.icon_appmsg_tag{display:inline-block;vertical-align:middle;padding:0 .5em;font-size:12px;line-height:1.5;background-color:#c3c3c3;color:#fff;border-radius:2px;-moz-border-radius:2px;-webkit-border-radius:2px;width:auto;overflow:hidden;text-overflow:ellipsis;white-space:nowrap;word-wrap:normal;max-width:70%}.icon_appmsg_tag.primary{color:#3bb638;padding:4px .78em;background-color:rgba(9,187,7,0.08);font-size:12px;border-top-left-radius:.95em 50%;-moz-border-radius-topleft:.95em 50%;-webkit-border-top-left-radius:.95em 50%;border-top-right-radius:.95em 50%;-moz-border-radius-topright:.95em 50%;-webkit-border-top-right-radius:.95em 50%;border-bottom-left-radius:.95em 50%;-moz-border-radius-bottomleft:.95em 50%;-webkit-border-bottom-left-radius:.95em 50%;border-bottom-right-radius:.95em 50%;-moz-border-radius-bottomright:.95em 50%;-webkit-border-bottom-right-radius:.95em 50%}.icon_appmsg_tag.default{border:1px solid rgba(0,0,0,0.1);color:rgba(0,0,0,0.3);background-color:transparent;padding:0 .54em;font-size:15px;line-height:1.3;border-top-left-radius:.67em 50%;-moz-border-radius-topleft:.67em 50%;-webkit-border-top-left-radius:.67em 50%;border-top-right-radius:.67em 50%;-moz-border-radius-topright:.67em 50%;-webkit-border-top-right-radius:.67em 50%;border-bottom-left-radius:.67em 50%;-moz-border-radius-bottomleft:.67em 50%;-webkit-border-bottom-left-radius:.67em 50%;border-bottom-right-radius:.67em 50%;-moz-border-radius-bottomright:.67em 50%;-webkit-border-bottom-right-radius:.67em 50%}.rich_media_meta_list .icon_appmsg_tag.default{margin-top:-1px}.icon_appmsg_tag.title_tag{background-color:#d04b4e}.icon_global_tag_wrp{text-align:right;padding-bottom:12px}.icon_global_tag{background-color:rgba(118,118,118,0.16);color:rgba(0,0,0,0.41);line-height:2.2;border-top-left-radius:1em 50%;-moz-border-radius-topleft:1em 50%;-webkit-border-top-left-radius:1em 50%;border-bottom-left-radius:1em 50%;-moz-border-radius-bottomleft:1em 50%;-webkit-border-bottom-left-radius:1em 50%;padding:0 1.8em 0 1.34em;font-size:12px;margin-right:-24px;display:inline-block;vertical-align:top}.global_plain_btn{display:inline-block;vertical-align:middle;padding:0 1em;line-height:2;font-size:14px;-webkit-tap-highlight-color:rgba(0,0,0,0);border-radius:5px;-moz-border-radius:5px;-webkit-border-radius:5px}.global_plain_btn.primary{color:#1aad19;border:1px solid currentColor}.global_plain_btn.primary:active{color:rgba(26,173,25,0.6)}.wx_video_context{color:#fefefe;position:relative;background-color:#000}.wx_video_thumb,.wx_video_thumb_primary{position:absolute;left:0;width:100%;height:100%!important;top:0}.wx_video_thumb_primary{background-size:cover;background-position:50% 50%;background-repeat:no-repeat}.wx_video_play_btn{position:absolute;top:50%;left:50%;-webkit-transform:translate(-50%,-50%);transform:translate(-50%,-50%);margin-top:-2px;font-size:0;border-width:0;background-color:transparent;padding:0;outline:0;z-index:2}.wx_video_play_btn:before{content:\" \";display:inline-block;width:0;height:0;border-width:14px 0 14px 25px;border-color:transparent transparent transparent #fff;border-style:dotted dotted dotted solid}.wx_video_mask{position:absolute;top:0;left:0;right:0;bottom:0;z-index:1;background-color:rgba(0,0,0,0.5)}.place_audio_area{min-height:100px;background-color:#fdfdfd;display:block;margin:16px 0}.place_music_area{min-height:68px;background-color:#fdfdfd;display:block;margin:17px 0 16px}.rich_media_empty_extra{background-color:#fafafa}.appmsg_skin_default.rich_media_empty_extra{background-color:#fff}.appmsg_skin_default .rich_media_area_primary{background-color:#fff}.appmsg_skin_default .rich_media_area_primary .weui-loadmore_line .weui-loadmore__tips{background-color:#fff}.appmsg_style_default .rich_media_tool{padding-top:15px}.rich_media_title_ios{font-weight:700}.my_comment_empty_data{background-color:#fff}.read-more__area{margin:30px 0}.read-more__desc{margin-bottom:10px}.read-more__article__extra{font-size:14px;color:rgba(0,0,0,0.5)}.read-more__article__item{margin-bottom:10px}.original_panel_tips{font-size:12px;color:#fff;line-height:19px;font-weight:normal;vertical-align:2px;padding:2px 4px;border-radius:2px;display:inline-block;background-color:rgba(0,0,0,0.2)}</style>\n",
       "<link rel=\"stylesheet\" href=\"//res.wx.qq.com/mmbizwap/zh_CN/htmledition/style/page/middle/middle476532.css\">\n",
       "<style>\n",
       "        </style>\n",
       "<style type=\"text/css\">\n",
       "    .original_panel{\n",
       "        border-radius: 8px;\n",
       "    }\n",
       "\n",
       "</style>\n",
       "<!--[if lt IE 9]>\n",
       "<link rel=\"stylesheet\" type=\"text/css\" href=\"//res.wx.qq.com/mmbizwap/zh_CN/htmledition/style/page/appmsg_new/pc492bcc.css\">\n",
       "<![endif]-->\n",
       "\n",
       "    </head>\n",
       "    <body id=\"activity-detail\" class=\"zh_CN mm_appmsg  appmsg_skin_default appmsg_style_default \">\n",
       "        \n",
       "<script nonce=\"426371908\" type=\"text/javascript\">\n",
       "    var biz = \"MzA3MjQ5MTE3OA==\"||\"\";\n",
       "    var sn = \"471e59c6cf7c8dae452245dbea22c8f3\" || \"\"|| \"\";\n",
       "    var mid = \"206241627\" || \"\"|| \"\";\n",
       "    var idx = \"1\" || \"\" || \"\";\n",
       "    window.__allowLoadResFromMp = true; \n",
       "    \n",
       "        \n",
       "</script>\n",
       "<script nonce=\"426371908\" type=\"text/javascript\">\n",
       "var page_begintime=+new Date,is_rumor=\"\",norumor=\"\";\n",
       "1*is_rumor&&!(1*norumor)&&biz&&mid&&(document.referrer&&-1!=document.referrer.indexOf(\"mp.weixin.qq.com/mp/rumor\")||(location.href=\"http://mp.weixin.qq.com/mp/rumor?action=info&__biz=\"+biz+\"&mid=\"+mid+\"&idx=\"+idx+\"&sn=\"+sn+\"#wechat_redirect\"));\n",
       "</script>\n",
       "<script nonce=\"426371908\" type=\"text/javascript\">\n",
       "var MutationObserver=window.WebKitMutationObserver||window.MutationObserver||window.MozMutationObserver,isDangerSrc=function(t){\n",
       "if(t){\n",
       "var e=t.match(/http(?:s)?:\\/\\/([^\\/]+?)(\\/|$)/);\n",
       "if(e&&!/qq\\.com(\\:8080)?$/.test(e[1])&&!/weishi\\.com$/.test(e[1]))return!0;\n",
       "}\n",
       "return!1;\n",
       "},ishttp=0==location.href.indexOf(\"http://\");\n",
       "-1==location.href.indexOf(\"safe=0\")&&ishttp&&\"function\"==typeof MutationObserver&&\"mp.weixin.qq.com\"==location.host&&(window.__observer_data={\n",
       "count:0,\n",
       "exec_time:0,\n",
       "list:[]\n",
       "},window.__observer=new MutationObserver(function(t){\n",
       "window.__observer_data.count++;\n",
       "var e=new Date,r=[];\n",
       "t.forEach(function(t){\n",
       "for(var e=t.addedNodes,o=0;o<e.length;o++){\n",
       "var n=e[o];\n",
       "if(\"SCRIPT\"===n.tagName){\n",
       "var i=n.src;\n",
       "isDangerSrc(i)&&(window.__observer_data.list.push(i),r.push(n)),!i&&window.__nonce_str&&n.getAttribute(\"nonce\")!=window.__nonce_str&&(window.__observer_data.list.push(\"inlinescript_without_nonce\"),\n",
       "r.push(n));\n",
       "}\n",
       "}\n",
       "});\n",
       "for(var o=0;o<r.length;o++){\n",
       "var n=r[o];\n",
       "n.parentNode&&n.parentNode.removeChild(n);\n",
       "}\n",
       "window.__observer_data.exec_time+=new Date-e;\n",
       "}),window.__observer.observe(document,{\n",
       "subtree:!0,\n",
       "childList:!0\n",
       "})),function(){\n",
       "if(-1==location.href.indexOf(\"safe=0\")&&Math.random()<.01&&ishttp&&HTMLScriptElement.prototype.__lookupSetter__&&\"undefined\"!=typeof Object.defineProperty){\n",
       "window.__danger_src={\n",
       "xmlhttprequest:[],\n",
       "script_src:[],\n",
       "script_setAttribute:[]\n",
       "};\n",
       "var t=\"$\"+Math.random();\n",
       "HTMLScriptElement.prototype.__old_method_script_src=HTMLScriptElement.prototype.__lookupSetter__(\"src\"),\n",
       "HTMLScriptElement.prototype.__defineSetter__(\"src\",function(t){\n",
       "t&&isDangerSrc(t)&&window.__danger_src.script_src.push(t),this.__old_method_script_src(t);\n",
       "});\n",
       "var e=\"element_setAttribute\"+t;\n",
       "Object.defineProperty(Element.prototype,e,{\n",
       "value:Element.prototype.setAttribute,\n",
       "enumerable:!1\n",
       "}),Element.prototype.setAttribute=function(t,r){\n",
       "\"SCRIPT\"==this.tagName&&\"src\"==t&&isDangerSrc(r)&&window.__danger_src.script_setAttribute.push(r),\n",
       "this[e](t,r);\n",
       "};\n",
       "}\n",
       "}();\n",
       "</script>\n",
       "\n",
       "        <link rel=\"dns-prefetch\" href=\"//res.wx.qq.com\">\n",
       "<link rel=\"dns-prefetch\" href=\"//mmbiz.qpic.cn\">\n",
       "<link rel=\"dns-prefetch\" href=\"https://wxa.wxs.qq.com\">\n",
       "<link rel=\"shortcut icon\" type=\"image/x-icon\" href=\"//res.wx.qq.com/a/wx_fed/assets/res/NTI4MWU5.ico\">\n",
       "<link rel=\"mask-icon\" href=\"//res.wx.qq.com/a/wx_fed/assets/res/MjliNWVm.svg\" color=\"#4C4C4C\">\n",
       "<link rel=\"apple-touch-icon-precomposed\" href=\"//res.wx.qq.com/a/wx_fed/assets/res/OTE0YTAw.png\">\n",
       "<script nonce=\"426371908\" type=\"text/javascript\">\n",
       "    String.prototype.html = function(encode) {\n",
       "        var replace =[\"&#39;\", \"'\", \"&quot;\", '\"', \"&nbsp;\", \" \", \"&gt;\", \">\", \"&lt;\", \"<\", \"&yen;\", \"¥\", \"&amp;\", \"&\"];\n",
       "        \n",
       "\t\t\n",
       "\t\t\n",
       "\t\t\n",
       "\t\t\n",
       "        \n",
       "        var replaceReverse = [\"&\", \"&amp;\", \"¥\", \"&yen;\", \"<\", \"&lt;\", \">\", \"&gt;\", \" \", \"&nbsp;\", '\"', \"&quot;\", \"'\", \"&#39;\"];\n",
       "\t    var target;\n",
       "\t    if (encode) {\n",
       "\t    \ttarget = replaceReverse;\n",
       "\t    } else {\n",
       "\t    \ttarget = replace;\n",
       "\t    }\n",
       "        for (var i=0,str=this;i< target.length;i+= 2) {\n",
       "             str=str.replace(new RegExp(target[i],'g'),target[i+1]);\n",
       "        }\n",
       "        return str;\n",
       "    };\n",
       "\n",
       "    window.isInWeixinApp = function() {\n",
       "        return /MicroMessenger/.test(navigator.userAgent);\n",
       "    };\n",
       "\n",
       "    window.getQueryFromURL = function(url) {\n",
       "        url = url || 'http://qq.com/s?a=b#rd'; \n",
       "        var tmp = url.split('?'),\n",
       "            query = (tmp[1] || \"\").split('#')[0].split('&'),\n",
       "            params = {};\n",
       "        for (var i=0; i<query.length; i++) {\n",
       "            var arg = query[i].split('=');\n",
       "            params[arg[0]] = arg[1];\n",
       "        }\n",
       "        if (params['pass_ticket']) {\n",
       "        \tparams['pass_ticket'] = encodeURIComponent(params['pass_ticket'].html(false).html(false).replace(/\\s/g,\"+\"));\n",
       "        }\n",
       "        return params;\n",
       "    };\n",
       "\n",
       "    (function() {\n",
       "\t    var params = getQueryFromURL(location.href);\n",
       "        window.uin = params['uin'] || \"\" || '';\n",
       "        window.key = params['key'] || \"\" || '';\n",
       "        window.wxtoken = params['wxtoken'] || '';\n",
       "        window.pass_ticket = params['pass_ticket'] || '';\n",
       "        window.appmsg_token = \"\";\n",
       "    })();\n",
       "\n",
       "    function wx_loaderror() {\n",
       "        if (location.pathname === '/bizmall/reward') {\n",
       "            new Image().src = '/mp/jsreport?key=96&content=reward_res_load_err&r=' + Math.random();\n",
       "        }\n",
       "    }\n",
       "\n",
       "</script>\n",
       "\n",
       "<script nonce=\"426371908\" type=\"text/javascript\">\n",
       "        window.__moon_report_uin = \"0\";\n",
       "            window.no_moon_ls = 0;\n",
       "    </script>\n",
       "\n",
       "        \n",
       "<script nonce=\"426371908\" type=\"text/javascript\">\n",
       "    var write_sceen_time = (+new Date());\n",
       "</script>\n",
       "\n",
       "<div id=\"js_article\" class=\"rich_media\">\n",
       "    \n",
       "    <div id=\"js_top_ad_area\" class=\"top_banner\"></div>\n",
       "    \n",
       "    <div class=\"rich_media_inner\">\n",
       "\n",
       "        \n",
       "        \n",
       "\t\t<div id=\"page-content\" class=\"rich_media_area_primary\">\n",
       "\n",
       "\t\t  <div class=\"rich_media_area_primary_inner\">\n",
       "\n",
       "            \n",
       "                          \n",
       "                        \n",
       "\n",
       "            <div id=\"img-content\">\n",
       "                \n",
       "                <h2 class=\"rich_media_title\" id=\"activity-name\">\n",
       "                    \n",
       "                    \n",
       "                    \n",
       "            南大新传 | 微议题：地震中民族自豪—“中国人先撤”\n",
       "                      </h2>\n",
       "                <div id=\"meta_content\" class=\"rich_media_meta_list\">\n",
       "                                                                                                                <span class=\"rich_media_meta rich_media_meta_text\">\n",
       "                                                                    南大新传院\n",
       "                                                            </span>\n",
       "                                                                \n",
       "                                        <span class=\"rich_media_meta rich_media_meta_nickname\" id=\"profileBt\">\n",
       "                      <a href=\"javascript:void(0);\" id=\"js_name\">\n",
       "                        微议题排行榜                      </a>\n",
       "                      <div id=\"js_profile_qrcode\" class=\"profile_container\" style=\"display:none;\">\n",
       "                          <div class=\"profile_inner\">\n",
       "                              <strong class=\"profile_nickname\">微议题排行榜</strong>\n",
       "                              <img class=\"profile_avatar\" id=\"js_profile_qrcode_img\" src=\"\" alt=\"\">\n",
       "\n",
       "                              <p class=\"profile_meta\">\n",
       "                              <label class=\"profile_meta_label\">微信号</label>\n",
       "                              <span class=\"profile_meta_value\">IssuesRank</span>\n",
       "                              </p>\n",
       "\n",
       "                              <p class=\"profile_meta\">\n",
       "                              <label class=\"profile_meta_label\">功能介绍</label>\n",
       "                              <span class=\"profile_meta_value\">感谢关注《微议题排行榜》。我们是南京大学新闻传播学院，计算传播学实验中心，致力于研究社会化媒体时代的公共议程，发布新媒体平台的议题排行榜。</span>\n",
       "                              </p>\n",
       "                              \n",
       "                          </div>\n",
       "                          <span class=\"profile_arrow_wrp\" id=\"js_profile_arrow_wrp\">\n",
       "                              <i class=\"profile_arrow arrow_out\"></i>\n",
       "                              <i class=\"profile_arrow arrow_in\"></i>\n",
       "                          </span>\n",
       "                      </div>\n",
       "                    </span>\n",
       "\n",
       "\n",
       "                    <em id=\"publish_time\" class=\"rich_media_meta rich_media_meta_text\"></em>\n",
       "\n",
       "\n",
       "\n",
       "\n",
       "\n",
       "                </div>\n",
       "\n",
       "                \n",
       "\n",
       "                \n",
       "\n",
       "                \n",
       "\n",
       "                \n",
       "                                \n",
       "\n",
       "\n",
       "                \n",
       "                \n",
       "                \n",
       "                \n",
       "                                                \n",
       "                                                                \n",
       "                                \n",
       "                \n",
       "                <div class=\"rich_media_content \" id=\"js_content\">\n",
       "                    \n",
       "\n",
       "                    \n",
       "\n",
       "                    \n",
       "                    \n",
       "                    <fieldset style=\"border: 0px rgb(142, 201, 101); text-align: inherit; vertical-align: top; margin: 0.8em 0px; font-size: 1em; font-family: inherit; font-weight: inherit; text-decoration: inherit; color: rgb(64, 84, 115); box-sizing: border-box; padding: 0px;\" class=\"tn-Powered-by-XIUMI\"><section style=\"width: 100%; border-top-width: 2px; border-top-style: solid; border-color: rgb(142, 201, 101); border-bottom-width: 2px; border-bottom-style: solid; box-sizing: border-box;\" class=\"tn-Powered-by-XIUMI\"><section style=\"width: 12px; height: 12px; margin: -7px 0px 5px 55%; background-color: rgb(255, 255, 255); border-left-width: 2px; border-left-style: solid; border-color: rgb(142, 201, 101); border-top-width: 2px; border-top-style: solid; -webkit-transform: rotate(45deg); box-sizing: border-box;\" class=\"tn-Powered-by-XIUMI\"></section><section style=\"text-align: center; width: 100%; margin: -0.5em 0px 0.1em; box-sizing: border-box;\" class=\"tn-Powered-by-XIUMI\"><section style=\"display: inline-block; vertical-align: top; box-sizing: border-box;\" class=\"tn-Powered-by-XIUMI\"><section class=\"tn-Powered-by-XIUMI\" style=\"box-sizing: border-box;\">点击上方<span style=\"color: rgb(249, 110, 87); font-size: 1.2em; box-sizing: border-box;\" class=\"tn-Powered-by-XIUMI\">“微议题排行榜”</span>可以订阅哦！</section></section></section></section></fieldset><fieldset style=\"border: 0px; margin: 1em; padding: 0px; box-sizing: border-box;\" class=\"tn-Powered-by-XIUMI\"><section class=\"tn-Powered-by-XIUMI\" style=\"font-size: 112.5%; font-family: inherit; font-weight: bold; text-align: inherit; text-decoration: inherit; color: rgb(255, 255, 255); border-color: rgb(142, 201, 101); box-sizing: border-box;\"><section style=\"display: inline-block; padding: 3px 8px; line-height: 1.4; border-top-left-radius: 8px; border-top-right-radius: 8px; font-family: inherit; background-color: rgb(142, 201, 101); box-sizing: border-box;\" class=\"tn-Powered-by-XIUMI\"><section class=\"tn-Powered-by-XIUMI\" style=\"box-sizing: border-box;\">导读</section></section><section style=\"margin-top: -1px; box-sizing: border-box; border: 1px solid rgb(142, 201, 101); border-bottom-left-radius: 8px; border-bottom-right-radius: 8px; font-size: 88.8889%; font-family: inherit; font-weight: normal; text-align: inherit; text-decoration: inherit; color: rgb(51, 51, 51);\" class=\"tn-Powered-by-XIUMI\"><section style=\"padding: 16px; border-bottom-left-radius: 8px; border-bottom-right-radius: 8px; line-height: 1.4; box-sizing: border-box;\" class=\"tn-Powered-by-XIUMI\"><section style=\"box-sizing: border-box;\" class=\"tn-Powered-by-XIUMI\">2015年4月25日，尼泊尔发生8.1级地震，造成至少7000多人死亡，中国西藏、印度、孟加拉国、不丹等地均出现人员伤亡。尼泊尔地震后，祖国派出救援机接国人回家，这一“先撤”行为被大量报道，上演了一出霸道总裁不由分说爱国民的新闻。</section><section style=\"box-sizing: border-box;\" class=\"tn-Powered-by-XIUMI\"><br class=\"tn-Powered-by-XIUMI\" style=\"box-sizing: border-box;\"  /></section><section style=\"box-sizing: border-box;\" class=\"tn-Powered-by-XIUMI\">我们对“地震”中人的关注，远远小于国民尊严的保护。通过“撤离”速度来证明中国的影响力也显得有失妥当，灾难应急管理、救援和灾后重建能力才应是“地震”关注焦点。</section><section style=\"box-sizing: border-box;\" class=\"tn-Powered-by-XIUMI\"><br class=\"tn-Powered-by-XIUMI\" style=\"box-sizing: border-box;\"  /></section></section></section></section></fieldset><fieldset style=\"border: none rgb(142, 201, 101); margin: 0.5em 0px 0px; font-size: 112.5%; font-family: inherit; font-weight: bold; text-align: center; text-decoration: inherit; color: rgb(249, 110, 87); box-sizing: border-box; padding: 0px;\" class=\"tn-Powered-by-XIUMI\"><section style=\"width: 100%; box-sizing: border-box;\" class=\"tn-Powered-by-XIUMI\"><img style=\"float: left; width: 1em; background-color: rgb(142, 201, 101); box-sizing: border-box;\" data-src=\"http://mmbiz.qpic.cn/mmbiz/ugnYPLVSd8tqywic0Lga3KLW2Qbv9YJWrdHPLuCEfN6oLqdibKEgTKS5Ys5yBpMVUMRglQfBprDI2Xqq5Jb3Agjg/0\" class=\"tn-Powered-by-XIUMI\" data-ratio=\"1\" data-w=\"18\"  /> <img style=\"width: 1em; background-color: rgb(142, 201, 101); box-sizing: border-box;\" data-src=\"http://mmbiz.qpic.cn/mmbiz/ugnYPLVSd8tqywic0Lga3KLW2Qbv9YJWrTGdZ9QKdWY3iaiaDTlUF7kadAo5NJn85Nsoiamwam8PEu9hpWGbJuVZuw/0\" class=\"tn-Powered-by-XIUMI\" data-ratio=\"0.9444444444444444\" data-w=\"18\"  /> <img style=\"float: right; width: 1em; background-color: rgb(142, 201, 101); box-sizing: border-box;\" data-src=\"http://mmbiz.qpic.cn/mmbiz/ugnYPLVSd8tqywic0Lga3KLW2Qbv9YJWr9zia4LDL0BGdMyODDttemDXDPQzDyeDR3GLTiaZxibNpkVmncf9GFlia5g/0\" class=\"tn-Powered-by-XIUMI\" data-ratio=\"1\" data-w=\"18\"  /></section><section style=\"width: 100%; display: inline-block; vertical-align: top; margin-top: -0.8em; box-sizing: border-box;\" class=\"tn-Powered-by-XIUMI\"><section style=\"float: left; width: 45%; border-top-width: 1px; border-top-style: solid; border-color: rgb(142, 201, 101); box-sizing: border-box;\" class=\"tn-Powered-by-XIUMI\"></section><section style=\"float: right; width: 45%; border-top-width: 1px; border-top-style: solid; border-color: rgb(142, 201, 101); box-sizing: border-box;\" class=\"tn-Powered-by-XIUMI\"></section></section><section style=\"width: 100%; padding: 0px 0.5em; margin-top: -1.5em; line-height: 1.3em; box-sizing: border-box;\" class=\"tn-Powered-by-XIUMI\"><section class=\"tn-Powered-by-XIUMI\" style=\"box-sizing: border-box;\">热词图现</section></section><section class=\"tn-Powered-by-XIUMI\" style=\"box-sizing: border-box;\"><img style=\"width: 1em; float: left; background-color: rgb(142, 201, 101); box-sizing: border-box;\" data-src=\"http://mmbiz.qpic.cn/mmbiz/ugnYPLVSd8tqywic0Lga3KLW2Qbv9YJWric6UwyR9ylXvb7F2gbteyJhoM4udYonbznd6XBKsd183743JviaSy1Fg/0\" class=\"tn-Powered-by-XIUMI\" data-ratio=\"1\" data-w=\"18\"  /> <img style=\"width: 1em; float: right; background-color: rgb(142, 201, 101); box-sizing: border-box;\" data-src=\"http://mmbiz.qpic.cn/mmbiz/ugnYPLVSd8tqywic0Lga3KLW2Qbv9YJWr9LJYysPnIEIw4VLmvHVZkkVF3zpRLMF48DHO1xiaPdlMGKtrTFSbx8w/0\" class=\"tn-Powered-by-XIUMI\" data-ratio=\"1\" data-w=\"18\"  /></section><section style=\"width: 100%; display: inline-block; vertical-align: top; margin-top: -1.6em; box-sizing: border-box;\" class=\"tn-Powered-by-XIUMI\"><section style=\"display: inline-block; vertical-align: middle; width: 98%; border-top-width: 1px; border-top-style: solid; border-color: rgb(142, 201, 101); box-sizing: border-box;\" class=\"tn-Powered-by-XIUMI\"></section></section></fieldset><fieldset style=\"border: 0px; box-sizing: border-box; width: 100%; clear: both; margin: 0.8em 0px 0px; padding: 0px 0.5em 0.5em 0px;\" class=\"tn-Powered-by-XIUMI\"><img style=\"box-sizing: border-box; width: 100%; border: 0.3em solid white; -webkit-box-shadow: rgb(102, 102, 102) 0.2em 0.2em 0.5em; box-shadow: rgb(102, 102, 102) 0.2em 0.2em 0.5em;\" data-src=\"http://mmbiz.qpic.cn/mmbiz/LsWWX18C1X96vmarydNeesjbpKSicFcLu7ofZuLVAR7QKdwZfSTND57HeOuR8taHO55YjicgiaNmyUqsyNqNIMM2Q/0?wx_fmt=png\" class=\"tn-Powered-by-XIUMI\" data-type=\"png\" data-ratio=\"0.9571428571428572\" data-w=\"490\"  /></fieldset><fieldset style=\"border: 0px; margin-top: 0px; margin-bottom: 0px; clear: both; font-size: 1em; font-family: inherit; font-weight: inherit; text-align: justify; text-decoration: inherit; color: inherit; box-sizing: border-box; padding: 0px;\" class=\"tn-Powered-by-XIUMI\"><section class=\"tn-Powered-by-XIUMI\" style=\"box-sizing: border-box;\"><br class=\"tn-Powered-by-XIUMI\" style=\"box-sizing: border-box;\"  /></section><section class=\"tn-Powered-by-XIUMI\" style=\"box-sizing: border-box;\">本文以“地震”为关键词，选取了2015年4月10日至4月30日期间微议题TOP100阅读排行进行分析。根据微议题TOP100标题的词频统计，我们可以看出有关“地震”的话题最热词汇的有“尼泊尔”、“油价”、“发改委”。4月25日尼泊尔发生了8级地震，深受人们的关注。面对国外灾难性事件，微媒体的重心却转向“油价”、“发改委”、“祖国先撤”，致力于将世界重大事件与中国政府关联起来。</section><section class=\"tn-Powered-by-XIUMI\" style=\"box-sizing: border-box;\"><br class=\"tn-Powered-by-XIUMI\" style=\"box-sizing: border-box;\"  /></section></fieldset><fieldset style=\"border: none rgb(142, 201, 101); margin: 0.5em 0px 0px; font-size: 112.5%; font-family: inherit; font-weight: bold; text-align: center; text-decoration: inherit; color: rgb(249, 110, 87); box-sizing: border-box; padding: 0px;\" class=\"tn-Powered-by-XIUMI\"><section style=\"width: 100%; box-sizing: border-box;\" class=\"tn-Powered-by-XIUMI\"><img style=\"float: left; width: 1em; background-color: rgb(142, 201, 101); box-sizing: border-box;\" data-src=\"http://mmbiz.qpic.cn/mmbiz/ugnYPLVSd8tqywic0Lga3KLW2Qbv9YJWrdHPLuCEfN6oLqdibKEgTKS5Ys5yBpMVUMRglQfBprDI2Xqq5Jb3Agjg/0\" class=\"tn-Powered-by-XIUMI\" data-ratio=\"1\" data-w=\"18\"  /> <img style=\"width: 1em; background-color: rgb(142, 201, 101); box-sizing: border-box;\" data-src=\"http://mmbiz.qpic.cn/mmbiz/ugnYPLVSd8tqywic0Lga3KLW2Qbv9YJWrTGdZ9QKdWY3iaiaDTlUF7kadAo5NJn85Nsoiamwam8PEu9hpWGbJuVZuw/0\" class=\"tn-Powered-by-XIUMI\" data-ratio=\"0.9444444444444444\" data-w=\"18\"  /> <img style=\"float: right; width: 1em; background-color: rgb(142, 201, 101); box-sizing: border-box;\" data-src=\"http://mmbiz.qpic.cn/mmbiz/ugnYPLVSd8tqywic0Lga3KLW2Qbv9YJWr9zia4LDL0BGdMyODDttemDXDPQzDyeDR3GLTiaZxibNpkVmncf9GFlia5g/0\" class=\"tn-Powered-by-XIUMI\" data-ratio=\"1\" data-w=\"18\"  /></section><section style=\"width: 100%; display: inline-block; vertical-align: top; margin-top: -0.8em; box-sizing: border-box;\" class=\"tn-Powered-by-XIUMI\"><section style=\"float: left; width: 45%; border-top-width: 1px; border-top-style: solid; border-color: rgb(142, 201, 101); box-sizing: border-box;\" class=\"tn-Powered-by-XIUMI\"></section><section style=\"float: right; width: 45%; border-top-width: 1px; border-top-style: solid; border-color: rgb(142, 201, 101); box-sizing: border-box;\" class=\"tn-Powered-by-XIUMI\"></section></section><section style=\"width: 100%; padding: 0px 0.5em; margin-top: -1.5em; line-height: 1.3em; box-sizing: border-box;\" class=\"tn-Powered-by-XIUMI\"><section class=\"tn-Powered-by-XIUMI\" style=\"box-sizing: border-box;\">微议题演化趋势</section></section><section class=\"tn-Powered-by-XIUMI\" style=\"box-sizing: border-box;\"><img style=\"width: 1em; float: left; background-color: rgb(142, 201, 101); box-sizing: border-box;\" data-src=\"http://mmbiz.qpic.cn/mmbiz/ugnYPLVSd8tqywic0Lga3KLW2Qbv9YJWric6UwyR9ylXvb7F2gbteyJhoM4udYonbznd6XBKsd183743JviaSy1Fg/0\" class=\"tn-Powered-by-XIUMI\" data-ratio=\"1\" data-w=\"18\"  /> <img style=\"width: 1em; float: right; background-color: rgb(142, 201, 101); box-sizing: border-box;\" data-src=\"http://mmbiz.qpic.cn/mmbiz/ugnYPLVSd8tqywic0Lga3KLW2Qbv9YJWr9LJYysPnIEIw4VLmvHVZkkVF3zpRLMF48DHO1xiaPdlMGKtrTFSbx8w/0\" class=\"tn-Powered-by-XIUMI\" data-ratio=\"1\" data-w=\"18\"  /></section><section style=\"width: 100%; display: inline-block; vertical-align: top; margin-top: -1.6em; box-sizing: border-box;\" class=\"tn-Powered-by-XIUMI\"><section style=\"display: inline-block; vertical-align: middle; width: 98%; border-top-width: 1px; border-top-style: solid; border-color: rgb(142, 201, 101); box-sizing: border-box;\" class=\"tn-Powered-by-XIUMI\"></section></section></fieldset><fieldset style=\"border: 0px; margin-top: 0px; margin-bottom: 0px; clear: both; font-size: 112.5%; font-family: inherit; font-weight: bold; text-align: center; text-decoration: inherit; color: inherit; box-sizing: border-box; padding: 0px;\" class=\"tn-Powered-by-XIUMI\"><section class=\"tn-Powered-by-XIUMI\" style=\"box-sizing: border-box;\">总文章数</section></fieldset><fieldset style=\"border: 0px; box-sizing: border-box; width: 100%; clear: both; margin: 0.8em 0px 0px; padding: 0px 0.5em 0.5em 0px;\" class=\"tn-Powered-by-XIUMI\"><img style=\"box-sizing: border-box; width: 100%; border: 0.3em solid white; -webkit-box-shadow: rgb(102, 102, 102) 0.2em 0.2em 0.5em; box-shadow: rgb(102, 102, 102) 0.2em 0.2em 0.5em;\" data-src=\"http://mmbiz.qpic.cn/mmbiz/LsWWX18C1X96vmarydNeesjbpKSicFcLu60NdQLT6iaHAVFAERaaC7HqduicLMvdnD7oeVAnVvgOyVyGPed8le1Ww/0?wx_fmt=png\" class=\"tn-Powered-by-XIUMI\" data-type=\"png\" data-ratio=\"0.5877551020408164\" data-w=\"490\"  /></fieldset><fieldset style=\"border: 0px; margin-top: 0px; margin-bottom: 0px; clear: both; font-size: 112.5%; font-family: inherit; font-weight: bold; text-align: center; text-decoration: inherit; color: inherit; box-sizing: border-box; padding: 0px;\" class=\"tn-Powered-by-XIUMI\"><section class=\"tn-Powered-by-XIUMI\" style=\"box-sizing: border-box;\">总阅读数</section></fieldset><fieldset style=\"border: 0px; box-sizing: border-box; width: 100%; clear: both; margin: 0.8em 0px 0px; padding: 0px 0.5em 0.5em 0px;\" class=\"tn-Powered-by-XIUMI\"><img style=\"box-sizing: border-box; width: 100%; border: 0.3em solid white; -webkit-box-shadow: rgb(102, 102, 102) 0.2em 0.2em 0.5em; box-shadow: rgb(102, 102, 102) 0.2em 0.2em 0.5em;\" data-src=\"http://mmbiz.qpic.cn/mmbiz/LsWWX18C1X96vmarydNeesjbpKSicFcLuicBA1IV1HGFCEXPygTV8I0LXU1xE4eW9KKEswhjCjw0ZYuzecnicVh3Q/0?wx_fmt=png\" class=\"tn-Powered-by-XIUMI\" data-type=\"png\" data-ratio=\"0.5591836734693878\" data-w=\"490\"  /></fieldset><fieldset style=\"border: 0px; margin-top: 0px; margin-bottom: 0px; clear: both; font-size: 1em; font-family: inherit; font-weight: inherit; text-align: justify; text-decoration: inherit; color: inherit; box-sizing: border-box; padding: 0px;\" class=\"tn-Powered-by-XIUMI\"><section class=\"tn-Powered-by-XIUMI\" style=\"box-sizing: border-box;\">从4月10日到4月30日，有关“地震”议题出现三个峰值，分别是在4月15日内蒙古地震，20日台湾地震和25日尼泊尔地震。其中对台湾地震与内蒙古地震报道文章较少，而对尼泊尔地震却给予了极大的关注，无论是在文章量还是阅读量上都空前增多。内蒙古、台湾地震由于级数较小，关注少，议程时间也比较短，一般3天后就会淡出公共视野。而尼泊尔地震虽然接近性较差，但规模大，且衍生话题性较强，其讨论热度持续了一周以上。</section><section class=\"tn-Powered-by-XIUMI\" style=\"box-sizing: border-box;\"><br class=\"tn-Powered-by-XIUMI\" style=\"box-sizing: border-box;\"  /></section></fieldset><fieldset style=\"border: none rgb(142, 201, 101); margin: 0.5em 0px 0px; font-size: 112.5%; font-family: inherit; font-weight: bold; text-align: center; text-decoration: inherit; color: rgb(249, 110, 87); box-sizing: border-box; padding: 0px;\" class=\"tn-Powered-by-XIUMI\"><section style=\"width: 100%; box-sizing: border-box;\" class=\"tn-Powered-by-XIUMI\"><img style=\"float: left; width: 1em; background-color: rgb(142, 201, 101); box-sizing: border-box;\" data-src=\"http://mmbiz.qpic.cn/mmbiz/ugnYPLVSd8tqywic0Lga3KLW2Qbv9YJWrdHPLuCEfN6oLqdibKEgTKS5Ys5yBpMVUMRglQfBprDI2Xqq5Jb3Agjg/0\" class=\"tn-Powered-by-XIUMI\" data-ratio=\"1\" data-w=\"18\"  /> <img style=\"width: 1em; background-color: rgb(142, 201, 101); box-sizing: border-box;\" data-src=\"http://mmbiz.qpic.cn/mmbiz/ugnYPLVSd8tqywic0Lga3KLW2Qbv9YJWrTGdZ9QKdWY3iaiaDTlUF7kadAo5NJn85Nsoiamwam8PEu9hpWGbJuVZuw/0\" class=\"tn-Powered-by-XIUMI\" data-ratio=\"0.9444444444444444\" data-w=\"18\"  /> <img style=\"float: right; width: 1em; background-color: rgb(142, 201, 101); box-sizing: border-box;\" data-src=\"http://mmbiz.qpic.cn/mmbiz/ugnYPLVSd8tqywic0Lga3KLW2Qbv9YJWr9zia4LDL0BGdMyODDttemDXDPQzDyeDR3GLTiaZxibNpkVmncf9GFlia5g/0\" class=\"tn-Powered-by-XIUMI\" data-ratio=\"1\" data-w=\"18\"  /></section><section style=\"width: 100%; display: inline-block; vertical-align: top; margin-top: -0.8em; box-sizing: border-box;\" class=\"tn-Powered-by-XIUMI\"><section style=\"float: left; width: 45%; border-top-width: 1px; border-top-style: solid; border-color: rgb(142, 201, 101); box-sizing: border-box;\" class=\"tn-Powered-by-XIUMI\"></section><section style=\"float: right; width: 45%; border-top-width: 1px; border-top-style: solid; border-color: rgb(142, 201, 101); box-sizing: border-box;\" class=\"tn-Powered-by-XIUMI\"></section></section><section style=\"width: 100%; padding: 0px 0.5em; margin-top: -1.5em; line-height: 1.3em; box-sizing: border-box;\" class=\"tn-Powered-by-XIUMI\"><section style=\"box-sizing: border-box;\" class=\"tn-Powered-by-XIUMI\">议题分类</section></section><section class=\"tn-Powered-by-XIUMI\" style=\"box-sizing: border-box;\"><img style=\"width: 1em; float: left; background-color: rgb(142, 201, 101); box-sizing: border-box;\" data-src=\"http://mmbiz.qpic.cn/mmbiz/ugnYPLVSd8tqywic0Lga3KLW2Qbv9YJWric6UwyR9ylXvb7F2gbteyJhoM4udYonbznd6XBKsd183743JviaSy1Fg/0\" class=\"tn-Powered-by-XIUMI\" data-ratio=\"1\" data-w=\"18\"  /> <img style=\"width: 1em; float: right; background-color: rgb(142, 201, 101); box-sizing: border-box;\" data-src=\"http://mmbiz.qpic.cn/mmbiz/ugnYPLVSd8tqywic0Lga3KLW2Qbv9YJWr9LJYysPnIEIw4VLmvHVZkkVF3zpRLMF48DHO1xiaPdlMGKtrTFSbx8w/0\" class=\"tn-Powered-by-XIUMI\" data-ratio=\"1\" data-w=\"18\"  /></section><section style=\"width: 100%; display: inline-block; vertical-align: top; margin-top: -1.6em; box-sizing: border-box;\" class=\"tn-Powered-by-XIUMI\"><section style=\"display: inline-block; vertical-align: middle; width: 98%; border-top-width: 1px; border-top-style: solid; border-color: rgb(142, 201, 101); box-sizing: border-box;\" class=\"tn-Powered-by-XIUMI\"></section></section></fieldset><fieldset style=\"border: 0px; box-sizing: border-box; width: 100%; clear: both; margin: 0.8em 0px 0px; padding: 0px 0.5em 0.5em 0px;\" class=\"tn-Powered-by-XIUMI\"><img style=\"box-sizing: border-box; width: 100%; -webkit-box-shadow: rgb(102, 102, 102) 0.2em 0.2em 0.5em; box-shadow: rgb(102, 102, 102) 0.2em 0.2em 0.5em;\" data-src=\"http://mmbiz.qpic.cn/mmbiz/LsWWX18C1X96vmarydNeesjbpKSicFcLuPxiciaMVXy1UBEcNKBmrJJKK1NVRf2azNtZoNW5XFu7uUqwjyoqrfoYg/0?wx_fmt=png\" class=\"tn-Powered-by-XIUMI\" data-type=\"png\" data-ratio=\"0.4718875502008032\" data-w=\"498\"  /></fieldset><fieldset style=\"border: 0px; margin-top: 0px; margin-bottom: 0px; clear: both; font-size: 1em; font-family: inherit; font-weight: inherit; text-align: justify; text-decoration: inherit; color: inherit; box-sizing: border-box; padding: 0px;\" class=\"tn-Powered-by-XIUMI\"><section class=\"tn-Powered-by-XIUMI\" style=\"box-sizing: border-box;\"><br class=\"tn-Powered-by-XIUMI\" style=\"box-sizing: border-box;\"  /></section><section class=\"tn-Powered-by-XIUMI\" style=\"box-sizing: border-box;\">如图，我们将此议题分为6大类。</section><section class=\"tn-Powered-by-XIUMI\" style=\"box-sizing: border-box;\"><br class=\"tn-Powered-by-XIUMI\" style=\"box-sizing: border-box;\"  /></section></fieldset><fieldset style=\"border: 0px; margin: 0.8em 0px 0.5em; box-sizing: border-box; padding: 0px;\" class=\"tn-Powered-by-XIUMI\"><section style=\"display: inline-block; padding: 0px 2px 2px; box-sizing: border-box; border-bottom-width: 2px; border-bottom-style: solid; border-color: rgb(142, 201, 101); line-height: 1; font-size: 1em; font-family: inherit; font-weight: inherit; text-align: center; text-decoration: inherit; color: rgb(255, 255, 255);\" class=\"tn-Powered-by-XIUMI\"><section style=\"display: inline-block; margin: 0px; padding: 0.3em 0.4em; min-width: 1.8em; min-height: 1.6em; border-top-left-radius: 80%; border-top-right-radius: 100%; border-bottom-right-radius: 90%; border-bottom-left-radius: 20%; line-height: 1; font-size: 1em; font-family: inherit; background-color: rgb(142, 201, 101); box-sizing: border-box; word-wrap: break-word !important;\" class=\"tn-Powered-by-XIUMI\"><section class=\"tn-Powered-by-XIUMI\" style=\"box-sizing: border-box;\">1</section></section><span style=\"display: inline-block; margin-left: 0.4em; max-width: 100%; color: rgb(0, 112, 192); line-height: 1.4; font-size: 1em; word-wrap: break-word !important; box-sizing: border-box;\" class=\"tn-Powered-by-XIUMI\"><span style=\"max-width: 100%; font-size: 1em; font-family: inherit; font-weight: bolder; text-align: inherit; text-decoration: inherit; color: rgb(142, 201, 101); box-sizing: border-box; word-wrap: break-word !important;\" class=\"tn-Powered-by-XIUMI\"><section class=\"tn-Powered-by-XIUMI\" style=\"box-sizing: border-box;\">尼泊尔地震</section></span></span></section></fieldset><fieldset style=\"border: 0px; margin-top: 0px; margin-bottom: 0px; clear: both; font-size: 1em; font-family: inherit; font-weight: inherit; text-align: justify; text-decoration: inherit; color: inherit; box-sizing: border-box; padding: 0px;\" class=\"tn-Powered-by-XIUMI\"><section class=\"tn-Powered-by-XIUMI\" style=\"box-sizing: border-box;\">这类文章是对4月25日尼泊尔地震的新闻报道，包括现场视频，地震强度、规模，损失程度、遇难人员介绍等。更进一步的，有对尼泊尔地震原因探析，认为其处在板块交界处，灾难是必然的。因尼泊尔是佛教圣地，也有从佛学角度解释地震的启示。</section><section class=\"tn-Powered-by-XIUMI\" style=\"box-sizing: border-box;\"><br class=\"tn-Powered-by-XIUMI\" style=\"box-sizing: border-box;\"  /></section></fieldset><fieldset style=\"border: 0px; margin: 0.8em 0px 0.5em; box-sizing: border-box; padding: 0px;\" class=\"tn-Powered-by-XIUMI\"><section style=\"display: inline-block; padding: 0px 2px 2px; box-sizing: border-box; border-bottom-width: 2px; border-bottom-style: solid; border-color: rgb(142, 201, 101); line-height: 1; font-size: 1em; font-family: inherit; font-weight: inherit; text-align: center; text-decoration: inherit; color: rgb(255, 255, 255);\" class=\"tn-Powered-by-XIUMI\"><section style=\"display: inline-block; margin: 0px; padding: 0.3em 0.4em; min-width: 1.8em; min-height: 1.6em; border-top-left-radius: 80%; border-top-right-radius: 100%; border-bottom-right-radius: 90%; border-bottom-left-radius: 20%; line-height: 1; font-size: 1em; font-family: inherit; background-color: rgb(142, 201, 101); box-sizing: border-box; word-wrap: break-word !important;\" class=\"tn-Powered-by-XIUMI\"><section class=\"tn-Powered-by-XIUMI\" style=\"box-sizing: border-box;\">2</section></section><span style=\"display: inline-block; margin-left: 0.4em; max-width: 100%; color: rgb(0, 112, 192); line-height: 1.4; font-size: 1em; word-wrap: break-word !important; box-sizing: border-box;\" class=\"tn-Powered-by-XIUMI\"><span style=\"max-width: 100%; font-size: 1em; font-family: inherit; font-weight: bolder; text-align: inherit; text-decoration: inherit; color: rgb(142, 201, 101); box-sizing: border-box; word-wrap: break-word !important;\" class=\"tn-Powered-by-XIUMI\"><section class=\"tn-Powered-by-XIUMI\" style=\"box-sizing: border-box;\">国内地震报道</section></span></span></section></fieldset><fieldset style=\"border: 0px; margin-top: 0px; margin-bottom: 0px; clear: both; font-size: 1em; font-family: inherit; font-weight: inherit; text-align: justify; text-decoration: inherit; color: inherit; box-sizing: border-box; padding: 0px;\" class=\"tn-Powered-by-XIUMI\"><section class=\"tn-Powered-by-XIUMI\" style=\"box-sizing: border-box;\">主要是对10日内蒙古、甘肃、山西等地的地震，以及20日台湾地震的报道。偏重于对硬新闻的呈现，介绍地震范围、级数、伤亡情况，少数几篇是对甘肃地震的辟谣，称其只是微震。</section><section class=\"tn-Powered-by-XIUMI\" style=\"box-sizing: border-box;\"><br class=\"tn-Powered-by-XIUMI\" style=\"box-sizing: border-box;\"  /></section></fieldset><fieldset style=\"border: 0px; margin: 0.8em 0px 0.5em; box-sizing: border-box; padding: 0px;\" class=\"tn-Powered-by-XIUMI\"><section style=\"display: inline-block; padding: 0px 2px 2px; box-sizing: border-box; border-bottom-width: 2px; border-bottom-style: solid; border-color: rgb(142, 201, 101); line-height: 1; font-size: 1em; font-family: inherit; font-weight: inherit; text-align: center; text-decoration: inherit; color: rgb(255, 255, 255);\" class=\"tn-Powered-by-XIUMI\"><section style=\"display: inline-block; margin: 0px; padding: 0.3em 0.4em; min-width: 1.8em; min-height: 1.6em; border-top-left-radius: 80%; border-top-right-radius: 100%; border-bottom-right-radius: 90%; border-bottom-left-radius: 20%; line-height: 1; font-size: 1em; font-family: inherit; background-color: rgb(142, 201, 101); box-sizing: border-box; word-wrap: break-word !important;\" class=\"tn-Powered-by-XIUMI\"><section class=\"tn-Powered-by-XIUMI\" style=\"box-sizing: border-box;\">3</section></section><span style=\"display: inline-block; margin-left: 0.4em; max-width: 100%; color: rgb(0, 112, 192); line-height: 1.4; font-size: 1em; word-wrap: break-word !important; box-sizing: border-box;\" class=\"tn-Powered-by-XIUMI\"><span style=\"max-width: 100%; font-size: 1em; font-family: inherit; font-weight: bolder; text-align: inherit; text-decoration: inherit; color: rgb(142, 201, 101); box-sizing: border-box; word-wrap: break-word !important;\" class=\"tn-Powered-by-XIUMI\"><section class=\"tn-Powered-by-XIUMI\" style=\"box-sizing: border-box;\">中国救援回应</section></span></span></section></fieldset><fieldset style=\"border: 0px; margin-top: 0px; margin-bottom: 0px; clear: both; font-size: 1em; font-family: inherit; font-weight: inherit; text-align: justify; text-decoration: inherit; color: inherit; box-sizing: border-box; padding: 0px;\" class=\"tn-Powered-by-XIUMI\"><section class=\"tn-Powered-by-XIUMI\" style=\"box-sizing: border-box;\">地震救援的报道大多是与尼泊尔地震相关，并且80%的文章是中国政府做出迅速反应派出救援机接国人回家。以“中国人又先撤了”，来为祖国点赞。少数几篇是滴滴快的、腾讯基金、万达等为尼泊尔捐款的消息。</section><section class=\"tn-Powered-by-XIUMI\" style=\"box-sizing: border-box;\"><br class=\"tn-Powered-by-XIUMI\" style=\"box-sizing: border-box;\"  /></section></fieldset><fieldset style=\"border: 0px; margin: 0.8em 0px 0.5em; box-sizing: border-box; padding: 0px;\" class=\"tn-Powered-by-XIUMI\"><section style=\"display: inline-block; padding: 0px 2px 2px; box-sizing: border-box; border-bottom-width: 2px; border-bottom-style: solid; border-color: rgb(142, 201, 101); line-height: 1; font-size: 1em; font-family: inherit; font-weight: inherit; text-align: center; text-decoration: inherit; color: rgb(255, 255, 255);\" class=\"tn-Powered-by-XIUMI\"><section style=\"display: inline-block; margin: 0px; padding: 0.3em 0.4em; min-width: 1.8em; min-height: 1.6em; border-top-left-radius: 80%; border-top-right-radius: 100%; border-bottom-right-radius: 90%; border-bottom-left-radius: 20%; line-height: 1; font-size: 1em; font-family: inherit; background-color: rgb(142, 201, 101); box-sizing: border-box; word-wrap: break-word !important;\" class=\"tn-Powered-by-XIUMI\"><section class=\"tn-Powered-by-XIUMI\" style=\"box-sizing: border-box;\">4</section></section><span style=\"display: inline-block; margin-left: 0.4em; max-width: 100%; color: rgb(0, 112, 192); line-height: 1.4; font-size: 1em; word-wrap: break-word !important; box-sizing: border-box;\" class=\"tn-Powered-by-XIUMI\"><span style=\"max-width: 100%; font-size: 1em; font-family: inherit; font-weight: bolder; text-align: inherit; text-decoration: inherit; color: rgb(142, 201, 101); box-sizing: border-box; word-wrap: break-word !important;\" class=\"tn-Powered-by-XIUMI\"><section class=\"tn-Powered-by-XIUMI\" style=\"box-sizing: border-box;\">发改委与地震</section></span></span></section></fieldset><fieldset style=\"border: 0px; margin-top: 0px; margin-bottom: 0px; clear: both; font-size: 1em; font-family: inherit; font-weight: inherit; text-align: justify; text-decoration: inherit; color: inherit; box-sizing: border-box; padding: 0px;\" class=\"tn-Powered-by-XIUMI\"><section class=\"tn-Powered-by-XIUMI\" style=\"box-sizing: border-box;\">这类文章内容相似，纯粹是对发改委的调侃。称其“预测”地震非常准确，只要一上调油价，便会发生地震。</section><section class=\"tn-Powered-by-XIUMI\" style=\"box-sizing: border-box;\"><br class=\"tn-Powered-by-XIUMI\" style=\"box-sizing: border-box;\"  /></section></fieldset><fieldset style=\"border: 0px; margin: 0.8em 0px 0.5em; box-sizing: border-box; padding: 0px;\" class=\"tn-Powered-by-XIUMI\"><section style=\"display: inline-block; padding: 0px 2px 2px; box-sizing: border-box; border-bottom-width: 2px; border-bottom-style: solid; border-color: rgb(142, 201, 101); line-height: 1; font-size: 1em; font-family: inherit; font-weight: inherit; text-align: center; text-decoration: inherit; color: rgb(255, 255, 255);\" class=\"tn-Powered-by-XIUMI\"><section style=\"display: inline-block; margin: 0px; padding: 0.3em 0.4em; min-width: 1.8em; min-height: 1.6em; border-top-left-radius: 80%; border-top-right-radius: 100%; border-bottom-right-radius: 90%; border-bottom-left-radius: 20%; line-height: 1; font-size: 1em; font-family: inherit; background-color: rgb(142, 201, 101); box-sizing: border-box; word-wrap: break-word !important;\" class=\"tn-Powered-by-XIUMI\"><section class=\"tn-Powered-by-XIUMI\" style=\"box-sizing: border-box;\">5</section></section><span style=\"display: inline-block; margin-left: 0.4em; max-width: 100%; color: rgb(0, 112, 192); line-height: 1.4; font-size: 1em; word-wrap: break-word !important; box-sizing: border-box;\" class=\"tn-Powered-by-XIUMI\"><span style=\"max-width: 100%; font-size: 1em; font-family: inherit; font-weight: bolder; text-align: inherit; text-decoration: inherit; color: rgb(142, 201, 101); box-sizing: border-box; word-wrap: break-word !important;\" class=\"tn-Powered-by-XIUMI\"><section class=\"tn-Powered-by-XIUMI\" style=\"box-sizing: border-box;\">地震常识介绍</section></span></span></section></fieldset><fieldset style=\"border: 0px; margin-top: 0px; margin-bottom: 0px; clear: both; font-size: 1em; font-family: inherit; font-weight: inherit; text-align: justify; text-decoration: inherit; color: inherit; box-sizing: border-box; padding: 0px;\" class=\"tn-Powered-by-XIUMI\"><section class=\"tn-Powered-by-XIUMI\" style=\"box-sizing: border-box;\">该类文章介绍全国地震带、地震频发地，地震逃生注意事项，“专家传受活命三角”，如何用手机自救等小常识。</section><section class=\"tn-Powered-by-XIUMI\" style=\"box-sizing: border-box;\"><br class=\"tn-Powered-by-XIUMI\" style=\"box-sizing: border-box;\"  /></section></fieldset><fieldset style=\"border: 0px; margin: 0.8em 0px 0.5em; box-sizing: border-box; padding: 0px;\" class=\"tn-Powered-by-XIUMI\"><section style=\"display: inline-block; padding: 0px 2px 2px; box-sizing: border-box; border-bottom-width: 2px; border-bottom-style: solid; border-color: rgb(142, 201, 101); line-height: 1; font-size: 1em; font-family: inherit; font-weight: inherit; text-align: center; text-decoration: inherit; color: rgb(255, 255, 255);\" class=\"tn-Powered-by-XIUMI\"><section style=\"display: inline-block; margin: 0px; padding: 0.3em 0.4em; min-width: 1.8em; min-height: 1.6em; border-top-left-radius: 80%; border-top-right-radius: 100%; border-bottom-right-radius: 90%; border-bottom-left-radius: 20%; line-height: 1; font-size: 1em; font-family: inherit; background-color: rgb(142, 201, 101); box-sizing: border-box; word-wrap: break-word !important;\" class=\"tn-Powered-by-XIUMI\"><section class=\"tn-Powered-by-XIUMI\" style=\"box-sizing: border-box;\">6</section></section><span style=\"display: inline-block; margin-left: 0.4em; max-width: 100%; color: rgb(0, 112, 192); line-height: 1.4; font-size: 1em; word-wrap: break-word !important; box-sizing: border-box;\" class=\"tn-Powered-by-XIUMI\"><span style=\"max-width: 100%; font-size: 1em; font-family: inherit; font-weight: bolder; text-align: inherit; text-decoration: inherit; color: rgb(142, 201, 101); box-sizing: border-box; word-wrap: break-word !important;\" class=\"tn-Powered-by-XIUMI\"><section class=\"tn-Powered-by-XIUMI\" style=\"box-sizing: border-box;\">地震中的故事</section></span></span></section></fieldset><fieldset style=\"border: 0px; margin-top: 0px; margin-bottom: 0px; clear: both; font-size: 1em; font-family: inherit; font-weight: inherit; text-align: justify; text-decoration: inherit; color: inherit; box-sizing: border-box; padding: 0px;\" class=\"tn-Powered-by-XIUMI\"><section class=\"tn-Powered-by-XIUMI\" style=\"box-sizing: border-box;\">讲述地震中的感人瞬间，回忆汶川地震中的故事，传递“：地震无情，人间有情”的正能量。</section><section class=\"tn-Powered-by-XIUMI\" style=\"box-sizing: border-box;\"><br class=\"tn-Powered-by-XIUMI\" style=\"box-sizing: border-box;\"  /></section></fieldset><fieldset style=\"border: 0px; box-sizing: border-box; width: 100%; clear: both; margin: 0.8em 0px 0px; padding: 0px 0.5em 0.5em 0px;\" class=\"tn-Powered-by-XIUMI\"><img style=\"box-sizing: border-box; width: 100%; -webkit-box-shadow: rgb(102, 102, 102) 0.2em 0.2em 0.5em; box-shadow: rgb(102, 102, 102) 0.2em 0.2em 0.5em;\" data-src=\"http://mmbiz.qpic.cn/mmbiz/LsWWX18C1X96vmarydNeesjbpKSicFcLu2qS3Eo9Ydvic1ckhiaQrXhvEaSqh9gmM6oWib6INsZicc8iby5Kf4PTSoww/0?wx_fmt=png\" class=\"tn-Powered-by-XIUMI\" data-type=\"png\" data-ratio=\"1.214859437751004\" data-w=\"498\"  /></fieldset><fieldset style=\"border: 0px; margin-top: 0px; margin-bottom: 0px; clear: both; font-size: 1em; font-family: inherit; font-weight: inherit; text-align: justify; text-decoration: inherit; color: inherit; box-sizing: border-box; padding: 0px;\" class=\"tn-Powered-by-XIUMI\"><section class=\"tn-Powered-by-XIUMI\" style=\"box-sizing: border-box;\"><br class=\"tn-Powered-by-XIUMI\" style=\"box-sizing: border-box;\"  /></section></fieldset><fieldset style=\"border: 0px; display: inline-block; margin: 0.8em 0px 0.5em; line-height: 1; overflow: hidden; box-sizing: border-box; padding: 0px;\" class=\"tn-Powered-by-XIUMI\"><section style=\"border-bottom-style: solid; border-bottom-width: 1px; border-color: rgb(142, 201, 101); font-size: 112.5%; font-family: inherit; font-weight: inherit; text-align: inherit; text-decoration: inherit; color: rgb(255, 255, 255); box-sizing: border-box;\" class=\"tn-Powered-by-XIUMI\"><section style=\"display: inline-block; height: 1.2em; padding: 0.1em; line-height: 1em; font-size: 112.5%; font-family: inherit; background-color: rgb(142, 201, 101); box-sizing: border-box;\" class=\"tn-Powered-by-XIUMI\"><section class=\"tn-Powered-by-XIUMI\" style=\"box-sizing: border-box;\">   </section></section><section style=\"display: inline-block; padding: 0.2em; line-height: 1; font-size: 88.8889%; font-family: inherit; font-weight: bold; text-align: inherit; text-decoration: inherit; color: rgb(42, 52, 58); box-sizing: border-box;\" class=\"tn-Powered-by-XIUMI\"><section class=\"tn-Powered-by-XIUMI\" style=\"box-sizing: border-box;\">国内外地震关注差异大</section></section></section></fieldset><fieldset style=\"border: 0px; margin-top: 0px; margin-bottom: 0px; clear: both; font-size: 1em; font-family: inherit; font-weight: inherit; text-align: justify; text-decoration: inherit; color: inherit; box-sizing: border-box; padding: 0px;\" class=\"tn-Powered-by-XIUMI\"><section class=\"tn-Powered-by-XIUMI\" style=\"box-sizing: border-box;\">关于“地震”本身的报道仍旧是媒体关注的重点，尼泊尔地震与国内地震报道占一半的比例。而关于尼泊尔话题的占了45%，国内地震相关的只有22%。微媒体对国内外地震关注有明显的偏差，而且在衍生话题方面也相差甚大。尼泊尔地震中，除了硬新闻报道外，还有对其原因分析、中国救援情况等，而国内地震只是集中于硬新闻。地震常识介绍只占9%，地震知识普及还比较欠缺。</section><section class=\"tn-Powered-by-XIUMI\" style=\"box-sizing: border-box;\"><br class=\"tn-Powered-by-XIUMI\" style=\"box-sizing: border-box;\"  /></section></fieldset><fieldset style=\"border: none rgb(142, 201, 101); margin: 0.5em 0px 0px; font-size: 112.5%; font-family: inherit; font-weight: bold; text-align: center; text-decoration: inherit; color: rgb(249, 110, 87); box-sizing: border-box; padding: 0px;\" class=\"tn-Powered-by-XIUMI\"><section style=\"width: 100%; box-sizing: border-box;\" class=\"tn-Powered-by-XIUMI\"><img style=\"float: left; width: 1em; background-color: rgb(142, 201, 101); box-sizing: border-box;\" data-src=\"http://mmbiz.qpic.cn/mmbiz/ugnYPLVSd8tqywic0Lga3KLW2Qbv9YJWrdHPLuCEfN6oLqdibKEgTKS5Ys5yBpMVUMRglQfBprDI2Xqq5Jb3Agjg/0\" class=\"tn-Powered-by-XIUMI\" data-ratio=\"1\" data-w=\"18\"  /> <img style=\"width: 1em; background-color: rgb(142, 201, 101); box-sizing: border-box;\" data-src=\"http://mmbiz.qpic.cn/mmbiz/ugnYPLVSd8tqywic0Lga3KLW2Qbv9YJWrTGdZ9QKdWY3iaiaDTlUF7kadAo5NJn85Nsoiamwam8PEu9hpWGbJuVZuw/0\" class=\"tn-Powered-by-XIUMI\" data-ratio=\"0.9444444444444444\" data-w=\"18\"  /> <img style=\"float: right; width: 1em; background-color: rgb(142, 201, 101); box-sizing: border-box;\" data-src=\"http://mmbiz.qpic.cn/mmbiz/ugnYPLVSd8tqywic0Lga3KLW2Qbv9YJWr9zia4LDL0BGdMyODDttemDXDPQzDyeDR3GLTiaZxibNpkVmncf9GFlia5g/0\" class=\"tn-Powered-by-XIUMI\" data-ratio=\"1\" data-w=\"18\"  /></section><section style=\"width: 100%; display: inline-block; vertical-align: top; margin-top: -0.8em; box-sizing: border-box;\" class=\"tn-Powered-by-XIUMI\"><section style=\"float: left; width: 45%; border-top-width: 1px; border-top-style: solid; border-color: rgb(142, 201, 101); box-sizing: border-box;\" class=\"tn-Powered-by-XIUMI\"></section><section style=\"float: right; width: 45%; border-top-width: 1px; border-top-style: solid; border-color: rgb(142, 201, 101); box-sizing: border-box;\" class=\"tn-Powered-by-XIUMI\"></section></section><section style=\"width: 100%; padding: 0px 0.5em; margin-top: -1.5em; line-height: 1.3em; box-sizing: border-box;\" class=\"tn-Powered-by-XIUMI\"><section class=\"tn-Powered-by-XIUMI\" style=\"box-sizing: border-box;\">阅读与点赞分析</section></section><section class=\"tn-Powered-by-XIUMI\" style=\"box-sizing: border-box;\"><img style=\"width: 1em; float: left; background-color: rgb(142, 201, 101); box-sizing: border-box;\" data-src=\"http://mmbiz.qpic.cn/mmbiz/ugnYPLVSd8tqywic0Lga3KLW2Qbv9YJWric6UwyR9ylXvb7F2gbteyJhoM4udYonbznd6XBKsd183743JviaSy1Fg/0\" class=\"tn-Powered-by-XIUMI\" data-ratio=\"1\" data-w=\"18\"  /> <img style=\"width: 1em; float: right; background-color: rgb(142, 201, 101); box-sizing: border-box;\" data-src=\"http://mmbiz.qpic.cn/mmbiz/ugnYPLVSd8tqywic0Lga3KLW2Qbv9YJWr9LJYysPnIEIw4VLmvHVZkkVF3zpRLMF48DHO1xiaPdlMGKtrTFSbx8w/0\" class=\"tn-Powered-by-XIUMI\" data-ratio=\"1\" data-w=\"18\"  /></section><section style=\"width: 100%; display: inline-block; vertical-align: top; margin-top: -1.6em; box-sizing: border-box;\" class=\"tn-Powered-by-XIUMI\"><section style=\"display: inline-block; vertical-align: middle; width: 98%; border-top-width: 1px; border-top-style: solid; border-color: rgb(142, 201, 101); box-sizing: border-box;\" class=\"tn-Powered-by-XIUMI\"></section></section></fieldset><fieldset style=\"border: 0px; box-sizing: border-box; width: 100%; clear: both; margin: 0.8em 0px 0px; padding: 0px 0.5em 0.5em 0px;\" class=\"tn-Powered-by-XIUMI\"><img style=\"box-sizing: border-box; width: 100%; -webkit-box-shadow: rgb(102, 102, 102) 0.2em 0.2em 0.5em; box-shadow: rgb(102, 102, 102) 0.2em 0.2em 0.5em;\" data-src=\"http://mmbiz.qpic.cn/mmbiz/LsWWX18C1X96vmarydNeesjbpKSicFcLuWqm06dCbL0ib7yB4Evr6WpIGe8A2QIlVy9ZX5DgiaxEMvLUnQRPIYv6Q/0?wx_fmt=png\" class=\"tn-Powered-by-XIUMI\" data-type=\"png\" data-ratio=\"0.6104417670682731\" data-w=\"498\"  /></fieldset><fieldset style=\"border: 0px; margin-top: 0px; margin-bottom: 0px; clear: both; font-size: 1em; font-family: inherit; font-weight: inherit; text-align: justify; text-decoration: inherit; color: inherit; box-sizing: border-box; padding: 0px;\" class=\"tn-Powered-by-XIUMI\"><section class=\"tn-Powered-by-XIUMI\" style=\"box-sizing: border-box;\"><br class=\"tn-Powered-by-XIUMI\" style=\"box-sizing: border-box;\"  /></section></fieldset><fieldset style=\"border: 0px; box-sizing: border-box; width: 100%; clear: both; margin: 0.8em 0px 0px; padding: 0px 0.5em 0.5em 0px;\" class=\"tn-Powered-by-XIUMI\"><img style=\"box-sizing: border-box; width: 100%; -webkit-box-shadow: rgb(102, 102, 102) 0.2em 0.2em 0.5em; box-shadow: rgb(102, 102, 102) 0.2em 0.2em 0.5em;\" data-src=\"http://mmbiz.qpic.cn/mmbiz/LsWWX18C1X96vmarydNeesjbpKSicFcLuCwuycsSW7n6Y8WzjMtxXnSgkSW8EuESpTB60zAo38Ta0F1a0JmMHGA/0?wx_fmt=png\" class=\"tn-Powered-by-XIUMI\" data-type=\"png\" data-ratio=\"0.5863453815261044\" data-w=\"498\"  /></fieldset><fieldset style=\"border: 0px; margin-top: 0px; margin-bottom: 0px; clear: both; font-size: 1em; font-family: inherit; font-weight: inherit; text-align: justify; text-decoration: inherit; color: inherit; box-sizing: border-box; padding: 0px;\" class=\"tn-Powered-by-XIUMI\"><section class=\"tn-Powered-by-XIUMI\" style=\"box-sizing: border-box;\"><br class=\"tn-Powered-by-XIUMI\" style=\"box-sizing: border-box;\"  /></section></fieldset><fieldset style=\"border: 0px; display: inline-block; margin: 0.8em 0px 0.5em; line-height: 1; overflow: hidden; box-sizing: border-box; padding: 0px;\" class=\"tn-Powered-by-XIUMI\"><section style=\"border-bottom-style: solid; border-bottom-width: 1px; border-color: rgb(142, 201, 101); font-size: 112.5%; font-family: inherit; font-weight: inherit; text-align: inherit; text-decoration: inherit; color: rgb(255, 255, 255); box-sizing: border-box;\" class=\"tn-Powered-by-XIUMI\"><section style=\"display: inline-block; height: 1.2em; padding: 0.1em; line-height: 1em; font-size: 112.5%; font-family: inherit; background-color: rgb(142, 201, 101); box-sizing: border-box;\" class=\"tn-Powered-by-XIUMI\"><section class=\"tn-Powered-by-XIUMI\" style=\"box-sizing: border-box;\">   </section></section><section style=\"display: inline-block; padding: 0.2em; line-height: 1; font-size: 88.8889%; font-family: inherit; font-weight: bold; text-align: inherit; text-decoration: inherit; color: rgb(42, 52, 58); box-sizing: border-box;\" class=\"tn-Powered-by-XIUMI\"><section class=\"tn-Powered-by-XIUMI\" style=\"box-sizing: border-box;\">爱国新闻容易激起点赞狂潮</section></section></section></fieldset><fieldset style=\"border: 0px; margin-top: 0px; margin-bottom: 0px; clear: both; font-size: 1em; font-family: inherit; font-weight: inherit; text-align: justify; text-decoration: inherit; color: inherit; box-sizing: border-box; padding: 0px;\" class=\"tn-Powered-by-XIUMI\"><section class=\"tn-Powered-by-XIUMI\" style=\"box-sizing: border-box;\">整体上来说，网民对地震议题关注度较高，自然灾害类话题一旦爆发，很容易引起人们情感共鸣，掀起热潮。但从点赞数来看，“中国救援回应”类的总点赞与平均点赞都是最高的，网民对地震的关注点并非地震本身，而是与之相关的“政府行动”。尼泊尔地震后，祖国派出救援机接国人回家，这一“先撤”行为被大量报道，上演了一出霸道总裁不由分说爱国民的新闻。而爱国新闻则往往是最容易煽动民族情绪，产生民族优越感，激起点赞狂潮。</section><section class=\"tn-Powered-by-XIUMI\" style=\"box-sizing: border-box;\"><br class=\"tn-Powered-by-XIUMI\" style=\"box-sizing: border-box;\"  /></section></fieldset><fieldset style=\"border: 0px; display: inline-block; margin: 0.8em 0px 0.5em; line-height: 1; overflow: hidden; box-sizing: border-box; padding: 0px;\" class=\"tn-Powered-by-XIUMI\"><section style=\"border-bottom-style: solid; border-bottom-width: 1px; border-color: rgb(142, 201, 101); font-size: 112.5%; font-family: inherit; font-weight: inherit; text-align: inherit; text-decoration: inherit; color: rgb(255, 255, 255); box-sizing: border-box;\" class=\"tn-Powered-by-XIUMI\"><section style=\"display: inline-block; height: 1.2em; padding: 0.1em; line-height: 1em; font-size: 112.5%; font-family: inherit; background-color: rgb(142, 201, 101); box-sizing: border-box;\" class=\"tn-Powered-by-XIUMI\"><section class=\"tn-Powered-by-XIUMI\" style=\"box-sizing: border-box;\">   </section></section><section style=\"display: inline-block; padding: 0.2em; line-height: 1; font-size: 88.8889%; font-family: inherit; font-weight: bold; text-align: inherit; text-decoration: inherit; color: rgb(42, 52, 58); box-sizing: border-box;\" class=\"tn-Powered-by-XIUMI\"><section class=\"tn-Powered-by-XIUMI\" style=\"box-sizing: border-box;\">人的关注小于国民尊严的保护</section></section></section></fieldset><fieldset style=\"border: 0px; margin-top: 0px; margin-bottom: 0px; clear: both; font-size: 1em; font-family: inherit; font-weight: inherit; text-align: justify; text-decoration: inherit; color: inherit; box-sizing: border-box; padding: 0px;\" class=\"tn-Powered-by-XIUMI\"><section class=\"tn-Powered-by-XIUMI\" style=\"box-sizing: border-box;\">另一方面，国内地震的关注度却很少，不仅体现在政府救援的报道量小，网民的兴趣点与评价也较低。我们对“地震”中人的关注，远远小于国民尊严的保护。通过“撤离”速度来证明中国的影响力也显得有失妥当，灾难应急管理、救援和灾后重建能力才应是“地震”关注焦点。“发改委与地震”的点赞量也相对较高，网民对发改委和地震的调侃，反映出的是对油价上涨的不满，这种“怨气”也容易产生共鸣。一面是民族优越感，一面是对政策不满，两种情绪虽矛盾，但同时体现了网民心理趋同。</section><section class=\"tn-Powered-by-XIUMI\" style=\"box-sizing: border-box;\"><br class=\"tn-Powered-by-XIUMI\" style=\"box-sizing: border-box;\"  /></section></fieldset><fieldset style=\"border: none rgb(142, 201, 101); margin: 0.5em 0px 0px; font-size: 112.5%; font-family: inherit; font-weight: bold; text-align: center; text-decoration: inherit; color: rgb(249, 110, 87); box-sizing: border-box; padding: 0px;\" class=\"tn-Powered-by-XIUMI\"><section style=\"width: 100%; box-sizing: border-box;\" class=\"tn-Powered-by-XIUMI\"><img style=\"float: left; width: 1em; background-color: rgb(142, 201, 101); box-sizing: border-box;\" data-src=\"http://mmbiz.qpic.cn/mmbiz/ugnYPLVSd8tqywic0Lga3KLW2Qbv9YJWrdHPLuCEfN6oLqdibKEgTKS5Ys5yBpMVUMRglQfBprDI2Xqq5Jb3Agjg/0\" class=\"tn-Powered-by-XIUMI\" data-ratio=\"1\" data-w=\"18\"  /> <img style=\"width: 1em; background-color: rgb(142, 201, 101); box-sizing: border-box;\" data-src=\"http://mmbiz.qpic.cn/mmbiz/ugnYPLVSd8tqywic0Lga3KLW2Qbv9YJWrTGdZ9QKdWY3iaiaDTlUF7kadAo5NJn85Nsoiamwam8PEu9hpWGbJuVZuw/0\" class=\"tn-Powered-by-XIUMI\" data-ratio=\"0.9444444444444444\" data-w=\"18\"  /> <img style=\"float: right; width: 1em; background-color: rgb(142, 201, 101); box-sizing: border-box;\" data-src=\"http://mmbiz.qpic.cn/mmbiz/ugnYPLVSd8tqywic0Lga3KLW2Qbv9YJWr9zia4LDL0BGdMyODDttemDXDPQzDyeDR3GLTiaZxibNpkVmncf9GFlia5g/0\" class=\"tn-Powered-by-XIUMI\" data-ratio=\"1\" data-w=\"18\"  /></section><section style=\"width: 100%; display: inline-block; vertical-align: top; margin-top: -0.8em; box-sizing: border-box;\" class=\"tn-Powered-by-XIUMI\"><section style=\"float: left; width: 45%; border-top-width: 1px; border-top-style: solid; border-color: rgb(142, 201, 101); box-sizing: border-box;\" class=\"tn-Powered-by-XIUMI\"></section><section style=\"float: right; width: 45%; border-top-width: 1px; border-top-style: solid; border-color: rgb(142, 201, 101); box-sizing: border-box;\" class=\"tn-Powered-by-XIUMI\"></section></section><section style=\"width: 100%; padding: 0px 0.5em; margin-top: -1.5em; line-height: 1.3em; box-sizing: border-box;\" class=\"tn-Powered-by-XIUMI\"><section class=\"tn-Powered-by-XIUMI\" style=\"box-sizing: border-box;\">数据附表</section></section><section class=\"tn-Powered-by-XIUMI\" style=\"box-sizing: border-box;\"><img style=\"width: 1em; float: left; background-color: rgb(142, 201, 101); box-sizing: border-box;\" data-src=\"http://mmbiz.qpic.cn/mmbiz/ugnYPLVSd8tqywic0Lga3KLW2Qbv9YJWric6UwyR9ylXvb7F2gbteyJhoM4udYonbznd6XBKsd183743JviaSy1Fg/0\" class=\"tn-Powered-by-XIUMI\" data-ratio=\"1\" data-w=\"18\"  /> <img style=\"width: 1em; float: right; background-color: rgb(142, 201, 101); box-sizing: border-box;\" data-src=\"http://mmbiz.qpic.cn/mmbiz/ugnYPLVSd8tqywic0Lga3KLW2Qbv9YJWr9LJYysPnIEIw4VLmvHVZkkVF3zpRLMF48DHO1xiaPdlMGKtrTFSbx8w/0\" class=\"tn-Powered-by-XIUMI\" data-ratio=\"1\" data-w=\"18\"  /></section><section style=\"width: 100%; display: inline-block; vertical-align: top; margin-top: -1.6em; box-sizing: border-box;\" class=\"tn-Powered-by-XIUMI\"><section style=\"display: inline-block; vertical-align: middle; width: 98%; border-top-width: 1px; border-top-style: solid; border-color: rgb(142, 201, 101); box-sizing: border-box;\" class=\"tn-Powered-by-XIUMI\"></section></section></fieldset><fieldset style=\"border: 0px; margin-top: 0px; margin-bottom: 0px; clear: both; font-size: 100%; font-family: inherit; font-weight: bold; text-align: justify; text-decoration: inherit; color: inherit; box-sizing: border-box; padding: 0px;\" class=\"tn-Powered-by-XIUMI\"><section class=\"tn-Powered-by-XIUMI\" style=\"box-sizing: border-box;\">微文章排行TOP50：</section></fieldset><fieldset style=\"border: 0px; box-sizing: border-box; width: 100%; margin: 0.8em 0px 0.2em; clear: both; padding: 0px;\" class=\"tn-Powered-by-XIUMI\"><img style=\"box-sizing: border-box; width: 100%;\" data-src=\"http://mmbiz.qpic.cn/mmbiz/LsWWX18C1X96vmarydNeesjbpKSicFcLuXNMBbia4JTib1MRj2X6xGPdhwibDqobf7BArmSPCkZqXD5icictpL6HU3YQ/0?wx_fmt=png\" class=\"tn-Powered-by-XIUMI\" data-type=\"png\" data-ratio=\"4.017786561264822\" data-w=\"\"  /></fieldset><fieldset style=\"border: 0px; margin-top: 0px; margin-bottom: 0px; clear: both; font-size: 100%; font-family: inherit; font-weight: bold; text-align: justify; text-decoration: inherit; color: inherit; box-sizing: border-box; padding: 0px;\" class=\"tn-Powered-by-XIUMI\"><section class=\"tn-Powered-by-XIUMI\" style=\"box-sizing: border-box;\">公众号排行TOP20：</section></fieldset><fieldset style=\"border: 0px; box-sizing: border-box; width: 100%; margin: 0.8em 0px 0.2em; clear: both; padding: 0px;\" class=\"tn-Powered-by-XIUMI\"><img style=\"box-sizing: border-box; width: 100%;\" data-src=\"http://mmbiz.qpic.cn/mmbiz/LsWWX18C1X96vmarydNeesjbpKSicFcLuQYfToOZPNP3ZKfKOY9wkL6hQWMIqdEFdsiaXdTLnqNRvZ9yp40drfVg/0?wx_fmt=png\" class=\"tn-Powered-by-XIUMI\" data-type=\"png\" data-ratio=\"2.391304347826087\" data-w=\"\"  /></fieldset><fieldset style=\"border: 0px; margin-top: 0px; margin-bottom: 0px; clear: both; font-size: 1em; font-family: inherit; font-weight: inherit; text-align: justify; text-decoration: inherit; color: inherit; box-sizing: border-box; padding: 0px;\" class=\"tn-Powered-by-XIUMI\"><section class=\"tn-Powered-by-XIUMI\" style=\"box-sizing: border-box;\"><br class=\"tn-Powered-by-XIUMI\" style=\"box-sizing: border-box;\"  /></section></fieldset><fieldset style=\"border: 0px; margin: 0px; clear: both; box-sizing: border-box; padding: 0px;\" class=\"tn-Powered-by-XIUMI\"><section style=\"padding: 8px; margin: 0px; border-left-width: 6px; border-left-style: solid; border-color: rgb(142, 201, 101); font-size: 1em; line-height: 1.4; text-align: inherit; font-family: inherit; font-weight: inherit; text-decoration: inherit; color: rgb(51, 51, 51); box-sizing: border-box;\" class=\"tn-Powered-by-XIUMI\"><section class=\"tn-Powered-by-XIUMI\" style=\"box-sizing: border-box;\">作者：晏雪菲</section></section></fieldset><fieldset style=\"border: 0px; margin-top: 0px; margin-bottom: 0px; clear: both; font-size: 1em; font-family: inherit; font-weight: inherit; text-align: justify; text-decoration: inherit; color: inherit; box-sizing: border-box; padding: 0px;\" class=\"tn-Powered-by-XIUMI\"><section class=\"tn-Powered-by-XIUMI\" style=\"box-sizing: border-box;\"><br class=\"tn-Powered-by-XIUMI\" style=\"box-sizing: border-box;\"  /></section></fieldset><fieldset style=\"border: 0px; margin: 0.5em 0px; box-sizing: border-box; padding: 0px;\" class=\"tn-Powered-by-XIUMI\"><section class=\"tn-Powered-by-XIUMI\" style=\"font-size: 1em; font-family: inherit; font-weight: inherit; text-align: inherit; text-decoration: inherit; color: rgb(51, 51, 51); border-color: rgb(142, 201, 101); box-sizing: border-box;\"><section style=\"height: 16px; box-sizing: border-box;\" class=\"tn-Powered-by-XIUMI\"><section style=\"height: 100%; width: 24px; float: left; border-top-width: 6px; border-top-style: solid; border-color: rgb(142, 201, 101); border-left-width: 6px; border-left-style: solid; box-sizing: border-box;\" class=\"tn-Powered-by-XIUMI\"></section><section style=\"height: 100%; width: 24px; float: right; border-top-width: 6px; border-top-style: solid; border-color: rgb(142, 201, 101); border-right-width: 6px; border-right-style: solid; box-sizing: border-box;\" class=\"tn-Powered-by-XIUMI\"></section><section style=\"display: inline-block; color: transparent; clear: both; box-sizing: border-box;\" class=\"tn-Powered-by-XIUMI\"></section></section><section style=\"margin: -13px 3px; padding: 12px; border: 1px solid rgb(142, 201, 101); border-top-left-radius: 6px; border-top-right-radius: 6px; border-bottom-right-radius: 6px; border-bottom-left-radius: 6px; line-height: 1.4; word-break: break-all; word-wrap: break-word; box-sizing: border-box; font-family: inherit;\" class=\"tn-Powered-by-XIUMI\"><section class=\"tn-Powered-by-XIUMI\" style=\"box-sizing: border-box;\">出品单位：南京大学计算传播学实验中心<br class=\"tn-Powered-by-XIUMI\" style=\"box-sizing: border-box;\"  /></section><section class=\"tn-Powered-by-XIUMI\" style=\"box-sizing: border-box;\">技术支持：南京大学谷尼舆情监测分析实验室<br class=\"tn-Powered-by-XIUMI\" style=\"box-sizing: border-box;\"  /></section><section class=\"tn-Powered-by-XIUMI\" style=\"box-sizing: border-box;\">题图鸣谢：谷尼舆情新微榜、图悦词云</section></section><section style=\"height: 16px; box-sizing: border-box;\" class=\"tn-Powered-by-XIUMI\"><section style=\"height: 100%; width: 24px; float: left; border-bottom-width: 6px; border-bottom-style: solid; border-color: rgb(142, 201, 101); border-left-width: 6px; border-left-style: solid; box-sizing: border-box;\" class=\"tn-Powered-by-XIUMI\"></section><section style=\"height: 100%; width: 24px; float: right; border-bottom-width: 6px; border-bottom-style: solid; border-color: rgb(142, 201, 101); border-right-width: 6px; border-right-style: solid; box-sizing: border-box;\" class=\"tn-Powered-by-XIUMI\"></section></section></section></fieldset><p><br  /></p><p><img data-s=\"300,640\" data-type=\"jpeg\" data-src=\"http://mmbiz.qpic.cn/mmbiz/LsWWX18C1Xic1TJUYpx8Efe9ET27nwrLqicKYyjXeXQCSKRxearAmbicAhCmu0OaoMfFDniamw0otmfZpZnMLMALcg/0\" data-ratio=\"0.5553359683794467\" data-w=\"\"  /><br  /></p>\n",
       "                </div>\n",
       "                <script nonce=\"426371908\" type=\"text/javascript\">\n",
       "                    var first_sceen__time = (+new Date());\n",
       "\n",
       "                    if (\"\" == 1 && document.getElementById('js_content')) {\n",
       "                        document.getElementById('js_content').addEventListener(\"selectstart\",function(e){ e.preventDefault(); });\n",
       "                    }\n",
       "\n",
       "                    \n",
       "                    (function(){\n",
       "                        if (navigator.userAgent.indexOf(\"WindowsWechat\") != -1){\n",
       "                            var link = document.createElement('link');\n",
       "                            var head = document.getElementsByTagName('head')[0];\n",
       "                            link.rel = 'stylesheet';\n",
       "                            link.type = 'text/css';\n",
       "                            link.href = \"//res.wx.qq.com/mmbizwap/zh_CN/htmledition/style/page/appmsg_new/winwx492bcc.css\";\n",
       "                            head.appendChild(link);\n",
       "                        }\n",
       "                    })();\n",
       "                </script>\n",
       "\n",
       "                \n",
       "  <div class=\"ct_mpda_wrp\" id=\"js_sponsor_ad_area\" style=\"display: none;\"></div>\n",
       "\n",
       "\n",
       "                \n",
       "                <div class=\"read-more__area\" id=\"js_more_read_area\" style=\"display:none;\">\n",
       "                    \n",
       "                </div>\n",
       "\n",
       "                            </div>\n",
       "                                    \n",
       "                        \n",
       "\n",
       "\n",
       "                        \n",
       "            <ul id=\"js_hotspot_area\" class=\"article_extend_area\"></ul>\n",
       "\n",
       "\n",
       "            \n",
       "\n",
       "            \n",
       "\n",
       "\n",
       "<div class=\"rich_media_tool\" id=\"js_toobar3\">\n",
       "\n",
       "  <div class=\"weui-flex\">\n",
       "    <div class=\"weui-flex__item\">\n",
       "\n",
       "                  \n",
       "                  <div id=\"js_read_area3\" class=\"media_tool_meta tips_global_primary meta_primary\" style=\"display:none;\">\n",
       "        <span id=\"readTxt\">阅读</span>\n",
       "        <span id=\"readNum3\"></span>\n",
       "      </div>\n",
       "          </div>\n",
       "\n",
       "            <span style=\"display:none;\" class=\"media_tool_meta meta_extra meta_praise\" id=\"like_old\">\n",
       "          <i class=\"icon_praise_gray\"></i><span class=\"praise_num\" id=\"likeNum_old\"></span>\n",
       "      </span>\n",
       "\n",
       "          \n",
       "    <span style=\"visibility: hidden;\" class=\"media_tool_meta meta_extra meta_like\" id=\"like3\">\n",
       "    <button class=\"like_btn\" id=\"js_like_btn\"> \n",
       "      <span id=\"js_like_wording\"> 在看</span><span class=\"like_num\" id=\"likeNum3\"></span>\n",
       "    </button>\n",
       "  </span>\n",
       "\n",
       "          \n",
       "        </div>\n",
       "</div>\n",
       "\n",
       "\n",
       "  \n",
       "  <div class=\"like_comment_wrp\" id=\"js_like_comment\" style=\"display: none;\">\n",
       "    <div class=\"like_comment_inner\">\n",
       "      <div class=\"like_comment_hd\" style=\"display:none\" id=\"js_like_title\"></div>\n",
       "      <div class=\"like_comment_bd\">\n",
       "        <div class=\"like_comment_tips\" id=\"js_comment_area\">\n",
       "          <i class=\"weui-icon-success\"></i><i class=\"icon-success-primary\"></i>已同步到看一看<a href=\"javascript:;\" class=\"like_comment_share_link\" id=\"js_like_comment_share\">写下你的想法</a>\n",
       "        </div>\n",
       "        <div class=\"like_comment_extra_info\" id=\"js_like_educate\" style=\"display: none\">\n",
       "          <p class=\"like_comment_extra_tips\">\n",
       "            <span id=\"js_friend_like_area\" style=\"display: none\"></span>\n",
       "            <span id=\"js_friend_like_word\">前往“发现”-“看一看”浏览“朋友在看”</span>\n",
       "          </p>\n",
       "          <p class=\"like_comment_pic_wrp\">\n",
       "                          <img class=\"like_comment_pic\" src=\"//res.wx.qq.com/mmbizwap/zh_CN/htmledition/images/pic/appmsg/pic_like_comment492329.png\">\n",
       "                      </p>\n",
       "          <button class=\"weui-btn weui-btn_primary\" id=\"js_go_wow\">前往看一看</button>\n",
       "        </div>\n",
       "      </div>\n",
       "    </div>\n",
       "  </div> \n",
       "  <div style=\"display:none;\" id=\"wow_close_inform\">\n",
       "    <div class=\"weui-mask\"></div>\n",
       "    <div class=\"weui-dialog\">\n",
       "      <div class=\"weui-dialog__hd\"><strong class=\"weui-dialog__title\">看一看入口已关闭</strong></div>\n",
       "      <div class=\"weui-dialog__bd\">\n",
       "        在“设置”-“通用”-“发现页管理”打开“看一看”入口      </div>\n",
       "      <div class=\"weui-dialog__ft\" id=\"wow_close_ack\">\n",
       "        <a href=\"javascript:;\" class=\"weui-dialog__btn weui-dialog__btn_primary\">我知道了</a>\n",
       "      </div>\n",
       "    </div>\n",
       "  </div>\n",
       "\n",
       "<div id=\"js_like_toast\" style=\"display: none;\">\n",
       "  <div class=\"weui-mask_transparent\"></div>\n",
       "  <div class=\"weui-toast\">\n",
       "    <i class=\"weui-icon-success-no-circle weui-icon_toast\"></i>\n",
       "    <p class=\"weui-toast__content\" id=\"js_toast_msg\">已发送</p>\n",
       "  </div>\n",
       "</div>\n",
       "\n",
       "<div style=\"display: none;\" id=\"js_comment_panel\">\n",
       "  <div class=\"like_comment_primary_wrp editing\" id=\"js_comment_wrp\">\n",
       "    <div class=\"like_comment_primary_inner\">\n",
       "      <div class=\"like_comment_primary_hd\">\n",
       "        <button class=\"like_comment_primary_cancel\" id=\"js_comment_cancel\">取消</button>\n",
       "        <h4 class=\"like_comment_primary_title\"> 发布到看一看 </h4>\n",
       "        <button class=\"like_comment_primary_btn\" id=\"js_comment_confirm\" disabled=\"disabled\">发送</button>\n",
       "      </div>\n",
       "      <div class=\"like_comment_primary_bd\">\n",
       "        <textarea class=\"like_comment_textarea weui-textarea\" placeholder=\"写下你的想法...\" id=\"js_comment_text\"></textarea>\n",
       "      </div>\n",
       "      <span class=\"like_comment_msg\" id=\"js_like_comment_msg\" style=\"visibility: hidden;\">最多200字，当前共<span id=\"js_like_current_cnt\"></span>字</span>\n",
       "    </div>\n",
       "  </div> \n",
       "  <div class=\"like_comment_primary_mask\" id=\"js_mask_2\"></div>\n",
       "</div>\n",
       "\n",
       "<div id=\"js_loading\" style=\"display: none;\">\n",
       "    <div class=\"weui-mask_transparent\"></div>\n",
       "    <div class=\"weui-toast\">\n",
       "        <i class=\"weui-loading weui-icon_toast\"></i>\n",
       "        <p class=\"weui-toast__content\">发送中</p>\n",
       "    </div>\n",
       "</div>\n",
       "\n",
       "\n",
       "\n",
       "                      </div>\n",
       "        </div>\n",
       "\n",
       "        <div class=\"rich_media_area_primary sougou\" id=\"sg_tj\" style=\"display:none\"></div>\n",
       "\n",
       "\n",
       "        \n",
       "        <div class=\"rich_media_area_extra\">\n",
       "          <div class=\"rich_media_area_extra_inner\">\n",
       "              \n",
       "              <div id=\"js_share_appmsg\">\n",
       "              </div>\n",
       "\n",
       "              \n",
       "  \n",
       "      <div class=\"mpda_bottom_container\" id=\"js_bottom_ad_area\"></div>\n",
       "                \n",
       "              <div id=\"js_iframetest\" style=\"display:none;\"></div>\n",
       "                            \n",
       "              <div class=\"rich_media_extra rich_media_extra_discuss\" id=\"js_cmt_container\" style=\"display:none\">\n",
       "                \n",
       "\n",
       "                \n",
       "                <div class=\"discuss_mod\" id=\"js_friend_cmt_area\" style=\"display:none\">\n",
       "                  \n",
       "                  \n",
       "                  \n",
       "                </div>\n",
       "\n",
       "                                <div class=\"discuss_mod\" id=\"js_preview_cmt\" style=\"display:none\">\n",
       "                  <div class=\"discuss_container\">\n",
       "                    <div class=\"mod_title_context\">\n",
       "                        <p class=\"discuss_icon_tips tc\">\n",
       "                            <a class=\"discuss_access\" href=\"javascript:;\" id=\"js_preview_cmt_write\">留言</a>\n",
       "                        </p>\n",
       "                    </div>\n",
       "                  </div>\n",
       "                </div>\n",
       "                              </div>\n",
       "\n",
       "              <div class=\"function_mod function_mod_index\" id=\"js_related_area\" style=\"display:none;\">\n",
       "                <div class=\"function_hd\">相关阅读</div>\n",
       "                <div class=\"function_bd\">\n",
       "                    <div id=\"js_related\"></div>\n",
       "                    <a href=\"javascript:;\" class=\"weui-media-box weui-media-box_loadmore hide\" id=\"js_related_load_more\">\n",
       "                      <div class=\"weui-media-box__bd\">更多文章</div>\n",
       "                      <div class=\"weui-media-box__ft\"></div>\n",
       "                    </a>\n",
       "                </div>\n",
       "              </div>\n",
       "          </div>\n",
       "        </div>\n",
       "\n",
       "        \n",
       "        <div id=\"js_pc_qr_code\" class=\"qr_code_pc_outer\" style=\"display:none;\">\n",
       "            <div class=\"qr_code_pc_inner\">\n",
       "                <div class=\"qr_code_pc\">\n",
       "                    <img id=\"js_pc_qr_code_img\" class=\"qr_code_pc_img\">\n",
       "                    <p>微信扫一扫<br>关注该公众号</p>\n",
       "                </div>\n",
       "            </div>\n",
       "        </div>\n",
       "    </div>\n",
       "</div>\n",
       "\n",
       "\n",
       "\n",
       "<div id=\"js_pc_weapp_code\" class=\"weui-desktop-popover weui-desktop-popover_pos-up-center weui-desktop-popover_img-text\" style=\"display: none;\">\n",
       "    <div class=\"weui-desktop-popover__content\">\n",
       "        <div class=\"weui-desktop-popover__desc\">\n",
       "            <img id=\"js_pc_weapp_code_img\">\n",
       "            微信扫一扫<br>使用小程序<span id=\"js_pc_weapp_code_des\"></span>        </div>\n",
       "    </div>\n",
       "</div>\n",
       "<div id=\"js_minipro_dialog\" style=\"display:none;\">\n",
       "    <div class=\"weui-mask\"></div>\n",
       "    <div class=\"weui-dialog weui-dialog_link\">\n",
       "        <div class=\"weui-dialog__hd\">\n",
       "            <strong class=\"weui-dialog__title\" id=\"js_minipro_dialog_head\"></strong>\n",
       "        </div>\n",
       "        <div class=\"weui-dialog__bd\" id=\"js_minipro_dialog_body\"></div>\n",
       "        \n",
       "        <div class=\"weui-dialog__ft\">\n",
       "            <a id=\"js_minipro_dialog_cancel\" href=\"javascript:void(0);\" class=\"weui-dialog__btn weui-dialog__btn_default\">取消</a>\n",
       "            <a id=\"js_minipro_dialog_ok\" href=\"javascript:void(0);\" class=\"weui-dialog__btn weui-dialog__btn_primary\">允许</a>\n",
       "        </div>\n",
       "    </div>\n",
       "</div>\n",
       "<div id=\"js_link_dialog\" style=\"display:none;\">\n",
       "    <div class=\"weui-mask\"></div>\n",
       "    <div class=\"weui-dialog weui-dialog_link\">\n",
       "        <div class=\"weui-dialog__hd\">\n",
       "            <strong class=\"weui-dialog__title\" id=\"js_link_dialog_head\"></strong>\n",
       "        </div>\n",
       "        <div class=\"weui-dialog__bd\" id=\"js_link_dialog_body\"></div>\n",
       "        \n",
       "        <div class=\"weui-dialog__ft\">\n",
       "            <a id=\"js_link_dialog_cancel\" href=\"javascript:void(0);\" class=\"weui-dialog__btn weui-dialog__btn_default\">取消</a>\n",
       "            <a id=\"js_link_dialog_ok\" href=\"javascript:void(0);\" class=\"weui-dialog__btn weui-dialog__btn_primary\">允许</a>\n",
       "        </div>\n",
       "    </div>\n",
       "</div>\n",
       "\n",
       "<div class=\"comment_primary_emotion_panel_wrp\" id=\"js_emotion_panel_pc\" style=\"display: none\">\n",
       "  <div class=\"comment_primary_emotion_panel\">\n",
       "    <ul class=\"comment_primary_emotion_list\" id=\"js_emotion_list_pc\">\n",
       "    </ul>\n",
       "  </div>\n",
       "</div>\n",
       "\n",
       "\n",
       "<div class=\"weui-dialog__wrp\" id=\"js_alert_panel\" style=\"display:none;\">\n",
       "  <div class=\"weui-mask\"></div>\n",
       "  <div class=\"weui-dialog\">\n",
       "    <div class=\"weui-dialog__bd\" id=\"js_alert_content\"></div>\n",
       "    <div class=\"weui-dialog__ft\">\n",
       "      <a href=\"javascript:;\" class=\"weui-dialog__btn weui-dialog__btn_default\" id=\"js_alert_confirm\">知道了</a>\n",
       "    </div>\n",
       "  </div>\n",
       "</div>\n",
       "\n",
       "<div id=\"js_weapp_without_auth_dialog\" style=\"display:none;\">\n",
       "    <div class=\"weui-mask\"></div>\n",
       "    <div class=\"weui-dialog weui-dialog_link\">\n",
       "        <div class=\"weui-dialog__bd\" id=\"js_weapp_without_auth_dialog_name\"></div>\n",
       "        <div class=\"weui-dialog__ft\">\n",
       "            <a id=\"js_weapp_without_auth_dialog_ok\" href=\"javascript:void(0);\" class=\"weui-dialog__btn weui-dialog__btn_primary\">确定</a>\n",
       "        </div>\n",
       "    </div>\n",
       "</div>\n",
       "\n",
       "<script nonce=\"426371908\" type=\"text/javascript\">\n",
       "var PAGE_MID='mmbizwap:appmsg/newindex.html';\n",
       "</script>\n",
       "        <script nonce=\"426371908\" type=\"text/javascript\">\n",
       "window.logs.pagetime.page_begin = Date.now();\n",
       "</script>\n",
       "        <script nonce=\"426371908\" type=\"text/javascript\">\n",
       "  (function () {\n",
       "    \n",
       "    var ajaxWhiteList = {\n",
       "      1: { \n",
       "        reg: /^https?:\\/\\/mp\\.weixin\\.qq\\.com\\/mp\\/appmsg_like/,\n",
       "        times: 0\n",
       "      },\n",
       "      2: { \n",
       "        reg: /^https?:\\/\\/mp\\.weixin\\.qq\\.com\\/mp\\/appmsg_comment((\\?|&)[^=]*?=[^&]*?)*?(\\?|&)action=likecomment/,\n",
       "        times: 0\n",
       "      },\n",
       "      3: { \n",
       "        reg: /^https?:\\/\\/mp\\.weixin\\.qq\\.com\\/mp\\/appmsg_comment((\\?|&)[^=]*?=[^&]*?)*?(\\?|&)action=addcomment/,\n",
       "        times: 0\n",
       "      },\n",
       "      4: { \n",
       "        reg: /^https?:\\/\\/mp\\.weixin\\.qq\\.com\\/mp\\/authorreward/,\n",
       "        times: 0\n",
       "      }\n",
       "      \n",
       "      \n",
       "      \n",
       "      \n",
       "    };\n",
       "\n",
       "    \n",
       "    if (!performance || !performance.getEntries) return;\n",
       "\n",
       "    \n",
       "    var hasReported = false;\n",
       "\n",
       "    \n",
       "    var reportResLoadTime = function () {\n",
       "      \n",
       "      if (hasReported) return;\n",
       "\n",
       "      \n",
       "      var notSupport = false;\n",
       "\n",
       "      \n",
       "      var ajaxEntries = [];\n",
       "\n",
       "      \n",
       "      var entries = performance.getEntries().map(function (entry) {\n",
       "        if (typeof entry !== 'object') {\n",
       "          notSupport = true;\n",
       "        } else if (entry.entryType === undefined) {\n",
       "          notSupport = true;\n",
       "        } else if (\n",
       "          entry.entryType !== 'navigation' &&\n",
       "          entry.entryType !== 'resource'\n",
       "        ) {\n",
       "          \n",
       "          return null;\n",
       "        } else if (entry.initiatorType === undefined) {\n",
       "          notSupport = true;\n",
       "        } else if (entry.initiatorType === 'xmlhttprequest') {\n",
       "          \n",
       "          if (entry.name === undefined || entry.duration === undefined) {\n",
       "            notSupport = true;\n",
       "          } else {\n",
       "            for (var scene in ajaxWhiteList) {\n",
       "              if (Object.prototype.hasOwnProperty.call(ajaxWhiteList, scene)) {\n",
       "                var ajaxItem = ajaxWhiteList[scene];\n",
       "                if (ajaxItem.times < 10 && ajaxItem.reg.test(entry.name)) {\n",
       "                  ajaxEntries.push({\n",
       "                    scene: scene,\n",
       "                    protocol: entry.nextHopProtocol,\n",
       "                    is_https: isHttps(entry),\n",
       "                    time: entry.duration\n",
       "                  });\n",
       "                  ajaxItem.times++;\n",
       "                }\n",
       "              }\n",
       "            }\n",
       "          }\n",
       "          return null;\n",
       "        }\n",
       "        return entry;\n",
       "      });\n",
       "\n",
       "      \n",
       "      if (notSupport || ajaxEntries.length === 0) return;\n",
       "\n",
       "      \n",
       "      var data = {\n",
       "        stat_list: ajaxEntries\n",
       "      };\n",
       "      var img = new Image();\n",
       "      img.src = 'https://mp.weixin.qq.com/mp/timereport?data=' + JSON.stringify(data);\n",
       "      hasReported = true;\n",
       "    };\n",
       "\n",
       "    \n",
       "    window.addEventListener('beforeunload', reportResLoadTime, false);\n",
       "    window.addEventListener('unload', reportResLoadTime, false);\n",
       "\n",
       "    function isHttps(entry) {\n",
       "      if (/^https/.test(entry.name)) return 1;\n",
       "      else return 0;\n",
       "    }\n",
       "  })();\n",
       "</script>\n",
       "        <script nonce=\"426371908\">\n",
       "    var __DEBUGINFO = {\n",
       "        debug_js : \"//res.wx.qq.com/mmbizwap/zh_CN/htmledition/js/biz_wap/debug/console42f400.js\",\n",
       "        safe_js : \"//res.wx.qq.com/mmbizwap/zh_CN/htmledition/js/biz_wap/safe/moonsafe42f400.js\",\n",
       "        res_list: []\n",
       "    };\n",
       "</script>\n",
       "\n",
       "<script nonce=\"426371908\" type=\"text/javascript\">\n",
       "(function() {\n",
       "\tvar totalCount = 0,\n",
       "\t\t\tfinishCount = 0;\n",
       "\n",
       "\tfunction _loadVConsolePlugin() {\n",
       "\t\twindow.vConsole = new window.VConsole();\n",
       "\t\twhile (window.vConsolePlugins.length > 0) {\n",
       "\t\t\tvar p = window.vConsolePlugins.shift();\n",
       "\t\t\twindow.vConsole.addPlugin(p);\n",
       "\t\t}\n",
       "\t}\n",
       "\t\n",
       "\tfunction _addVConsole(uri, cb) {\n",
       "\t\ttotalCount++;\n",
       "\t\tvar node = document.createElement('SCRIPT');\n",
       "\t\tnode.type = 'text/javascript';\n",
       "\t\tnode.src = uri;\n",
       "\t\tnode.setAttribute('nonce', '426371908');\n",
       "\t\tif (cb) {\n",
       "\t\t\tnode.onload = cb;\n",
       "\t\t}\n",
       "\t\tdocument.getElementsByTagName('head')[0].appendChild(node);\n",
       "\t}\n",
       "\tif (\n",
       "\t\t(document.cookie && document.cookie.indexOf('vconsole_open=1') > -1)\n",
       "\t\t|| location.href.indexOf('vconsole=1') > -1\n",
       "\t) {\n",
       "\t\twindow.vConsolePlugins = [];\n",
       "\t\t_addVConsole('//res.wx.qq.com/mmbizwap/zh_CN/htmledition/js/vconsole/3.2.2/vconsole.min440203.js', function() {\n",
       "\t\t\t\n",
       "\t\t\t_addVConsole('//res.wx.qq.com/mmbizwap/zh_CN/htmledition/js/vconsole/plugin/vconsole-mpopt/1.0.1/vconsole-mpopt42f400.js', _loadVConsolePlugin);\n",
       "\t\t});\n",
       "\t}\n",
       "\n",
       "  \n",
       "  try {\n",
       "    var adIframeUrl = localStorage.getItem('__WXLS_ad_iframe_url');\n",
       "    if (window === top) {\n",
       "      if (adIframeUrl) {\n",
       "        if (navigator.userAgent.indexOf('iPhone') > -1) {\n",
       "          var img = new Image();\n",
       "          img.src = adIframeUrl;\n",
       "        } else {\n",
       "          var link = document.createElement('link');\n",
       "          link.rel = 'prefetch';\n",
       "          link.href = adIframeUrl;\n",
       "          document.getElementsByTagName('head')[0].appendChild(link);\n",
       "        }\n",
       "      }\n",
       "    }\n",
       "  } catch (err) {\n",
       "\n",
       "  }\n",
       "\n",
       "})();\n",
       "</script>\n",
       "        \n",
       "<script nonce=\"426371908\" type=\"text/javascript\">\n",
       "if (location.href.match(/fontScale=\\d+/) && /(iPhone|iPad|iPod|iOS)/i.test(navigator.userAgent)) {\n",
       "\n",
       "    var m=location.href.match(/fontScale=(\\d*)/);\n",
       "    var map={\n",
       "        \"94\":1,\n",
       "        \"100\":2,\n",
       "        \"109\":3,\n",
       "        \"119\":4,\n",
       "        \"131\":5,\n",
       "    }\n",
       "    if(m&&m[1]&&map[m[1]]){\n",
       "        document.getElementsByTagName(\"body\")[0].className+=\" appmsg_skin_fontscale_\"+map[m[1]];\n",
       "        console.log(\"appmsg_skin_fontscale_:\"+map[m[1]]);\n",
       "    }\n",
       "}\n",
       "</script>\n",
       "<script nonce=\"426371908\" type=\"text/javascript\">\n",
       "function _typeof(e){\n",
       "return e&&\"undefined\"!=typeof Symbol&&e.constructor===Symbol?\"symbol\":typeof e;\n",
       "}\n",
       "!function(e){\n",
       "if(\"object\"===(\"undefined\"==typeof module?\"undefined\":_typeof(module)))module.exports=e;else{\n",
       "if(window.__second_open__)return;\n",
       "var t=\"1576026503\",n=\"1430733759\",s=\"2015-05-04\";\n",
       "e(t,n,s,document.getElementById(\"publish_time\"));\n",
       "}\n",
       "}(function(e,t,n,s){\n",
       "var i=\"\",o=86400,f=new Date(1e3*e),r=1*t,l=n||\"\";\n",
       "f.setHours(0),f.setMinutes(0),f.setSeconds(0);\n",
       "var c=f.getTime()/1e3;\n",
       "f.setDate(1),f.setMonth(0);\n",
       "var u=f.getTime()/1e3;\n",
       "if(r>=c)i=\"今天\";else if(r>=c-o)i=\"昨天\";else if(r>=c-2*o)i=\"前天\";else if(r>=c-3*o)i=\"3天前\";else if(r>=c-4*o)i=\"4天前\";else if(r>=c-5*o)i=\"5天前\";else if(r>=c-6*o)i=\"6天前\";else if(r>=c-14*o)i=\"1周前\";else if(r>=u){\n",
       "var d=l.split(\"-\");\n",
       "i=\"%s月%s日\".replace(\"%s\",parseInt(d[1],10)).replace(\"%s\",parseInt(d[2],10));\n",
       "}else i=l;\n",
       "s&&(s.innerText=i,setTimeout(function(){\n",
       "s.onclick=function(){\n",
       "s.innerText=l;\n",
       "};\n",
       "},10));\n",
       "});\n",
       "</script>\n",
       "<script nonce=\"426371908\" type=\"text/javascript\">\n",
       "\n",
       "if (!window.console) window.console = { log: function() {} };\n",
       "\n",
       "if (typeof getComputedStyle == 'undefined') {\n",
       "    if (document.body.currentStyle) {\n",
       "        window.getComputedStyle = function(el) {\n",
       "            return el.currentStyle;\n",
       "        }\n",
       "    } else {\n",
       "        window.getComputedStyle = {};\n",
       "    }\n",
       "}\n",
       "\n",
       "(function(){\n",
       "    window.__zoom = 1;\n",
       "    \n",
       "    (function(){\n",
       "        var validArr = \",\"+([0.875, 1, 1.125, 1.25, 1.375]).join(\",\")+\",\";\n",
       "        var match = window.location.href.match(/winzoom=(\\d+(?:\\.\\d+)?)/);\n",
       "        if (match && match[1]) {\n",
       "            var winzoom = parseFloat(match[1]);\n",
       "            if (validArr.indexOf(\",\"+winzoom+\",\")>=0) {\n",
       "                window.__zoom = winzoom;\n",
       "            }\n",
       "        }\n",
       "    })();\n",
       "\n",
       "    var ua = navigator.userAgent.toLowerCase();\n",
       "    var re = new RegExp(\"msie ([0-9]+[\\.0-9]*)\");\n",
       "    var version;\n",
       "    if (re.exec(ua) != null) {\n",
       "        version = parseInt(RegExp.$1);\n",
       "    }\n",
       "    var isIE = false;\n",
       "    if (typeof version != 'undefined' && version >= 6 && version <= 9) {\n",
       "        isIE = true;\n",
       "    }\n",
       "    var getMaxWith=function(){\n",
       "        var container = document.getElementById('img-content');\n",
       "        var max_width = container.offsetWidth;\n",
       "        var container_padding = 0;\n",
       "        var container_style = getComputedStyle(container);\n",
       "        container_padding = parseFloat(container_style.paddingLeft) + parseFloat(container_style.paddingRight);\n",
       "        max_width -= container_padding;\n",
       "        if (!max_width) {\n",
       "            max_width = window.innerWidth - 30;      \n",
       "        }\n",
       "        return max_width;\n",
       "    };\n",
       "    var getParentWidth = function(dom){\n",
       "        var parent_width = 0;\n",
       "        var parent = dom.parentNode;\n",
       "        var outerWidth = 0;\n",
       "        while (true) {\n",
       "            if(!parent||parent.nodeType!=1) break;\n",
       "            var parent_style = getComputedStyle(parent);\n",
       "            if (!parent_style) break;\n",
       "            parent_width = parent.clientWidth - parseFloat(parent_style.paddingLeft) - parseFloat(parent_style.paddingRight) - outerWidth;\n",
       "            if (parent_width > 0) break;\n",
       "            outerWidth += parseFloat(parent_style.paddingLeft) + parseFloat(parent_style.paddingRight) + parseFloat(parent_style.marginLeft) + parseFloat(parent_style.marginRight) + parseFloat(parent_style.borderLeftWidth) + parseFloat(parent_style.borderRightWidth);\n",
       "            parent = parent.parentNode;\n",
       "        }\n",
       "        return parent_width;\n",
       "    }\n",
       "    var getOuterW=function(dom){\n",
       "        var style=getComputedStyle(dom),\n",
       "            w=0;\n",
       "        if(!!style){\n",
       "            w = parseFloat(style.paddingLeft) + parseFloat(style.paddingRight) + parseFloat(style.borderLeftWidth) + parseFloat(style.borderRightWidth);\n",
       "        }\n",
       "        return w;\n",
       "    };\n",
       "    var getOuterH =function(dom){\n",
       "        var style=getComputedStyle(dom),\n",
       "            h=0;\n",
       "        if(!!style){\n",
       "            h = parseFloat(style.paddingTop) + parseFloat(style.paddingBottom) + parseFloat(style.borderTopWidth) + parseFloat(style.borderBottomWidth);\n",
       "        }\n",
       "        return h;\n",
       "    };\n",
       "    var insertAfter = function(dom,afterDom){\n",
       "        var _p = afterDom.parentNode;\n",
       "        if(!_p){\n",
       "            return;\n",
       "        }\n",
       "        if(_p.lastChild === afterDom){\n",
       "            _p.appendChild(dom);\n",
       "        }else{\n",
       "            _p.insertBefore(dom,afterDom.nextSibling);\n",
       "        }\n",
       "    };\n",
       "    var getQuery = function(name,url){\n",
       "        \n",
       "        var u  = arguments[1] || window.location.search,\n",
       "            reg = new RegExp(\"(^|&)\"+ name +\"=([^&]*)(&|$)\"),\n",
       "            r = u.substr(u.indexOf(\"\\?\")+1).match(reg);\n",
       "        return r!=null?r[2]:\"\";\n",
       "    };\n",
       "\n",
       "    \n",
       "    function setImgSize(item, widthNum, widthUnit, ratio, breakParentWidth) {\n",
       "        setTimeout(function () {\n",
       "            var img_padding_border = getOuterW(item) || 0;\n",
       "            var img_padding_border_top_bottom = getOuterH(item) || 0;\n",
       "            \n",
       "            if (widthNum > getParentWidth(item) && !breakParentWidth) {\n",
       "                widthNum = getParentWidth(item);\n",
       "            }\n",
       "\n",
       "            height = (widthNum - img_padding_border) * ratio + img_padding_border_top_bottom;\n",
       "\n",
       "            if (isIE) {\n",
       "                var url = item.getAttribute('data-src');\n",
       "                item.src = url;\n",
       "            } else {\n",
       "                if(parseFloat(widthNum, 10) > 40 && height > 40 && breakParentWidth) {\n",
       "                    item.className += ' img_loading';\n",
       "                }\n",
       "                item.src = \"data:image/gif;base64,iVBORw0KGgoAAAANSUhEUgAAAAEAAAABCAYAAAAfFcSJAAAADUlEQVQImWNgYGBgAAAABQABh6FO1AAAAABJRU5ErkJggg==\";\n",
       "            }\n",
       "            item.style.cssText += \";width: \" + widthNum + widthUnit + \" !important;\";\n",
       "            item.style.cssText += \";height: \" + height + widthUnit + \" !important;\";\n",
       "        }, 10);\n",
       "    }\n",
       "    \n",
       "    (function(){\n",
       "        var images = document.getElementsByTagName('img');\n",
       "        var length = images.length;\n",
       "        var max_width = getMaxWith();\n",
       "        for (var i = 0; i < length; ++i) {\n",
       "            if (window.__second_open__ && images[i].getAttribute('__sec_open_place_holder__')) {\n",
       "                continue;\n",
       "            }\n",
       "            var imageItem = images[i];\n",
       "            var src_ = imageItem.getAttribute('data-src');\n",
       "            var realSrc = imageItem.getAttribute('src');\n",
       "            if (!src_ || realSrc) continue;\n",
       "            \n",
       "            var originWidth = imageItem.getAttribute('data-w');\n",
       "            var ratio_ = 1 * imageItem.getAttribute('data-ratio');\n",
       "\n",
       "            var height = 100;\n",
       "            if (ratio_ && ratio_ > 0) {\n",
       "                var parent_width = getParentWidth(imageItem) || max_width;\n",
       "                var initWidth = imageItem.style.width || imageItem.getAttribute('width') || originWidth || parent_width;\n",
       "                initWidth = parseFloat(initWidth, 10) > max_width ? max_width : initWidth;\n",
       "                \n",
       "                if (initWidth) {\n",
       "                    imageItem.setAttribute('_width', !isNaN(initWidth * 1) ? initWidth + 'px' : initWidth);\n",
       "                }\n",
       "                \n",
       "                if (typeof initWidth === 'string' && initWidth.indexOf('%') !== -1) {\n",
       "                    initWidth = parseFloat(initWidth.replace('%', ''), 10) / 100 * parent_width;\n",
       "                }\n",
       "                \n",
       "                if (initWidth === 'auto') {\n",
       "                    initWidth = originWidth;\n",
       "                }\n",
       "\n",
       "                var res = /^(\\d+(?:\\.\\d+)?)([a-zA-Z%]+)?$/.exec(initWidth);\n",
       "                var widthNum = res && res.length >= 2 ? res[1] : 0;\n",
       "                var widthUnit = res && res.length >= 3 && res[2] ? res[2] : 'px';\n",
       "\n",
       "                \n",
       "                setImgSize(imageItem, widthNum, widthUnit, ratio_, true);\n",
       "                \n",
       "                (function (item, widthNumber, unit, ratio) {\n",
       "                    setTimeout(function () {\n",
       "                        setImgSize(item, widthNumber, unit, ratio, false);\n",
       "                    });\n",
       "                })(imageItem, widthNum, widthUnit, ratio_);\n",
       "            } else {\n",
       "                imageItem.style.cssText += \";visibility: hidden !important;\";\n",
       "            }\n",
       "\n",
       "        }\n",
       "    })();\n",
       "    window.__videoDefaultRatio=16/9;\n",
       "    window.__getVideoWh = function(dom){\n",
       "        var max_width = getMaxWith(),\n",
       "            width = max_width,\n",
       "            ratio_ = dom.getAttribute('data-ratio')*1,\n",
       "            arr = [4/3, 16/9],\n",
       "            ret = arr[0],\n",
       "            abs = Math.abs(ret - ratio_);\n",
       "        if (!ratio_) { \n",
       "            if (dom.getAttribute(\"data-mpvid\")) { \n",
       "                ratio_ = 16/9;\n",
       "            } else { \n",
       "                ratio_ = 4/3;\n",
       "            }\n",
       "        } else { \n",
       "            for (var j = 1, jl = arr.length; j < jl; j++) {\n",
       "                var _abs = Math.abs(arr[j] - ratio_);\n",
       "                if (_abs < abs) {\n",
       "                    abs = _abs;\n",
       "                    ret = arr[j];\n",
       "                }\n",
       "            }\n",
       "            ratio_ = ret;\n",
       "        }\n",
       "\n",
       "        var parent_width = getParentWidth(dom)||max_width,\n",
       "            width = width > parent_width ? parent_width : width,\n",
       "            outerW = getOuterW(dom)||0,\n",
       "            outerH = getOuterH(dom)||0,\n",
       "            videoW = width - outerW,\n",
       "            videoH = videoW/ratio_,\n",
       "            height = videoH + outerH;\n",
       "        return {w:Math.ceil(width),h:Math.ceil(height),vh:videoH,vw:videoW,ratio:ratio_};\n",
       "    };\n",
       "\n",
       "    \n",
       "    (function(){\n",
       "        var iframe = document.getElementsByTagName('iframe');\n",
       "        for (var i=0,il=iframe.length;i<il;i++) {\n",
       "            if (window.__second_open__ && iframe[i].getAttribute('__sec_open_place_holder__')) {\n",
       "                continue;\n",
       "            }\n",
       "            var a = iframe[i];\n",
       "            var src_ = a.getAttribute('src')||a.getAttribute('data-src')||\"\";\n",
       "            if(!/^http(s)*\\:\\/\\/v\\.qq\\.com\\/iframe\\/(preview|player)\\.html\\?/.test(src_)\n",
       "                && !/^http(s)*\\:\\/\\/mp\\.weixin\\.qq\\.com\\/mp\\/readtemplate\\?t=pages\\/video_player_tmpl/.test(src_)\n",
       "            ){\n",
       "                continue;\n",
       "            }\n",
       "            var vid = getQuery(\"vid\",src_);\n",
       "            if(!vid){\n",
       "                continue;\n",
       "            }\n",
       "            vid=vid.replace(/^[\\s\\uFEFF\\xA0]+|[\\s\\uFEFF\\xA0]+$/g,\"\");\n",
       "            a.removeAttribute('src');\n",
       "            a.style.display = \"none\";\n",
       "            var obj = window.__getVideoWh(a),\n",
       "                videoPlaceHolderSpan = document.createElement('span'),\n",
       "                videoPlayerIconSpan = document.createElement('span'),\n",
       "                mydiv = document.createElement('img');\n",
       "\n",
       "            videoPlaceHolderSpan.className = \"js_img_loading db\";\n",
       "            videoPlaceHolderSpan.setAttribute(\"data-vid\", vid);\n",
       "            \n",
       "\n",
       "            videoPlayerIconSpan.className = 'wx_video_context db'; \n",
       "            videoPlayerIconSpan.style.display = 'none';\n",
       "            videoPlayerIconSpan.innerHTML = '<span class=\"wx_video_thumb_primary\"></span><button class=\"wx_video_play_btn\">播放</button><span class=\"wx_video_mask\"></span>'; \n",
       "\n",
       "            mydiv.className = \"img_loading\";\n",
       "\n",
       "            mydiv.src=\"data:image/gif;base64,iVBORw0KGgoAAAANSUhEUgAAAAEAAAABCAYAAAAfFcSJAAAADUlEQVQImWNgYGBgAAAABQABh6FO1AAAAABJRU5ErkJggg==\";\n",
       "            \n",
       "            \n",
       "            videoPlaceHolderSpan.style.cssText = \"width: \" + obj.w + \"px !important;\";\n",
       "            mydiv.style.cssText += \";width: \" + obj.w + \"px\";\n",
       "            videoPlaceHolderSpan.appendChild(videoPlayerIconSpan);\n",
       "            videoPlaceHolderSpan.appendChild(mydiv);\n",
       "            insertAfter(videoPlaceHolderSpan, a); \n",
       "\n",
       "            a.style.cssText += \";width: \" + obj.w + \"px !important;\";\n",
       "            a.setAttribute(\"width\",obj.w);\n",
       "            if(window.__zoom!=1){\n",
       "                a.style.display = \"block\";\n",
       "                videoPlaceHolderSpan.style.display = \"none\";\n",
       "                a.setAttribute(\"_ratio\",obj.ratio);\n",
       "                a.setAttribute(\"_vid\",vid);\n",
       "            }else{\n",
       "                videoPlaceHolderSpan.style.cssText += \"height: \" + obj.h + \"px !important;\";\n",
       "                mydiv.style.cssText += \"height: \" + obj.h + \"px !important;\";\n",
       "                a.style.cssText += \"height: \" + obj.h + \"px !important;\";\n",
       "                a.setAttribute(\"height\",obj.h);\n",
       "            }\n",
       "            a.setAttribute(\"data-vh\",obj.vh);\n",
       "            a.setAttribute(\"data-vw\",obj.vw);\n",
       "            if(a.getAttribute(\"data-mpvid\")){\n",
       "                a.setAttribute(\"data-src\",location.protocol+\"//mp.weixin.qq.com/mp/readtemplate?t=pages/video_player_tmpl&auto=0&vid=\"+vid);\n",
       "            }else{\n",
       "                a.setAttribute(\"data-src\",location.protocol+\"//v.qq.com/iframe/player.html?vid=\"+ vid + \"&width=\"+obj.vw+\"&height=\"+obj.vh+\"&auto=0\");\n",
       "            }\n",
       "        }\n",
       "    })();\n",
       "\n",
       "    (function(){\n",
       "        if(window.__zoom!=1){\n",
       "            if (!window.__second_open__) {\n",
       "                document.getElementById('page-content').style.zoom = window.__zoom;\n",
       "                var a = document.getElementById('activity-name');\n",
       "                var b = document.getElementById('meta_content');\n",
       "                if(!!a){\n",
       "                    a.style.zoom = 1/window.__zoom;\n",
       "                }\n",
       "                if(!!b){\n",
       "                    b.style.zoom = 1/window.__zoom;\n",
       "                }\n",
       "            }\n",
       "            var images = document.getElementsByTagName('img');\n",
       "            for (var i = 0,il=images.length;i<il;i++) {\n",
       "                if (window.__second_open__ && images[i].getAttribute('__sec_open_place_holder__')) {\n",
       "                    continue;\n",
       "                }\n",
       "                images[i].style.zoom = 1/window.__zoom;\n",
       "            }\n",
       "            var iframe = document.getElementsByTagName('iframe');\n",
       "            for (var i = 0,il=iframe.length;i<il;i++) {\n",
       "                if (window.__second_open__ && iframe[i].getAttribute('__sec_open_place_holder__')) {\n",
       "                    continue;\n",
       "                }\n",
       "                var a = iframe[i];\n",
       "                a.style.zoom = 1/window.__zoom;\n",
       "                var src_ = a.getAttribute('data-src')||\"\";\n",
       "                if(!/http(s)*\\:\\/\\/v\\.qq\\.com\\/iframe\\/(preview|player)\\.html\\?/.test(src_)){\n",
       "                    continue;\n",
       "                }\n",
       "                var ratio = a.getAttribute(\"_ratio\");\n",
       "                var vid = a.getAttribute(\"_vid\");\n",
       "                a.removeAttribute(\"_ratio\");\n",
       "                a.removeAttribute(\"_vid\");\n",
       "                var vw = a.offsetWidth - (getOuterW(a)||0);\n",
       "                var vh = vw/ratio;\n",
       "                var h = vh + (getOuterH(a)||0)\n",
       "                a.style.cssText += \"height: \" + h + \"px !important;\"\n",
       "                a.setAttribute(\"height\",h);\n",
       "                a.setAttribute(\"data-src\",location.protocol+\"//v.qq.com/iframe/player.html?vid=\"+ vid + \"&width=\"+vw+\"&height=\"+vh+\"&auto=0\");\n",
       "                a.style.display = \"none\";\n",
       "                var parent = a.parentNode;\n",
       "                if(!parent){\n",
       "                    continue;\n",
       "                }\n",
       "                for(var j=0,jl=parent.children.length;j<jl;j++){\n",
       "                    var child = parent.children[j];\n",
       "                    if(child.className.indexOf(\"img_loading\")>=0 && child.getAttribute(\"data-vid\")==vid){\n",
       "                        child.style.cssText += \"height: \" + h + \"px !important;\";\n",
       "                        child.style.display = \"\";\n",
       "                    }\n",
       "                }\n",
       "            }\n",
       "        }\n",
       "    })();\n",
       "})();\n",
       "</script>\n",
       "<script nonce=\"426371908\" type=\"text/javascript\">\n",
       "    var new_appmsg = 1;\n",
       "    var item_show_type = \"0\";\n",
       "    var can_see_complaint = \"0\";\n",
       "    var not_in_mm_css = \"//res.wx.qq.com/mmbizwap/zh_CN/htmledition/style/page/appmsg_new/not_in_mm492bcc.css\";\n",
       "    var windowwx_css = \"//res.wx.qq.com/mmbizwap/zh_CN/htmledition/style/page/appmsg_new/winwx492bcc.css\";\n",
       "    var article_improve_combo_css = \"//res.wx.qq.com/mmbizwap/zh_CN/htmledition/style/page/appmsg_new/combo4a4bbc.css\";\n",
       "    var tid = \"\";\n",
       "    var aid = \"\";\n",
       "    var clientversion = \"\";\n",
       "    var appuin = \"MzA3MjQ5MTE3OA==\"||\"\";\n",
       "\n",
       "    var source = \"6\";\n",
       "    var ascene = \"\";\n",
       "    var subscene = \"\";\n",
       "    var sessionid = \"\"||\"svr_b9405c097d9\";\n",
       "    var abtest_cookie = \"\";\n",
       "\n",
       "    var scene = 75;\n",
       "\n",
       "    var itemidx = \"\";\n",
       "    var appmsg_token   = \"\";\n",
       "    var _copyright_stat = \"0\";\n",
       "    var _ori_article_type = \"\";\n",
       "\n",
       "    var is_follow = \"\";\n",
       "    var nickname = \"微议题排行榜\";\n",
       "    var appmsg_type = \"9\";\n",
       "    var ct = \"1430733759\";\n",
       "    var user_name = \"gh_210fca0e5eaa\";\n",
       "    var user_name_new = \"\";\n",
       "    var fakeid   = \"\";\n",
       "    var version   = \"\";\n",
       "    var is_limit_user   = \"0\";\n",
       "    var round_head_img = \"http://mmbiz.qpic.cn/mmbiz_png/LsWWX18C1XibrRlJf2Jo3lhKO697Wp2vGI4KHWsO3oEwre27Bpia3aDVMlfgfpoAu3kYqsmXv6aaGjNNmJhEtibyA/0?wx_fmt=png\";\n",
       "    var hd_head_img = \"http://wx.qlogo.cn/mmhead/Q3auHgzwzM6wCicXk1Ove2iaMdEakaX9X00iaWgItHpwS18Johj1G1g7w/0\"||\"\";\n",
       "    var ori_head_img_url = \"http://wx.qlogo.cn/mmhead/Q3auHgzwzM6wCicXk1Ove2iaMdEakaX9X00iaWgItHpwS18Johj1G1g7w/132\";\n",
       "    var msg_title = \"南大新传 | 微议题：地震中民族自豪—“中国人先撤”\";\n",
       "    var msg_desc = \"2015年4月25日，尼泊尔发生8.1级地震，造成至少7000多人死亡，祖国派出救援机接国人回家，这一“先撤”行为被大量报道，上演了一出霸道总裁不由分说爱国民的新闻。\";\n",
       "    var msg_cdn_url = \"http://mmbiz.qpic.cn/mmbiz/LsWWX18C1X96vmarydNeesjbpKSicFcLuUW3p4Q3Toia7h8yErYuwkegnpnNk7r8YoADxjqCRbJOwoK65wpZmECQ/0?wx_fmt=jpeg\"; \n",
       "    var cdn_url_1_1  = \"\"; \n",
       "    var cdn_url_235_1 = \"\"; \n",
       "    \n",
       "    var msg_link = \"http://mp.weixin.qq.com/s?__biz=MzA3MjQ5MTE3OA==&amp;mid=206241627&amp;idx=1&amp;sn=471e59c6cf7c8dae452245dbea22c8f3#rd\"; \n",
       "    var user_uin = \"0\"*1;\n",
       "    var msg_source_url = '';\n",
       "    var img_format = 'jpeg';\n",
       "    var srcid = '';\n",
       "    var req_id = '11095ldqEgRaQEErT3VIfMfh';\n",
       "    var networkType;\n",
       "    var appmsgid = '' || '206241627'|| \"\";\n",
       "    var comment_id = \"0\" || \"0\" * 1;\n",
       "    var comment_enabled = \"\" * 1;\n",
       "    var is_need_reward = \"0\" * 1;\n",
       "    var is_https_res = (\"\" * 1) && (location.protocol == \"https:\");\n",
       "    var msg_daily_idx = \"0\" || \"\";\n",
       "    var profileReportInfo = \"\" || \"\";\n",
       "\n",
       "    var devicetype = \"\";\n",
       "    var source_encode_biz = \"\";\n",
       "    var source_username = \"\";\n",
       "    \n",
       "    var reprint_ticket = \"\";\n",
       "    var source_mid = \"\";\n",
       "    var source_idx = \"\";\n",
       "    var source_biz = \"\";\n",
       "    var author_id = \"\";\n",
       "\n",
       "    \n",
       "    var optimizing_flag = \"0\" * 1;\n",
       "\n",
       "    \n",
       "    \n",
       "\n",
       "    var show_comment = \"0\";\n",
       "    var __appmsgCgiData = {\n",
       "        wxa_product : \"\"*1,\n",
       "        wxa_cps : \"\"*1,\n",
       "        show_msg_voice: \"0\"*1,\n",
       "        can_use_page : \"0\"*1,\n",
       "        is_wxg_stuff_uin : \"0\"*1,\n",
       "        card_pos : \"\",\n",
       "        copyright_stat : \"0\",\n",
       "        source_biz : \"\",\n",
       "        hd_head_img : \"http://wx.qlogo.cn/mmhead/Q3auHgzwzM6wCicXk1Ove2iaMdEakaX9X00iaWgItHpwS18Johj1G1g7w/0\"||(window.location.protocol+\"//\"+window.location.host + \"//res.wx.qq.com/mmbizwap/zh_CN/htmledition/images/pic/appmsg/pic_rumor_link.2x42f400.jpg\")\n",
       "    };\n",
       "    var _empty_v = \"//res.wx.qq.com/mmbizwap/zh_CN/htmledition/images/pic/pages/voice/empty42f400.mp3\";\n",
       "\n",
       "    var copyright_stat = \"0\" * 1;\n",
       "    var hideSource = \"\" * 1;\n",
       "\n",
       "    var pay_fee = \"\" * 1;\n",
       "    var pay_timestamp = \"\";\n",
       "    var need_pay = \"\" * 1;\n",
       "\n",
       "    var need_report_cost = \"0\" * 1;\n",
       "    var use_tx_video_player = \"0\" * 1;\n",
       "    var appmsg_fe_filter = \"contenteditable\";\n",
       "\n",
       "    var friend_read_source = \"\" || \"\";\n",
       "    var friend_read_version = \"\" || \"\";\n",
       "    var friend_read_class_id = \"\" || \"\";\n",
       "\n",
       "    var is_only_read = \"1\" * 1;\n",
       "    var read_num = \"\" * 1;\n",
       "    var like_num = \"\" * 1;\n",
       "    var liked = \"\" == 'true' ? true : false;\n",
       "    var is_temp_url = \"\" ? 1 : 0;\n",
       "    var send_time = \"\";\n",
       "    var icon_emotion_switch = \"//res.wx.qq.com/mmbizwap/zh_CN/htmledition/images/icon/appmsg/emotion/icon_emotion_switch46b604.svg\";\n",
       "    var icon_emotion_switch_active = \"//res.wx.qq.com/mmbizwap/zh_CN/htmledition/images/icon/appmsg/emotion/icon_emotion_switch_active46b604.svg\";\n",
       "    var icon_emotion_switch_primary = \"//res.wx.qq.com/mmbizwap/zh_CN/htmledition/images/icon/appmsg/emotion/icon_emotion_switch_primary46b604.svg\";\n",
       "    var icon_emotion_switch_active_primary = \"//res.wx.qq.com/mmbizwap/zh_CN/htmledition/images/icon/appmsg/emotion/icon_emotion_switch_active_primary46b604.svg\";\n",
       "    var icon_loading_white = \"//res.wx.qq.com/mmbizwap/zh_CN/htmledition/images/icon/common/icon_loading_white42f400.gif\";\n",
       "    var icon_audio_unread = \"//res.wx.qq.com/mmbizwap/zh_CN/htmledition/images/icon/appmsg/audio/icon_audio_unread42f400.png\";\n",
       "    var icon_qqmusic_default = \"//res.wx.qq.com/mmbizwap/zh_CN/htmledition/images/icon/appmsg/qqmusic/icon_qqmusic_default.2x42f400.png\";\n",
       "    var icon_qqmusic_source = \"//res.wx.qq.com/mmbizwap/zh_CN/htmledition/images/icon/appmsg/qqmusic/icon_qqmusic_source42f400.png\";\n",
       "    var icon_kugou_source = \"//res.wx.qq.com/mmbizwap/zh_CN/htmledition/images/icon/appmsg/kugou/icon_kugou_source42f400.png\";\n",
       "\n",
       "    var topic_default_img = '//res.wx.qq.com/mmbizwap/zh_CN/htmledition/images/icon/appmsg/topic/pic_book_thumb.2x42f400.png';\n",
       "    var comment_edit_icon = '//res.wx.qq.com/mmbizwap/zh_CN/htmledition/images/icon/appmsg_new/icon_edit42f400.png';\n",
       "    var comment_loading_img = '//res.wx.qq.com/mmbizwap/zh_CN/htmledition/images/icon/common/icon_loading_white42f400.gif';\n",
       "\n",
       "    var voice_in_appmsg = {\n",
       "        \"1\":\"1\"\n",
       "            };\n",
       "\n",
       "    var reprint_style = ''*1;\n",
       "    var wxa_img_alert = \"\" != 'false';\n",
       "\n",
       "    \n",
       "    var img_popup = 1; \n",
       "\n",
       "    \n",
       "    var more_read_type = '0'*1;\n",
       "\n",
       "    \n",
       "    \n",
       "    \n",
       "    \n",
       "\n",
       "    \n",
       "    var weapp_sn_arr_json = \"\" || \"\";\n",
       "\n",
       "    \n",
       "    var ban_scene = \"0\" * 1;\n",
       "\n",
       "    var svr_time = \"1576026503\" * 1;\n",
       "    \n",
       "    var is_transfer_msg = \"\"*1||0;\n",
       "\n",
       "    var malicious_title_reason_id = \"0\" * 1; \n",
       "    var malicious_content_type = \"0\" * 1; \n",
       "\n",
       "    \n",
       "    var modify_time = \"\";\n",
       "\n",
       "    \n",
       "    var isprofileblock = \"0\";\n",
       "\n",
       "    \n",
       "    var hotspotInfoList = [\n",
       "                    ];\n",
       "\n",
       "    var jumpInfo = [\n",
       "                    ];\n",
       "\n",
       "    var hasRelatedArticleInfo = '0' * 1 || 0; \n",
       "\n",
       "        window.wxtoken = \"777\";\n",
       "        \n",
       "    \n",
       "    \n",
       "    \n",
       "    \n",
       "    window.is_login = '0' * 1; \n",
       "\n",
       "    window.__moon_initcallback = function(){\n",
       "        if(!!window.__initCatch){\n",
       "            window.__initCatch({\n",
       "                idkey : 27611+2,\n",
       "                startKey : 0,\n",
       "                limit : 128,\n",
       "                badjsId: 43,\n",
       "                reportOpt : {\n",
       "                    uin : uin,\n",
       "                    biz : biz,\n",
       "                    mid : mid,\n",
       "                    idx : idx,\n",
       "                    sn  : sn\n",
       "                },\n",
       "                extInfo : {\n",
       "                    network_rate : 0.01,    \n",
       "                    badjs_rate: 0.1 \n",
       "                }\n",
       "            });\n",
       "        }\n",
       "    }\n",
       "        \n",
       "    var title =\"微议题排行榜\";\n",
       "\n",
       "    var is_new_msg=true;\n",
       "    \n",
       "    \n",
       "\n",
       "    var is_wash = '' * 1;\n",
       "    var show_top_bar = '0' * 1;\n",
       "    var topbarEnable = false;\n",
       "    var enterid = \"\" * 1 || \"\" * 1 || 0;\n",
       "    var appid_list = \"\"; \n",
       "\n",
       "    var defaultAvatarUrl = '//res.wx.qq.com/mmbizwap/zh_CN/htmledition/images/pic/common/avatar_default46e3e2.svg';\n",
       "    document.addEventListener('DOMContentLoaded', function () {\n",
       "        window.domCompleteTime = Date.now();\n",
       "    });\n",
       "\n",
       "                    var hasRecommendMsg = 0;\n",
       "        ;\n",
       "    </script>\n",
       "\n",
       "<script nonce=\"426371908\" type=\"text/javascript\">\n",
       "(function(_g){\n",
       "    _g.appmsg_like_type = \"2\" * 1 ? \"2\" * 1 : 1;\n",
       "    \n",
       "    _g.clientversion = \"\";\n",
       "    _g.passparam = \"\"; \n",
       "    if(!_g.msg_link) {\n",
       "      _g.msg_link = \"http://mp.weixin.qq.com/s?__biz=MzA3MjQ5MTE3OA==&amp;mid=206241627&amp;idx=1&amp;sn=471e59c6cf7c8dae452245dbea22c8f3#rd\";\n",
       "    }\n",
       "    _g.appmsg_type = \"9\"; \n",
       "    _g.devicetype = \"\"; \n",
       "})(window);\n",
       "\n",
       "</script>\n",
       "\n",
       "\n",
       "        <script nonce=\"426371908\">window.__moon_host = 'res.wx.qq.com';window.__moon_mainjs = 'appmsg/index.js';window.moon_map = {\"new_video/plugin/util.js\":\"//res.wx.qq.com/mmbizwap/zh_CN/htmledition/js/new_video/plugin/util4a091e.js\",\"pages/iframe_communicate.js\":\"//res.wx.qq.com/mmbizwap/zh_CN/htmledition/js/pages/iframe_communicate4848aa.js\",\"new_video/player.html.js\":\"//res.wx.qq.com/mmbizwap/zh_CN/htmledition/js/new_video/player.html49b95f.js\",\"biz_wap/zepto/touch.js\":\"//res.wx.qq.com/mmbizwap/zh_CN/htmledition/js/biz_wap/zepto/touch42f400.js\",\"biz_wap/zepto/event.js\":\"//res.wx.qq.com/mmbizwap/zh_CN/htmledition/js/biz_wap/zepto/event42f400.js\",\"biz_wap/zepto/zepto.js\":\"//res.wx.qq.com/mmbizwap/zh_CN/htmledition/js/biz_wap/zepto/zepto440203.js\",\"page/pages/video.css\":\"//res.wx.qq.com/mmbizwap/zh_CN/htmledition/style/page/pages/video.css4a2c3f.js\",\"a/tpl/smallbanner_msg_tpl.html.js\":\"//res.wx.qq.com/mmbizwap/zh_CN/htmledition/js/a/tpl/smallbanner_msg_tpl.html42f400.js\",\"a/tpl/smallbanner_info_tpl.html.js\":\"//res.wx.qq.com/mmbizwap/zh_CN/htmledition/js/a/tpl/smallbanner_info_tpl.html44c2e3.js\",\"a/tpl/banner_info_tpl.html.js\":\"//res.wx.qq.com/mmbizwap/zh_CN/htmledition/js/a/tpl/banner_info_tpl.html42f400.js\",\"a/tpl/promote_tpl.html.js\":\"//res.wx.qq.com/mmbizwap/zh_CN/htmledition/js/a/tpl/promote_tpl.html42f400.js\",\"a/tpl/smallcard_tpl.html.js\":\"//res.wx.qq.com/mmbizwap/zh_CN/htmledition/js/a/tpl/smallcard_tpl.html42f400.js\",\"a/tpl/info_tpl.html.js\":\"//res.wx.qq.com/mmbizwap/zh_CN/htmledition/js/a/tpl/info_tpl.html42f400.js\",\"a/tpl/cardticket_tpl.html.js\":\"//res.wx.qq.com/mmbizwap/zh_CN/htmledition/js/a/tpl/cardticket_tpl.html42f400.js\",\"a/tpl/banner_tpl.html.js\":\"//res.wx.qq.com/mmbizwap/zh_CN/htmledition/js/a/tpl/banner_tpl.html47af5b.js\",\"a/tpl/sponsor_tpl.html.js\":\"//res.wx.qq.com/mmbizwap/zh_CN/htmledition/js/a/tpl/sponsor_tpl.html42f400.js\",\"a/tpl/new_cpc_tpl.html.js\":\"//res.wx.qq.com/mmbizwap/zh_CN/htmledition/js/a/tpl/new_cpc_tpl.html45178d.js\",\"appmsg/emotion/caret.js\":\"//res.wx.qq.com/mmbizwap/zh_CN/htmledition/js/appmsg/emotion/caret42f400.js\",\"pages/audition_tpl.html.js\":\"//res.wx.qq.com/mmbizwap/zh_CN/htmledition/js/pages/audition_tpl.html47a8e6.js\",\"biz_wap/utils/localstorage.js\":\"//res.wx.qq.com/mmbizwap/zh_CN/htmledition/js/biz_wap/utils/localstorage42f400.js\",\"a/appdialog_confirm.html.js\":\"//res.wx.qq.com/mmbizwap/zh_CN/htmledition/js/a/appdialog_confirm.html42f400.js\",\"widget/wx_profile_dialog_primary.css\":\"//res.wx.qq.com/mmbizwap/zh_CN/htmledition/style/widget/wx_profile_dialog_primary.css42f400.js\",\"new_video/player.js\":\"//res.wx.qq.com/mmbizwap/zh_CN/htmledition/js/new_video/player4a2c10.js\",\"a/tpl/mpda_bottom_tpl.html.js\":\"//res.wx.qq.com/mmbizwap/zh_CN/htmledition/js/a/tpl/mpda_bottom_tpl.html450c68.js\",\"a/tpl/crt_size_map.js\":\"//res.wx.qq.com/mmbizwap/zh_CN/htmledition/js/a/tpl/crt_size_map4602fc.js\",\"biz_wap/jsapi/cardticket.js\":\"//res.wx.qq.com/mmbizwap/zh_CN/htmledition/js/biz_wap/jsapi/cardticket42f400.js\",\"biz_common/utils/emoji_panel_data.js\":\"//res.wx.qq.com/mmbizwap/zh_CN/htmledition/js/biz_common/utils/emoji_panel_data42f400.js\",\"appmsg/emotion/textarea.js\":\"//res.wx.qq.com/mmbizwap/zh_CN/htmledition/js/appmsg/emotion/textarea42f400.js\",\"appmsg/emotion/nav.js\":\"//res.wx.qq.com/mmbizwap/zh_CN/htmledition/js/appmsg/emotion/nav42f400.js\",\"appmsg/emotion/common.js\":\"//res.wx.qq.com/mmbizwap/zh_CN/htmledition/js/appmsg/emotion/common42f400.js\",\"appmsg/emotion/slide.js\":\"//res.wx.qq.com/mmbizwap/zh_CN/htmledition/js/appmsg/emotion/slide49f7d6.js\",\"pages/musicUrlReport.js\":\"//res.wx.qq.com/mmbizwap/zh_CN/htmledition/js/pages/musicUrlReport47f34b.js\",\"biz_wap/jsapi/log.js\":\"//res.wx.qq.com/mmbizwap/zh_CN/htmledition/js/biz_wap/jsapi/log4673d5.js\",\"pages/player_tips.js\":\"//res.wx.qq.com/mmbizwap/zh_CN/htmledition/js/pages/player_tips47a8e6.js\",\"pages/music_report_conf.js\":\"//res.wx.qq.com/mmbizwap/zh_CN/htmledition/js/pages/music_report_conf42f400.js\",\"pages/report.js\":\"//res.wx.qq.com/mmbizwap/zh_CN/htmledition/js/pages/report4a2c10.js\",\"pages/player_adaptor.js\":\"//res.wx.qq.com/mmbizwap/zh_CN/htmledition/js/pages/player_adaptor42f400.js\",\"pages/music_player.js\":\"//res.wx.qq.com/mmbizwap/zh_CN/htmledition/js/pages/music_player473e5d.js\",\"biz_common/utils/emoji_data.js\":\"//res.wx.qq.com/mmbizwap/zh_CN/htmledition/js/biz_common/utils/emoji_data45112f.js\",\"appmsg/more_read_tpl.html.js\":\"//res.wx.qq.com/mmbizwap/zh_CN/htmledition/js/appmsg/more_read_tpl.html42f400.js\",\"appmsg/friend_comment_tpl.html.js\":\"//res.wx.qq.com/mmbizwap/zh_CN/htmledition/js/appmsg/friend_comment_tpl.html42f400.js\",\"appmsg/comment_pc_tpl.html.js\":\"//res.wx.qq.com/mmbizwap/zh_CN/htmledition/js/appmsg/comment_pc_tpl.html4830e1.js\",\"appmsg/comment_tpl.html.js\":\"//res.wx.qq.com/mmbizwap/zh_CN/htmledition/js/appmsg/comment_tpl.html4a2c3f.js\",\"appmsg/emotion/emotion_pc.js\":\"//res.wx.qq.com/mmbizwap/zh_CN/htmledition/js/appmsg/emotion/emotion_pc4a091e.js\",\"appmsg/emotion/dom.js\":\"//res.wx.qq.com/mmbizwap/zh_CN/htmledition/js/appmsg/emotion/dom42f400.js\",\"biz_wap/utils/fakehash.js\":\"//res.wx.qq.com/mmbizwap/zh_CN/htmledition/js/biz_wap/utils/fakehash42f400.js\",\"appmsg/emotion/selection.js\":\"//res.wx.qq.com/mmbizwap/zh_CN/htmledition/js/appmsg/emotion/selection4830e1.js\",\"appmsg/comment_report.js\":\"//res.wx.qq.com/mmbizwap/zh_CN/htmledition/js/appmsg/comment_report4690d8.js\",\"appmsg/retry_ajax.js\":\"//res.wx.qq.com/mmbizwap/zh_CN/htmledition/js/appmsg/retry_ajax451cc4.js\",\"complain/tips.js\":\"//res.wx.qq.com/mmbizwap/zh_CN/htmledition/js/complain/tips42f400.js\",\"appmsg/i18n.js\":\"//res.wx.qq.com/mmbizwap/zh_CN/htmledition/js/appmsg/i18n4a4ca1.js\",\"appmsg/related_article_tpl.html.js\":\"//res.wx.qq.com/mmbizwap/zh_CN/htmledition/js/appmsg/related_article_tpl.html4a4ca1.js\",\"pages/loadscript.js\":\"//res.wx.qq.com/mmbizwap/zh_CN/htmledition/js/pages/loadscript42f400.js\",\"biz_wap/utils/ajax_load_js.js\":\"//res.wx.qq.com/mmbizwap/zh_CN/htmledition/js/biz_wap/utils/ajax_load_js42f400.js\",\"appmsg/reward_entry.js\":\"//res.wx.qq.com/mmbizwap/zh_CN/htmledition/js/appmsg/reward_entry46ef12.js\",\"biz_common/utils/comm_report.js\":\"//res.wx.qq.com/mmbizwap/zh_CN/htmledition/js/biz_common/utils/comm_report49d6de.js\",\"a/ios.js\":\"//res.wx.qq.com/mmbizwap/zh_CN/htmledition/js/a/ios42f400.js\",\"a/android.js\":\"//res.wx.qq.com/mmbizwap/zh_CN/htmledition/js/a/android457bcb.js\",\"a/profile.js\":\"//res.wx.qq.com/mmbizwap/zh_CN/htmledition/js/a/profile455ab4.js\",\"a/app_card.js\":\"//res.wx.qq.com/mmbizwap/zh_CN/htmledition/js/a/app_card485189.js\",\"a/sponsor.js\":\"//res.wx.qq.com/mmbizwap/zh_CN/htmledition/js/a/sponsor4576f8.js\",\"a/tpl/cpc_tpl.html.js\":\"//res.wx.qq.com/mmbizwap/zh_CN/htmledition/js/a/tpl/cpc_tpl.html450c68.js\",\"a/appdialog_confirm.js\":\"//res.wx.qq.com/mmbizwap/zh_CN/htmledition/js/a/appdialog_confirm471cb1.js\",\"biz_common/dom/offset.js\":\"//res.wx.qq.com/mmbizwap/zh_CN/htmledition/js/biz_common/dom/offset4690d8.js\",\"a/video.js\":\"//res.wx.qq.com/mmbizwap/zh_CN/htmledition/js/a/video482376.js\",\"a/tpl/crt_tpl_manager.js\":\"//res.wx.qq.com/mmbizwap/zh_CN/htmledition/js/a/tpl/crt_tpl_manager450d79.js\",\"a/cpc_a_tpl.html.js\":\"//res.wx.qq.com/mmbizwap/zh_CN/htmledition/js/a/cpc_a_tpl.html485189.js\",\"a/sponsor_a_tpl.html.js\":\"//res.wx.qq.com/mmbizwap/zh_CN/htmledition/js/a/sponsor_a_tpl.html42f400.js\",\"a/a_tpl.html.js\":\"//res.wx.qq.com/mmbizwap/zh_CN/htmledition/js/a/a_tpl.html485189.js\",\"a/mpshop.js\":\"//res.wx.qq.com/mmbizwap/zh_CN/htmledition/js/a/mpshop42f400.js\",\"a/wxopen_card.js\":\"//res.wx.qq.com/mmbizwap/zh_CN/htmledition/js/a/wxopen_card42f400.js\",\"a/card.js\":\"//res.wx.qq.com/mmbizwap/zh_CN/htmledition/js/a/card42f400.js\",\"biz_wap/utils/position.js\":\"//res.wx.qq.com/mmbizwap/zh_CN/htmledition/js/biz_wap/utils/position42f400.js\",\"a/a_report.js\":\"//res.wx.qq.com/mmbizwap/zh_CN/htmledition/js/a/a_report4402ec.js\",\"biz_wap/utils/show_time.js\":\"//res.wx.qq.com/mmbizwap/zh_CN/htmledition/js/biz_wap/utils/show_time4543c6.js\",\"biz_common/utils/get_para_list.js\":\"//res.wx.qq.com/mmbizwap/zh_CN/htmledition/js/biz_common/utils/get_para_list4981d4.js\",\"biz_wap/utils/openUrl.js\":\"//res.wx.qq.com/mmbizwap/zh_CN/htmledition/js/biz_wap/utils/openUrl4402ec.js\",\"a/a_sign.js\":\"//res.wx.qq.com/mmbizwap/zh_CN/htmledition/js/a/a_sign452c49.js\",\"appmsg/my_comment_tpl.html.js\":\"//res.wx.qq.com/mmbizwap/zh_CN/htmledition/js/appmsg/my_comment_tpl.html4a41a2.js\",\"appmsg/cmt_tpl.html.js\":\"//res.wx.qq.com/mmbizwap/zh_CN/htmledition/js/appmsg/cmt_tpl.html46b604.js\",\"sougou/a_tpl.html.js\":\"//res.wx.qq.com/mmbizwap/zh_CN/htmledition/js/sougou/a_tpl.html42f400.js\",\"appmsg/emotion/emotion.js\":\"//res.wx.qq.com/mmbizwap/zh_CN/htmledition/js/appmsg/emotion/emotion46b604.js\",\"biz_common/utils/report.js\":\"//res.wx.qq.com/mmbizwap/zh_CN/htmledition/js/biz_common/utils/report42f400.js\",\"appmsg/articleReport.js\":\"//res.wx.qq.com/mmbizwap/zh_CN/htmledition/js/appmsg/articleReport42f400.js\",\"biz_wap/jsapi/leaveReport.js\":\"//res.wx.qq.com/mmbizwap/zh_CN/htmledition/js/biz_wap/jsapi/leaveReport482a87.js\",\"biz_wap/utils/hand_up_state.js\":\"//res.wx.qq.com/mmbizwap/zh_CN/htmledition/js/biz_wap/utils/hand_up_state42f400.js\",\"biz_wap/utils/storage.js\":\"//res.wx.qq.com/mmbizwap/zh_CN/htmledition/js/biz_wap/utils/storage42f400.js\",\"biz_common/utils/http.js\":\"//res.wx.qq.com/mmbizwap/zh_CN/htmledition/js/biz_common/utils/http42f400.js\",\"biz_common/utils/cookie.js\":\"//res.wx.qq.com/mmbizwap/zh_CN/htmledition/js/biz_common/utils/cookie42f400.js\",\"appmsg/topic_tpl.html.js\":\"//res.wx.qq.com/mmbizwap/zh_CN/htmledition/js/appmsg/topic_tpl.html42f400.js\",\"question_answer/appmsg_tpl.html.js\":\"//res.wx.qq.com/mmbizwap/zh_CN/htmledition/js/question_answer/appmsg_tpl.html4a2c10.js\",\"pages/weapp_tpl.html.js\":\"//res.wx.qq.com/mmbizwap/zh_CN/htmledition/js/pages/weapp_tpl.html42f400.js\",\"biz_common/utils/monitor.js\":\"//res.wx.qq.com/mmbizwap/zh_CN/htmledition/js/biz_common/utils/monitor42f400.js\",\"pages/voice_tpl.html.js\":\"//res.wx.qq.com/mmbizwap/zh_CN/htmledition/js/pages/voice_tpl.html42f400.js\",\"pages/kugoumusic_ctrl.js\":\"//res.wx.qq.com/mmbizwap/zh_CN/htmledition/js/pages/kugoumusic_ctrl47cb36.js\",\"pages/qqmusic_ctrl.js\":\"//res.wx.qq.com/mmbizwap/zh_CN/htmledition/js/pages/qqmusic_ctrl47cb36.js\",\"pages/voice_component.js\":\"//res.wx.qq.com/mmbizwap/zh_CN/htmledition/js/pages/voice_component482b98.js\",\"pages/qqmusic_tpl.html.js\":\"//res.wx.qq.com/mmbizwap/zh_CN/htmledition/js/pages/qqmusic_tpl.html42f400.js\",\"new_video/ctl.js\":\"//res.wx.qq.com/mmbizwap/zh_CN/htmledition/js/new_video/ctl4a46b1.js\",\"pages/utils.js\":\"//res.wx.qq.com/mmbizwap/zh_CN/htmledition/js/pages/utils47da67.js\",\"appmsg/open_url_with_webview.js\":\"//res.wx.qq.com/mmbizwap/zh_CN/htmledition/js/appmsg/open_url_with_webview440203.js\",\"appmsg/more_read.js\":\"//res.wx.qq.com/mmbizwap/zh_CN/htmledition/js/appmsg/more_read4576f8.js\",\"appmsg/comment.js\":\"//res.wx.qq.com/mmbizwap/zh_CN/htmledition/js/appmsg/comment4a6e29.js\",\"appmsg/like.js\":\"//res.wx.qq.com/mmbizwap/zh_CN/htmledition/js/appmsg/like4a4ca1.js\",\"appmsg/related_article.js\":\"//res.wx.qq.com/mmbizwap/zh_CN/htmledition/js/appmsg/related_article4a52fe.js\",\"appmsg/share_tpl.html.js\":\"//res.wx.qq.com/mmbizwap/zh_CN/htmledition/js/appmsg/share_tpl.html42f400.js\",\"appmsg/appmsgext.js\":\"//res.wx.qq.com/mmbizwap/zh_CN/htmledition/js/appmsg/appmsgext49b95f.js\",\"appmsg/img_copyright_tpl.html.js\":\"//res.wx.qq.com/mmbizwap/zh_CN/htmledition/js/appmsg/img_copyright_tpl.html42f400.js\",\"pages/video_ctrl.js\":\"//res.wx.qq.com/mmbizwap/zh_CN/htmledition/js/pages/video_ctrl42f400.js\",\"pages/create_txv.js\":\"//res.wx.qq.com/mmbizwap/zh_CN/htmledition/js/pages/create_txv42f400.js\",\"appmsg/reward_utils.js\":\"//res.wx.qq.com/mmbizwap/zh_CN/htmledition/js/appmsg/reward_utils46e54d.js\",\"biz_common/ui/imgonepx.js\":\"//res.wx.qq.com/mmbizwap/zh_CN/htmledition/js/biz_common/ui/imgonepx42f400.js\",\"appmsg/malicious_wording.js\":\"//res.wx.qq.com/mmbizwap/zh_CN/htmledition/js/appmsg/malicious_wording42f400.js\",\"biz_common/jquery.md5.js\":\"//res.wx.qq.com/mmbizwap/zh_CN/htmledition/js/biz_common/jquery.md542f400.js\",\"biz_common/base64.js\":\"//res.wx.qq.com/mmbizwap/zh_CN/htmledition/js/biz_common/base6442f400.js\",\"common/comm_report.js\":\"//res.wx.qq.com/mmbizwap/zh_CN/htmledition/js/common/comm_report49d6de.js\",\"biz_common/utils/wxgspeedsdk.js\":\"//res.wx.qq.com/mmbizwap/zh_CN/htmledition/js/biz_common/utils/wxgspeedsdk42f400.js\",\"pages/version4video.js\":\"//res.wx.qq.com/mmbizwap/zh_CN/htmledition/js/pages/version4video4a091e.js\",\"a/a_config.js\":\"//res.wx.qq.com/mmbizwap/zh_CN/htmledition/js/a/a_config4a2c10.js\",\"a/a_utils.js\":\"//res.wx.qq.com/mmbizwap/zh_CN/htmledition/js/a/a_utils482376.js\",\"a/a.js\":\"//res.wx.qq.com/mmbizwap/zh_CN/htmledition/js/a/a4a2c10.js\",\"rt/appmsg/getappmsgext.rt.js\":\"//res.wx.qq.com/mmbizwap/zh_CN/htmledition/js/rt/appmsg/getappmsgext.rt42f400.js\",\"pages/video_communicate_adaptor.js\":\"//res.wx.qq.com/mmbizwap/zh_CN/htmledition/js/pages/video_communicate_adaptor471b11.js\",\"biz_wap/utils/ajax_wx.js\":\"//res.wx.qq.com/mmbizwap/zh_CN/htmledition/js/biz_wap/utils/ajax_wx4a2b2d.js\",\"biz_common/utils/respTypes.js\":\"//res.wx.qq.com/mmbizwap/zh_CN/htmledition/js/biz_common/utils/respTypes42f400.js\",\"biz_wap/utils/log.js\":\"//res.wx.qq.com/mmbizwap/zh_CN/htmledition/js/biz_wap/utils/log42f400.js\",\"sougou/index.js\":\"//res.wx.qq.com/mmbizwap/zh_CN/htmledition/js/sougou/index42f400.js\",\"biz_wap/safe/mutation_observer_report.js\":\"//res.wx.qq.com/mmbizwap/zh_CN/htmledition/js/biz_wap/safe/mutation_observer_report42f400.js\",\"appmsg/fereport.js\":\"//res.wx.qq.com/mmbizwap/zh_CN/htmledition/js/appmsg/fereport438bee.js\",\"appmsg/fereport_without_localstorage.js\":\"//res.wx.qq.com/mmbizwap/zh_CN/htmledition/js/appmsg/fereport_without_localstorage438bee.js\",\"appmsg/report.js\":\"//res.wx.qq.com/mmbizwap/zh_CN/htmledition/js/appmsg/report4765b8.js\",\"appmsg/report_and_source.js\":\"//res.wx.qq.com/mmbizwap/zh_CN/htmledition/js/appmsg/report_and_source450c68.js\",\"appmsg/page_pos.js\":\"//res.wx.qq.com/mmbizwap/zh_CN/htmledition/js/appmsg/page_pos482a87.js\",\"appmsg/cdn_speed_report.js\":\"//res.wx.qq.com/mmbizwap/zh_CN/htmledition/js/appmsg/cdn_speed_report4765b8.js\",\"appmsg/wxtopic.js\":\"//res.wx.qq.com/mmbizwap/zh_CN/htmledition/js/appmsg/wxtopic42f400.js\",\"question_answer/appmsg.js\":\"//res.wx.qq.com/mmbizwap/zh_CN/htmledition/js/question_answer/appmsg4a2c10.js\",\"appmsg/weapp.js\":\"//res.wx.qq.com/mmbizwap/zh_CN/htmledition/js/appmsg/weapp4a2c10.js\",\"appmsg/weproduct.js\":\"//res.wx.qq.com/mmbizwap/zh_CN/htmledition/js/appmsg/weproduct4576f8.js\",\"appmsg/voicemsg.js\":\"//res.wx.qq.com/mmbizwap/zh_CN/htmledition/js/appmsg/voicemsg42f400.js\",\"appmsg/autoread.js\":\"//res.wx.qq.com/mmbizwap/zh_CN/htmledition/js/appmsg/autoread42f400.js\",\"appmsg/voice.js\":\"//res.wx.qq.com/mmbizwap/zh_CN/htmledition/js/appmsg/voice42f400.js\",\"appmsg/qqmusic.js\":\"//res.wx.qq.com/mmbizwap/zh_CN/htmledition/js/appmsg/qqmusic47cb36.js\",\"appmsg/iframe.js\":\"//res.wx.qq.com/mmbizwap/zh_CN/htmledition/js/appmsg/iframe4a2c10.js\",\"question_answer/utils.js\":\"//res.wx.qq.com/mmbizwap/zh_CN/htmledition/js/question_answer/utils4a2c10.js\",\"appmsg/product.js\":\"//res.wx.qq.com/mmbizwap/zh_CN/htmledition/js/appmsg/product4576f8.js\",\"appmsg/review_image.js\":\"//res.wx.qq.com/mmbizwap/zh_CN/htmledition/js/appmsg/review_image46a084.js\",\"appmsg/outer_link.js\":\"//res.wx.qq.com/mmbizwap/zh_CN/htmledition/js/appmsg/outer_link4a2b2d.js\",\"appmsg/copyright_report.js\":\"//res.wx.qq.com/mmbizwap/zh_CN/htmledition/js/appmsg/copyright_report4a2c10.js\",\"appmsg/async.js\":\"//res.wx.qq.com/mmbizwap/zh_CN/htmledition/js/appmsg/async4a47e4.js\",\"biz_wap/ui/lazyload_img.js\":\"//res.wx.qq.com/mmbizwap/zh_CN/htmledition/js/biz_wap/ui/lazyload_img42f400.js\",\"biz_common/log/jserr.js\":\"//res.wx.qq.com/mmbizwap/zh_CN/htmledition/js/biz_common/log/jserr42f400.js\",\"appmsg/share.js\":\"//res.wx.qq.com/mmbizwap/zh_CN/htmledition/js/appmsg/share475580.js\",\"appmsg/cdn_img_lib.js\":\"//res.wx.qq.com/mmbizwap/zh_CN/htmledition/js/appmsg/cdn_img_lib42f400.js\",\"appmsg/finance_communicate.js\":\"//res.wx.qq.com/mmbizwap/zh_CN/htmledition/js/appmsg/finance_communicate4a41a2.js\",\"page/appmsg_new/not_in_mm.css\":\"//res.wx.qq.com/mmbizwap/zh_CN/htmledition/style/page/appmsg_new/not_in_mm.css492bcc.js\",\"page/appmsg_new/combo.css\":\"//res.wx.qq.com/mmbizwap/zh_CN/htmledition/style/page/appmsg_new/combo.css4a4bbc.js\",\"appmsg/popup_report.js\":\"//res.wx.qq.com/mmbizwap/zh_CN/htmledition/js/appmsg/popup_report488f96.js\",\"complain/localstorage.js\":\"//res.wx.qq.com/mmbizwap/zh_CN/htmledition/js/complain/localstorage42f400.js\",\"common/utils.js\":\"//res.wx.qq.com/mmbizwap/zh_CN/htmledition/js/common/utils4a091e.js\",\"biz_wap/utils/wapsdk.js\":\"//res.wx.qq.com/mmbizwap/zh_CN/htmledition/js/biz_wap/utils/wapsdk44c130.js\",\"a/mpAdAsync.js\":\"//res.wx.qq.com/mmbizwap/zh_CN/htmledition/js/a/mpAdAsync4a28ed.js\",\"biz_common/utils/url/parse.js\":\"//res.wx.qq.com/mmbizwap/zh_CN/htmledition/js/biz_common/utils/url/parse440451.js\",\"appmsg/appmsg_report.js\":\"//res.wx.qq.com/mmbizwap/zh_CN/htmledition/js/appmsg/appmsg_report475580.js\",\"biz_common/moment.js\":\"//res.wx.qq.com/mmbizwap/zh_CN/htmledition/js/biz_common/moment42f400.js\",\"biz_wap/jsapi/core.js\":\"//res.wx.qq.com/mmbizwap/zh_CN/htmledition/js/biz_wap/jsapi/core48ce4f.js\",\"biz_common/dom/event.js\":\"//res.wx.qq.com/mmbizwap/zh_CN/htmledition/js/biz_common/dom/event445789.js\",\"appmsg/test.js\":\"//res.wx.qq.com/mmbizwap/zh_CN/htmledition/js/appmsg/test42f400.js\",\"biz_wap/utils/mmversion.js\":\"//res.wx.qq.com/mmbizwap/zh_CN/htmledition/js/biz_wap/utils/mmversion45fc7f.js\",\"appmsg/max_age.js\":\"//res.wx.qq.com/mmbizwap/zh_CN/htmledition/js/appmsg/max_age42f400.js\",\"biz_common/dom/attr.js\":\"//res.wx.qq.com/mmbizwap/zh_CN/htmledition/js/biz_common/dom/attr42f400.js\",\"biz_wap/utils/ajax.js\":\"//res.wx.qq.com/mmbizwap/zh_CN/htmledition/js/biz_wap/utils/ajax4a2b2d.js\",\"appmsg/log.js\":\"//res.wx.qq.com/mmbizwap/zh_CN/htmledition/js/appmsg/log42f400.js\",\"biz_common/dom/class.js\":\"//res.wx.qq.com/mmbizwap/zh_CN/htmledition/js/biz_common/dom/class42f400.js\",\"biz_wap/utils/device.js\":\"//res.wx.qq.com/mmbizwap/zh_CN/htmledition/js/biz_wap/utils/device4830e1.js\",\"appmsg/weapp_common.js\":\"//res.wx.qq.com/mmbizwap/zh_CN/htmledition/js/appmsg/weapp_common48ce4f.js\",\"biz_common/utils/string/html.js\":\"//res.wx.qq.com/mmbizwap/zh_CN/htmledition/js/biz_common/utils/string/html42f400.js\",\"cps/tpl/list_tpl.html.js\":\"//res.wx.qq.com/mmbizwap/zh_CN/htmledition/js/cps/tpl/list_tpl.html4a4bbc.js\",\"cps/tpl/card_tpl.html.js\":\"//res.wx.qq.com/mmbizwap/zh_CN/htmledition/js/cps/tpl/card_tpl.html4a4bbc.js\",\"cps/tpl/banner_tpl.html.js\":\"//res.wx.qq.com/mmbizwap/zh_CN/htmledition/js/cps/tpl/banner_tpl.html4a4bbc.js\",\"biz_common/tmpl.js\":\"//res.wx.qq.com/mmbizwap/zh_CN/htmledition/js/biz_common/tmpl485189.js\",\"appmsg/set_font_size.js\":\"//res.wx.qq.com/mmbizwap/zh_CN/htmledition/js/appmsg/set_font_size499238.js\",\"appmsg/index.js\":\"//res.wx.qq.com/mmbizwap/zh_CN/htmledition/js/appmsg/index4a2c10.js\"};</script><script nonce=\"426371908\" type=\"text/javascript\" id=\"moon_inline\" > window.__mooninline=1; window.setTimeout(function() {  function __moonf__(){\n",
       "if(!window.__moonhasinit){\n",
       "window.__moonhasinit=!0,window.__moonclientlog=[],window.__wxgspeeds&&(window.__wxgspeeds.moonloadedtime=+new Date),\n",
       "\"object\"!=typeof JSON&&(window.JSON={\n",
       "stringify:function(){\n",
       "return\"\";\n",
       "},\n",
       "parse:function(){\n",
       "return{};\n",
       "}\n",
       "});\n",
       "var e=function(){\n",
       "function e(e){\n",
       "try{\n",
       "var o;\n",
       "/(iPhone|iPad|iPod|iOS)/i.test(navigator.userAgent)?o=\"writeLog\":/(Android)/i.test(navigator.userAgent)&&(o=\"log\"),\n",
       "o&&n(o,e);\n",
       "}catch(t){\n",
       "throw console.error(t),t;\n",
       "}\n",
       "}\n",
       "function n(e,o){\n",
       "var t,r,i={};\n",
       "t=top!=window?top.window:window;\n",
       "try{\n",
       "r=t.WeixinJSBridge,i=t.document;\n",
       "}catch(a){}\n",
       "e&&r&&r.invoke?r.invoke(e,{\n",
       "level:\"info\",\n",
       "msg:\"[WechatFe][moon]\"+o\n",
       "}):setTimeout(function(){\n",
       "i.addEventListener?i.addEventListener(\"WeixinJSBridgeReady\",function(){\n",
       "n(e,o);\n",
       "},!1):i.attachEvent&&(i.attachEvent(\"WeixinJSBridgeReady\",function(){\n",
       "n(e,o);\n",
       "}),i.attachEvent(\"onWeixinJSBridgeReady\",function(){\n",
       "n(e,o);\n",
       "}));\n",
       "},0);\n",
       "}\n",
       "var t;\n",
       "localStorage&&JSON.parse(localStorage.getItem(\"__WXLS__moonarg\"))&&\"fromls\"==JSON.parse(localStorage.getItem(\"__WXLS__moonarg\")).method&&(t=!0),\n",
       "e(\" moon init, moon_inline:\"+window.__mooninline+\", moonls:\"+t),function(){\n",
       "var e={},o={},n={};\n",
       "e.COMBO_UNLOAD=0,e.COMBO_LOADING=1,e.COMBO_LOADED=2;\n",
       "var t=function(e,n,t){\n",
       "if(!o[e]){\n",
       "o[e]=t;\n",
       "for(var r=3;r--;)try{\n",
       "moon.setItem(moon.prefix+e,t.toString()),moon.setItem(moon.prefix+e+\"_ver\",moon_map[e]);\n",
       "break;\n",
       "}catch(i){\n",
       "moon.clear();\n",
       "}\n",
       "}\n",
       "},r=window.alert;\n",
       "window.__alertList=[],window.alert=function(e){\n",
       "r(e),window.__alertList.push(e);\n",
       "};\n",
       "var i=function(e){\n",
       "if(!e||!o[e])return null;\n",
       "var t=o[e];\n",
       "if(\"function\"==typeof t&&!n[e]){\n",
       "var a={},s={\n",
       "exports:a\n",
       "},c=t(i,a,s,r);\n",
       "t=o[e]=c||s.exports,n[e]=!0;\n",
       "}\n",
       "if(\".css\"===e.substr(-4)){\n",
       "var d=document.getElementById(e);\n",
       "if(!d){\n",
       "d=document.createElement(\"style\"),d.id=e;\n",
       "var _=/url\\s*\\(\\s*\\/(\\\"(?:[^\\\\\\\"\\r\\n\\f]|\\\\[\\s\\S])*\\\"|'(?:[^\\\\'\\n\\r\\f]|\\\\[\\s\\S])*'|[^)}]+)\\s*\\)/g,l=window.testenv_reshost||window.__moon_host||\"res.wx.qq.com\";\n",
       "t=t.replace(_,\"url(//\"+l+\"/$1)\"),d.innerHTML=t,document.getElementsByTagName(\"head\")[0].appendChild(d);\n",
       "}\n",
       "}\n",
       "return t;\n",
       "};\n",
       "e.combo_status=e.COMBO_UNLOAD,e.run=function(){\n",
       "var o=e.run.info,n=o&&o[0],t=o&&o[1];\n",
       "if(n&&e.combo_status==e.COMBO_LOADED){\n",
       "var r=i(n);\n",
       "t&&t(r);\n",
       "}\n",
       "},e.use=function(o,n){\n",
       "window.__wxgspeeds&&(window.__wxgspeeds.seajs_use_time=+new Date),e.run.info=[o,n],\n",
       "e.run();\n",
       "},window.define=t,window.seajs=e;\n",
       "}(),function(){\n",
       "if(window.__nonce_str){\n",
       "var e=document.createElement;\n",
       "document.createElement=function(o){\n",
       "var n=e.apply(this,arguments);\n",
       "return\"object\"==typeof o&&(o=o.toString()),\"string\"==typeof o&&\"script\"==o.toLowerCase()&&n.setAttribute(\"nonce\",window.__nonce_str),\n",
       "n;\n",
       "};\n",
       "}\n",
       "window.addEventListener&&window.__DEBUGINFO&&Math.random()<.01&&window.addEventListener(\"load\",function(){\n",
       "var e=document.createElement(\"script\");\n",
       "e.src=__DEBUGINFO.safe_js,e.type=\"text/javascript\",e.async=!0;\n",
       "var o=document.head||document.getElementsByTagName(\"head\")[0];\n",
       "o.appendChild(e);\n",
       "});\n",
       "}(),function(){\n",
       "function n(e){\n",
       "return\"[object Array]\"===Object.prototype.toString.call(e);\n",
       "}\n",
       "function t(e){\n",
       "return\"[object Object]\"===Object.prototype.toString.call(e);\n",
       "}\n",
       "function r(e){\n",
       "var n=e.stack+\" \"+e.toString()||\"\";\n",
       "try{\n",
       "if(window.testenv_reshost){\n",
       "var t=\"http(s)?://\"+window.testenv_reshost,r=new RegExp(t,\"g\");\n",
       "n=n.replace(r,\"\");\n",
       "}else n=n.replace(/http(s)?:\\/\\/res\\.wx\\.qq\\.com/g,\"\");\n",
       "for(var r=/\\/([^.]+)\\/js\\/(\\S+?)\\.js(\\,|:)?/g;r.test(n);)n=n.replace(r,function(e,o,n,t){\n",
       "return n+t;\n",
       "});\n",
       "}catch(e){\n",
       "n=e.stack?e.stack:\"\";\n",
       "}\n",
       "var i=[];\n",
       "for(o in m)m.hasOwnProperty(o)&&i.push(o+\":\"+m[o]);\n",
       "return i.push(\"STK:\"+n.replace(/\\n/g,\"\")),i.join(\"|\");\n",
       "}\n",
       "function i(e,o,n){\n",
       "if(!/^mp\\.weixin\\.qq\\.com$/.test(location.hostname)){\n",
       "var t=[];\n",
       "n=n.replace(location.href,(location.origin||\"\")+(location.pathname||\"\")).replace(\"#wechat_redirect\",\"\").replace(\"#rd\",\"\").split(\"&\");\n",
       "for(var r=0,i=n.length;i>r;r++){\n",
       "var a=n[r].split(\"=\");\n",
       "a[0]&&a[1]&&t.push(a[0]+\"=\"+encodeURIComponent(a[1]));\n",
       "}\n",
       "var s=new window.Image;\n",
       "return void(s.src=(o+t.join(\"&\")).substr(0,1024));\n",
       "}\n",
       "var c;\n",
       "if(window.ActiveXObject)try{\n",
       "c=new ActiveXObject(\"Msxml2.XMLHTTP\");\n",
       "}catch(d){\n",
       "try{\n",
       "c=new ActiveXObject(\"Microsoft.XMLHTTP\");\n",
       "}catch(_){\n",
       "c=!1;\n",
       "}\n",
       "}else window.XMLHttpRequest&&(c=new XMLHttpRequest);\n",
       "c&&(c.open(e,o,!0),c.setRequestHeader(\"cache-control\",\"no-cache\"),c.setRequestHeader(\"Content-Type\",\"application/x-www-form-urlencoded; charset=UTF-8\"),\n",
       "c.setRequestHeader(\"X-Requested-With\",\"XMLHttpRequest\"),c.send(n));\n",
       "}\n",
       "function a(e){\n",
       "return function(o,n){\n",
       "if(\"string\"==typeof o)try{\n",
       "o=new Function(o);\n",
       "}catch(t){\n",
       "throw t;\n",
       "}\n",
       "var r=[].slice.call(arguments,2),i=o;\n",
       "return o=function(){\n",
       "try{\n",
       "return i.apply(this,r.length&&r||arguments);\n",
       "}catch(e){\n",
       "throw e.stack&&console&&console.error&&console.error(\"[TryCatch]\"+e.stack),h&&window.__moon_report&&window.__moon_report([{\n",
       "offset:O,\n",
       "log:\"timeout_error;host:\"+location.host,\n",
       "e:e\n",
       "}]),e;\n",
       "}\n",
       "},e(o,n);\n",
       "};\n",
       "}\n",
       "function s(e){\n",
       "return function(o,n,t){\n",
       "if(\"undefined\"==typeof t)var t=!1;\n",
       "var r=this,i=n||function(){};\n",
       "return n=function(){\n",
       "try{\n",
       "return i.apply(r,arguments);\n",
       "}catch(e){\n",
       "throw e.stack&&console&&console.error&&console.error(\"[TryCatch]\"+e.stack),h&&window.__moon_report&&window.__moon_report([{\n",
       "offset:v,\n",
       "log:\"listener_error;type:\"+o+\";host:\"+location.host,\n",
       "e:e\n",
       "}]),e;\n",
       "}\n",
       "},i.moon_lid=j,x[j]=n,j++,e.call(r,o,n,t);\n",
       "};\n",
       "}\n",
       "function c(e){\n",
       "return function(o,n,t){\n",
       "if(\"undefined\"==typeof t)var t=!1;\n",
       "var r=this;\n",
       "return n=x[n.moon_lid],e.call(r,o,n,t);\n",
       "};\n",
       "}\n",
       "var d,_,l,m,w,u=/MicroMessenger/i.test(navigator.userAgent),f=/MPAPP/i.test(navigator.userAgent),p=window.define,h=121261,g=0,v=2,y=4,O=9,E=10;\n",
       "if(window.__initCatch=function(e){\n",
       "h=e.idkey,d=e.startKey||0,_=e.limit,l=e.badjsId,m=e.reportOpt||\"\",w=e.extInfo||{},\n",
       "w.rate=w.rate||.5;\n",
       "},window.__moon_report=function(e,o){\n",
       "var a=!1,s=\"\";\n",
       "try{\n",
       "s=top.location.href;\n",
       "}catch(c){\n",
       "a=!0;\n",
       "}\n",
       "var m=.5;\n",
       "if(w&&w.rate&&(m=w.rate),o&&\"number\"==typeof o&&(m=o),!/mp\\.weixin\\.qq\\.com/.test(location.href)&&!/payapp\\.weixin\\.qq\\.com/.test(location.href)||Math.random()>m||!u&&!f||top!=window&&!a&&!/mp\\.weixin\\.qq\\.com/.test(s),\n",
       "t(e)&&(e=[e]),n(e)&&\"\"!=h){\n",
       "var p=\"\",g=[],v=[],O=[],E=[];\n",
       "\"number\"!=typeof _&&(_=1/0);\n",
       "for(var x=0;x<e.length;x++){\n",
       "var j=e[x]||{};\n",
       "if(!(j.offset>_||\"number\"!=typeof j.offset||j.offset==y&&w&&w.network_rate&&Math.random()>=w.network_rate)){\n",
       "var b=1/0==_?d:d+j.offset;\n",
       "g[x]=\"[moon]\"+h+\"_\"+b+\";\"+j.log+\";\"+r(j.e||{})||\"\",v[x]=b,O[x]=1;\n",
       "}\n",
       "}\n",
       "for(var D=0;D<v.length;D++)E[D]=h+\"_\"+v[D]+\"_\"+O[D],p=p+\"&log\"+D+\"=\"+g[D];\n",
       "if(E.length>0){\n",
       "i(\"POST\",location.protocol+\"//mp.weixin.qq.com/mp/jsmonitor?\",\"idkey=\"+E.join(\";\")+\"&r=\"+Math.random()+\"&lc=\"+g.length+p);\n",
       "var m=1;\n",
       "if(w&&w.badjs_rate&&(m=w.badjs_rate),Math.random()<m){\n",
       "if(p=p.replace(/uin\\:(.)*\\|biz\\:(.)*\\|mid\\:(.)*\\|idx\\:(.)*\\|sn\\:(.)*\\|/,\"\"),l){\n",
       "var B=new Image,S=\"https://badjs.weixinbridge.com/badjs?id=\"+l+\"&level=4&from=\"+encodeURIComponent(location.host)+\"&msg=\"+encodeURIComponent(p);\n",
       "B.src=S.slice(0,1024);\n",
       "}\n",
       "if(\"undefined\"!=typeof WX_BJ_REPORT&&WX_BJ_REPORT.BadJs)for(var x=0;x<e.length;x++){\n",
       "var j=e[x]||{};\n",
       "if(j.e)WX_BJ_REPORT.BadJs.onError(j.e);else{\n",
       "var I=/[^:;]*/.exec(j.log)[0];\n",
       "WX_BJ_REPORT.BadJs.report(I,j.log,{\n",
       "mid:\"mmbizwap:Monitor\"\n",
       "});\n",
       "}\n",
       "}\n",
       "}else for(var x=0;x<e.length;x++){\n",
       "var j=e[x]||{};\n",
       "j.e&&(j.e.BADJS_EXCUTED=!0);\n",
       "}\n",
       "}\n",
       "}\n",
       "},window.setTimeout=a(window.setTimeout),window.setInterval=a(window.setInterval),\n",
       "Math.random()<.01&&window.Document&&window.HTMLElement){\n",
       "var x={},j=0;\n",
       "Document.prototype.addEventListener=s(Document.prototype.addEventListener),Document.prototype.removeEventListener=c(Document.prototype.removeEventListener),\n",
       "HTMLElement.prototype.addEventListener=s(HTMLElement.prototype.addEventListener),\n",
       "HTMLElement.prototype.removeEventListener=c(HTMLElement.prototype.removeEventListener);\n",
       "}\n",
       "var b=window.navigator.userAgent;\n",
       "if((/ip(hone|ad|od)/i.test(b)||/android/i.test(b))&&!/windows phone/i.test(b)&&window.localStorage&&window.localStorage.setItem){\n",
       "var D=window.localStorage.setItem,B=0;\n",
       "window.localStorage.setItem=function(e,o){\n",
       "if(!(B>=10))try{\n",
       "D.call(window.localStorage,e,o);\n",
       "}catch(n){\n",
       "n.stack&&console&&console.error&&console.error(\"[TryCatch]\"+n.stack),window.__moon_report([{\n",
       "offset:E,\n",
       "log:\"localstorage_error;\"+n.toString(),\n",
       "e:n\n",
       "}]),B++,B>=3&&window.moon&&window.moon.clear&&moon.clear();\n",
       "}\n",
       "};\n",
       "}\n",
       "window.seajs&&p&&(window.define=function(){\n",
       "for(var o,n=[],t=arguments&&arguments[0],i=0,a=arguments.length;a>i;i++){\n",
       "var s=o=arguments[i];\n",
       "\"function\"==typeof o&&(o=function(){\n",
       "try{\n",
       "return s.apply(this,arguments);\n",
       "}catch(o){\n",
       "throw\"string\"==typeof t&&console.error(\"[TryCatch][DefineeErr]id:\"+t),o.stack&&console&&console.error&&console.error(\"[TryCatch]\"+o.stack),\n",
       "h&&window.__moon_report&&window.__moon_report([{\n",
       "offset:g,\n",
       "log:\"define_error;id:\"+t+\";\",\n",
       "e:o\n",
       "}]),e(\" [define_error]\"+JSON.stringify(r(o))),o;\n",
       "}\n",
       "},o.toString=function(e){\n",
       "return function(){\n",
       "return e.toString();\n",
       "};\n",
       "}(arguments[i])),n.push(o);\n",
       "}\n",
       "return p.apply(this,n);\n",
       "});\n",
       "}(),function(o){\n",
       "function n(e,o,n){\n",
       "return window.__DEBUGINFO?(window.__DEBUGINFO.res_list||(window.__DEBUGINFO.res_list=[]),\n",
       "window.__DEBUGINFO.res_list[e]?(window.__DEBUGINFO.res_list[e][o]=n,!0):!1):!1;\n",
       "}\n",
       "function t(e){\n",
       "var o=new TextEncoder(\"utf-8\").encode(e),n=crypto.subtle||crypto.webkitSubtle;\n",
       "return n.digest(\"SHA-256\",o).then(function(e){\n",
       "return r(e);\n",
       "});\n",
       "}\n",
       "function r(e){\n",
       "for(var o=[],n=new DataView(e),t=0;t<n.byteLength;t+=4){\n",
       "var r=n.getUint32(t),i=r.toString(16),a=\"00000000\",s=(a+i).slice(-a.length);\n",
       "o.push(s);\n",
       "}\n",
       "return o.join(\"\");\n",
       "}\n",
       "function i(e,o,n){\n",
       "if(\"object\"==typeof e){\n",
       "var t=Object.prototype.toString.call(e).replace(/^\\[object (.+)\\]$/,function(e,o){\n",
       "return o;\n",
       "});\n",
       "if(n=n||e,\"Array\"==t){\n",
       "for(var r=0,i=e.length;i>r;++r)if(o.call(n,e[r],r,e)===!1)return;\n",
       "}else{\n",
       "if(\"Object\"!==t&&a!=e)throw\"unsupport type\";\n",
       "if(a==e){\n",
       "for(var r=e.length-1;r>=0;r--){\n",
       "var s=a.key(r),c=a.getItem(s);\n",
       "if(o.call(n,c,s,e)===!1)return;\n",
       "}\n",
       "return;\n",
       "}\n",
       "for(var r in e)if(e.hasOwnProperty(r)&&o.call(n,e[r],r,e)===!1)return;\n",
       "}\n",
       "}\n",
       "}\n",
       "var a=o.localStorage,s=document.head||document.getElementsByTagName(\"head\")[0],c=1,d=11,_=12,l=13,m=window.__allowLoadResFromMp?1:2,w=window.__allowLoadResFromMp?1:0,u=m+w,f=window.testenv_reshost||window.__moon_host||\"res.wx.qq.com\",p=new RegExp(\"^(http(s)?:)?//\"+f);\n",
       "window.__loadAllResFromMp&&(f=\"mp.weixin.qq.com\",m=0,u=m+w);\n",
       "var h={\n",
       "prefix:\"__MOON__\",\n",
       "loaded:[],\n",
       "unload:[],\n",
       "clearSample:!0,\n",
       "hit_num:0,\n",
       "mod_num:0,\n",
       "version:1003,\n",
       "cacheData:{\n",
       "js_mod_num:0,\n",
       "js_hit_num:0,\n",
       "js_not_hit_num:0,\n",
       "js_expired_num:0,\n",
       "css_mod_num:0,\n",
       "css_hit_num:0,\n",
       "css_not_hit_num:0,\n",
       "css_expired_num:0\n",
       "},\n",
       "init:function(){\n",
       "h.loaded=[],h.unload=[];\n",
       "var e,n,r;\n",
       "if(window.no_moon_ls&&(h.clearSample=!0),a){\n",
       "var s=\"_moon_ver_key_\",c=a.getItem(s);\n",
       "c!=h.version&&(h.clear(),a.setItem(s,h.version));\n",
       "}\n",
       "if((-1!=location.search.indexOf(\"no_moon1=1\")||-1!=location.search.indexOf(\"no_lshttps=1\"))&&h.clear(),\n",
       "a){\n",
       "var d=1*a.getItem(h.prefix+\"clean_time\"),_=+new Date;\n",
       "if(_-d>=1296e6){\n",
       "h.clear();\n",
       "try{\n",
       "!!a&&a.setItem(h.prefix+\"clean_time\",+new Date);\n",
       "}catch(l){}\n",
       "}\n",
       "}\n",
       "i(moon_map,function(i,s){\n",
       "if(n=h.prefix+s,r=!!i&&i.replace(p,\"\"),e=!!a&&a.getItem(n),version=!!a&&(a.getItem(n+\"_ver\")||\"\").replace(p,\"\"),\n",
       "h.mod_num++,r&&-1!=r.indexOf(\".css\")?h.cacheData.css_mod_num++:r&&-1!=r.indexOf(\".js\")&&h.cacheData.js_mod_num++,\n",
       "h.clearSample||!e||r!=version)h.unload.push(r.replace(p,\"\")),r&&-1!=r.indexOf(\".css\")?e?r!=version&&h.cacheData.css_expired_num++:h.cacheData.css_not_hit_num++:r&&-1!=r.indexOf(\".js\")&&(e?r!=version&&h.cacheData.js_expired_num++:h.cacheData.js_not_hit_num++);else{\n",
       "if(\"https:\"==location.protocol&&window.moon_hash_map&&window.moon_hash_map[s]&&window.crypto)try{\n",
       "t(e).then(function(e){\n",
       "window.moon_hash_map[s]!=e&&console.log(s);\n",
       "});\n",
       "}catch(c){}\n",
       "try{\n",
       "var d=\"//# sourceURL=\"+s+\"\\n//@ sourceURL=\"+s;\n",
       "o.eval.call(o,'define(\"'+s+'\",[],'+e+\")\"+d),h.hit_num++,r&&-1!=r.indexOf(\".css\")?h.cacheData.css_hit_num++:r&&-1!=r.indexOf(\".js\")&&h.cacheData.js_hit_num++;\n",
       "}catch(c){\n",
       "h.unload.push(r.replace(p,\"\"));\n",
       "}\n",
       "}\n",
       "}),h.load(h.genUrl());\n",
       "},\n",
       "genUrl:function(){\n",
       "var e=h.unload;\n",
       "if(!e||e.length<=0)return[];\n",
       "var o,n,t=\"\",r=[],i={},a=-1!=location.search.indexOf(\"no_moon2=1\"),s=\"//\"+f;\n",
       "-1!=location.href.indexOf(\"moon_debug2=1\")&&(s=\"//mp.weixin.qq.com\");\n",
       "for(var c=0,d=e.length;d>c;++c){\n",
       "/^\\/(.*?)\\//.test(e[c]);\n",
       "var _=/^\\/(.*?)\\//.exec(e[c]);\n",
       "_.length<2||!_[1]||(n=_[1],t=i[n],t?(o=t+\",\"+e[c],o.length>1e3||a?(r.push(t+\"?v=\"+h.version),\n",
       "t=location.protocol+s+e[c],i[n]=t):(t=o,i[n]=t)):(t=location.protocol+s+e[c],i[n]=t));\n",
       "}\n",
       "for(var l in i)i.hasOwnProperty(l)&&r.push(i[l]);\n",
       "return r;\n",
       "},\n",
       "load:function(e){\n",
       "if(window.__wxgspeeds&&(window.__wxgspeeds.mod_num=h.mod_num,window.__wxgspeeds.hit_num=h.hit_num),\n",
       "!e||e.length<=0)return seajs.combo_status=seajs.COMBO_LOADED,seajs.run(),console.debug&&console.debug(\"[moon] load js complete, all in cache, cost time : 0ms, total count : \"+h.mod_num+\", hit num: \"+h.hit_num),\n",
       "void window.__moonclientlog.push(\"[moon] load js complete, all in cache, cost time : 0ms, total count : \"+h.mod_num+\", hit num: \"+h.hit_num);\n",
       "seajs.combo_status=seajs.COMBO_LOADING;\n",
       "var o=0,n=+new Date;\n",
       "window.__wxgspeeds&&(window.__wxgspeeds.combo_times=[],window.__wxgspeeds.combo_times.push(n)),\n",
       "i(e,function(t){\n",
       "h.request(t,u,function(){\n",
       "if(window.__wxgspeeds&&window.__wxgspeeds.combo_times.push(+new Date),o++,o==e.length){\n",
       "var t=+new Date-n;\n",
       "window.__wxgspeeds&&(window.__wxgspeeds.mod_downloadtime=t),seajs.combo_status=seajs.COMBO_LOADED,\n",
       "seajs.run(),console.debug&&console.debug(\"[moon] load js complete, url num : \"+e.length+\", total mod count : \"+h.mod_num+\", hit num: \"+h.hit_num+\", use time : \"+t+\"ms\"),\n",
       "window.__moonclientlog.push(\"[moon] load js complete, url num : \"+e.length+\", total mod count : \"+h.mod_num+\", hit num: \"+h.hit_num+\", use time : \"+t+\"ms\");\n",
       "}\n",
       "});\n",
       "});\n",
       "},\n",
       "request:function(o,t,r){\n",
       "if(o){\n",
       "t=t||0,o.indexOf(\"mp.weixin.qq.com\")>-1&&((new Image).src=location.protocol+\"//mp.weixin.qq.com/mp/jsmonitor?idkey=27613_32_1&r=\"+Math.random(),\n",
       "window.__moon_report([{\n",
       "offset:_,\n",
       "log:\"load_script_from_mp: \"+o\n",
       "}],1));\n",
       "var i=-1;\n",
       "window.__DEBUGINFO&&(__DEBUGINFO.res_list||(__DEBUGINFO.res_list=[]),__DEBUGINFO.res_list.push({\n",
       "type:\"js\",\n",
       "status:\"pendding\",\n",
       "start:+new Date,\n",
       "end:0,\n",
       "url:o\n",
       "}),i=__DEBUGINFO.res_list.length-1),-1!=location.search.indexOf(\"no_lshttps=1\")&&(o=o.replace(\"http://\",\"https://\"));\n",
       "var a=document.createElement(\"script\");\n",
       "a.src=o,a.type=\"text/javascript\",a.async=!0,a.down_time=+new Date,a.onerror=function(s){\n",
       "n(i,\"status\",\"error\"),n(i,\"end\",+new Date);\n",
       "var _=new Error(s);\n",
       "if(t>=0)if(w>t){\n",
       "var m=o.replace(\"res.wx.qq.com\",\"mp.weixin.qq.com\");\n",
       "h.request(m,t,r);\n",
       "}else h.request(o,t,r);else window.__moon_report&&window.__moon_report([{\n",
       "offset:c,\n",
       "log:\"load_script_error: \"+o,\n",
       "e:_\n",
       "}],1);\n",
       "if(t==w-1&&window.__moon_report([{\n",
       "offset:d,\n",
       "log:\"load_script_error: \"+o,\n",
       "e:_\n",
       "}],1),-1==t){\n",
       "var u=\"ua: \"+window.navigator.userAgent+\", time=\"+(+new Date-a.down_time)+\", load_script_error -1 : \"+o;\n",
       "window.__moon_report([{\n",
       "offset:l,\n",
       "log:u\n",
       "}],1);\n",
       "}\n",
       "window.__moonclientlog.push(\"moon load js error : \"+o+\", error -> \"+_.toString()),\n",
       "e(\"moon_request_error url:\"+o);\n",
       "},\"undefined\"!=typeof moon_crossorigin&&moon_crossorigin&&a.setAttribute(\"crossorigin\",!0),\n",
       "a.onload=a.onreadystatechange=function(){\n",
       "n(i,\"status\",\"loaded\"),n(i,\"end\",+new Date),!a||a.readyState&&!/loaded|complete/.test(a.readyState)||(n(i,\"status\",\"200\"),\n",
       "a.onload=a.onreadystatechange=null,\"function\"==typeof r&&r());\n",
       "},t--,s.appendChild(a),e(\"moon_request url:\"+o+\" retry:\"+t);\n",
       "}\n",
       "},\n",
       "setItem:function(e,o){\n",
       "!!a&&a.setItem(e,o);\n",
       "},\n",
       "clear:function(){\n",
       "a&&(i(a,function(e,o){\n",
       "~o.indexOf(h.prefix)&&a.removeItem(o);\n",
       "}),console.debug&&console.debug(\"[moon] clear\"));\n",
       "},\n",
       "idkeyReport:function(e,o,n){\n",
       "n=n||1;\n",
       "var t=e+\"_\"+o+\"_\"+n;\n",
       "(new Image).src=\"/mp/jsmonitor?idkey=\"+t+\"&r=\"+Math.random();\n",
       "}\n",
       "};\n",
       "seajs&&seajs.use&&\"string\"==typeof window.__moon_mainjs&&seajs.use(window.__moon_mainjs),\n",
       "window.moon=h;\n",
       "}(window),function(){\n",
       "try{\n",
       "Math.random()<1;\n",
       "}catch(e){}\n",
       "}(),window.moon.init();\n",
       "};\n",
       "e(),!!window.__moon_initcallback&&window.__moon_initcallback(),window.__wxgspeeds&&(window.__wxgspeeds.moonendtime=+new Date);\n",
       "}\n",
       "}\n",
       "var WX_BJ_REPORT=window.WX_BJ_REPORT||{};\n",
       "!function(e){\n",
       "function o(e,o,n,t,r,i){\n",
       "return{\n",
       "name:e||\"\",\n",
       "message:o||\"\",\n",
       "file:n||\"\",\n",
       "line:t||\"\",\n",
       "col:r||\"\",\n",
       "stack:i&&i.stack||\"\"\n",
       "};\n",
       "}\n",
       "function n(e){\n",
       "var o=t(e);\n",
       "return{\n",
       "name:e.name,\n",
       "key:e.message,\n",
       "msg:e.message,\n",
       "stack:o.info,\n",
       "file:o.file,\n",
       "line:o.line,\n",
       "col:o.col,\n",
       "client_version:\"\",\n",
       "_info:e._info\n",
       "};\n",
       "}\n",
       "function t(o){\n",
       "o._info=o._info||\"\";\n",
       "var n=o.stack||\"\",t={\n",
       "info:n,\n",
       "file:o.file||\"\",\n",
       "line:o.line||\"\",\n",
       "col:o.col||\"\"\n",
       "};\n",
       "if(\"\"==t.file){\n",
       "var r=n.split(/\\bat\\b/);\n",
       "if(r&&r[1]){\n",
       "var i=/(https?:\\/\\/[^\\n]+)\\:(\\d+)\\:(\\d+)/.exec(r[1]);\n",
       "i&&(i[1]&&i[1]!=t.file&&(t.file&&(o._info+=\" [file: \"+t.file+\" ]\"),t.file=i[1]),\n",
       "i[2]&&i[2]!=t.line&&(t.line&&(o._info+=\" [line: \"+t.line+\" ]\"),t.line=i[2]),i[3]&&i[3]!=t.col&&(t.col&&(o._info+=\" [col: \"+t.col+\" ]\"),\n",
       "t.col=i[3]));\n",
       "}\n",
       "}\n",
       "return t&&t.file&&t.file.length>0&&(t.info=t.info.replace(new RegExp(t.file.split(\"?\")[0],\"gi\"),\"__FILE__\")),\n",
       "e.BadJs.ignorePath&&(t.info=t.info.replace(/http(s)?\\:[^:\\n]*\\//gi,\"\").replace(/\\n/gi,\"\")),\n",
       "t;\n",
       "}\n",
       "if(!e.BadJs){\n",
       "var r=\"BadjsWindowError\",i=function(e,o){\n",
       "for(var n in o)e[n]=o[n];\n",
       "return e;\n",
       "};\n",
       "return e.BadJs={\n",
       "uin:0,\n",
       "mid:\"\",\n",
       "view:\"wap\",\n",
       "_cache:{},\n",
       "_info:{},\n",
       "_hookCallback:null,\n",
       "ignorePath:!0,\n",
       "\"throw\":function(e,o){\n",
       "throw this.onError(e,o),e;\n",
       "},\n",
       "onError:function(o,t){\n",
       "try{\n",
       "if(1==o.BADJS_EXCUTED)return;\n",
       "o.BADJS_EXCUTED=!0;\n",
       "var r=n(o);\n",
       "if(r.uin=this.uin,r.mid=this.mid,r.view=this.view,r.cmdb_module=\"mmbizwap\",t&&(r=i(r,t)),\n",
       "r.cid&&(r.key=\"[\"+r.cid+\"]:\"+r.key),o._info&&(r.msg+=\" || e.info:\"+o._info),\"{}\"!=JSON.stringify(this._info)&&(r.msg+=\" || info:\"+JSON.stringify(this._info)),\n",
       "\"function\"==typeof this._hookCallback&&this._hookCallback(r)===!1)return;\n",
       "return this._send(r),e.BadJs;\n",
       "}catch(o){\n",
       "console.error(o);\n",
       "}\n",
       "},\n",
       "winErr:function(n){\n",
       "n.error&&n.error.BADJS_EXCUTED||e.BadJs.onError(o(r,n.message,n.filename,n.lineno,n.colno,n.error));\n",
       "},\n",
       "init:function(o,n,t){\n",
       "return this.uin=o||this.uin,this.mid=n||this.mid,this.view=t||this.view,e.BadJs;\n",
       "},\n",
       "hook:function(o){\n",
       "return this._hookCallback=o,e.BadJs;\n",
       "},\n",
       "_send:function(o){\n",
       "if(!o.mid){\n",
       "if(\"undefined\"==typeof window.PAGE_MID||!window.PAGE_MID)return;\n",
       "o.mid=window.PAGE_MID;\n",
       "}\n",
       "o.uin||(o.uin=window.user_uin||0);\n",
       "var n=[o.mid,o.name,o.key].join(\"|\");\n",
       "if(!this._cache||!this._cache[n])return this._cache&&(this._cache[n]=!0),this._xhr(o),\n",
       "e.BadJs;\n",
       "},\n",
       "_xhr:function(e){\n",
       "var o;\n",
       "if(window.ActiveXObject)try{\n",
       "o=new ActiveXObject(\"Msxml2.XMLHTTP\");\n",
       "}catch(n){\n",
       "try{\n",
       "o=new ActiveXObject(\"Microsoft.XMLHTTP\");\n",
       "}catch(t){\n",
       "o=!1;\n",
       "}\n",
       "}else window.XMLHttpRequest&&(o=new XMLHttpRequest);\n",
       "var r=\"\";\n",
       "for(var i in e)i&&e[i]&&(r+=[i,\"=\",encodeURIComponent(e[i]),\"&\"].join(\"\"));\n",
       "if(o&&o.open)o.open(\"POST\",\"https://badjs.weixinbridge.com/report\",!0),o.setRequestHeader(\"Content-Type\",\"application/x-www-form-urlencoded; charset=UTF-8\"),\n",
       "o.onreadystatechange=function(){},o.send(r.slice(0,-1));else{\n",
       "var a=new Image;\n",
       "a.src=\"https://badjs.weixinbridge.com/report?\"+r;\n",
       "}\n",
       "},\n",
       "report:function(e,n,t){\n",
       "return this.onError(o(e,n),t),this;\n",
       "},\n",
       "mark:function(e){\n",
       "this._info=i(this._info,e);\n",
       "},\n",
       "nocache:function(){\n",
       "return this._cache=!1,e.BadJs;\n",
       "}\n",
       "},window.addEventListener&&window.addEventListener(\"error\",e.BadJs.winErr),e.BadJs;\n",
       "}\n",
       "}(WX_BJ_REPORT),window.WX_BJ_REPORT=WX_BJ_REPORT,__moonf__(); }, 25);</script><script nonce=\"426371908\" type=\"text/javascript\">\n",
       "    var real_show_page_time = +new Date();\n",
       "    if (!!window.addEventListener){\n",
       "        window.addEventListener(\"load\", function(){\n",
       "            window.onload_endtime = +new Date();\n",
       "        });\n",
       "    }\n",
       "\n",
       "    \n",
       "</script>\n",
       "\n",
       "    </body>\n",
       "</html>\n",
       "\n"
      ],
      "text/plain": [
       "<IPython.core.display.HTML object>"
      ]
     },
     "execution_count": 32,
     "metadata": {},
     "output_type": "execute_result"
    }
   ],
   "source": [
    "from IPython.display import display_html, HTML\n",
    "HTML(url = 'http://mp.weixin.qq.com/s?__biz=MzA3MjQ5MTE3OA==&mid=206241627&idx=1&sn=471e59c6cf7c8dae452245dbea22c8f3&3rd=MzA3MDU4NTYzMw==&scene=6#rd')\n",
    "# the webpage we would like to crawl"
   ]
  },
  {
   "cell_type": "markdown",
   "metadata": {
    "slideshow": {
     "slide_type": "slide"
    }
   },
   "source": [
    "# 查看源代码 Inspect"
   ]
  },
  {
   "cell_type": "code",
   "execution_count": 36,
   "metadata": {
    "ExecuteTime": {
     "end_time": "2018-04-28T02:34:02.918884Z",
     "start_time": "2018-04-28T02:34:02.744026Z"
    },
    "slideshow": {
     "slide_type": "subslide"
    }
   },
   "outputs": [],
   "source": [
    "url = \"http://mp.weixin.qq.com/s?__biz=MzA3MjQ5MTE3OA==&mid=206241627&idx=1&sn=471e59c6cf7c8dae452245dbea22c8f3&3rd=MzA3MDU4NTYzMw==&scene=6#rd\"\n",
    "content = requests.get(url).text #获取网页的html文本\n",
    "soup = BeautifulSoup(content, 'html.parser') "
   ]
  },
  {
   "cell_type": "code",
   "execution_count": 37,
   "metadata": {
    "ExecuteTime": {
     "end_time": "2018-04-28T02:34:18.869235Z",
     "start_time": "2018-04-28T02:34:18.863415Z"
    },
    "slideshow": {
     "slide_type": "subslide"
    }
   },
   "outputs": [
    {
     "data": {
      "text/plain": [
       "'南大新传 | 微议题：地震中民族自豪—“中国人先撤”'"
      ]
     },
     "execution_count": 37,
     "metadata": {},
     "output_type": "execute_result"
    }
   ],
   "source": [
    "title = soup.select(\"#activity-name\")\n",
    "title[0].text.strip()"
   ]
  },
  {
   "cell_type": "code",
   "execution_count": 40,
   "metadata": {
    "ExecuteTime": {
     "end_time": "2018-04-28T02:35:05.331186Z",
     "start_time": "2018-04-28T02:35:05.326251Z"
    },
    "slideshow": {
     "slide_type": "subslide"
    }
   },
   "outputs": [
    {
     "data": {
      "text/plain": [
       "'南大新传 | 微议题：地震中民族自豪—“中国人先撤”'"
      ]
     },
     "execution_count": 40,
     "metadata": {},
     "output_type": "execute_result"
    }
   ],
   "source": [
    "soup.find('h2', {'class', 'rich_media_title'}).text.strip()"
   ]
  },
  {
   "cell_type": "code",
   "execution_count": 185,
   "metadata": {
    "slideshow": {
     "slide_type": "subslide"
    }
   },
   "outputs": [
    {
     "name": "stdout",
     "output_type": "stream",
     "text": [
      "<div class=\"rich_media_meta_list\" id=\"meta_content\">\n",
      "<em class=\"rich_media_meta rich_media_meta_text\" id=\"post-date\">2015-05-04</em>\n",
      "<em class=\"rich_media_meta rich_media_meta_text\">南大新传院</em>\n",
      "<a class=\"rich_media_meta rich_media_meta_link rich_media_meta_nickname\" href=\"##\" id=\"post-user\">微议题排行榜</a>\n",
      "<span class=\"rich_media_meta rich_media_meta_text rich_media_meta_nickname\">微议题排行榜</span>\n",
      "<div class=\"profile_container\" id=\"js_profile_qrcode\" style=\"display:none;\">\n",
      "<div class=\"profile_inner\">\n",
      "<strong class=\"profile_nickname\">微议题排行榜</strong>\n",
      "<img alt=\"\" class=\"profile_avatar\" id=\"js_profile_qrcode_img\" src=\"\">\n",
      "<p class=\"profile_meta\">\n",
      "<label class=\"profile_meta_label\">微信号</label>\n",
      "<span class=\"profile_meta_value\">IssuesRank</span>\n",
      "</p>\n",
      "<p class=\"profile_meta\">\n",
      "<label class=\"profile_meta_label\">功能介绍</label>\n",
      "<span class=\"profile_meta_value\">感谢关注《微议题排行榜》。我们是南京大学新闻传播学院，计算传播学实验中心，致力于研究社会化媒体时代的公共议程，发布新媒体平台的议题排行榜。</span>\n",
      "</p>\n",
      "</img></div>\n",
      "<span class=\"profile_arrow_wrp\" id=\"js_profile_arrow_wrp\">\n",
      "<i class=\"profile_arrow arrow_out\"></i>\n",
      "<i class=\"profile_arrow arrow_in\"></i>\n",
      "</span>\n",
      "</div>\n",
      "</div>\n"
     ]
    }
   ],
   "source": [
    "print(soup.find('div', {'class', 'rich_media_meta_list'}) )\n"
   ]
  },
  {
   "cell_type": "code",
   "execution_count": 42,
   "metadata": {
    "ExecuteTime": {
     "end_time": "2018-04-28T02:36:19.249756Z",
     "start_time": "2018-04-28T02:36:19.244912Z"
    },
    "slideshow": {
     "slide_type": "subslide"
    }
   },
   "outputs": [
    {
     "data": {
      "text/plain": [
       "'2015-05-04'"
      ]
     },
     "execution_count": 42,
     "metadata": {},
     "output_type": "execute_result"
    }
   ],
   "source": [
    "soup.find('em').text"
   ]
  },
  {
   "cell_type": "code",
   "execution_count": 43,
   "metadata": {
    "ExecuteTime": {
     "end_time": "2018-04-28T02:36:36.474734Z",
     "start_time": "2018-04-28T02:36:36.469920Z"
    },
    "slideshow": {
     "slide_type": "subslide"
    }
   },
   "outputs": [
    {
     "name": "stdout",
     "output_type": "stream",
     "text": [
      "\n",
      "点击上方“微议题排行榜”可以订阅哦！导读2015年4月25日，尼泊尔发生8.1级地震，造成至少7000多人死亡，中国西藏、印度、孟加拉国、不丹等地均出现人员伤亡。尼泊尔地震后，祖国派出救援机接国人回家，这一“先撤”行为被大量报道，上演了一出霸道总裁不由分说爱国民的新闻。我们对“地震”中人的关注，远远小于国民尊严的保护。通过“撤离”速度来证明中国的影响力也显得有失妥当，灾难应急管理、救援和灾后重建能力才应是“地震”关注焦点。  热词图现 本文以“地震”为关键词，选取了2015年4月10日至4月30日期间微议题TOP100阅读排行进行分析。根据微议题TOP100标题的词频统计，我们可以看出有关“地震”的话题最热词汇的有“尼泊尔”、“油价”、“发改委”。4月25日尼泊尔发生了8级地震，深受人们的关注。面对国外灾难性事件，微媒体的重心却转向“油价”、“发改委”、“祖国先撤”，致力于将世界重大事件与中国政府关联起来。  微议题演化趋势 总文章数总阅读数从4月10日到4月30日，有关“地震”议题出现三个峰值，分别是在4月15日内蒙古地震，20日台湾地震和25日尼泊尔地震。其中对台湾地震与内蒙古地震报道文章较少，而对尼泊尔地震却给予了极大的关注，无论是在文章量还是阅读量上都空前增多。内蒙古、台湾地震由于级数较小，关注少，议程时间也比较短，一般3天后就会淡出公共视野。而尼泊尔地震虽然接近性较差，但规模大，且衍生话题性较强，其讨论热度持续了一周以上。  议题分类 如图，我们将此议题分为6大类。1尼泊尔地震这类文章是对4月25日尼泊尔地震的新闻报道，包括现场视频，地震强度、规模，损失程度、遇难人员介绍等。更进一步的，有对尼泊尔地震原因探析，认为其处在板块交界处，灾难是必然的。因尼泊尔是佛教圣地，也有从佛学角度解释地震的启示。2国内地震报道主要是对10日内蒙古、甘肃、山西等地的地震，以及20日台湾地震的报道。偏重于对硬新闻的呈现，介绍地震范围、级数、伤亡情况，少数几篇是对甘肃地震的辟谣，称其只是微震。3中国救援回应地震救援的报道大多是与尼泊尔地震相关，并且80%的文章是中国政府做出迅速反应派出救援机接国人回家。以“中国人又先撤了”，来为祖国点赞。少数几篇是滴滴快的、腾讯基金、万达等为尼泊尔捐款的消息。4发改委与地震这类文章内容相似，纯粹是对发改委的调侃。称其“预测”地震非常准确，只要一上调油价，便会发生地震。5地震常识介绍该类文章介绍全国地震带、地震频发地，地震逃生注意事项，“专家传受活命三角”，如何用手机自救等小常识。6地震中的故事讲述地震中的感人瞬间，回忆汶川地震中的故事，传递“：地震无情，人间有情”的正能量。 国内外地震关注差异大关于“地震”本身的报道仍旧是媒体关注的重点，尼泊尔地震与国内地震报道占一半的比例。而关于尼泊尔话题的占了45%，国内地震相关的只有22%。微媒体对国内外地震关注有明显的偏差，而且在衍生话题方面也相差甚大。尼泊尔地震中，除了硬新闻报道外，还有对其原因分析、中国救援情况等，而国内地震只是集中于硬新闻。地震常识介绍只占9%，地震知识普及还比较欠缺。  阅读与点赞分析  爱国新闻容易激起点赞狂潮整体上来说，网民对地震议题关注度较高，自然灾害类话题一旦爆发，很容易引起人们情感共鸣，掀起热潮。但从点赞数来看，“中国救援回应”类的总点赞与平均点赞都是最高的，网民对地震的关注点并非地震本身，而是与之相关的“政府行动”。尼泊尔地震后，祖国派出救援机接国人回家，这一“先撤”行为被大量报道，上演了一出霸道总裁不由分说爱国民的新闻。而爱国新闻则往往是最容易煽动民族情绪，产生民族优越感，激起点赞狂潮。 人的关注小于国民尊严的保护另一方面，国内地震的关注度却很少，不仅体现在政府救援的报道量小，网民的兴趣点与评价也较低。我们对“地震”中人的关注，远远小于国民尊严的保护。通过“撤离”速度来证明中国的影响力也显得有失妥当，灾难应急管理、救援和灾后重建能力才应是“地震”关注焦点。“发改委与地震”的点赞量也相对较高，网民对发改委和地震的调侃，反映出的是对油价上涨的不满，这种“怨气”也容易产生共鸣。一面是民族优越感，一面是对政策不满，两种情绪虽矛盾，但同时体现了网民心理趋同。  数据附表 微文章排行TOP50：公众号排行TOP20：作者：晏雪菲出品单位：南京大学计算传播学实验中心技术支持：南京大学谷尼舆情监测分析实验室题图鸣谢：谷尼舆情新微榜、图悦词云\n",
      "\n"
     ]
    }
   ],
   "source": [
    "article = soup.find('div', {'class' , 'rich_media_content'}).text\n",
    "print(article)"
   ]
  },
  {
   "cell_type": "code",
   "execution_count": 44,
   "metadata": {
    "ExecuteTime": {
     "end_time": "2018-04-28T02:37:07.375073Z",
     "start_time": "2018-04-28T02:37:07.365635Z"
    },
    "slideshow": {
     "slide_type": "slide"
    }
   },
   "outputs": [
    {
     "name": "stdout",
     "output_type": "stream",
     "text": [
      "南大新传 | 微议题：地震中民族自豪—“中国人先撤”\n",
      "2015-05-04\n",
      "\n",
      "点击上方“微议题排行榜”可以订阅哦！导读2015年4月25日，尼泊尔发生8.1级地震，造成至少7000多人死亡，中国西藏、印度、孟加拉国、不丹等地均出现人员伤亡。尼泊尔地震后，祖国派出救援机接国人回家，这一“先撤”行为被大量报道，上演了一出霸道总裁不由分说爱国民的新闻。我们对“地震”中人的关注，远远小于国民尊严的保护。通过“撤离”速度来证明中国的影响力也显得有失妥当，灾难应急管理、救援和灾后重建能力才应是“地震”关注焦点。  热词图现 本文以“地震”为关键词，选取了2015年4月10日至4月30日期间微议题TOP100阅读排行进行分析。根据微议题TOP100标题的词频统计，我们可以看出有关“地震”的话题最热词汇的有“尼泊尔”、“油价”、“发改委”。4月25日尼泊尔发生了8级地震，深受人们的关注。面对国外灾难性事件，微媒体的重心却转向“油价”、“发改委”、“祖国先撤”，致力于将世界重大事件与中国政府关联起来。  微议题演化趋势 总文章数总阅读数从4月10日到4月30日，有关“地震”议题出现三个峰值，分别是在4月15日内蒙古地震，20日台湾地震和25日尼泊尔地震。其中对台湾地震与内蒙古地震报道文章较少，而对尼泊尔地震却给予了极大的关注，无论是在文章量还是阅读量上都空前增多。内蒙古、台湾地震由于级数较小，关注少，议程时间也比较短，一般3天后就会淡出公共视野。而尼泊尔地震虽然接近性较差，但规模大，且衍生话题性较强，其讨论热度持续了一周以上。  议题分类 如图，我们将此议题分为6大类。1尼泊尔地震这类文章是对4月25日尼泊尔地震的新闻报道，包括现场视频，地震强度、规模，损失程度、遇难人员介绍等。更进一步的，有对尼泊尔地震原因探析，认为其处在板块交界处，灾难是必然的。因尼泊尔是佛教圣地，也有从佛学角度解释地震的启示。2国内地震报道主要是对10日内蒙古、甘肃、山西等地的地震，以及20日台湾地震的报道。偏重于对硬新闻的呈现，介绍地震范围、级数、伤亡情况，少数几篇是对甘肃地震的辟谣，称其只是微震。3中国救援回应地震救援的报道大多是与尼泊尔地震相关，并且80%的文章是中国政府做出迅速反应派出救援机接国人回家。以“中国人又先撤了”，来为祖国点赞。少数几篇是滴滴快的、腾讯基金、万达等为尼泊尔捐款的消息。4发改委与地震这类文章内容相似，纯粹是对发改委的调侃。称其“预测”地震非常准确，只要一上调油价，便会发生地震。5地震常识介绍该类文章介绍全国地震带、地震频发地，地震逃生注意事项，“专家传受活命三角”，如何用手机自救等小常识。6地震中的故事讲述地震中的感人瞬间，回忆汶川地震中的故事，传递“：地震无情，人间有情”的正能量。 国内外地震关注差异大关于“地震”本身的报道仍旧是媒体关注的重点，尼泊尔地震与国内地震报道占一半的比例。而关于尼泊尔话题的占了45%，国内地震相关的只有22%。微媒体对国内外地震关注有明显的偏差，而且在衍生话题方面也相差甚大。尼泊尔地震中，除了硬新闻报道外，还有对其原因分析、中国救援情况等，而国内地震只是集中于硬新闻。地震常识介绍只占9%，地震知识普及还比较欠缺。  阅读与点赞分析  爱国新闻容易激起点赞狂潮整体上来说，网民对地震议题关注度较高，自然灾害类话题一旦爆发，很容易引起人们情感共鸣，掀起热潮。但从点赞数来看，“中国救援回应”类的总点赞与平均点赞都是最高的，网民对地震的关注点并非地震本身，而是与之相关的“政府行动”。尼泊尔地震后，祖国派出救援机接国人回家，这一“先撤”行为被大量报道，上演了一出霸道总裁不由分说爱国民的新闻。而爱国新闻则往往是最容易煽动民族情绪，产生民族优越感，激起点赞狂潮。 人的关注小于国民尊严的保护另一方面，国内地震的关注度却很少，不仅体现在政府救援的报道量小，网民的兴趣点与评价也较低。我们对“地震”中人的关注，远远小于国民尊严的保护。通过“撤离”速度来证明中国的影响力也显得有失妥当，灾难应急管理、救援和灾后重建能力才应是“地震”关注焦点。“发改委与地震”的点赞量也相对较高，网民对发改委和地震的调侃，反映出的是对油价上涨的不满，这种“怨气”也容易产生共鸣。一面是民族优越感，一面是对政策不满，两种情绪虽矛盾，但同时体现了网民心理趋同。  数据附表 微文章排行TOP50：公众号排行TOP20：作者：晏雪菲出品单位：南京大学计算传播学实验中心技术支持：南京大学谷尼舆情监测分析实验室题图鸣谢：谷尼舆情新微榜、图悦词云\n",
      "\n"
     ]
    }
   ],
   "source": [
    "rmml = soup.find('div', {'class', 'rich_media_meta_list'})\n",
    "date = rmml.find(id = 'post-date').text\n",
    "rmc = soup.find('div', {'class', 'rich_media_content'})\n",
    "content = rmc.get_text()\n",
    "print(title[0].text.strip())\n",
    "print(date)\n",
    "print(content)"
   ]
  },
  {
   "cell_type": "markdown",
   "metadata": {
    "slideshow": {
     "slide_type": "slide"
    }
   },
   "source": [
    "# requests + Xpath方法介绍：以豆瓣电影为例\n"
   ]
  },
  {
   "cell_type": "markdown",
   "metadata": {
    "slideshow": {
     "slide_type": "fragment"
    }
   },
   "source": [
    "Xpath 即为 XML 路径语言（XML Path Language），它是一种用来确定 XML 文档中某部分位置的语言。\n",
    "\n",
    "Xpath 基于 XML 的树状结构，提供在数据结构树中找寻节点的能力。起初 Xpath 的提出的初衷是将其作为一个通用的、介于 Xpointer 与 XSL 间的语法模型。但是Xpath 很快的被开发者采用来当作小型查询语言。\n",
    "\n"
   ]
  },
  {
   "cell_type": "markdown",
   "metadata": {
    "slideshow": {
     "slide_type": "subslide"
    }
   },
   "source": [
    "获取元素的Xpath信息并获得文本：\n",
    "这里的“元素的Xpath信息”是需要我们手动获取的，获取方式为：\n",
    "- 定位目标元素\n",
    "- 在网站上依次点击：右键 > 检查\n",
    "- copy xpath\n",
    "- xpath + '/text()'\n",
    "\n",
    "参考：https://mp.weixin.qq.com/s/zx3_eflBCrrfOqFEWjAUJw\n"
   ]
  },
  {
   "cell_type": "code",
   "execution_count": 46,
   "metadata": {
    "ExecuteTime": {
     "end_time": "2018-04-28T02:51:15.619571Z",
     "start_time": "2018-04-28T02:51:14.423972Z"
    },
    "slideshow": {
     "slide_type": "subslide"
    }
   },
   "outputs": [],
   "source": [
    "import requests\n",
    "from lxml import etree\n",
    "\n",
    "url = 'https://movie.douban.com/subject/26611804/'\n",
    "data = requests.get(url).text\n",
    "s = etree.HTML(data)  "
   ]
  },
  {
   "cell_type": "markdown",
   "metadata": {
    "slideshow": {
     "slide_type": "subslide"
    }
   },
   "source": [
    "豆瓣电影的名称对应的的xpath为xpath_title，那么title表达为：\n",
    "\n",
    "`title = s.xpath('xpath_info/text()')`\n",
    "\n",
    "其中，xpath_info为：\n",
    "\n",
    "`//*[@id=\"content\"]/h1/span[1]`\n"
   ]
  },
  {
   "cell_type": "code",
   "execution_count": 47,
   "metadata": {
    "ExecuteTime": {
     "end_time": "2018-04-28T02:51:19.811332Z",
     "start_time": "2018-04-28T02:51:19.792265Z"
    },
    "slideshow": {
     "slide_type": "subslide"
    }
   },
   "outputs": [],
   "source": [
    "title = s.xpath('//*[@id=\"content\"]/h1/span[1]/text()')[0]\n",
    "director = s.xpath('//*[@id=\"info\"]/span[1]/span[2]/a/text()')\n",
    "actors = s.xpath('//*[@id=\"info\"]/span[3]/span[2]/a/text()')\n",
    "type1 = s.xpath('//*[@id=\"info\"]/span[5]/text()')\n",
    "type2 = s.xpath('//*[@id=\"info\"]/span[6]/text()')\n",
    "type3 = s.xpath('//*[@id=\"info\"]/span[7]/text()')\n",
    "time = s.xpath('//*[@id=\"info\"]/span[11]/text()')\n",
    "length = s.xpath('//*[@id=\"info\"]/span[13]/text()')\n",
    "score = s.xpath('//*[@id=\"interest_sectl\"]/div[1]/div[2]/strong/text()')[0]"
   ]
  },
  {
   "cell_type": "code",
   "execution_count": 48,
   "metadata": {
    "ExecuteTime": {
     "end_time": "2018-04-28T02:51:24.011730Z",
     "start_time": "2018-04-28T02:51:24.007427Z"
    },
    "slideshow": {
     "slide_type": "subslide"
    }
   },
   "outputs": [
    {
     "name": "stdout",
     "output_type": "stream",
     "text": [
      "三块广告牌 Three Billboards Outside Ebbing, Missouri ['马丁·麦克唐纳'] ['弗兰西斯·麦克多蒙德', '伍迪·哈里森', '山姆·洛克威尔', '艾比·考尼什', '卢卡斯·赫奇斯', '彼特·丁拉基', '约翰·浩克斯', '卡赖伯·兰德里·琼斯', '凯瑟琳·纽顿', '凯瑞·康顿', '泽利科·伊万内克', '萨玛拉·维文', '克拉克·彼得斯', '尼克·西塞', '阿曼达·沃伦', '玛拉雅·瑞沃拉·德鲁 ', '布兰登·萨克斯顿', '迈克尔·艾伦·米利甘'] ['剧情'] ['犯罪'] ['官方网站:'] ['2018-03-02(中国大陆)'] ['2017-12-01(美国)'] 8.7\n"
     ]
    }
   ],
   "source": [
    "print(title, director, actors, type1, type2, type3, time, length, score)"
   ]
  },
  {
   "cell_type": "markdown",
   "metadata": {
    "slideshow": {
     "slide_type": "slide"
    }
   },
   "source": [
    "## Douban API\n",
    "\n",
    "https://developers.douban.com/wiki/?title=guide"
   ]
  },
  {
   "cell_type": "code",
   "execution_count": 16,
   "metadata": {
    "ExecuteTime": {
     "end_time": "2019-01-07T03:33:06.323767Z",
     "start_time": "2019-01-07T03:33:01.965160Z"
    },
    "slideshow": {
     "slide_type": "skip"
    }
   },
   "outputs": [
    {
     "name": "stdout",
     "output_type": "stream",
     "text": [
      "Collecting fake-useragent\n",
      "  Downloading https://files.pythonhosted.org/packages/d1/79/af647635d6968e2deb57a208d309f6069d31cb138066d7e821e575112a80/fake-useragent-0.1.11.tar.gz\n",
      "Building wheels for collected packages: fake-useragent\n",
      "  Running setup.py bdist_wheel for fake-useragent ... \u001b[?25ldone\n",
      "\u001b[?25h  Stored in directory: /Users/datalab/Library/Caches/pip/wheels/5e/63/09/d1dc15179f175357d3f5c00cbffbac37f9e8690d80545143ff\n",
      "Successfully built fake-useragent\n",
      "Installing collected packages: fake-useragent\n",
      "Successfully installed fake-useragent-0.1.11\n"
     ]
    }
   ],
   "source": [
    "!pip install fake-useragent"
   ]
  },
  {
   "cell_type": "code",
   "execution_count": 20,
   "metadata": {
    "ExecuteTime": {
     "end_time": "2019-01-07T06:08:03.124282Z",
     "start_time": "2019-01-07T06:08:03.119902Z"
    },
    "slideshow": {
     "slide_type": "skip"
    }
   },
   "outputs": [],
   "source": [
    "from fake_useragent import UserAgent\n",
    "import requests\n",
    "\n",
    "ua = UserAgent(cache=True, use_cache_server=True)"
   ]
  },
  {
   "cell_type": "code",
   "execution_count": 21,
   "metadata": {
    "ExecuteTime": {
     "end_time": "2019-01-07T06:08:04.457253Z",
     "start_time": "2019-01-07T06:08:04.278450Z"
    },
    "slideshow": {
     "slide_type": "skip"
    }
   },
   "outputs": [],
   "source": [
    "#请求头\n",
    "#headers={\"User-Agent\":ua.chrome}\n",
    "headers = {'User-Agent':ua.chrome}\n",
    "\n",
    "#请求网址\n",
    "url = 'https://api.douban.com/v2/user/1000001'\n",
    "response=requests.get(url=url, headers=headers)"
   ]
  },
  {
   "cell_type": "code",
   "execution_count": 92,
   "metadata": {
    "ExecuteTime": {
     "end_time": "2019-01-29T04:13:28.637319Z",
     "start_time": "2019-01-29T04:13:28.410813Z"
    },
    "scrolled": true,
    "slideshow": {
     "slide_type": "subslide"
    }
   },
   "outputs": [],
   "source": [
    "import requests\n",
    "url = 'https://api.douban.com/v2/movie/26611804'\n",
    "#url = 'https://api.douban.com/v2/user/1000001/'\n",
    "jsonm = requests.get(url).json()"
   ]
  },
  {
   "cell_type": "code",
   "execution_count": 93,
   "metadata": {
    "ExecuteTime": {
     "end_time": "2019-01-29T04:13:29.307092Z",
     "start_time": "2019-01-29T04:13:29.300829Z"
    }
   },
   "outputs": [
    {
     "data": {
      "text/plain": [
       "{'alt': 'https://movie.douban.com/movie/26611804',\n",
       " 'alt_title': '三块广告牌 / 意外(台)',\n",
       " 'attrs': {'cast': ['弗兰西斯·麦克多蒙德 Frances McDormand',\n",
       "   '伍迪·哈里森 Woody Harrelson',\n",
       "   '山姆·洛克威尔 Sam Rockwell',\n",
       "   '艾比·考尼什 Abbie Cornish',\n",
       "   '卢卡斯·赫奇斯 Lucas Hedges',\n",
       "   '彼特·丁克拉奇 Peter Dinklage',\n",
       "   '约翰·浩克斯 John Hawkes',\n",
       "   '卡赖伯·兰德里·琼斯 Caleb Landry Jones',\n",
       "   '凯瑟琳·牛顿 Kathryn Newton',\n",
       "   '凯瑞·康顿 Kerry Condon',\n",
       "   '泽利科·伊万内克 Zeljko Ivanek',\n",
       "   '萨玛拉·维文 Samara Weaving',\n",
       "   '克拉克·彼得斯 Clarke Peters',\n",
       "   '尼克·西塞 Nick Searcy',\n",
       "   '阿曼达·沃伦 Amanda Warren',\n",
       "   '玛拉雅·瑞沃拉·德鲁  Malaya Rivera Drew',\n",
       "   '布兰登·萨克斯顿 Brendan Sexton III',\n",
       "   '迈克尔·艾伦·米利甘 Michael Aaron Milligan'],\n",
       "  'country': ['美国', '英国'],\n",
       "  'director': ['马丁·麦克唐纳 Martin McDonagh'],\n",
       "  'language': ['英语'],\n",
       "  'movie_duration': ['115分钟'],\n",
       "  'movie_type': ['剧情', '犯罪'],\n",
       "  'pubdate': ['2017-09-04(威尼斯电影节)', '2017-12-01(美国)', '2018-03-02(中国大陆)'],\n",
       "  'title': ['Three Billboards Outside Ebbing, Missouri'],\n",
       "  'website': ['www.foxsearchlight.com/threebillboardsoutsideebbingmissouri'],\n",
       "  'writer': ['马丁·麦克唐纳 Martin McDonagh'],\n",
       "  'year': ['2017']},\n",
       " 'author': [{'name': '马丁·麦克唐纳 Martin McDonagh'}],\n",
       " 'id': 'https://api.douban.com/movie/26611804',\n",
       " 'image': 'https://img1.doubanio.com/view/photo/s_ratio_poster/public/p2510081688.jpg',\n",
       " 'mobile_link': 'https://m.douban.com/movie/subject/26611804/',\n",
       " 'rating': {'average': '8.7', 'max': 10, 'min': 0, 'numRaters': 401598},\n",
       " 'summary': '米尔德雷德（弗兰西斯·麦克多蒙德 Frances McDormand 饰）的女儿在外出时惨遭奸杀，米尔德雷德和丈夫查理（约翰·哈克斯 John Hawkes 饰）之间的婚姻因此走到了尽头，如今，她同儿子罗比（卢卡斯·赫奇斯 Lucas Hedges饰）过着相依为命的生活。一晃眼几个月过去了，案件仍然没有告破预兆，而警方似乎早已经将注意力从案子上转移了开来。\\n被绝望和痛苦缠绕的米尔德雷德租下了高速公路边上的三块巨型广告牌，在上面控诉警方办案无能，并将矛头直接对准了警察局局长威洛比（伍迪·哈里森 Woody Harrelson 饰）。实际上，威洛比一直隐瞒着自己身患绝症命不久矣的事实。因为这三块广告牌，米尔德雷德和威洛比的生活发生了翻天覆地的变化。',\n",
       " 'tags': [{'count': 46821, 'name': '人性'},\n",
       "  {'count': 38006, 'name': '剧情'},\n",
       "  {'count': 37581, 'name': '美国'},\n",
       "  {'count': 34477, 'name': '犯罪'},\n",
       "  {'count': 30513, 'name': '黑色幽默'},\n",
       "  {'count': 23182, 'name': '女性'},\n",
       "  {'count': 22567, 'name': '奥斯卡'},\n",
       "  {'count': 15784, 'name': '2017'}],\n",
       " 'title': 'Three Billboards Outside Ebbing, Missouri'}"
      ]
     },
     "execution_count": 93,
     "metadata": {},
     "output_type": "execute_result"
    }
   ],
   "source": [
    "jsonm"
   ]
  },
  {
   "cell_type": "code",
   "execution_count": 89,
   "metadata": {
    "ExecuteTime": {
     "end_time": "2019-01-29T04:12:27.772612Z",
     "start_time": "2019-01-29T04:12:27.768121Z"
    },
    "slideshow": {
     "slide_type": "subslide"
    }
   },
   "outputs": [
    {
     "data": {
      "text/plain": [
       "(dict_keys(['alt_title', 'mobile_link', 'attrs', 'author', 'summary', 'rating', 'alt', 'id', 'image', 'title', 'tags']),\n",
       " {'average': '8.7', 'max': 10, 'min': 0, 'numRaters': 401598})"
      ]
     },
     "execution_count": 89,
     "metadata": {},
     "output_type": "execute_result"
    }
   ],
   "source": [
    "#jsonm.values()\n",
    "jsonm.keys(), jsonm['rating']"
   ]
  },
  {
   "cell_type": "code",
   "execution_count": 84,
   "metadata": {
    "slideshow": {
     "slide_type": "fragment"
    }
   },
   "outputs": [
    {
     "data": {
      "text/plain": [
       "'https://movie.douban.com/movie/26611804'"
      ]
     },
     "execution_count": 84,
     "metadata": {},
     "output_type": "execute_result"
    }
   ],
   "source": [
    "jsonm['alt']"
   ]
  },
  {
   "cell_type": "code",
   "execution_count": 87,
   "metadata": {
    "slideshow": {
     "slide_type": "fragment"
    }
   },
   "outputs": [
    {
     "data": {
      "text/plain": [
       "['马丁·麦克唐纳 Martin McDonagh']"
      ]
     },
     "execution_count": 87,
     "metadata": {},
     "output_type": "execute_result"
    }
   ],
   "source": [
    "jsonm['attrs']['director']"
   ]
  },
  {
   "cell_type": "code",
   "execution_count": 89,
   "metadata": {
    "slideshow": {
     "slide_type": "fragment"
    }
   },
   "outputs": [
    {
     "data": {
      "text/plain": [
       "['剧情', '犯罪']"
      ]
     },
     "execution_count": 89,
     "metadata": {},
     "output_type": "execute_result"
    }
   ],
   "source": [
    "jsonm['attrs']['movie_type']"
   ]
  },
  {
   "cell_type": "code",
   "execution_count": 88,
   "metadata": {
    "slideshow": {
     "slide_type": "subslide"
    }
   },
   "outputs": [
    {
     "data": {
      "text/plain": [
       "['弗兰西斯·麦克多蒙德 Frances McDormand',\n",
       " '伍迪·哈里森 Woody Harrelson',\n",
       " '山姆·洛克威尔 Sam Rockwell',\n",
       " '艾比·考尼什 Abbie Cornish',\n",
       " '卢卡斯·赫奇斯 Lucas Hedges',\n",
       " '彼特·丁克拉奇 Peter Dinklage',\n",
       " '约翰·浩克斯 John Hawkes',\n",
       " '卡赖伯·兰德里·琼斯 Caleb Landry Jones',\n",
       " '凯瑟琳·牛顿 Kathryn Newton',\n",
       " '凯瑞·康顿 Kerry Condon',\n",
       " '泽利科·伊万内克 Zeljko Ivanek',\n",
       " '萨玛拉·维文 Samara Weaving',\n",
       " '克拉克·彼得斯 Clarke Peters',\n",
       " '尼克·西塞 Nick Searcy',\n",
       " '阿曼达·沃伦 Amanda Warren',\n",
       " '玛拉雅·瑞沃拉·德鲁  Malaya Rivera Drew',\n",
       " '布兰登·萨克斯顿 Brendan Sexton III',\n",
       " '迈克尔·艾伦·米利甘 Michael Aaron Milligan']"
      ]
     },
     "execution_count": 88,
     "metadata": {},
     "output_type": "execute_result"
    }
   ],
   "source": [
    "jsonm['attrs']['cast']"
   ]
  },
  {
   "cell_type": "code",
   "execution_count": 129,
   "metadata": {
    "ExecuteTime": {
     "end_time": "2019-01-29T04:56:08.729163Z",
     "start_time": "2019-01-29T04:56:08.716763Z"
    }
   },
   "outputs": [
    {
     "data": {
      "text/plain": [
       "{' UM_distinctid': '167a02c6a9b273-064d1e75f342f3-35677603-fa000-167a02c6a9c203',\n",
       " ' __gads': 'ID=223032a1f45c3c9d:T=1541658183:S=ALNI_MY65rcbNHf8eTpIzbr9MTNv1lhuSg',\n",
       " ' __utma': '30149280.1584253277.1448983887.1548653281.1548735278.59',\n",
       " ' __utmb': '30149280.17.5.1548735287585',\n",
       " ' __utmc': '30149280',\n",
       " ' __utmt': '1',\n",
       " ' __utmv': '30149280.155',\n",
       " ' __utmz': '30149280.1548213414.56.6.utmcsr=book.douban.com|utmccn=(referral)|utmcmd=referral|utmcct=/subject/2893874/comments/',\n",
       " ' _ga': 'GA1.2.1584253277.1448983887',\n",
       " ' _vwo_uuid_v2': '7CD7A27EE46C68D5713E8870DCBB0C50|a39513af0c4457f727aeb9dcb79c7867',\n",
       " ' ap_v': '0,6.0',\n",
       " ' bid': '-n0SJDzOCOU',\n",
       " ' ck': 'AdQI',\n",
       " ' ct': 'y',\n",
       " ' dbcl2': '\"1558440:4omV9m7YBqg\"',\n",
       " ' douban-fav-remind': '1',\n",
       " ' douban-profile-remind': '1',\n",
       " ' ll': '\"118159\"',\n",
       " ' push_doumail_num': '0',\n",
       " ' push_noty_num': '0',\n",
       " ' ue': '\"wangchj04@126.com\"',\n",
       " ' viewed': '\"1536615\"',\n",
       " 'gr_user_id': '54559934-955b-4798-9df1-ed12a97b61b1'}"
      ]
     },
     "execution_count": 129,
     "metadata": {},
     "output_type": "execute_result"
    }
   ],
   "source": [
    "headers = {\n",
    "    'Host': 'api.douban.com',\n",
    "    'Connection': 'keep-alive',\n",
    "    'Upgrade-Insecure-Requests': '1',\n",
    "    'User-Agent': 'Mozilla/5.0 (iPad; CPU OS 11_0 like Mac OS X) AppleWebKit/604.1.34 (KHTML, like Gecko) Version/11.0 Mobile/15A5341f Safari/604.1',\n",
    "    'Accept': 'text/html,application/xhtml+xml,application/xml;q=0.9,image/webp,image/apng,*/*;q=0.8',\n",
    "    'Accept-Encoding': 'gzip, deflate, br',\n",
    "    'Accept-Language': 'zh-TW,zh;q=0.9,en-US;q=0.8,en;q=0.7,zh-CN;q=0.6',\n",
    "    'Cookie': 'gr_user_id=54559934-955b-4798-9df1-ed12a97b61b1; ue=\"wangchj04@126.com\"; _ga=GA1.2.1584253277.1448983887; _vwo_uuid_v2=7CD7A27EE46C68D5713E8870DCBB0C50|a39513af0c4457f727aeb9dcb79c7867; douban-profile-remind=1; douban-fav-remind=1; bid=-n0SJDzOCOU; ll=\"118159\"; __gads=ID=223032a1f45c3c9d:T=1541658183:S=ALNI_MY65rcbNHf8eTpIzbr9MTNv1lhuSg; push_doumail_num=0; UM_distinctid=167a02c6a9b273-064d1e75f342f3-35677603-fa000-167a02c6a9c203; __utmv=30149280.155; ct=y; push_noty_num=0; __utmc=30149280; __utmz=30149280.1548213414.56.6.utmcsr=book.douban.com|utmccn=(referral)|utmcmd=referral|utmcct=/subject/2893874/comments/; viewed=\"1536615\"; dbcl2=\"1558440:4omV9m7YBqg\"; ck=AdQI; ap_v=0,6.0; __utma=30149280.1584253277.1448983887.1548653281.1548735278.59; __utmt=1; __utmb=30149280.17.5.1548735287585'\n",
    "}\n",
    "\n",
    "cookies={}\n",
    "raw_cookies = headers['Cookie']\n",
    "for line in raw_cookies.split(';'):\n",
    "    key,value=line.split('=',1)#1代表只分一次，得到两个数据\n",
    "    cookies[key]=value\n",
    "cookies"
   ]
  },
  {
   "cell_type": "code",
   "execution_count": 135,
   "metadata": {
    "ExecuteTime": {
     "end_time": "2019-01-29T05:03:27.980130Z",
     "start_time": "2019-01-29T05:03:27.659947Z"
    },
    "scrolled": true,
    "slideshow": {
     "slide_type": "subslide"
    }
   },
   "outputs": [],
   "source": [
    "import requests\n",
    "url = 'https://api.douban.com/v2/user/1000001/'\n",
    "jsonm = requests.get(url,  cookies = cookies)#.json()"
   ]
  },
  {
   "cell_type": "code",
   "execution_count": 136,
   "metadata": {
    "ExecuteTime": {
     "end_time": "2019-01-29T05:03:28.584071Z",
     "start_time": "2019-01-29T05:03:28.579755Z"
    }
   },
   "outputs": [
    {
     "data": {
      "text/plain": [
       "<Response [404]>"
      ]
     },
     "execution_count": 136,
     "metadata": {},
     "output_type": "execute_result"
    }
   ],
   "source": [
    "jsonm"
   ]
  },
  {
   "cell_type": "code",
   "execution_count": 134,
   "metadata": {
    "ExecuteTime": {
     "end_time": "2019-01-29T05:03:03.792834Z",
     "start_time": "2019-01-29T05:03:03.788226Z"
    }
   },
   "outputs": [
    {
     "data": {
      "text/plain": [
       "{'Connection': 'keep-alive', 'Accept': '*/*', 'Accept-Encoding': 'gzip, deflate', 'User-Agent': 'python-requests/2.14.2', 'Cookie': ' __utmc=30149280;  ap_v=0,6.0;  __gads=ID=223032a1f45c3c9d:T=1541658183:S=ALNI_MY65rcbNHf8eTpIzbr9MTNv1lhuSg;  douban-fav-remind=1;  __utmt=1;  _ga=GA1.2.1584253277.1448983887;  push_noty_num=0;  _vwo_uuid_v2=7CD7A27EE46C68D5713E8870DCBB0C50|a39513af0c4457f727aeb9dcb79c7867;  ue=\"wangchj04@126.com\";  ll=\"118159\"; gr_user_id=54559934-955b-4798-9df1-ed12a97b61b1;  ct=y;  __utmv=30149280.155;  ck=AdQI;  __utmb=30149280.17.5.1548735287585;  push_doumail_num=0;  bid=-n0SJDzOCOU;  UM_distinctid=167a02c6a9b273-064d1e75f342f3-35677603-fa000-167a02c6a9c203;  viewed=\"1536615\";  __utma=30149280.1584253277.1448983887.1548653281.1548735278.59;  douban-profile-remind=1;  __utmz=30149280.1548213414.56.6.utmcsr=book.douban.com|utmccn=(referral)|utmcmd=referral|utmcct=/subject/2893874/comments/;  dbcl2=\"1558440:4omV9m7YBqg\"'}"
      ]
     },
     "execution_count": 134,
     "metadata": {},
     "output_type": "execute_result"
    }
   ],
   "source": [
    "jsonm.request.headers"
   ]
  },
  {
   "cell_type": "markdown",
   "metadata": {},
   "source": [
    "# requests.post模拟登录豆瓣（包括获取验证码）\n",
    "https://blog.csdn.net/zhuzuwei/article/details/80875538"
   ]
  },
  {
   "cell_type": "markdown",
   "metadata": {
    "slideshow": {
     "slide_type": "slide"
    }
   },
   "source": [
    "## 作业：抓取豆瓣电影 Top 250"
   ]
  },
  {
   "cell_type": "code",
   "execution_count": 59,
   "metadata": {
    "ExecuteTime": {
     "end_time": "2018-04-28T03:03:56.336667Z",
     "start_time": "2018-04-28T03:03:56.041513Z"
    },
    "slideshow": {
     "slide_type": "subslide"
    }
   },
   "outputs": [],
   "source": [
    "import requests\n",
    "from bs4 import BeautifulSoup\n",
    "from lxml import etree\n",
    "\n",
    "url0 = 'https://movie.douban.com/top250?start=0&filter='\n",
    "data = requests.get(url0).text\n",
    "s = etree.HTML(data)"
   ]
  },
  {
   "cell_type": "code",
   "execution_count": 222,
   "metadata": {
    "slideshow": {
     "slide_type": "subslide"
    }
   },
   "outputs": [
    {
     "data": {
      "text/plain": [
       "'肖申克的救赎'"
      ]
     },
     "execution_count": 222,
     "metadata": {},
     "output_type": "execute_result"
    }
   ],
   "source": [
    "s.xpath('//*[@id=\"content\"]/div/div[1]/ol/li[1]/div/div[2]/div[1]/a/span[1]/text()')[0]"
   ]
  },
  {
   "cell_type": "code",
   "execution_count": 225,
   "metadata": {
    "slideshow": {
     "slide_type": "fragment"
    }
   },
   "outputs": [
    {
     "data": {
      "text/plain": [
       "'霸王别姬'"
      ]
     },
     "execution_count": 225,
     "metadata": {},
     "output_type": "execute_result"
    }
   ],
   "source": [
    "s.xpath('//*[@id=\"content\"]/div/div[1]/ol/li[2]/div/div[2]/div[1]/a/span[1]/text()')[0]"
   ]
  },
  {
   "cell_type": "code",
   "execution_count": 227,
   "metadata": {
    "slideshow": {
     "slide_type": "fragment"
    }
   },
   "outputs": [
    {
     "data": {
      "text/plain": [
       "'这个杀手不太冷'"
      ]
     },
     "execution_count": 227,
     "metadata": {},
     "output_type": "execute_result"
    }
   ],
   "source": [
    "s.xpath('//*[@id=\"content\"]/div/div[1]/ol/li[3]/div/div[2]/div[1]/a/span[1]/text()')[0]"
   ]
  },
  {
   "cell_type": "code",
   "execution_count": 60,
   "metadata": {
    "ExecuteTime": {
     "end_time": "2018-04-28T03:05:08.167590Z",
     "start_time": "2018-04-28T03:05:07.579088Z"
    },
    "slideshow": {
     "slide_type": "subslide"
    }
   },
   "outputs": [],
   "source": [
    "import requests\n",
    "from bs4 import BeautifulSoup\n",
    "\n",
    "url0 = 'https://movie.douban.com/top250?start=0&filter='\n",
    "data = requests.get(url0).text\n",
    "soup = BeautifulSoup(data, 'lxml')"
   ]
  },
  {
   "cell_type": "code",
   "execution_count": 61,
   "metadata": {
    "ExecuteTime": {
     "end_time": "2018-04-28T03:05:13.439684Z",
     "start_time": "2018-04-28T03:05:13.425582Z"
    },
    "slideshow": {
     "slide_type": "fragment"
    }
   },
   "outputs": [],
   "source": [
    "movies = soup.find_all('div', {'class', 'info'})"
   ]
  },
  {
   "cell_type": "code",
   "execution_count": 62,
   "metadata": {
    "ExecuteTime": {
     "end_time": "2018-04-28T03:05:17.109661Z",
     "start_time": "2018-04-28T03:05:17.105663Z"
    },
    "slideshow": {
     "slide_type": "fragment"
    }
   },
   "outputs": [
    {
     "data": {
      "text/plain": [
       "25"
      ]
     },
     "execution_count": 62,
     "metadata": {},
     "output_type": "execute_result"
    }
   ],
   "source": [
    "len(movies)"
   ]
  },
  {
   "cell_type": "code",
   "execution_count": 63,
   "metadata": {
    "ExecuteTime": {
     "end_time": "2018-04-28T03:05:36.448547Z",
     "start_time": "2018-04-28T03:05:36.444045Z"
    },
    "slideshow": {
     "slide_type": "subslide"
    }
   },
   "outputs": [
    {
     "data": {
      "text/plain": [
       "'https://movie.douban.com/subject/1292052/'"
      ]
     },
     "execution_count": 63,
     "metadata": {},
     "output_type": "execute_result"
    }
   ],
   "source": [
    "movies[0].a['href']"
   ]
  },
  {
   "cell_type": "code",
   "execution_count": 39,
   "metadata": {
    "slideshow": {
     "slide_type": "fragment"
    }
   },
   "outputs": [
    {
     "data": {
      "text/plain": [
       "'肖申克的救赎'"
      ]
     },
     "execution_count": 39,
     "metadata": {},
     "output_type": "execute_result"
    }
   ],
   "source": [
    "movies[0].find('span', {'class', 'title'}).text"
   ]
  },
  {
   "cell_type": "code",
   "execution_count": 26,
   "metadata": {
    "slideshow": {
     "slide_type": "fragment"
    }
   },
   "outputs": [
    {
     "data": {
      "text/plain": [
       "<div class=\"star\">\n",
       "<span class=\"rating5-t\"></span>\n",
       "<span class=\"rating_num\" property=\"v:average\">9.6</span>\n",
       "<span content=\"10.0\" property=\"v:best\"></span>\n",
       "<span>1004428人评价</span>\n",
       "</div>"
      ]
     },
     "execution_count": 26,
     "metadata": {},
     "output_type": "execute_result"
    }
   ],
   "source": [
    "movies[0].find('div', {'class', 'star'})"
   ]
  },
  {
   "cell_type": "code",
   "execution_count": 28,
   "metadata": {
    "slideshow": {
     "slide_type": "subslide"
    }
   },
   "outputs": [
    {
     "data": {
      "text/plain": [
       "'9.6'"
      ]
     },
     "execution_count": 28,
     "metadata": {},
     "output_type": "execute_result"
    }
   ],
   "source": [
    "movies[0].find('span', {'class', 'rating_num'}).text"
   ]
  },
  {
   "cell_type": "code",
   "execution_count": 90,
   "metadata": {
    "slideshow": {
     "slide_type": "fragment"
    }
   },
   "outputs": [
    {
     "data": {
      "text/plain": [
       "'1004428'"
      ]
     },
     "execution_count": 90,
     "metadata": {},
     "output_type": "execute_result"
    }
   ],
   "source": [
    "people_num = movies[0].find('div', {'class', 'star'}).find_all('span')[-1]\n",
    "people_num.text.split('人评价')[0]"
   ]
  },
  {
   "cell_type": "code",
   "execution_count": 64,
   "metadata": {
    "ExecuteTime": {
     "end_time": "2018-04-28T03:06:36.542789Z",
     "start_time": "2018-04-28T03:06:36.520876Z"
    },
    "slideshow": {
     "slide_type": "subslide"
    }
   },
   "outputs": [
    {
     "name": "stdout",
     "output_type": "stream",
     "text": [
      "https://movie.douban.com/subject/1292052/ 肖申克的救赎 9.6 1021383\n",
      "https://movie.douban.com/subject/1291546/ 霸王别姬 9.5 742984\n",
      "https://movie.douban.com/subject/1295644/ 这个杀手不太冷 9.4 957578\n",
      "https://movie.douban.com/subject/1292720/ 阿甘正传 9.4 814634\n",
      "https://movie.douban.com/subject/1292063/ 美丽人生 9.5 475813\n",
      "https://movie.douban.com/subject/1291561/ 千与千寻 9.3 762619\n",
      "https://movie.douban.com/subject/1292722/ 泰坦尼克号 9.3 754309\n",
      "https://movie.douban.com/subject/1295124/ 辛德勒的名单 9.4 433191\n",
      "https://movie.douban.com/subject/3541415/ 盗梦空间 9.3 853620\n",
      "https://movie.douban.com/subject/2131459/ 机器人总动员 9.3 559729\n",
      "https://movie.douban.com/subject/1292001/ 海上钢琴师 9.2 657670\n",
      "https://movie.douban.com/subject/3793023/ 三傻大闹宝莱坞 9.2 767473\n",
      "https://movie.douban.com/subject/3011091/ 忠犬八公的故事 9.2 529473\n",
      "https://movie.douban.com/subject/1291549/ 放牛班的春天 9.2 513071\n",
      "https://movie.douban.com/subject/1292213/ 大话西游之大圣娶亲 9.2 561091\n",
      "https://movie.douban.com/subject/1292064/ 楚门的世界 9.1 533017\n",
      "https://movie.douban.com/subject/1291560/ 龙猫 9.1 473631\n",
      "https://movie.douban.com/subject/1291841/ 教父 9.2 385130\n",
      "https://movie.douban.com/subject/5912992/ 熔炉 9.2 309138\n",
      "https://movie.douban.com/subject/1889243/ 星际穿越 9.2 560855\n",
      "https://movie.douban.com/subject/1300267/ 乱世佳人 9.2 299301\n",
      "https://movie.douban.com/subject/6786002/ 触不可及 9.1 416073\n",
      "https://movie.douban.com/subject/1307914/ 无间道 9.0 458107\n",
      "https://movie.douban.com/subject/1849031/ 当幸福来敲门 8.9 606767\n",
      "https://movie.douban.com/subject/1291828/ 天堂电影院 9.1 337952\n"
     ]
    }
   ],
   "source": [
    "for i in movies:\n",
    "    url = i.a['href']\n",
    "    title = i.find('span', {'class', 'title'}).text\n",
    "    des = i.find('div', {'class', 'star'})\n",
    "    rating = des.find('span', {'class', 'rating_num'}).text\n",
    "    rating_num = des.find_all('span')[-1].text.split('人评价')[0]\n",
    "    print(url, title, rating, rating_num)"
   ]
  },
  {
   "cell_type": "code",
   "execution_count": 51,
   "metadata": {
    "slideshow": {
     "slide_type": "subslide"
    }
   },
   "outputs": [
    {
     "name": "stdout",
     "output_type": "stream",
     "text": [
      "https://movie.douban.com/top250?start=0&filter=\n",
      "https://movie.douban.com/top250?start=25&filter=\n",
      "https://movie.douban.com/top250?start=50&filter=\n",
      "https://movie.douban.com/top250?start=75&filter=\n",
      "https://movie.douban.com/top250?start=100&filter=\n",
      "https://movie.douban.com/top250?start=125&filter=\n",
      "https://movie.douban.com/top250?start=150&filter=\n",
      "https://movie.douban.com/top250?start=175&filter=\n",
      "https://movie.douban.com/top250?start=200&filter=\n",
      "https://movie.douban.com/top250?start=225&filter=\n"
     ]
    }
   ],
   "source": [
    "for i in range(0, 250, 25):\n",
    "    print('https://movie.douban.com/top250?start=%d&filter='% i)"
   ]
  },
  {
   "cell_type": "code",
   "execution_count": 65,
   "metadata": {
    "ExecuteTime": {
     "end_time": "2018-04-28T03:09:06.628698Z",
     "start_time": "2018-04-28T03:09:02.302352Z"
    },
    "slideshow": {
     "slide_type": "slide"
    }
   },
   "outputs": [],
   "source": [
    "import requests\n",
    "from bs4 import BeautifulSoup\n",
    "dat = []\n",
    "for j in range(0, 250, 25):\n",
    "    urli = 'https://movie.douban.com/top250?start=%d&filter='% j\n",
    "    data = requests.get(urli).text\n",
    "    soup = BeautifulSoup(data, 'lxml')\n",
    "    movies = soup.find_all('div', {'class', 'info'})\n",
    "    for i in movies:\n",
    "        url = i.a['href']\n",
    "        title = i.find('span', {'class', 'title'}).text\n",
    "        des = i.find('div', {'class', 'star'})\n",
    "        rating = des.find('span', {'class', 'rating_num'}).text\n",
    "        rating_num = des.find_all('span')[-1].text.split('人评价')[0]\n",
    "        listi = [url, title, rating, rating_num]\n",
    "        dat.append(listi)"
   ]
  },
  {
   "cell_type": "code",
   "execution_count": 66,
   "metadata": {
    "ExecuteTime": {
     "end_time": "2018-04-28T03:09:28.762102Z",
     "start_time": "2018-04-28T03:09:27.606191Z"
    },
    "slideshow": {
     "slide_type": "subslide"
    }
   },
   "outputs": [
    {
     "data": {
      "text/html": [
       "<div>\n",
       "<table border=\"1\" class=\"dataframe\">\n",
       "  <thead>\n",
       "    <tr style=\"text-align: right;\">\n",
       "      <th></th>\n",
       "      <th>url</th>\n",
       "      <th>title</th>\n",
       "      <th>rating</th>\n",
       "      <th>rating_num</th>\n",
       "    </tr>\n",
       "  </thead>\n",
       "  <tbody>\n",
       "    <tr>\n",
       "      <th>0</th>\n",
       "      <td>https://movie.douban.com/subject/1292052/</td>\n",
       "      <td>肖申克的救赎</td>\n",
       "      <td>9.6</td>\n",
       "      <td>1021383</td>\n",
       "    </tr>\n",
       "    <tr>\n",
       "      <th>1</th>\n",
       "      <td>https://movie.douban.com/subject/1291546/</td>\n",
       "      <td>霸王别姬</td>\n",
       "      <td>9.5</td>\n",
       "      <td>742984</td>\n",
       "    </tr>\n",
       "    <tr>\n",
       "      <th>2</th>\n",
       "      <td>https://movie.douban.com/subject/1295644/</td>\n",
       "      <td>这个杀手不太冷</td>\n",
       "      <td>9.4</td>\n",
       "      <td>957578</td>\n",
       "    </tr>\n",
       "    <tr>\n",
       "      <th>3</th>\n",
       "      <td>https://movie.douban.com/subject/1292720/</td>\n",
       "      <td>阿甘正传</td>\n",
       "      <td>9.4</td>\n",
       "      <td>814634</td>\n",
       "    </tr>\n",
       "    <tr>\n",
       "      <th>4</th>\n",
       "      <td>https://movie.douban.com/subject/1292063/</td>\n",
       "      <td>美丽人生</td>\n",
       "      <td>9.5</td>\n",
       "      <td>475813</td>\n",
       "    </tr>\n",
       "  </tbody>\n",
       "</table>\n",
       "</div>"
      ],
      "text/plain": [
       "                                         url    title  rating  rating_num\n",
       "0  https://movie.douban.com/subject/1292052/   肖申克的救赎     9.6     1021383\n",
       "1  https://movie.douban.com/subject/1291546/     霸王别姬     9.5      742984\n",
       "2  https://movie.douban.com/subject/1295644/  这个杀手不太冷     9.4      957578\n",
       "3  https://movie.douban.com/subject/1292720/     阿甘正传     9.4      814634\n",
       "4  https://movie.douban.com/subject/1292063/     美丽人生     9.5      475813"
      ]
     },
     "execution_count": 66,
     "metadata": {},
     "output_type": "execute_result"
    }
   ],
   "source": [
    "import pandas as pd\n",
    "df = pd.DataFrame(dat, columns = ['url', 'title', 'rating', 'rating_num'])\n",
    "df['rating'] = df.rating.astype(float)\n",
    "df['rating_num'] = df.rating_num.astype(int)\n",
    "df.head()"
   ]
  },
  {
   "cell_type": "code",
   "execution_count": 3,
   "metadata": {
    "slideshow": {
     "slide_type": "subslide"
    }
   },
   "outputs": [
    {
     "data": {
      "image/png": "[encoded data removed]",
      "text/plain": [
       "<Figure size 432x288 with 1 Axes>"
      ]
     },
     "metadata": {},
     "output_type": "display_data"
    }
   ],
   "source": [
    "%matplotlib inline\n",
    "import matplotlib.pyplot as plt\n",
    "\n",
    "plt.hist(df.rating_num)\n",
    "plt.show()"
   ]
  },
  {
   "cell_type": "code",
   "execution_count": 19,
   "metadata": {
    "slideshow": {
     "slide_type": "subslide"
    }
   },
   "outputs": [
    {
     "data": {
      "image/png": "[encoded data removed]",
      "text/plain": [
       "<Figure size 432x288 with 1 Axes>"
      ]
     },
     "metadata": {},
     "output_type": "display_data"
    }
   ],
   "source": [
    "plt.hist(df.rating)\n",
    "plt.show()"
   ]
  },
  {
   "cell_type": "code",
   "execution_count": 11,
   "metadata": {
    "slideshow": {
     "slide_type": "subslide"
    }
   },
   "outputs": [
    {
     "data": {
      "image/png": "[encoded data removed]",
      "text/plain": [
       "<Figure size 1152x1152 with 1 Axes>"
      ]
     },
     "metadata": {},
     "output_type": "display_data"
    }
   ],
   "source": [
    "fig = plt.figure(figsize=(16, 16),facecolor='white')\n",
    "\n",
    "plt.plot(df.rating_num, df.rating, 'bo')\n",
    "for i in df.index:\n",
    "    plt.text(df.rating_num[i], df.rating[i], df.title[i], \n",
    "             fontsize = df.rating[i], \n",
    "             color = 'red', rotation = 45)\n",
    "plt.show() "
   ]
  },
  {
   "cell_type": "code",
   "execution_count": 123,
   "metadata": {
    "slideshow": {
     "slide_type": "subslide"
    }
   },
   "outputs": [
    {
     "data": {
      "text/html": [
       "<div>\n",
       "<table border=\"1\" class=\"dataframe\">\n",
       "  <thead>\n",
       "    <tr style=\"text-align: right;\">\n",
       "      <th></th>\n",
       "      <th>url</th>\n",
       "      <th>title</th>\n",
       "      <th>rating</th>\n",
       "      <th>rating_num</th>\n",
       "    </tr>\n",
       "  </thead>\n",
       "  <tbody>\n",
       "    <tr>\n",
       "      <th>0</th>\n",
       "      <td>https://movie.douban.com/subject/1292052/</td>\n",
       "      <td>肖申克的救赎</td>\n",
       "      <td>9.6</td>\n",
       "      <td>1004428</td>\n",
       "    </tr>\n",
       "    <tr>\n",
       "      <th>1</th>\n",
       "      <td>https://movie.douban.com/subject/1291546/</td>\n",
       "      <td>霸王别姬</td>\n",
       "      <td>9.5</td>\n",
       "      <td>730274</td>\n",
       "    </tr>\n",
       "    <tr>\n",
       "      <th>4</th>\n",
       "      <td>https://movie.douban.com/subject/1292063/</td>\n",
       "      <td>美丽人生</td>\n",
       "      <td>9.5</td>\n",
       "      <td>469332</td>\n",
       "    </tr>\n",
       "    <tr>\n",
       "      <th>41</th>\n",
       "      <td>https://movie.douban.com/subject/1296141/</td>\n",
       "      <td>控方证人</td>\n",
       "      <td>9.6</td>\n",
       "      <td>108598</td>\n",
       "    </tr>\n",
       "  </tbody>\n",
       "</table>\n",
       "</div>"
      ],
      "text/plain": [
       "                                          url   title  rating  rating_num\n",
       "0   https://movie.douban.com/subject/1292052/  肖申克的救赎     9.6     1004428\n",
       "1   https://movie.douban.com/subject/1291546/    霸王别姬     9.5      730274\n",
       "4   https://movie.douban.com/subject/1292063/    美丽人生     9.5      469332\n",
       "41  https://movie.douban.com/subject/1296141/    控方证人     9.6      108598"
      ]
     },
     "execution_count": 123,
     "metadata": {},
     "output_type": "execute_result"
    }
   ],
   "source": [
    "df[df.rating > 9.4]"
   ]
  },
  {
   "cell_type": "code",
   "execution_count": 69,
   "metadata": {
    "ExecuteTime": {
     "end_time": "2018-04-28T03:20:17.247062Z",
     "start_time": "2018-04-28T03:20:17.185335Z"
    },
    "slideshow": {
     "slide_type": "subslide"
    }
   },
   "outputs": [
    {
     "data": {
      "text/plain": [
       "[[1021383, 9.5999999999999996, '肖申克的救赎'],\n",
       " [742984, 9.5, '霸王别姬'],\n",
       " [957578, 9.4000000000000004, '这个杀手不太冷'],\n",
       " [814634, 9.4000000000000004, '阿甘正传'],\n",
       " [475813, 9.5, '美丽人生'],\n",
       " [762619, 9.3000000000000007, '千与千寻'],\n",
       " [754309, 9.3000000000000007, '泰坦尼克号'],\n",
       " [433191, 9.4000000000000004, '辛德勒的名单'],\n",
       " [853620, 9.3000000000000007, '盗梦空间'],\n",
       " [559729, 9.3000000000000007, '机器人总动员'],\n",
       " [657670, 9.1999999999999993, '海上钢琴师'],\n",
       " [767473, 9.1999999999999993, '三傻大闹宝莱坞'],\n",
       " [529473, 9.1999999999999993, '忠犬八公的故事'],\n",
       " [513071, 9.1999999999999993, '放牛班的春天'],\n",
       " [561091, 9.1999999999999993, '大话西游之大圣娶亲'],\n",
       " [533017, 9.0999999999999996, '楚门的世界'],\n",
       " [473631, 9.0999999999999996, '龙猫'],\n",
       " [385130, 9.1999999999999993, '教父'],\n",
       " [309138, 9.1999999999999993, '熔炉'],\n",
       " [560855, 9.1999999999999993, '星际穿越'],\n",
       " [299301, 9.1999999999999993, '乱世佳人'],\n",
       " [416073, 9.0999999999999996, '触不可及'],\n",
       " [458107, 9.0, '无间道'],\n",
       " [606767, 8.9000000000000004, '当幸福来敲门'],\n",
       " [337952, 9.0999999999999996, '天堂电影院'],\n",
       " [633995, 8.9000000000000004, '怦然心动'],\n",
       " [190977, 9.4000000000000004, '十二怒汉'],\n",
       " [434420, 9.0, '搏击俱乐部'],\n",
       " [640800, 9.0, '少年派的奇幻漂流'],\n",
       " [260089, 9.1999999999999993, '鬼子来了'],\n",
       " [367866, 9.0999999999999996, '蝙蝠侠：黑暗骑士'],\n",
       " [314885, 9.0999999999999996, '指环王3：王者无敌'],\n",
       " [306344, 9.0999999999999996, '活着'],\n",
       " [369956, 9.0, '天空之城'],\n",
       " [585740, 9.1999999999999993, '疯狂动物城'],\n",
       " [426150, 8.9000000000000004, '罗马假日'],\n",
       " [451703, 8.9000000000000004, '大话西游之月光宝盒'],\n",
       " [554642, 8.9000000000000004, '飞屋环游记'],\n",
       " [249586, 9.0999999999999996, '窃听风暴'],\n",
       " [296760, 9.0999999999999996, '两杆大烟枪'],\n",
       " [111737, 9.5999999999999996, '控方证人'],\n",
       " [301329, 9.0, '飞越疯人院'],\n",
       " [358755, 8.9000000000000004, '闻香识女人'],\n",
       " [393556, 8.9000000000000004, '哈尔的移动城堡'],\n",
       " [196094, 9.3000000000000007, '海豚湾'],\n",
       " [464601, 8.8000000000000007, 'V字仇杀队'],\n",
       " [237421, 9.0999999999999996, '辩护人'],\n",
       " [309071, 9.0, '死亡诗社'],\n",
       " [207619, 9.0999999999999996, '教父2'],\n",
       " [333942, 8.9000000000000004, '美丽心灵'],\n",
       " [296196, 9.0, '指环王2：双塔奇兵'],\n",
       " [331529, 8.9000000000000004, '指环王1：魔戒再现'],\n",
       " [411534, 8.8000000000000007, '情书'],\n",
       " [223469, 9.0999999999999996, '饮食男女'],\n",
       " [517803, 9.0999999999999996, '摔跤吧！爸爸'],\n",
       " [191667, 9.0999999999999996, '美国往事'],\n",
       " [309325, 8.9000000000000004, '狮子王'],\n",
       " [220420, 9.0, '钢琴家'],\n",
       " [520325, 8.6999999999999993, '天使爱美丽'],\n",
       " [205704, 9.0999999999999996, '素媛'],\n",
       " [469032, 8.6999999999999993, '七宗罪'],\n",
       " [153673, 9.1999999999999993, '小鞋子'],\n",
       " [320506, 8.9000000000000004, '被嫌弃的松子的一生'],\n",
       " [375951, 8.8000000000000007, '致命魔术'],\n",
       " [378652, 8.8000000000000007, '看不见的客人'],\n",
       " [251308, 8.9000000000000004, '音乐之声'],\n",
       " [315215, 8.8000000000000007, '勇敢的心'],\n",
       " [523686, 8.6999999999999993, '剪刀手爱德华'],\n",
       " [425844, 8.8000000000000007, '本杰明·巴顿奇事'],\n",
       " [365086, 8.8000000000000007, '低俗小说'],\n",
       " [385562, 8.6999999999999993, '西西里的美丽传说'],\n",
       " [307307, 8.8000000000000007, '黑客帝国'],\n",
       " [262404, 8.9000000000000004, '拯救大兵瑞恩'],\n",
       " [383825, 8.6999999999999993, '沉默的羔羊'],\n",
       " [338488, 8.8000000000000007, '入殓师'],\n",
       " [414361, 8.6999999999999993, '蝴蝶效应'],\n",
       " [677352, 8.6999999999999993, '让子弹飞'],\n",
       " [270494, 8.8000000000000007, '春光乍泄'],\n",
       " [244643, 8.9000000000000004, '玛丽和马克思'],\n",
       " [111733, 9.1999999999999993, '大闹天宫'],\n",
       " [295606, 8.8000000000000007, '心灵捕手'],\n",
       " [189568, 8.9000000000000004, '末代皇帝'],\n",
       " [292721, 8.8000000000000007, '阳光灿烂的日子'],\n",
       " [254400, 8.8000000000000007, '幽灵公主'],\n",
       " [252833, 8.8000000000000007, '第六感'],\n",
       " [359281, 8.6999999999999993, '重庆森林'],\n",
       " [389844, 8.6999999999999993, '禁闭岛'],\n",
       " [345885, 8.8000000000000007, '布达佩斯大饭店'],\n",
       " [271656, 8.6999999999999993, '大鱼'],\n",
       " [142601, 9.0, '狩猎'],\n",
       " [284871, 8.6999999999999993, '哈利·波特与魔法石'],\n",
       " [296911, 8.6999999999999993, '射雕英雄传之东成西就'],\n",
       " [344355, 8.5999999999999996, '致命ID'],\n",
       " [248165, 8.8000000000000007, '甜蜜蜜'],\n",
       " [344588, 8.5999999999999996, '断背山'],\n",
       " [251749, 8.6999999999999993, '猫鼠游戏'],\n",
       " [166973, 8.9000000000000004, '一一'],\n",
       " [367791, 8.6999999999999993, '告白'],\n",
       " [289385, 8.8000000000000007, '阳光姐妹淘'],\n",
       " [373118, 8.5999999999999996, '加勒比海盗'],\n",
       " [166903, 8.9000000000000004, '上帝之城'],\n",
       " [97659, 9.1999999999999993, '摩登时代'],\n",
       " [162190, 8.9000000000000004, '穿条纹睡衣的男孩'],\n",
       " [565530, 8.5999999999999996, '阿凡达'],\n",
       " [237864, 8.6999999999999993, '爱在黎明破晓前'],\n",
       " [385266, 8.6999999999999993, '消失的爱人'],\n",
       " [188690, 8.8000000000000007, '风之谷'],\n",
       " [212467, 8.6999999999999993, '爱在日落黄昏时'],\n",
       " [181917, 8.8000000000000007, '侧耳倾听'],\n",
       " [275127, 8.5999999999999996, '倩女幽魂'],\n",
       " [146507, 8.9000000000000004, '红辣椒'],\n",
       " [241887, 8.6999999999999993, '恐怖直播'],\n",
       " [185888, 8.8000000000000007, '超脱'],\n",
       " [217398, 8.6999999999999993, '萤火虫之墓'],\n",
       " [304866, 8.6999999999999993, '驯龙高手'],\n",
       " [239308, 8.5999999999999996, '幸福终点站'],\n",
       " [195650, 8.6999999999999993, '菊次郎的夏天'],\n",
       " [144405, 8.9000000000000004, '小森林 夏秋篇'],\n",
       " [341432, 8.5, '喜剧之王'],\n",
       " [323425, 8.5999999999999996, '岁月神偷'],\n",
       " [232077, 8.6999999999999993, '借东西的小人阿莉埃蒂'],\n",
       " [82623, 9.1999999999999993, '七武士'],\n",
       " [405200, 8.5, '神偷奶爸'],\n",
       " [222549, 8.6999999999999993, '杀人回忆'],\n",
       " [102681, 9.0, '海洋'],\n",
       " [332455, 8.5, '真爱至上'],\n",
       " [210611, 8.6999999999999993, '电锯惊魂'],\n",
       " [415291, 8.5, '贫民窟的百万富翁'],\n",
       " [191225, 8.6999999999999993, '谍影重重3'],\n",
       " [149579, 8.8000000000000007, '喜宴'],\n",
       " [266681, 8.5999999999999996, '东邪西毒'],\n",
       " [295660, 8.5, '记忆碎片'],\n",
       " [220414, 8.5999999999999996, '雨人'],\n",
       " [257769, 8.5999999999999996, '怪兽电力公司'],\n",
       " [440539, 8.5, '黑天鹅'],\n",
       " [391224, 8.6999999999999993, '疯狂原始人'],\n",
       " [179698, 8.6999999999999993, '英雄本色'],\n",
       " [154659, 8.6999999999999993, '燃情岁月'],\n",
       " [127219, 8.8000000000000007, '卢旺达饭店'],\n",
       " [112345, 8.9000000000000004, '虎口脱险'],\n",
       " [189074, 8.6999999999999993, '7号房的礼物'],\n",
       " [300454, 8.5, '恋恋笔记本'],\n",
       " [125724, 8.9000000000000004, '小森林 冬春篇'],\n",
       " [320997, 8.5, '傲慢与偏见'],\n",
       " [208380, 8.5999999999999996, '海边的曼彻斯特'],\n",
       " [290089, 8.6999999999999993, '哈利·波特与死亡圣器(下)'],\n",
       " [168987, 8.6999999999999993, '萤火之森'],\n",
       " [138798, 8.8000000000000007, '教父3'],\n",
       " [86319, 9.0, '完美的世界'],\n",
       " [156471, 8.6999999999999993, '纵横四海'],\n",
       " [151799, 8.8000000000000007, '荒蛮故事'],\n",
       " [105774, 8.8000000000000007, '二十二'],\n",
       " [135526, 8.8000000000000007, '魂断蓝桥'],\n",
       " [259388, 8.5, '猜火车'],\n",
       " [194663, 8.5999999999999996, '穿越时空的少女'],\n",
       " [201714, 8.8000000000000007, '玩具总动员3'],\n",
       " [260957, 8.5, '花样年华'],\n",
       " [97486, 9.0, '雨中曲'],\n",
       " [183786, 8.5999999999999996, '心迷宫'],\n",
       " [214531, 8.5999999999999996, '时空恋旅人'],\n",
       " [351836, 8.4000000000000004, '唐伯虎点秋香'],\n",
       " [392857, 8.5999999999999996, '超能陆战队'],\n",
       " [110358, 8.8000000000000007, '我是山姆'],\n",
       " [309924, 8.5999999999999996, '蝙蝠侠：黑暗骑士崛起'],\n",
       " [199924, 8.5999999999999996, '人工智能'],\n",
       " [139242, 8.6999999999999993, '浪潮'],\n",
       " [285601, 8.4000000000000004, '冰川时代'],\n",
       " [289504, 8.4000000000000004, '香水'],\n",
       " [288650, 8.5, '朗读者'],\n",
       " [132226, 8.6999999999999993, '罗生门'],\n",
       " [174301, 8.8000000000000007, '请以你的名字呼唤我'],\n",
       " [251364, 8.5999999999999996, '爆裂鼓手'],\n",
       " [85770, 8.9000000000000004, '追随'],\n",
       " [138571, 8.6999999999999993, '一次别离'],\n",
       " [104317, 8.8000000000000007, '未麻的部屋'],\n",
       " [181166, 8.5999999999999996, '撞车'],\n",
       " [334741, 8.6999999999999993, '血战钢锯岭'],\n",
       " [135259, 8.6999999999999993, '可可西里'],\n",
       " [182221, 8.5, '战争之王'],\n",
       " [343703, 8.3000000000000007, '恐怖游轮'],\n",
       " [89868, 8.8000000000000007, '地球上的星星'],\n",
       " [116667, 8.6999999999999993, '梦之安魂曲'],\n",
       " [176988, 8.6999999999999993, '达拉斯买家俱乐部'],\n",
       " [270993, 8.5999999999999996, '被解救的姜戈'],\n",
       " [192717, 8.5, '阿飞正传'],\n",
       " [112326, 8.6999999999999993, '牯岭街少年杀人事件'],\n",
       " [200329, 8.5, '谍影重重'],\n",
       " [166328, 8.5, '谍影重重2'],\n",
       " [204653, 8.5, '魔女宅急便'],\n",
       " [240090, 8.6999999999999993, '头脑特工队'],\n",
       " [164479, 8.8000000000000007, '房间'],\n",
       " [63374, 9.0, '忠犬八公物语'],\n",
       " [87474, 8.9000000000000004, '惊魂记'],\n",
       " [110499, 8.6999999999999993, '碧海蓝天'],\n",
       " [179269, 8.5, '再次出发之纽约遇见你'],\n",
       " [231647, 8.4000000000000004, '青蛇'],\n",
       " [157071, 8.5999999999999996, '小萝莉的猴神大叔'],\n",
       " [53476, 9.1999999999999993, '东京物语'],\n",
       " [312322, 8.3000000000000007, '秒速5厘米'],\n",
       " [84575, 8.9000000000000004, '哪吒闹海'],\n",
       " [109454, 8.6999999999999993, '末路狂花'],\n",
       " [169778, 8.5999999999999996, '海盗电台'],\n",
       " [111040, 8.6999999999999993, '绿里奇迹'],\n",
       " [147035, 8.5999999999999996, '终结者2：审判日'],\n",
       " [424177, 8.3000000000000007, '源代码'],\n",
       " [267159, 8.5999999999999996, '模仿游戏'],\n",
       " [192005, 8.5, '新龙门客栈'],\n",
       " [162903, 8.5, '黑客帝国3：矩阵革命'],\n",
       " [147043, 8.5, '勇闯夺命岛'],\n",
       " [189831, 8.5, '这个男人来自地球'],\n",
       " [125973, 8.6999999999999993, '一个叫欧维的男人决定去死'],\n",
       " [129304, 8.5999999999999996, '卡萨布兰卡'],\n",
       " [494602, 8.4000000000000004, '你的名字。'],\n",
       " [46323, 9.1999999999999993, '城市之光'],\n",
       " [221714, 8.4000000000000004, '变脸'],\n",
       " [132083, 8.5999999999999996, '荒野生存'],\n",
       " [53099, 9.0999999999999996, '迁徙的鸟'],\n",
       " [159426, 8.5, 'E.T. 外星人'],\n",
       " [192409, 8.4000000000000004, '发条橙'],\n",
       " [231469, 8.4000000000000004, '无耻混蛋'],\n",
       " [479894, 8.3000000000000007, '初恋这件小事'],\n",
       " [53709, 9.0999999999999996, '黄金三镖客'],\n",
       " [191992, 8.4000000000000004, '美国丽人'],\n",
       " [121427, 8.8000000000000007, '爱在午夜降临前'],\n",
       " [178607, 8.4000000000000004, '英国病人'],\n",
       " [60049, 9.0, '无人知晓'],\n",
       " [110300, 8.5999999999999996, '燕尾蝶'],\n",
       " [120585, 8.5999999999999996, '非常嫌疑犯'],\n",
       " [328162, 8.3000000000000007, '疯狂的石头'],\n",
       " [112286, 8.5999999999999996, '叫我第一名'],\n",
       " [90201, 8.9000000000000004, '勇士'],\n",
       " [242926, 8.3000000000000007, '穆赫兰道'],\n",
       " [190730, 8.5999999999999996, '无敌破坏王'],\n",
       " [352129, 8.3000000000000007, '国王的演讲'],\n",
       " [77399, 8.8000000000000007, '步履不停'],\n",
       " [137843, 8.5, '血钻'],\n",
       " [99101, 8.5999999999999996, '上帝也疯狂'],\n",
       " [186988, 8.4000000000000004, '彗星来的那一夜'],\n",
       " [103282, 8.5999999999999996, '枪火'],\n",
       " [278772, 8.3000000000000007, '蓝色大门'],\n",
       " [97025, 8.5999999999999996, '大卫·戈尔的一生'],\n",
       " [134046, 8.5, '遗愿清单'],\n",
       " [59825, 9.0, '我爱你'],\n",
       " [89377, 8.6999999999999993, '千钧一发'],\n",
       " [139223, 8.5, '荒岛余生'],\n",
       " [48744, 9.0, '爱·回家'],\n",
       " [119390, 8.5, '黑鹰坠落'],\n",
       " [131277, 8.8000000000000007, '聚焦'],\n",
       " [131618, 8.5, '麦兜故事'],\n",
       " [148685, 8.4000000000000004, '暖暖内含光']]"
      ]
     },
     "execution_count": 69,
     "metadata": {},
     "output_type": "execute_result"
    }
   ],
   "source": [
    "alist = []\n",
    "for i in df.index:\n",
    "    alist.append( [df.rating_num[i], df.rating[i], df.title[i] ])\n",
    "\n",
    "blist =[[df.rating_num[i], df.rating[i], df.title[i] ] for i in df.index] \n",
    "\n",
    "alist"
   ]
  },
  {
   "cell_type": "code",
   "execution_count": 70,
   "metadata": {
    "ExecuteTime": {
     "end_time": "2018-04-28T03:24:07.500331Z",
     "start_time": "2018-04-28T03:24:07.495122Z"
    },
    "slideshow": {
     "slide_type": "slide"
    }
   },
   "outputs": [
    {
     "data": {
      "text/html": [
       "<iframe src=http://nbviewer.jupyter.org/github/computational-class/bigdata/blob/gh-pages/vis/douban250bubble.html  width=1000 height=500></iframe>"
      ],
      "text/plain": [
       "<IPython.core.display.HTML object>"
      ]
     },
     "execution_count": 70,
     "metadata": {},
     "output_type": "execute_result"
    }
   ],
   "source": [
    "    \n",
    "from IPython.display import display_html, HTML\n",
    "HTML('<iframe src=http://nbviewer.jupyter.org/github/computational-class/bigdata/blob/gh-pages/vis/douban250bubble.html \\\n",
    "     width=1000 height=500></iframe>')"
   ]
  },
  {
   "cell_type": "markdown",
   "metadata": {
    "slideshow": {
     "slide_type": "slide"
    }
   },
   "source": [
    "# 作业：\n",
    "\n",
    "- 抓取复旦新媒体微信公众号最新一期的内容\n"
   ]
  },
  {
   "cell_type": "markdown",
   "metadata": {
    "slideshow": {
     "slide_type": "slide"
    }
   },
   "source": [
    "# 抓取江苏省政协十年提案"
   ]
  },
  {
   "cell_type": "code",
   "execution_count": 82,
   "metadata": {
    "ExecuteTime": {
     "end_time": "2019-01-29T04:02:04.436996Z",
     "start_time": "2019-01-29T04:02:04.432596Z"
    },
    "slideshow": {
     "slide_type": "skip"
    }
   },
   "outputs": [],
   "source": [
    "# headers = {\n",
    "#     'Accept': 'application/json, text/javascript, */*; q=0.01',\n",
    "#     'Accept-Encoding': 'gzip, deflate',\n",
    "#     'Accept-Language': 'zh-TW,zh;q=0.9,en-US;q=0.8,en;q=0.7,zh-CN;q=0.6',\n",
    "#     'Cache-Control': 'no-cache',\n",
    "#     'Connection': 'keep-alive',\n",
    "#     'Cookie': 'JSESSIONID=992CB756ADE61B87409672DC808FDD92',\n",
    "#     'DNT': '1',\n",
    "#     'Host': 'www.jszx.gov.cn',\n",
    "#     'Pragma': 'no-cache',\n",
    "#     'Referer': 'http://www.jszx.gov.cn/zxta/2019ta/',\n",
    "#     'Upgrade-Insecure-Requests': '1',\n",
    "#     'User-Agent': 'Mozilla/5.0 (iPad; CPU OS 11_0 like Mac OS X) AppleWebKit/604.1.34 (KHTML, like Gecko) Version/11.0 Mobile/15A5341f Safari/604.1'\n",
    "# }"
   ]
  },
  {
   "cell_type": "markdown",
   "metadata": {
    "slideshow": {
     "slide_type": "subslide"
    }
   },
   "source": [
    "打开http://www.jszx.gov.cn/zxta/2019ta/\n",
    "\n",
    "- 点击下一页，url不变!\n",
    "\n",
    "> 所以数据的更新是使用js推送的\n",
    "- 分析network中的内容，发现proposalList.jsp\n",
    "    - 查看它的header，并发现了form_data"
   ]
  },
  {
   "cell_type": "markdown",
   "metadata": {
    "slideshow": {
     "slide_type": "subslide"
    }
   },
   "source": [
    "<img src = './img/form_data.png'>\n",
    "\n",
    "http://www.jszx.gov.cn/zxta/2019ta/"
   ]
  },
  {
   "cell_type": "code",
   "execution_count": 4,
   "metadata": {
    "ExecuteTime": {
     "end_time": "2019-03-18T01:40:57.249205Z",
     "start_time": "2019-03-18T01:40:56.944157Z"
    },
    "slideshow": {
     "slide_type": "subslide"
    }
   },
   "outputs": [],
   "source": [
    "import requests\n",
    "from bs4 import BeautifulSoup"
   ]
  },
  {
   "cell_type": "code",
   "execution_count": 5,
   "metadata": {
    "ExecuteTime": {
     "end_time": "2019-03-18T01:41:03.134925Z",
     "start_time": "2019-03-18T01:40:58.034299Z"
    },
    "slideshow": {
     "slide_type": "subslide"
    }
   },
   "outputs": [],
   "source": [
    "form_data = {'year':2019,\n",
    "        'pagenum':1,\n",
    "        'pagesize':20\n",
    "}\n",
    "url = 'http://www.jszx.gov.cn/wcm/zxweb/proposalList.jsp'\n",
    "content = requests.get(url, form_data)\n",
    "content.encoding = 'utf-8'\n",
    "js = content.json()"
   ]
  },
  {
   "cell_type": "code",
   "execution_count": 6,
   "metadata": {
    "ExecuteTime": {
     "end_time": "2019-03-18T01:41:05.243632Z",
     "start_time": "2019-03-18T01:41:05.238922Z"
    },
    "slideshow": {
     "slide_type": "fragment"
    }
   },
   "outputs": [
    {
     "data": {
      "text/plain": [
       "'424'"
      ]
     },
     "execution_count": 6,
     "metadata": {},
     "output_type": "execute_result"
    }
   ],
   "source": [
    "js['data']['totalcount']"
   ]
  },
  {
   "cell_type": "code",
   "execution_count": 7,
   "metadata": {
    "ExecuteTime": {
     "end_time": "2019-03-18T01:41:09.907955Z",
     "start_time": "2019-03-18T01:41:09.904646Z"
    },
    "slideshow": {
     "slide_type": "subslide"
    }
   },
   "outputs": [],
   "source": [
    "dat = js['data']['list']\n",
    "pagenum = js['data']['pagecount']"
   ]
  },
  {
   "cell_type": "markdown",
   "metadata": {
    "slideshow": {
     "slide_type": "subslide"
    }
   },
   "source": [
    "### 抓取所有提案的链接"
   ]
  },
  {
   "cell_type": "code",
   "execution_count": 147,
   "metadata": {
    "ExecuteTime": {
     "end_time": "2019-01-29T06:47:52.440394Z",
     "start_time": "2019-01-29T06:47:46.778326Z"
    },
    "slideshow": {
     "slide_type": "subslide"
    }
   },
   "outputs": [
    {
     "name": "stdout",
     "output_type": "stream",
     "text": [
      "2\n",
      "3\n",
      "4\n",
      "5\n",
      "6\n",
      "7\n",
      "8\n",
      "9\n",
      "10\n",
      "11\n",
      "12\n",
      "13\n",
      "14\n",
      "15\n",
      "16\n",
      "17\n",
      "18\n",
      "19\n",
      "20\n",
      "21\n",
      "22\n"
     ]
    }
   ],
   "source": [
    "for i in range(2, pagenum+1):\n",
    "    print(i)\n",
    "    form_data['pagenum'] = i\n",
    "    content = requests.get(url, form_data)\n",
    "    content.encoding = 'utf-8'\n",
    "    js = content.json()\n",
    "    for j in js['data']['list']:\n",
    "        dat.append(j)"
   ]
  },
  {
   "cell_type": "code",
   "execution_count": 149,
   "metadata": {
    "ExecuteTime": {
     "end_time": "2019-01-29T06:48:20.794958Z",
     "start_time": "2019-01-29T06:48:20.790691Z"
    },
    "slideshow": {
     "slide_type": "subslide"
    }
   },
   "outputs": [
    {
     "data": {
      "text/plain": [
       "436"
      ]
     },
     "execution_count": 149,
     "metadata": {},
     "output_type": "execute_result"
    }
   ],
   "source": [
    "len(dat)"
   ]
  },
  {
   "cell_type": "code",
   "execution_count": 150,
   "metadata": {
    "ExecuteTime": {
     "end_time": "2019-01-29T06:48:31.366989Z",
     "start_time": "2019-01-29T06:48:31.362185Z"
    },
    "slideshow": {
     "slide_type": "subslide"
    }
   },
   "outputs": [
    {
     "data": {
      "text/plain": [
       "{'personnel_name': '邹正',\n",
       " 'pkid': '18b1b347f9e34badb8934c2acec80e9e',\n",
       " 'proposal_number': '0001',\n",
       " 'publish_time': '2019-01-12 16:04:48',\n",
       " 'reason': '关于完善城市环卫公厕指引系统的建议',\n",
       " 'rownum': 1,\n",
       " 'type': '城乡建设',\n",
       " 'year': '2019'}"
      ]
     },
     "execution_count": 150,
     "metadata": {},
     "output_type": "execute_result"
    }
   ],
   "source": [
    "dat[0]"
   ]
  },
  {
   "cell_type": "code",
   "execution_count": 155,
   "metadata": {
    "ExecuteTime": {
     "end_time": "2019-01-29T06:49:04.438056Z",
     "start_time": "2019-01-29T06:49:04.422330Z"
    },
    "slideshow": {
     "slide_type": "fragment"
    }
   },
   "outputs": [
    {
     "data": {
      "text/html": [
       "<div>\n",
       "<table border=\"1\" class=\"dataframe\">\n",
       "  <thead>\n",
       "    <tr style=\"text-align: right;\">\n",
       "      <th></th>\n",
       "      <th>personnel_name</th>\n",
       "      <th>pkid</th>\n",
       "      <th>proposal_number</th>\n",
       "      <th>publish_time</th>\n",
       "      <th>reason</th>\n",
       "      <th>rownum</th>\n",
       "      <th>type</th>\n",
       "      <th>year</th>\n",
       "    </tr>\n",
       "  </thead>\n",
       "  <tbody>\n",
       "    <tr>\n",
       "      <th>0</th>\n",
       "      <td>邹正</td>\n",
       "      <td>18b1b347f9e34badb8934c2acec80e9e</td>\n",
       "      <td>0001</td>\n",
       "      <td>2019-01-12 16:04:48</td>\n",
       "      <td>关于完善城市环卫公厕指引系统的建议</td>\n",
       "      <td>1</td>\n",
       "      <td>城乡建设</td>\n",
       "      <td>2019</td>\n",
       "    </tr>\n",
       "    <tr>\n",
       "      <th>1</th>\n",
       "      <td>省政协学习委员会</td>\n",
       "      <td>da43aae2378244faa961dd1224d1343e</td>\n",
       "      <td>0002</td>\n",
       "      <td>2019-01-12 16:04:48</td>\n",
       "      <td>关于加强老小区光纤化改造的建议</td>\n",
       "      <td>2</td>\n",
       "      <td>城乡建设</td>\n",
       "      <td>2019</td>\n",
       "    </tr>\n",
       "    <tr>\n",
       "      <th>2</th>\n",
       "      <td>韩鸣明</td>\n",
       "      <td>9d9b03f2e78345faa265eb99ce49e97e</td>\n",
       "      <td>0003</td>\n",
       "      <td>2019-01-12 16:24:23</td>\n",
       "      <td>关于加快建立省民营经济发展推进机制的建议</td>\n",
       "      <td>3</td>\n",
       "      <td>经济发展</td>\n",
       "      <td>2019</td>\n",
       "    </tr>\n",
       "    <tr>\n",
       "      <th>3</th>\n",
       "      <td>许文前</td>\n",
       "      <td>c0a1626a1bb744ebb0852cf25b21fb0a</td>\n",
       "      <td>0004</td>\n",
       "      <td>2019-01-12 15:42:19</td>\n",
       "      <td>加强科技创新，推动制造业转型升级</td>\n",
       "      <td>4</td>\n",
       "      <td>工业商贸</td>\n",
       "      <td>2019</td>\n",
       "    </tr>\n",
       "    <tr>\n",
       "      <th>4</th>\n",
       "      <td>段绪强</td>\n",
       "      <td>ce60d71296764cfe997d62bb2c0990af</td>\n",
       "      <td>0005</td>\n",
       "      <td>2019-01-12 16:21:46</td>\n",
       "      <td>深化落实金融政策举措 ,促进民营企业高质量发展</td>\n",
       "      <td>5</td>\n",
       "      <td>财税金融</td>\n",
       "      <td>2019</td>\n",
       "    </tr>\n",
       "  </tbody>\n",
       "</table>\n",
       "</div>"
      ],
      "text/plain": [
       "  personnel_name                              pkid proposal_number  \\\n",
       "0             邹正  18b1b347f9e34badb8934c2acec80e9e            0001   \n",
       "1       省政协学习委员会  da43aae2378244faa961dd1224d1343e            0002   \n",
       "2            韩鸣明  9d9b03f2e78345faa265eb99ce49e97e            0003   \n",
       "3            许文前  c0a1626a1bb744ebb0852cf25b21fb0a            0004   \n",
       "4            段绪强  ce60d71296764cfe997d62bb2c0990af            0005   \n",
       "\n",
       "          publish_time                   reason  rownum  type  year  \n",
       "0  2019-01-12 16:04:48        关于完善城市环卫公厕指引系统的建议       1  城乡建设  2019  \n",
       "1  2019-01-12 16:04:48          关于加强老小区光纤化改造的建议       2  城乡建设  2019  \n",
       "2  2019-01-12 16:24:23     关于加快建立省民营经济发展推进机制的建议       3  经济发展  2019  \n",
       "3  2019-01-12 15:42:19         加强科技创新，推动制造业转型升级       4  工业商贸  2019  \n",
       "4  2019-01-12 16:21:46  深化落实金融政策举措 ,促进民营企业高质量发展       5  财税金融  2019  "
      ]
     },
     "execution_count": 155,
     "metadata": {},
     "output_type": "execute_result"
    }
   ],
   "source": [
    "import pandas as pd\n",
    "\n",
    "df = pd.DataFrame(dat)\n",
    "df.head()"
   ]
  },
  {
   "cell_type": "code",
   "execution_count": 158,
   "metadata": {
    "ExecuteTime": {
     "end_time": "2019-01-29T06:52:15.932072Z",
     "start_time": "2019-01-29T06:52:15.925414Z"
    },
    "slideshow": {
     "slide_type": "subslide"
    }
   },
   "outputs": [
    {
     "data": {
      "text/plain": [
       "type\n",
       "农林水利     4\n",
       "医卫体育    45\n",
       "城乡建设    25\n",
       "工业商贸    34\n",
       "政治建设    18\n",
       "教育事业    58\n",
       "文化宣传    34\n",
       "法制建设    24\n",
       "社会事业    77\n",
       "科学技术    25\n",
       "经济发展    52\n",
       "统战综合     4\n",
       "财税金融    12\n",
       "资源环境    24\n",
       "dtype: int64"
      ]
     },
     "execution_count": 158,
     "metadata": {},
     "output_type": "execute_result"
    }
   ],
   "source": [
    "df.groupby('type').size()"
   ]
  },
  {
   "cell_type": "markdown",
   "metadata": {
    "slideshow": {
     "slide_type": "subslide"
    }
   },
   "source": [
    "### 抓取提案内容\n",
    "http://www.jszx.gov.cn/zxta/2019ta/index_61.html?pkid=18b1b347f9e34badb8934c2acec80e9e"
   ]
  },
  {
   "cell_type": "markdown",
   "metadata": {
    "ExecuteTime": {
     "end_time": "2019-01-29T06:55:32.420962Z",
     "start_time": "2019-01-29T06:55:32.416826Z"
    },
    "slideshow": {
     "slide_type": "fragment"
    }
   },
   "source": [
    "http://www.jszx.gov.cn/wcm/zxweb/proposalInfo.jsp?pkid=18b1b347f9e34badb8934c2acec80e9e"
   ]
  },
  {
   "cell_type": "code",
   "execution_count": 163,
   "metadata": {
    "ExecuteTime": {
     "end_time": "2019-01-29T06:58:13.737178Z",
     "start_time": "2019-01-29T06:58:13.733574Z"
    },
    "slideshow": {
     "slide_type": "subslide"
    }
   },
   "outputs": [],
   "source": [
    "url_base = 'http://www.jszx.gov.cn/wcm/zxweb/proposalInfo.jsp?pkid='\n",
    "urls = [url_base + i  for i in df['pkid']]"
   ]
  },
  {
   "cell_type": "code",
   "execution_count": 176,
   "metadata": {
    "ExecuteTime": {
     "end_time": "2019-01-29T07:07:12.602228Z",
     "start_time": "2019-01-29T07:06:21.709554Z"
    },
    "slideshow": {
     "slide_type": "subslide"
    }
   },
   "outputs": [
    {
     "name": "stdout",
     "output_type": "stream",
     "text": [
      "435"
     ]
    }
   ],
   "source": [
    "import sys\n",
    "def flushPrint(www):\n",
    "    sys.stdout.write('\\r')\n",
    "    sys.stdout.write('%s' % www)\n",
    "    sys.stdout.flush()\n",
    "    \n",
    "text = []\n",
    "for k, i in enumerate(urls):\n",
    "    flushPrint(k)\n",
    "    content = requests.get(i)\n",
    "    content.encoding = 'utf-8'\n",
    "    js = content.json()\n",
    "    js = js['data']['binfo']['_content']\n",
    "    soup = BeautifulSoup(js, 'html.parser') \n",
    "    text.append(soup.text)"
   ]
  },
  {
   "cell_type": "code",
   "execution_count": 177,
   "metadata": {
    "ExecuteTime": {
     "end_time": "2019-01-29T07:09:13.547181Z",
     "start_time": "2019-01-29T07:09:13.543181Z"
    },
    "slideshow": {
     "slide_type": "subslide"
    }
   },
   "outputs": [
    {
     "data": {
      "text/plain": [
       "436"
      ]
     },
     "execution_count": 177,
     "metadata": {},
     "output_type": "execute_result"
    }
   ],
   "source": [
    "len(text)"
   ]
  },
  {
   "cell_type": "code",
   "execution_count": 178,
   "metadata": {
    "ExecuteTime": {
     "end_time": "2019-01-29T07:09:29.794613Z",
     "start_time": "2019-01-29T07:09:29.791146Z"
    },
    "slideshow": {
     "slide_type": "fragment"
    }
   },
   "outputs": [],
   "source": [
    "df['content'] = text"
   ]
  },
  {
   "cell_type": "code",
   "execution_count": 179,
   "metadata": {
    "ExecuteTime": {
     "end_time": "2019-01-29T07:09:35.897482Z",
     "start_time": "2019-01-29T07:09:35.882699Z"
    },
    "slideshow": {
     "slide_type": "subslide"
    }
   },
   "outputs": [
    {
     "data": {
      "text/html": [
       "<div>\n",
       "<table border=\"1\" class=\"dataframe\">\n",
       "  <thead>\n",
       "    <tr style=\"text-align: right;\">\n",
       "      <th></th>\n",
       "      <th>personnel_name</th>\n",
       "      <th>pkid</th>\n",
       "      <th>proposal_number</th>\n",
       "      <th>publish_time</th>\n",
       "      <th>reason</th>\n",
       "      <th>rownum</th>\n",
       "      <th>type</th>\n",
       "      <th>year</th>\n",
       "      <th>content</th>\n",
       "    </tr>\n",
       "  </thead>\n",
       "  <tbody>\n",
       "    <tr>\n",
       "      <th>0</th>\n",
       "      <td>邹正</td>\n",
       "      <td>18b1b347f9e34badb8934c2acec80e9e</td>\n",
       "      <td>0001</td>\n",
       "      <td>2019-01-12 16:04:48</td>\n",
       "      <td>关于完善城市环卫公厕指引系统的建议</td>\n",
       "      <td>1</td>\n",
       "      <td>城乡建设</td>\n",
       "      <td>2019</td>\n",
       "      <td>调研情况：    2015 年 4 月 1 日，习近平总书记首次提出要坚持不懈地推进“厕所革...</td>\n",
       "    </tr>\n",
       "    <tr>\n",
       "      <th>1</th>\n",
       "      <td>省政协学习委员会</td>\n",
       "      <td>da43aae2378244faa961dd1224d1343e</td>\n",
       "      <td>0002</td>\n",
       "      <td>2019-01-12 16:04:48</td>\n",
       "      <td>关于加强老小区光纤化改造的建议</td>\n",
       "      <td>2</td>\n",
       "      <td>城乡建设</td>\n",
       "      <td>2019</td>\n",
       "      <td>调研情况：近期，省政协学习委员会组织部分委员对我省信息通信业发展情况进行考察调研，总的感到，...</td>\n",
       "    </tr>\n",
       "    <tr>\n",
       "      <th>2</th>\n",
       "      <td>韩鸣明</td>\n",
       "      <td>9d9b03f2e78345faa265eb99ce49e97e</td>\n",
       "      <td>0003</td>\n",
       "      <td>2019-01-12 16:24:23</td>\n",
       "      <td>关于加快建立省民营经济发展推进机制的建议</td>\n",
       "      <td>3</td>\n",
       "      <td>经济发展</td>\n",
       "      <td>2019</td>\n",
       "      <td>调研情况：    习近平总书记在全国民营企业座谈会上指出，要把支持民营企业发展作为一项重要任...</td>\n",
       "    </tr>\n",
       "    <tr>\n",
       "      <th>3</th>\n",
       "      <td>许文前</td>\n",
       "      <td>c0a1626a1bb744ebb0852cf25b21fb0a</td>\n",
       "      <td>0004</td>\n",
       "      <td>2019-01-12 15:42:19</td>\n",
       "      <td>加强科技创新，推动制造业转型升级</td>\n",
       "      <td>4</td>\n",
       "      <td>工业商贸</td>\n",
       "      <td>2019</td>\n",
       "      <td>调研情况：   早在2012年，美国国会的一份报告就声称，华为和中兴通讯可能涉嫌从事威胁美国...</td>\n",
       "    </tr>\n",
       "    <tr>\n",
       "      <th>4</th>\n",
       "      <td>段绪强</td>\n",
       "      <td>ce60d71296764cfe997d62bb2c0990af</td>\n",
       "      <td>0005</td>\n",
       "      <td>2019-01-12 16:21:46</td>\n",
       "      <td>深化落实金融政策举措 ,促进民营企业高质量发展</td>\n",
       "      <td>5</td>\n",
       "      <td>财税金融</td>\n",
       "      <td>2019</td>\n",
       "      <td>调研情况：2018年，国家支持民营企业融资所出台的政策众多、且力度空前。这在一定程度上提振了...</td>\n",
       "    </tr>\n",
       "  </tbody>\n",
       "</table>\n",
       "</div>"
      ],
      "text/plain": [
       "  personnel_name                              pkid proposal_number  \\\n",
       "0             邹正  18b1b347f9e34badb8934c2acec80e9e            0001   \n",
       "1       省政协学习委员会  da43aae2378244faa961dd1224d1343e            0002   \n",
       "2            韩鸣明  9d9b03f2e78345faa265eb99ce49e97e            0003   \n",
       "3            许文前  c0a1626a1bb744ebb0852cf25b21fb0a            0004   \n",
       "4            段绪强  ce60d71296764cfe997d62bb2c0990af            0005   \n",
       "\n",
       "          publish_time                   reason  rownum  type  year  \\\n",
       "0  2019-01-12 16:04:48        关于完善城市环卫公厕指引系统的建议       1  城乡建设  2019   \n",
       "1  2019-01-12 16:04:48          关于加强老小区光纤化改造的建议       2  城乡建设  2019   \n",
       "2  2019-01-12 16:24:23     关于加快建立省民营经济发展推进机制的建议       3  经济发展  2019   \n",
       "3  2019-01-12 15:42:19         加强科技创新，推动制造业转型升级       4  工业商贸  2019   \n",
       "4  2019-01-12 16:21:46  深化落实金融政策举措 ,促进民营企业高质量发展       5  财税金融  2019   \n",
       "\n",
       "                                             content  \n",
       "0  调研情况：    2015 年 4 月 1 日，习近平总书记首次提出要坚持不懈地推进“厕所革...  \n",
       "1  调研情况：近期，省政协学习委员会组织部分委员对我省信息通信业发展情况进行考察调研，总的感到，...  \n",
       "2  调研情况：    习近平总书记在全国民营企业座谈会上指出，要把支持民营企业发展作为一项重要任...  \n",
       "3  调研情况：   早在2012年，美国国会的一份报告就声称，华为和中兴通讯可能涉嫌从事威胁美国...  \n",
       "4  调研情况：2018年，国家支持民营企业融资所出台的政策众多、且力度空前。这在一定程度上提振了...  "
      ]
     },
     "execution_count": 179,
     "metadata": {},
     "output_type": "execute_result"
    }
   ],
   "source": [
    "df.head()"
   ]
  },
  {
   "cell_type": "code",
   "execution_count": 181,
   "metadata": {
    "ExecuteTime": {
     "end_time": "2019-01-29T07:17:05.631249Z",
     "start_time": "2019-01-29T07:17:05.605460Z"
    },
    "slideshow": {
     "slide_type": "subslide"
    }
   },
   "outputs": [],
   "source": [
    "df.to_csv('../data/jszx2019.csv', index = False)"
   ]
  },
  {
   "cell_type": "code",
   "execution_count": 182,
   "metadata": {
    "ExecuteTime": {
     "end_time": "2019-01-29T07:20:03.801164Z",
     "start_time": "2019-01-29T07:20:03.758867Z"
    },
    "slideshow": {
     "slide_type": "subslide"
    }
   },
   "outputs": [
    {
     "data": {
      "text/html": [
       "<div>\n",
       "<table border=\"1\" class=\"dataframe\">\n",
       "  <thead>\n",
       "    <tr style=\"text-align: right;\">\n",
       "      <th></th>\n",
       "      <th>personnel_name</th>\n",
       "      <th>pkid</th>\n",
       "      <th>proposal_number</th>\n",
       "      <th>publish_time</th>\n",
       "      <th>reason</th>\n",
       "      <th>rownum</th>\n",
       "      <th>type</th>\n",
       "      <th>year</th>\n",
       "      <th>content</th>\n",
       "    </tr>\n",
       "  </thead>\n",
       "  <tbody>\n",
       "    <tr>\n",
       "      <th>0</th>\n",
       "      <td>邹正</td>\n",
       "      <td>18b1b347f9e34badb8934c2acec80e9e</td>\n",
       "      <td>1</td>\n",
       "      <td>2019-01-12 16:04:48</td>\n",
       "      <td>关于完善城市环卫公厕指引系统的建议</td>\n",
       "      <td>1</td>\n",
       "      <td>城乡建设</td>\n",
       "      <td>2019</td>\n",
       "      <td>调研情况：    2015 年 4 月 1 日，习近平总书记首次提出要坚持不懈地推进“厕所革...</td>\n",
       "    </tr>\n",
       "    <tr>\n",
       "      <th>1</th>\n",
       "      <td>省政协学习委员会</td>\n",
       "      <td>da43aae2378244faa961dd1224d1343e</td>\n",
       "      <td>2</td>\n",
       "      <td>2019-01-12 16:04:48</td>\n",
       "      <td>关于加强老小区光纤化改造的建议</td>\n",
       "      <td>2</td>\n",
       "      <td>城乡建设</td>\n",
       "      <td>2019</td>\n",
       "      <td>调研情况：近期，省政协学习委员会组织部分委员对我省信息通信业发展情况进行考察调研，总的感到，...</td>\n",
       "    </tr>\n",
       "    <tr>\n",
       "      <th>2</th>\n",
       "      <td>韩鸣明</td>\n",
       "      <td>9d9b03f2e78345faa265eb99ce49e97e</td>\n",
       "      <td>3</td>\n",
       "      <td>2019-01-12 16:24:23</td>\n",
       "      <td>关于加快建立省民营经济发展推进机制的建议</td>\n",
       "      <td>3</td>\n",
       "      <td>经济发展</td>\n",
       "      <td>2019</td>\n",
       "      <td>调研情况：    习近平总书记在全国民营企业座谈会上指出，要把支持民营企业发展作为一项重要任...</td>\n",
       "    </tr>\n",
       "    <tr>\n",
       "      <th>3</th>\n",
       "      <td>许文前</td>\n",
       "      <td>c0a1626a1bb744ebb0852cf25b21fb0a</td>\n",
       "      <td>4</td>\n",
       "      <td>2019-01-12 15:42:19</td>\n",
       "      <td>加强科技创新，推动制造业转型升级</td>\n",
       "      <td>4</td>\n",
       "      <td>工业商贸</td>\n",
       "      <td>2019</td>\n",
       "      <td>调研情况：   早在2012年，美国国会的一份报告就声称，华为和中兴通讯可能涉嫌从事威胁美国...</td>\n",
       "    </tr>\n",
       "    <tr>\n",
       "      <th>4</th>\n",
       "      <td>段绪强</td>\n",
       "      <td>ce60d71296764cfe997d62bb2c0990af</td>\n",
       "      <td>5</td>\n",
       "      <td>2019-01-12 16:21:46</td>\n",
       "      <td>深化落实金融政策举措 ,促进民营企业高质量发展</td>\n",
       "      <td>5</td>\n",
       "      <td>财税金融</td>\n",
       "      <td>2019</td>\n",
       "      <td>调研情况：2018年，国家支持民营企业融资所出台的政策众多、且力度空前。这在一定程度上提振了...</td>\n",
       "    </tr>\n",
       "  </tbody>\n",
       "</table>\n",
       "</div>"
      ],
      "text/plain": [
       "  personnel_name                              pkid  proposal_number  \\\n",
       "0             邹正  18b1b347f9e34badb8934c2acec80e9e                1   \n",
       "1       省政协学习委员会  da43aae2378244faa961dd1224d1343e                2   \n",
       "2            韩鸣明  9d9b03f2e78345faa265eb99ce49e97e                3   \n",
       "3            许文前  c0a1626a1bb744ebb0852cf25b21fb0a                4   \n",
       "4            段绪强  ce60d71296764cfe997d62bb2c0990af                5   \n",
       "\n",
       "          publish_time                   reason  rownum  type  year  \\\n",
       "0  2019-01-12 16:04:48        关于完善城市环卫公厕指引系统的建议       1  城乡建设  2019   \n",
       "1  2019-01-12 16:04:48          关于加强老小区光纤化改造的建议       2  城乡建设  2019   \n",
       "2  2019-01-12 16:24:23     关于加快建立省民营经济发展推进机制的建议       3  经济发展  2019   \n",
       "3  2019-01-12 15:42:19         加强科技创新，推动制造业转型升级       4  工业商贸  2019   \n",
       "4  2019-01-12 16:21:46  深化落实金融政策举措 ,促进民营企业高质量发展       5  财税金融  2019   \n",
       "\n",
       "                                             content  \n",
       "0  调研情况：    2015 年 4 月 1 日，习近平总书记首次提出要坚持不懈地推进“厕所革...  \n",
       "1  调研情况：近期，省政协学习委员会组织部分委员对我省信息通信业发展情况进行考察调研，总的感到，...  \n",
       "2  调研情况：    习近平总书记在全国民营企业座谈会上指出，要把支持民营企业发展作为一项重要任...  \n",
       "3  调研情况：   早在2012年，美国国会的一份报告就声称，华为和中兴通讯可能涉嫌从事威胁美国...  \n",
       "4  调研情况：2018年，国家支持民营企业融资所出台的政策众多、且力度空前。这在一定程度上提振了...  "
      ]
     },
     "execution_count": 182,
     "metadata": {},
     "output_type": "execute_result"
    }
   ],
   "source": [
    "dd = pd.read_csv('../data/jszx2019.csv')\n",
    "dd.head()"
   ]
  },
  {
   "cell_type": "code",
   "execution_count": null,
   "metadata": {},
   "outputs": [],
   "source": []
  }
 ],
 "metadata": {
  "celltoolbar": "Slideshow",
  "kernelspec": {
   "display_name": "Python 3",
   "language": "python",
   "name": "python3"
  },
  "language_info": {
   "codemirror_mode": {
    "name": "ipython",
    "version": 3
   },
   "file_extension": ".py",
   "mimetype": "text/x-python",
   "name": "python",
   "nbconvert_exporter": "python",
   "pygments_lexer": "ipython3",
   "version": "3.7.3"
  },
  "latex_envs": {
   "LaTeX_envs_menu_present": true,
   "autoclose": false,
   "autocomplete": true,
   "bibliofile": "biblio.bib",
   "cite_by": "apalike",
   "current_citInitial": 1,
   "eqLabelWithNumbers": true,
   "eqNumInitial": 0,
   "hotkeys": {
    "equation": "Ctrl-E",
    "itemize": "Ctrl-I"
   },
   "labels_anchors": false,
   "latex_user_defs": false,
   "report_style_numbering": false,
   "user_envs_cfg": false
  },
  "toc": {
   "base_numbering": 1,
   "nav_menu": {},
   "number_sections": false,
   "sideBar": false,
   "skip_h1_title": false,
   "title_cell": "Table of Contents",
   "title_sidebar": "Contents",
   "toc_cell": false,
   "toc_position": {
    "height": "48px",
    "left": "1374px",
    "top": "0px",
    "width": "226px"
   },
   "toc_section_display": false,
   "toc_window_display": true
  }
 },
 "nbformat": 4,
 "nbformat_minor": 1
}
